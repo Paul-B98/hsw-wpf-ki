{
 "cells": [
  {
   "cell_type": "markdown",
   "metadata": {
    "id": "70S1WgLXQF_T"
   },
   "source": [
    "Wahlpflichtfach Künstliche Intelligenz II: Praktikum | \n",
    "\n",
    "---"
   ]
  },
  {
   "cell_type": "markdown",
   "metadata": {
    "id": "gQfKAoAMQxJD"
   },
   "source": [
    "# 01 - Einführung\n",
    "\n",
    "[**TensorFlow**](https://www.tensorflow.org) ist ein Deep Learning Framework, das vom Google Brain Team entwickelt wurde. Im November 2015 wurde das erste Release veröffentlicht.\n",
    "\n",
    "Nachdem immer mehr und mehr Wissenschaftler zu [**PyTorch**](https://pytorch.org), das im Oktober 2016 von Facebook AI Research veröffentlicht wurde, gewechselt sind, da sich dort neue Konzepte besser bzw. einfacher ausprobieren lassen, hat Google im September 2019 TensorFlow 2.0 veröffentlicht, das verspricht die Vorteile von PyTorch zu integrieren. \n",
    "\n",
    "Da Tensorflow normalerweise in der Industrie verwendet wird und eine größere Community hat, werden wir im Folgenden TensorFlow in der Version 2.X verwenden. "
   ]
  },
  {
   "cell_type": "code",
   "execution_count": 49,
   "metadata": {
    "id": "rN1rFschL8LX"
   },
   "outputs": [],
   "source": [
    "import numpy as np\n",
    "import tensorflow as tf\n",
    "import matplotlib.pyplot as plt"
   ]
  },
  {
   "cell_type": "code",
   "execution_count": 50,
   "metadata": {},
   "outputs": [],
   "source": [
    "%matplotlib inline"
   ]
  },
  {
   "cell_type": "code",
   "execution_count": 51,
   "metadata": {
    "colab": {
     "base_uri": "https://localhost:8080/"
    },
    "id": "6jAIrXS-L8La",
    "outputId": "14a54743-3dc1-4aee-876a-4154ed74199f"
   },
   "outputs": [
    {
     "name": "stdout",
     "output_type": "stream",
     "text": [
      "2.13.1\n"
     ]
    }
   ],
   "source": [
    "print(tf.__version__)"
   ]
  },
  {
   "cell_type": "markdown",
   "metadata": {
    "id": "aDF6fGvTL8Lb"
   },
   "source": [
    "## Was ist ein Tensor?\n",
    "Lasst uns zunächst das Konzept eines Tensors verstehen. Für unseren Zweck können wir einen Tensor als ein hochdimensionales Array betrachten. \n",
    "- Tensor 0. Ordnung = Skalar\n",
    "- Tensor 1. Ordnung = Vektor\n",
    "- Tensor 2. Ordnung = Matrix\n",
    "- Tensor 3. Ordnung = Tensor\n",
    "\n",
    "### Wie werden Matrizen in Numpy abgebildet?"
   ]
  },
  {
   "cell_type": "code",
   "execution_count": 52,
   "metadata": {
    "colab": {
     "base_uri": "https://localhost:8080/"
    },
    "id": "8pqwci3tL8Lb",
    "outputId": "6488a88f-61af-4624-c90e-65d6863b0c32"
   },
   "outputs": [
    {
     "name": "stdout",
     "output_type": "stream",
     "text": [
      "[[0 1 2]\n",
      " [3 4 5]\n",
      " [6 7 8]]\n",
      "(3, 3)\n",
      "------------------\n",
      "3\n",
      "3\n",
      "------------------\n",
      "[[0]\n",
      " [1]\n",
      " [2]\n",
      " [3]\n",
      " [4]\n",
      " [5]\n",
      " [6]\n",
      " [7]\n",
      " [8]]\n",
      "[[0]\n",
      " [1]\n",
      " [2]\n",
      " [3]\n",
      " [4]\n",
      " [5]\n",
      " [6]\n",
      " [7]\n",
      " [8]]\n",
      "------------------\n",
      "7\n",
      "5\n",
      "------------------\n",
      "[1 4 7]\n",
      "[[0 1 2]\n",
      " [3 4 5]]\n"
     ]
    }
   ],
   "source": [
    "# A NumPy array is an arbitray dimensional matrix to store numbers in\n",
    "arr = np.reshape(np.arange(9),(3,3))\n",
    "print(arr)\n",
    "print(arr.shape)\n",
    "print(\"------------------\")\n",
    "\n",
    "# Access dimensions of the shape.\n",
    "print(arr.shape[0])\n",
    "print(arr.shape[-1])\n",
    "print(\"------------------\")\n",
    "\n",
    "# Reshaping an array.\n",
    "arr1 = np.reshape(arr, newshape=(9,1))\n",
    "print(arr1)\n",
    "arr2 = np.reshape(arr, newshape=(-1,1)) # The -1 makes numpy infer itself the missing dimension.\n",
    "print(arr2)\n",
    "print(\"------------------\")\n",
    "\n",
    "# Indexing allows you to access specific entries of an array.\n",
    "print(arr[2,1]) # row 2 (third), column 1 (second).\n",
    "print(arr[1,2]) # row 1 (second), column 2 (third).\n",
    "print(\"------------------\")\n",
    "\n",
    "# Slicing allows you to retrieve parts of an array.\n",
    "print(arr[:,1]) # All rows, collumn 1.\n",
    "print(arr[0:2,:]) # Rows from 0 (include) to 2 (exclude), all columns. "
   ]
  },
  {
   "cell_type": "markdown",
   "metadata": {
    "id": "VbLmi9MKawBm"
   },
   "source": [
    "### Können wir auch eine weiter Dimension zu unserem numpy-Array hinzufügen?"
   ]
  },
  {
   "cell_type": "code",
   "execution_count": 53,
   "metadata": {
    "colab": {
     "base_uri": "https://localhost:8080/"
    },
    "id": "1Y5O_YOIL8Lb",
    "outputId": "42d4059b-167e-4bb6-d216-e9ffc3a4b42d"
   },
   "outputs": [
    {
     "name": "stdout",
     "output_type": "stream",
     "text": [
      "[[[ 0  1  2]\n",
      "  [ 3  4  5]\n",
      "  [ 6  7  8]]\n",
      "\n",
      " [[ 9 10 11]\n",
      "  [12 13 14]\n",
      "  [15 16 17]]\n",
      "\n",
      " [[18 19 20]\n",
      "  [21 22 23]\n",
      "  [24 25 26]]]\n",
      "(3, 3, 3)\n",
      "------------------\n",
      "5\n",
      "------------------\n",
      "[[ 6  7  8]\n",
      " [15 16 17]\n",
      " [24 25 26]]\n"
     ]
    }
   ],
   "source": [
    "# But the exact same things work in higher dimensions!\n",
    "arr = np.reshape(np.arange(27), (3,3,3))\n",
    "print(arr)\n",
    "print(arr.shape)\n",
    "print(\"------------------\")\n",
    "\n",
    "# Indexing.\n",
    "print(arr[0,1,2])\n",
    "print(\"------------------\")\n",
    "\n",
    "# Slicing.\n",
    "print(arr[:,2,:])"
   ]
  },
  {
   "cell_type": "markdown",
   "metadata": {
    "id": "09HDDukXbDTS"
   },
   "source": [
    "### Unterschied zwischen dem TensorFlow Tensor und dem numpy Array\n",
    "Grundsätzlich sind TensorFlow Tensoren und numpy Arrays das Gleiche. Und auch wieder nicht. Den Tensoren sind eigentlich Operationen."
   ]
  },
  {
   "cell_type": "code",
   "execution_count": 54,
   "metadata": {
    "colab": {
     "base_uri": "https://localhost:8080/",
     "height": 181
    },
    "id": "HltuOSOjL8Lc",
    "outputId": "b6cc27c4-1017-4ce5-e9f8-6e8e4601433a"
   },
   "outputs": [
    {
     "name": "stdout",
     "output_type": "stream",
     "text": [
      "tf.Tensor(\n",
      "[[[ 0  1  2]\n",
      "  [ 3  4  5]\n",
      "  [ 6  7  8]]\n",
      "\n",
      " [[ 9 10 11]\n",
      "  [12 13 14]\n",
      "  [15 16 17]]\n",
      "\n",
      " [[18 19 20]\n",
      "  [21 22 23]\n",
      "  [24 25 26]]], shape=(3, 3, 3), dtype=int64)\n"
     ]
    }
   ],
   "source": [
    "tensor = tf.convert_to_tensor(arr)\n",
    "print(tensor)"
   ]
  },
  {
   "cell_type": "markdown",
   "metadata": {
    "id": "vOOaCJHkb3uY"
   },
   "source": [
    "Es besteht die Möglichkeit ein Numpy Array in einen Tensorflow Tensor zu konvertieren. Dies ist aber auch implizit mittels einer Operation möglich bei der das Ergebnis dann als Tensor gespeichert wird."
   ]
  },
  {
   "cell_type": "code",
   "execution_count": 55,
   "metadata": {
    "colab": {
     "base_uri": "https://localhost:8080/"
    },
    "id": "mH6n4LkjL8Lc",
    "outputId": "4972ec72-4497-4f58-e77b-bf801ea41503"
   },
   "outputs": [
    {
     "name": "stdout",
     "output_type": "stream",
     "text": [
      "[[[ 0  1  2]\n",
      "  [ 3  4  5]\n",
      "  [ 6  7  8]]\n",
      "\n",
      " [[ 9 10 11]\n",
      "  [12 13 14]\n",
      "  [15 16 17]]\n",
      "\n",
      " [[18 19 20]\n",
      "  [21 22 23]\n",
      "  [24 25 26]]]\n",
      "tf.Tensor(\n",
      "[[[   0   42   84]\n",
      "  [ 126  168  210]\n",
      "  [ 252  294  336]]\n",
      "\n",
      " [[ 378  420  462]\n",
      "  [ 504  546  588]\n",
      "  [ 630  672  714]]\n",
      "\n",
      " [[ 756  798  840]\n",
      "  [ 882  924  966]\n",
      "  [1008 1050 1092]]], shape=(3, 3, 3), dtype=int32)\n"
     ]
    }
   ],
   "source": [
    "tensor = tf.multiply(42, arr)\n",
    "print(arr)\n",
    "print(tensor)"
   ]
  },
  {
   "cell_type": "markdown",
   "metadata": {
    "id": "_RNwtgu8cSrn"
   },
   "source": [
    "Wenn die Variable bereits ein Tensor ist können alle normalen mathematischen Operationen (+, -, *, ,/ usw.) verwendet werden."
   ]
  },
  {
   "cell_type": "code",
   "execution_count": 56,
   "metadata": {
    "colab": {
     "base_uri": "https://localhost:8080/"
    },
    "id": "3taJCIyLL8Ld",
    "outputId": "b357ba78-bd9b-4172-8bb4-6d6d8400fdcd"
   },
   "outputs": [
    {
     "name": "stdout",
     "output_type": "stream",
     "text": [
      "tf.Tensor(\n",
      "[[[ 0.  1.  2.]\n",
      "  [ 3.  4.  5.]\n",
      "  [ 6.  7.  8.]]\n",
      "\n",
      " [[ 9. 10. 11.]\n",
      "  [12. 13. 14.]\n",
      "  [15. 16. 17.]]\n",
      "\n",
      " [[18. 19. 20.]\n",
      "  [21. 22. 23.]\n",
      "  [24. 25. 26.]]], shape=(3, 3, 3), dtype=float64)\n",
      "tf.Tensor(\n",
      "[[[ 0.  1.  2.]\n",
      "  [ 3.  4.  5.]\n",
      "  [ 6.  7.  8.]]\n",
      "\n",
      " [[ 9. 10. 11.]\n",
      "  [12. 13. 14.]\n",
      "  [15. 16. 17.]]\n",
      "\n",
      " [[18. 19. 20.]\n",
      "  [21. 22. 23.]\n",
      "  [24. 25. 26.]]], shape=(3, 3, 3), dtype=float64)\n",
      "tf.Tensor(\n",
      "[[[ 0.  2.  4.]\n",
      "  [ 6.  8. 10.]\n",
      "  [12. 14. 16.]]\n",
      "\n",
      " [[18. 20. 22.]\n",
      "  [24. 26. 28.]\n",
      "  [30. 32. 34.]]\n",
      "\n",
      " [[36. 38. 40.]\n",
      "  [42. 44. 46.]\n",
      "  [48. 50. 52.]]], shape=(3, 3, 3), dtype=float64)\n"
     ]
    }
   ],
   "source": [
    "print(tensor/42)\n",
    "print(tf.divide(tensor,42)) # That's the same thing.\n",
    "print(tensor/42+tensor/42)"
   ]
  },
  {
   "cell_type": "markdown",
   "metadata": {
    "id": "KRrmyCmQcmpK"
   },
   "source": [
    "Es ist auch einfach möglich einen Tensor in ein numpy Array zurückzuwandeln."
   ]
  },
  {
   "cell_type": "code",
   "execution_count": 57,
   "metadata": {
    "colab": {
     "base_uri": "https://localhost:8080/"
    },
    "id": "T8PcCH-HL8Ld",
    "outputId": "f76294c7-429d-4666-9d5e-8c5bb86c9dd4"
   },
   "outputs": [
    {
     "name": "stdout",
     "output_type": "stream",
     "text": [
      "[[[   0   42   84]\n",
      "  [ 126  168  210]\n",
      "  [ 252  294  336]]\n",
      "\n",
      " [[ 378  420  462]\n",
      "  [ 504  546  588]\n",
      "  [ 630  672  714]]\n",
      "\n",
      " [[ 756  798  840]\n",
      "  [ 882  924  966]\n",
      "  [1008 1050 1092]]]\n"
     ]
    }
   ],
   "source": [
    "print(tensor.numpy())"
   ]
  },
  {
   "cell_type": "markdown",
   "metadata": {
    "id": "ZbOC94xuL8Le"
   },
   "source": [
    "## Erstellen eines kleinen Regressions-Datensatz\n",
    "Für unser erstes TensorFlow-Modell erstellen wir uns einen eigenen Dummy-Datensatz. "
   ]
  },
  {
   "cell_type": "code",
   "execution_count": 58,
   "metadata": {
    "colab": {
     "base_uri": "https://localhost:8080/",
     "height": 286
    },
    "id": "SjlkeGMRL8Le",
    "outputId": "c82a93a5-610f-4cb1-a94e-f1f363161f45"
   },
   "outputs": [
    {
     "data": {
      "image/png": "[encoded data removed]",
      "text/plain": [
       "<Figure size 640x480 with 1 Axes>"
      ]
     },
     "metadata": {},
     "output_type": "display_data"
    }
   ],
   "source": [
    "xs = np.linspace(-5,5, 20, dtype=np.float32)\n",
    "\n",
    "def f(x):\n",
    "    return 0.002*(x**3-x**2+2*x)+0.3\n",
    "\n",
    "ys = f(xs)\n",
    "\n",
    "training_data_ids = np.random.choice(20,15, replace=False)\n",
    "test_data_ids = np.array([i if i not in training_data_ids else 99 for i in range(20)])\n",
    "test_data_ids = test_data_ids[test_data_ids < 21]\n",
    "training_data_xs = xs[training_data_ids]\n",
    "training_data_ys = ys[training_data_ids]\n",
    "test_data_xs = xs[test_data_ids]\n",
    "test_data_ys = ys[test_data_ids]\n",
    "\n",
    "plt.scatter(training_data_xs, training_data_ys, c='red')\n",
    "plt.scatter(test_data_xs, test_data_ys, c='blue')\n",
    "plt.legend((\"Training Data\",\"Test Data\"), loc='upper left')\n",
    "plt.xlim(-5,5)\n",
    "plt.ylim(-0.05,0.6)\n",
    "plt.show()"
   ]
  },
  {
   "cell_type": "code",
   "execution_count": 59,
   "metadata": {
    "colab": {
     "base_uri": "https://localhost:8080/"
    },
    "id": "tsVQQlTPL8Lf",
    "outputId": "61770c92-59ad-42e6-fa43-9ce77d89de14"
   },
   "outputs": [
    {
     "name": "stdout",
     "output_type": "stream",
     "text": [
      "(15,)\n",
      "(15,)\n",
      "(5,)\n",
      "(5,)\n"
     ]
    }
   ],
   "source": [
    "# First understand the shape that your data has.\n",
    "print(training_data_xs.shape)\n",
    "print(training_data_ys.shape)\n",
    "print(test_data_xs.shape)\n",
    "print(test_data_ys.shape)"
   ]
  },
  {
   "cell_type": "markdown",
   "metadata": {
    "id": "s97droRXkKUg"
   },
   "source": [
    "### TensorFlow Dataset\n",
    "Um diese Daten in TensorFlow zu verwenden, müssen wir den Datensatz in ein `tf.data.Dataset` umwandeln ([Dokumentation](https://www.tensorflow.org/api_docs/python/tf/data/Dataset)). In unserem Fall verwenden wir dafür die Methode `tf.data.Dataset.from_tensor_slices()`."
   ]
  },
  {
   "cell_type": "code",
   "execution_count": 60,
   "metadata": {
    "id": "mv0z4uXLL8Lf"
   },
   "outputs": [],
   "source": [
    "train_dataset = tf.data.Dataset.from_tensor_slices((training_data_xs, training_data_ys))\n",
    "test_dataset = tf.data.Dataset.from_tensor_slices((test_data_xs, test_data_ys))"
   ]
  },
  {
   "cell_type": "markdown",
   "metadata": {
    "id": "yllxpDVflrzs"
   },
   "source": [
    "Um über den Datensatz zu iterieren kann einfach der `in` Operator verwendet werde. Der Testdatensatz besteht aus 5 Datenpunkten, wobei jeder Datenpunkt durch ein Tupel dargestellt wird, das die Eingabe und den Zielwert enthält "
   ]
  },
  {
   "cell_type": "code",
   "execution_count": 61,
   "metadata": {
    "colab": {
     "base_uri": "https://localhost:8080/"
    },
    "id": "-asxuQEflmfW",
    "outputId": "98ef85b1-f2a1-48ca-fdfb-c6ae7f171ee1"
   },
   "outputs": [
    {
     "name": "stdout",
     "output_type": "stream",
     "text": [
      "(<tf.Tensor: shape=(), dtype=float32, numpy=-3.9473684>, <tf.Tensor: shape=(), dtype=float32, numpy=0.13003354>)\n",
      "(<tf.Tensor: shape=(), dtype=float32, numpy=-1.3157895>, <tf.Tensor: shape=(), dtype=float32, numpy=0.2867182>)\n",
      "(<tf.Tensor: shape=(), dtype=float32, numpy=0.2631579>, <tf.Tensor: shape=(), dtype=float32, numpy=0.3009506>)\n",
      "(<tf.Tensor: shape=(), dtype=float32, numpy=1.8421053>, <tf.Tensor: shape=(), dtype=float32, numpy=0.31308356>)\n",
      "(<tf.Tensor: shape=(), dtype=float32, numpy=4.4736843>, <tf.Tensor: shape=(), dtype=float32, numpy=0.4569384>)\n"
     ]
    }
   ],
   "source": [
    "for elem in test_dataset:\n",
    "    print(elem)"
   ]
  },
  {
   "cell_type": "markdown",
   "metadata": {
    "id": "2yBntidh2Bjj"
   },
   "source": [
    "Um den Datensatz als ganzes in das Netzwerk zu schleusen, müssen wir es batchen. Dadurch können wir die Verlustfunktion für den ganzen Datensatz minimieren. Durch das Batchen sind die Datenpunkte jetzt in zwei Arrays gespeichert -  ein Array für den Input und ein Array für den Zielwert."
   ]
  },
  {
   "cell_type": "code",
   "execution_count": 62,
   "metadata": {
    "colab": {
     "base_uri": "https://localhost:8080/"
    },
    "id": "4syKSvQrloqv",
    "outputId": "80be472e-6df1-4a3d-b8f4-18b032cd4b45"
   },
   "outputs": [
    {
     "name": "stdout",
     "output_type": "stream",
     "text": [
      "(<tf.Tensor: shape=(5,), dtype=float32, numpy=\n",
      "array([-3.9473684, -1.3157895,  0.2631579,  1.8421053,  4.4736843],\n",
      "      dtype=float32)>, <tf.Tensor: shape=(5,), dtype=float32, numpy=\n",
      "array([0.13003354, 0.2867182 , 0.3009506 , 0.31308356, 0.4569384 ],\n",
      "      dtype=float32)>)\n"
     ]
    }
   ],
   "source": [
    "train_dataset = train_dataset.batch(15)\n",
    "test_dataset = test_dataset.batch(5)\n",
    "\n",
    "for elem in test_dataset:\n",
    "    print(elem)   "
   ]
  },
  {
   "cell_type": "markdown",
   "metadata": {
    "id": "PFySnF5FL8Lg"
   },
   "source": [
    "## Das erste neuronal Netz\n",
    "Jedes neuronale Netz besteht aus mehreren Schichten. Die Schichten sind also die Bausteine. TensorFlow 2.x enthält bereits viele eingebaute Schichten, die Ihr hier finden könnt: https://www.tensorflow.org/api_docs/python/tf/keras/layers.\n",
    "\n",
    "Allerdings werden wir zunächst lernen, wie wir eigene Schichten entwickelt.\n",
    "\n",
    "### Einfache, lineare Schicht\n",
    "Unsere erste Schicht ist eine einfache, lineare Schicht, die nur den Drive berechntet. Wor verwenden hier keine Aktivierungsfunktion.\n",
    "\n",
    "Um eine Schicht zu definieren, brauchen wir eine Klasse, die von `tf.keras.layers.Layer` erbt."
   ]
  },
  {
   "cell_type": "code",
   "execution_count": 63,
   "metadata": {
    "id": "F7NF6FCPL8Lg"
   },
   "outputs": [],
   "source": [
    "from keras.layers import Layer\n",
    "\n",
    "class Linear(Layer):\n",
    "    \"\"\"y = w.x + b\"\"\"\n",
    "    \n",
    "    def __init__(self, units):\n",
    "        super(Linear, self).__init__()\n",
    "        self.units = units\n",
    "        \n",
    "    def build(self, input_shape):\n",
    "        self.w = self.add_weight(\n",
    "                        shape=(input_shape[-1], self.units),\n",
    "                        initializer=tf.random_normal_initializer(),\n",
    "                        trainable=True\n",
    "        )\n",
    "        self.b = self.add_weight(\n",
    "                        shape=(self.units,),\n",
    "                        initializer=tf.random_normal_initializer(),\n",
    "                        trainable=True\n",
    "        )\n",
    "     \n",
    "    def call(self, inputs):\n",
    "        return tf.matmul(inputs, self.w) + self.b"
   ]
  },
  {
   "cell_type": "markdown",
   "metadata": {
    "id": "sBXRRbS14_ej"
   },
   "source": [
    "### Testen der einfachen, linearen Schicht"
   ]
  },
  {
   "cell_type": "code",
   "execution_count": 64,
   "metadata": {
    "colab": {
     "base_uri": "https://localhost:8080/"
    },
    "id": "i8wXYIHTL8Lh",
    "outputId": "e07f4dcb-7639-48e0-e20e-9b27d030cd65"
   },
   "outputs": [
    {
     "name": "stdout",
     "output_type": "stream",
     "text": [
      "tf.Tensor([[1. 1. 1. 1.]], shape=(1, 4), dtype=float32)\n",
      "tf.Tensor([[-0.08118311 -0.00159353  0.0565376  -0.07379332]], shape=(1, 4), dtype=float32)\n"
     ]
    }
   ],
   "source": [
    "linear_layer = Linear(4)\n",
    "\n",
    "x = tf.ones((1,4))\n",
    "y = linear_layer(x)\n",
    "\n",
    "print(x)\n",
    "print(y)"
   ]
  },
  {
   "cell_type": "markdown",
   "metadata": {
    "id": "AdoAIQTv5mQP"
   },
   "source": [
    "### Mehrere Schichten verbinden\n",
    "Um mehrere Schichten miteinander zu verknüpfen, können wir diese in einer neuen Klasse, die wiederum eine Schicht ist kombinieren."
   ]
  },
  {
   "cell_type": "code",
   "execution_count": 65,
   "metadata": {
    "id": "1O7AfgbtL8Lh"
   },
   "outputs": [],
   "source": [
    "class MLP(Layer):\n",
    "    \n",
    "    def __init__(self):\n",
    "        super(MLP, self).__init__()\n",
    "        self.hidden_layer = Linear(512)\n",
    "        self.output_layer = Linear(1)\n",
    "        \n",
    "    def call(self, x):\n",
    "        x = self.hidden_layer(x)\n",
    "        x = tf.nn.relu(x)\n",
    "        x = self.output_layer(x)\n",
    "        return x"
   ]
  },
  {
   "cell_type": "markdown",
   "metadata": {
    "id": "oXBc7sO8L8Lh"
   },
   "source": [
    "### Training des neuronalen Netzes"
   ]
  },
  {
   "cell_type": "code",
   "execution_count": 66,
   "metadata": {
    "id": "U-ebMIzVDxOc"
   },
   "outputs": [],
   "source": [
    "tf.keras.backend.clear_session()\n",
    "\n",
    "mlp = MLP()"
   ]
  },
  {
   "cell_type": "markdown",
   "metadata": {
    "id": "cq0tf1hgD0TB"
   },
   "source": [
    "Um das neuronale Netz zu trainieren, müssen wir zuerst noch die Verlustfunktion ([Dokumentation](https://www.tensorflow.org/api_docs/python/tf/keras/losses))und den Optimierer ([Dokumentation](https://www.tensorflow.org/api_docs/python/tf/keras/optimizers)) bestimmen."
   ]
  },
  {
   "cell_type": "code",
   "execution_count": 67,
   "metadata": {
    "id": "NbJ1w_nJL8Li"
   },
   "outputs": [],
   "source": [
    "mse = tf.keras.losses.MeanSquaredError()\n",
    "optimizer = tf.keras.optimizers.SGD(learning_rate=0.01)"
   ]
  },
  {
   "cell_type": "markdown",
   "metadata": {
    "id": "BFfBwNXGENk4"
   },
   "source": [
    "Dann müssen wir nur noch unsere Trainingsschleife bauen."
   ]
  },
  {
   "cell_type": "code",
   "execution_count": 68,
   "metadata": {
    "id": "XFhGbShWL8Li"
   },
   "outputs": [],
   "source": [
    "train_losses = []\n",
    "test_losses = []\n",
    "epochs = []\n",
    "\n",
    "for epoch in range(1000):\n",
    "    epochs.append(epoch)\n",
    "    \n",
    "    for (x,y) in train_dataset:\n",
    "        \n",
    "        x = tf.reshape(x, shape=(-1,1))\n",
    "\n",
    "        with tf.GradientTape() as tape:\n",
    "            output = mlp(x)\n",
    "            loss = mse(y, output)\n",
    "            train_losses.append(loss)\n",
    "            gradients = tape.gradient(loss, mlp.trainable_variables)\n",
    "\n",
    "        optimizer.apply_gradients(zip(gradients, mlp.trainable_variables))        \n",
    "\n",
    "    for (x,y) in test_dataset:\n",
    "        x = tf.reshape(x, shape=(-1,1))\n",
    "        output = mlp(x)\n",
    "        loss = mse(y, output)       \n",
    "        test_losses.append(loss)"
   ]
  },
  {
   "cell_type": "markdown",
   "metadata": {
    "id": "jtTRVrelE4l9"
   },
   "source": [
    "Anschließend können wir mit unseren gesammelten Werten den Traingsprozess visualisieren."
   ]
  },
  {
   "cell_type": "code",
   "execution_count": 69,
   "metadata": {
    "colab": {
     "base_uri": "https://localhost:8080/",
     "height": 279
    },
    "id": "jhyiJ_0VL8Li",
    "outputId": "b9e9250b-662b-4220-fccd-b8071d5961e1"
   },
   "outputs": [
    {
     "data": {
      "image/png": "[encoded data removed]",
      "text/plain": [
       "<Figure size 640x480 with 1 Axes>"
      ]
     },
     "metadata": {},
     "output_type": "display_data"
    }
   ],
   "source": [
    "plt.figure()\n",
    "plt.plot(epochs, train_losses)\n",
    "plt.plot(epochs, np.array(test_losses))\n",
    "plt.legend((\"train\",\"test\"))\n",
    "plt.xlabel(\"Training Steps\")\n",
    "plt.ylabel(\"Loss\")\n",
    "plt.show()"
   ]
  },
  {
   "cell_type": "markdown",
   "metadata": {
    "id": "2SwjOaCcFl5b"
   },
   "source": [
    "Und zum Schluss können wir auch noch die Approximation visualisieren. "
   ]
  },
  {
   "cell_type": "code",
   "execution_count": 70,
   "metadata": {
    "colab": {
     "base_uri": "https://localhost:8080/",
     "height": 269
    },
    "id": "uQ28FDHQL8Lj",
    "outputId": "9095df1f-6ded-45ac-db27-1d47b14488db"
   },
   "outputs": [
    {
     "data": {
      "image/png": "[encoded data removed]",
      "text/plain": [
       "<Figure size 640x480 with 1 Axes>"
      ]
     },
     "metadata": {},
     "output_type": "display_data"
    }
   ],
   "source": [
    "plt.figure()\n",
    "plt.scatter(training_data_xs, training_data_ys, c='red')\n",
    "plt.scatter(test_data_xs, test_data_ys, c='blue')\n",
    "\n",
    "xs = np.linspace(-5,5,100, dtype=np.float32)\n",
    "xs = np.reshape(xs, newshape=(-1,1))\n",
    "ys = mlp(xs)\n",
    "\n",
    "plt.plot(xs,ys)\n",
    "plt.xlim(-5,5)\n",
    "plt.ylim(-0.05,0.6)\n",
    "plt.show()"
   ]
  },
  {
   "cell_type": "markdown",
   "metadata": {
    "id": "-tqnuWhXCeXP"
   },
   "source": [
    "---\n",
    "\n",
    "Wahlpflichtach Künstliche Intelligenz II: Praktikum "
   ]
  }
 ],
 "metadata": {
  "colab": {
   "collapsed_sections": [],
   "name": "11 - TensorFlow - Einführung.ipynb",
   "provenance": []
  },
  "kernelspec": {
   "display_name": "Python 3.11.6 ('venv': venv)",
   "language": "python",
   "name": "python3"
  },
  "language_info": {
   "codemirror_mode": {
    "name": "ipython",
    "version": 3
   },
   "file_extension": ".py",
   "mimetype": "text/x-python",
   "name": "python",
   "nbconvert_exporter": "python",
   "pygments_lexer": "ipython3",
   "version": "3.11.4"
  },
  "vscode": {
   "interpreter": {
    "hash": "90426636d83e24cdadcd62d77212f0f01714dea61fbf228ca5d2a0125536a635"
   }
  }
 },
 "nbformat": 4,
 "nbformat_minor": 1
}
