{
 "cells": [
  {
   "cell_type": "markdown",
   "metadata": {
    "id": "70S1WgLXQF_T"
   },
   "source": [
    "Wahlpflichtfach Künstliche Intelligenz II: Praktikum | \n",
    "\n",
    "---"
   ]
  },
  {
   "cell_type": "markdown",
   "metadata": {
    "id": "gQfKAoAMQxJD"
   },
   "source": [
    "# 01 - Tensorflow Einführung\n",
    "\n",
    "[**TensorFlow**](https://www.tensorflow.org) ist ein Deep Learning Framework, das vom Google Brain Team entwickelt wurde. Im November 2015 wurde das erste Release veröffentlicht.\n",
    "\n",
    "Nachdem immer mehr und mehr Wissenschaftler zu [**PyTorch**](https://pytorch.org), das im Oktober 2016 von Facebook AI Research veröffentlicht wurde, gewechselt sind, da sich dort neue Konzepte besser bzw. einfacher ausprobieren lassen, hat Google im September 2019 TensorFlow 2.0 veröffentlicht, das verspricht die Vorteile von PyTorch zu integrieren. \n",
    "\n",
    "Da Tensorflow normalerweise in der Industrie verwendet wird und eine größere Community hat, werden wir im Folgenden TensorFlow in der Version 2.X verwenden. "
   ]
  },
  {
   "cell_type": "code",
   "execution_count": null,
   "metadata": {
    "id": "rN1rFschL8LX"
   },
   "outputs": [],
   "source": [
    "import numpy as np\n",
    "import tensorflow as tf\n",
    "import matplotlib.pyplot as plt"
   ]
  },
  {
   "cell_type": "code",
   "execution_count": null,
   "metadata": {},
   "outputs": [],
   "source": [
    "%matplotlib inline"
   ]
  },
  {
   "cell_type": "code",
   "execution_count": null,
   "metadata": {
    "colab": {
     "base_uri": "https://localhost:8080/"
    },
    "id": "6jAIrXS-L8La",
    "outputId": "14a54743-3dc1-4aee-876a-4154ed74199f"
   },
   "outputs": [],
   "source": [
    "print(tf.__version__)"
   ]
  },
  {
   "cell_type": "markdown",
   "metadata": {
    "id": "aDF6fGvTL8Lb"
   },
   "source": [
    "## Was ist ein Tensor?\n",
    "Lasst uns zunächst das Konzept eines Tensors verstehen. Für unseren Zweck können wir einen Tensor als ein hochdimensionales Array betrachten. \n",
    "- Tensor 0. Ordnung = Skalar\n",
    "- Tensor 1. Ordnung = Vektor\n",
    "- Tensor 2. Ordnung = Matrix\n",
    "- Tensor 3. Ordnung = Tensor\n",
    "\n",
    "### Wie werden Matrizen in Numpy abgebildet?"
   ]
  },
  {
   "cell_type": "code",
   "execution_count": null,
   "metadata": {
    "colab": {
     "base_uri": "https://localhost:8080/"
    },
    "id": "8pqwci3tL8Lb",
    "outputId": "6488a88f-61af-4624-c90e-65d6863b0c32"
   },
   "outputs": [],
   "source": [
    "# A NumPy array is an arbitray dimensional matrix to store numbers in\n",
    "arr = np.reshape(np.arange(9),(3,3))\n",
    "print(arr)\n",
    "print(arr.shape)\n",
    "print(\"------------------\")\n",
    "\n",
    "# Access dimensions of the shape.\n",
    "print(arr.shape[0])\n",
    "print(arr.shape[-1])\n",
    "print(\"------------------\")\n",
    "\n",
    "# Reshaping an array.\n",
    "arr1 = np.reshape(arr, newshape=(9,1))\n",
    "print(arr1)\n",
    "arr2 = np.reshape(arr, newshape=(-1,1)) # The -1 makes numpy infer itself the missing dimension.\n",
    "print(arr2)\n",
    "print(\"------------------\")\n",
    "\n",
    "# Indexing allows you to access specific entries of an array.\n",
    "print(arr[2,1]) # row 2 (third), column 1 (second).\n",
    "print(arr[1,2]) # row 1 (second), column 2 (third).\n",
    "print(\"------------------\")\n",
    "\n",
    "# Slicing allows you to retrieve parts of an array.\n",
    "print(arr[:,1]) # All rows, collumn 1.\n",
    "print(arr[0:2,:]) # Rows from 0 (include) to 2 (exclude), all columns. "
   ]
  },
  {
   "cell_type": "markdown",
   "metadata": {
    "id": "VbLmi9MKawBm"
   },
   "source": [
    "### Können wir auch eine weiter Dimension zu unserem numpy-Array hinzufügen?"
   ]
  },
  {
   "cell_type": "code",
   "execution_count": null,
   "metadata": {
    "colab": {
     "base_uri": "https://localhost:8080/"
    },
    "id": "1Y5O_YOIL8Lb",
    "outputId": "42d4059b-167e-4bb6-d216-e9ffc3a4b42d"
   },
   "outputs": [],
   "source": [
    "# But the exact same things work in higher dimensions!\n",
    "arr = np.reshape(np.arange(27), (3,3,3))\n",
    "print(arr)\n",
    "print(arr.shape)\n",
    "print(\"------------------\")\n",
    "\n",
    "# Indexing.\n",
    "print(arr[0,1,2])\n",
    "print(\"------------------\")\n",
    "\n",
    "# Slicing.\n",
    "print(arr[:,2,:])"
   ]
  },
  {
   "cell_type": "markdown",
   "metadata": {
    "id": "09HDDukXbDTS"
   },
   "source": [
    "### Unterschied zwischen dem TensorFlow Tensor und dem numpy Array\n",
    "Grundsätzlich sind TensorFlow Tensoren und numpy Arrays das Gleiche. Und auch wieder nicht. Den Tensoren sind eigentlich Operationen."
   ]
  },
  {
   "cell_type": "code",
   "execution_count": null,
   "metadata": {
    "colab": {
     "base_uri": "https://localhost:8080/",
     "height": 181
    },
    "id": "HltuOSOjL8Lc",
    "outputId": "b6cc27c4-1017-4ce5-e9f8-6e8e4601433a"
   },
   "outputs": [],
   "source": [
    "tensor = tf.convert_to_tensor(arr)\n",
    "print(tensor)"
   ]
  },
  {
   "cell_type": "markdown",
   "metadata": {
    "id": "vOOaCJHkb3uY"
   },
   "source": [
    "Es besteht die Möglichkeit ein Numpy Array in einen Tensorflow Tensor zu konvertieren. Dies ist aber auch implizit mittels einer Operation möglich bei der das Ergebnis dann als Tensor gespeichert wird."
   ]
  },
  {
   "cell_type": "code",
   "execution_count": null,
   "metadata": {
    "colab": {
     "base_uri": "https://localhost:8080/"
    },
    "id": "mH6n4LkjL8Lc",
    "outputId": "4972ec72-4497-4f58-e77b-bf801ea41503"
   },
   "outputs": [],
   "source": [
    "tensor = tf.multiply(42, arr)\n",
    "print(arr)\n",
    "print(tensor)"
   ]
  },
  {
   "cell_type": "markdown",
   "metadata": {
    "id": "_RNwtgu8cSrn"
   },
   "source": [
    "Wenn die Variable bereits ein Tensor ist können alle normalen mathematischen Operationen (+, -, *, ,/ usw.) verwendet werden."
   ]
  },
  {
   "cell_type": "code",
   "execution_count": null,
   "metadata": {
    "colab": {
     "base_uri": "https://localhost:8080/"
    },
    "id": "3taJCIyLL8Ld",
    "outputId": "b357ba78-bd9b-4172-8bb4-6d6d8400fdcd"
   },
   "outputs": [],
   "source": [
    "print(tensor/42)\n",
    "print(tf.divide(tensor,42)) # That's the same thing.\n",
    "print(tensor/42+tensor/42)"
   ]
  },
  {
   "cell_type": "markdown",
   "metadata": {
    "id": "KRrmyCmQcmpK"
   },
   "source": [
    "Es ist auch einfach möglich einen Tensor in ein numpy Array zurückzuwandeln."
   ]
  },
  {
   "cell_type": "code",
   "execution_count": null,
   "metadata": {
    "colab": {
     "base_uri": "https://localhost:8080/"
    },
    "id": "T8PcCH-HL8Ld",
    "outputId": "f76294c7-429d-4666-9d5e-8c5bb86c9dd4"
   },
   "outputs": [],
   "source": [
    "print(tensor.numpy())"
   ]
  },
  {
   "cell_type": "markdown",
   "metadata": {
    "id": "ZbOC94xuL8Le"
   },
   "source": [
    "## Erstellen eines kleinen Regressions-Datensatz\n",
    "Für unser erstes TensorFlow-Modell erstellen wir uns einen eigenen Dummy-Datensatz. "
   ]
  },
  {
   "cell_type": "code",
   "execution_count": null,
   "metadata": {
    "colab": {
     "base_uri": "https://localhost:8080/",
     "height": 286
    },
    "id": "SjlkeGMRL8Le",
    "outputId": "c82a93a5-610f-4cb1-a94e-f1f363161f45"
   },
   "outputs": [],
   "source": [
    "def f(x):\n",
    "    return 0.002*(x**3-x**2+2*x)+0.3\n",
    "\n",
    "xs = np.linspace(-5,5, 20, dtype=np.float32)\n",
    "ys = f(xs)\n",
    "\n",
    "ids = np.arange(len(xs))\n",
    "training_data_ids = np.random.choice(ids,15, replace=False)\n",
    "test_data_ids = ~np.isin(ids, training_data_ids)\n",
    "training_data_xs = xs[training_data_ids]\n",
    "training_data_ys = ys[training_data_ids]\n",
    "test_data_xs = xs[test_data_ids]\n",
    "test_data_ys = ys[test_data_ids]\n",
    "\n",
    "plt.scatter(training_data_xs, training_data_ys, c='red')\n",
    "plt.scatter(test_data_xs, test_data_ys, c='blue')\n",
    "plt.legend((\"Training Data\",\"Test Data\"), loc='upper left')\n",
    "plt.xlim(-5,5)\n",
    "plt.ylim(-0.05,0.6)\n",
    "plt.show()"
   ]
  },
  {
   "cell_type": "code",
   "execution_count": null,
   "metadata": {
    "colab": {
     "base_uri": "https://localhost:8080/"
    },
    "id": "tsVQQlTPL8Lf",
    "outputId": "61770c92-59ad-42e6-fa43-9ce77d89de14"
   },
   "outputs": [],
   "source": [
    "# First understand the shape that your data has.\n",
    "print(training_data_xs.shape)\n",
    "print(training_data_ys.shape)\n",
    "print(test_data_xs.shape)\n",
    "print(test_data_ys.shape)"
   ]
  },
  {
   "cell_type": "markdown",
   "metadata": {
    "id": "s97droRXkKUg"
   },
   "source": [
    "### TensorFlow Dataset\n",
    "Um diese Daten in TensorFlow zu verwenden, müssen wir den Datensatz in ein `tf.data.Dataset` umwandeln ([Dokumentation](https://www.tensorflow.org/api_docs/python/tf/data/Dataset)). In unserem Fall verwenden wir dafür die Methode `tf.data.Dataset.from_tensor_slices()`."
   ]
  },
  {
   "cell_type": "code",
   "execution_count": null,
   "metadata": {
    "id": "mv0z4uXLL8Lf"
   },
   "outputs": [],
   "source": [
    "train_dataset = tf.data.Dataset.from_tensor_slices((training_data_xs, training_data_ys))\n",
    "test_dataset = tf.data.Dataset.from_tensor_slices((test_data_xs, test_data_ys))"
   ]
  },
  {
   "cell_type": "markdown",
   "metadata": {
    "id": "yllxpDVflrzs"
   },
   "source": [
    "Über den Datensatz kann mittels einer for-Schleife iteriert werden.. Der Testdatensatz besteht aus 5 Datenpunkten, wobei jeder Datenpunkt durch ein Tupel dargestellt wird, das die Eingabe und den Zielwert enthält "
   ]
  },
  {
   "cell_type": "code",
   "execution_count": null,
   "metadata": {
    "colab": {
     "base_uri": "https://localhost:8080/"
    },
    "id": "-asxuQEflmfW",
    "outputId": "98ef85b1-f2a1-48ca-fdfb-c6ae7f171ee1"
   },
   "outputs": [],
   "source": [
    "for elem in test_dataset:\n",
    "    print(elem)"
   ]
  },
  {
   "cell_type": "markdown",
   "metadata": {
    "id": "2yBntidh2Bjj"
   },
   "source": [
    "Um den Datensatz als ganzes in das Netzwerk zu schleusen, müssen wir es batchen. Dadurch können wir die Verlustfunktion für den ganzen Datensatz minimieren. Durch das Batchen sind die Datenpunkte jetzt in zwei Arrays gespeichert -  ein Array für den Input und ein Array für den Zielwert."
   ]
  },
  {
   "cell_type": "code",
   "execution_count": null,
   "metadata": {
    "colab": {
     "base_uri": "https://localhost:8080/"
    },
    "id": "4syKSvQrloqv",
    "outputId": "80be472e-6df1-4a3d-b8f4-18b032cd4b45"
   },
   "outputs": [],
   "source": [
    "train_dataset = train_dataset.batch(15)\n",
    "test_dataset = test_dataset.batch(5)\n",
    "\n",
    "for elem in test_dataset:\n",
    "    print(elem)   "
   ]
  },
  {
   "cell_type": "markdown",
   "metadata": {},
   "source": [
    "## Wiederholung und Recherche\n",
    "\n",
    "Schauen sie sich noch einmal aus dem letzten Semester die Kapitel zur Visualisierung (Kapitel 5) und Aufbereitung (Kapitel 6, 7 und 8) von daten an. Zusätzlich sollten sie sich noch einmal ansehen was es bedeutet wenn Daten nicht ausbalanciert sind.\n",
    "\n",
    "Hierzu können sie sich folgende [Ressource](https://developers.google.com/machine-learning/data-prep/construct/sampling-splitting/imbalanced-data?hl=de) durchlesen.\n"
   ]
  },
  {
   "cell_type": "markdown",
   "metadata": {
    "id": "-tqnuWhXCeXP"
   },
   "source": [
    "---\n",
    "\n",
    "Wahlpflichtach Künstliche Intelligenz II: Praktikum "
   ]
  }
 ],
 "metadata": {
  "colab": {
   "collapsed_sections": [],
   "name": "11 - TensorFlow - Einführung.ipynb",
   "provenance": []
  },
  "kernelspec": {
   "display_name": "Python 3.11.6 ('venv': venv)",
   "language": "python",
   "name": "python3"
  },
  "language_info": {
   "codemirror_mode": {
    "name": "ipython",
    "version": 3
   },
   "file_extension": ".py",
   "mimetype": "text/x-python",
   "name": "python",
   "nbconvert_exporter": "python",
   "pygments_lexer": "ipython3",
   "version": "3.11.6"
  },
  "vscode": {
   "interpreter": {
    "hash": "90426636d83e24cdadcd62d77212f0f01714dea61fbf228ca5d2a0125536a635"
   }
  }
 },
 "nbformat": 4,
 "nbformat_minor": 1
}
