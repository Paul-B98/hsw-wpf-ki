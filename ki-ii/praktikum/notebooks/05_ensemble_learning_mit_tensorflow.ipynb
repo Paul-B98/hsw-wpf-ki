{
 "cells": [
  {
   "cell_type": "markdown",
   "metadata": {},
   "source": [
    "Wahlpflichtfach Künstliche Intelligenz II: Praktikum \n",
    "\n",
    "---"
   ]
  },
  {
   "cell_type": "markdown",
   "metadata": {},
   "source": [
    "# 05 - Ensembles Learning mit Tensorflow\n",
    "\n",
    "Nachdem wir uns angesehen haben, wie wir das Ergebnis durch die Optimierung der Hyperparameter verbessern versuchen wir das nun durch Ensemble learning.  "
   ]
  },
  {
   "cell_type": "code",
   "execution_count": null,
   "metadata": {},
   "outputs": [],
   "source": [
    "import tensorflow as tf"
   ]
  },
  {
   "cell_type": "code",
   "execution_count": 2,
   "metadata": {},
   "outputs": [],
   "source": [
    "%matplotlib inline"
   ]
  },
  {
   "cell_type": "code",
   "execution_count": null,
   "metadata": {},
   "outputs": [],
   "source": [
    "print(tf.__version__)"
   ]
  },
  {
   "cell_type": "markdown",
   "metadata": {},
   "source": [
    "## Erstellen eines kleinen klassifikationsdaten"
   ]
  },
  {
   "cell_type": "code",
   "execution_count": 4,
   "metadata": {},
   "outputs": [],
   "source": [
    "from sklearn import datasets\n",
    "from sklearn.model_selection import train_test_split\n",
    "from keras.utils import to_categorical\n",
    "\n",
    "iris = datasets.load_iris()\n",
    "y = to_categorical(iris.target)\n",
    "x = iris.data\n",
    "x_train, x_test, y_train, y_test = train_test_split(x, y, test_size=0.3, random_state=42)"
   ]
  },
  {
   "cell_type": "markdown",
   "metadata": {},
   "source": [
    "## Ensembles\n",
    "\n",
    "Bei einem Ensemble handelt es sich um einen Zusammenschluss mehrerer KI-Modelle. Hierbei gibt es zum Beispiel die Möglichkeit, die den durchschnitt oder das Maximum der unterschiedlichen Modelle zu nehmen. Diese können dabei auch beliebig tief geschachtelt werden."
   ]
  },
  {
   "cell_type": "code",
   "execution_count": null,
   "metadata": {},
   "outputs": [],
   "source": [
    "from keras import Sequential\n",
    "from keras.layers import Dense\n",
    "from keras.optimizers import Adam\n",
    "from keras.losses import CategoricalCrossentropy\n",
    "from keras.metrics import CategoricalAccuracy, Recall, Precision\n",
    "\n",
    "model_1 = Sequential(name=\"classification_mlp1\")\n",
    "model_1.add(Dense(8, activation='relu', input_dim=4))\n",
    "model_1.add(Dense(8, activation='relu'))\n",
    "model_1.add(Dense(8, activation='relu'))\n",
    "model_1.add(Dense(3, activation='softmax'))\n",
    "\n",
    "model_1.compile(\n",
    "    optimizer=Adam(learning_rate=0.01),\n",
    "    loss=CategoricalCrossentropy(),\n",
    "    metrics=[CategoricalAccuracy(), Recall(), Precision()]\n",
    ")\n",
    "\n",
    "model_1.fit(\n",
    "    x=x_train, \n",
    "    y=y_train,\n",
    "    validation_split=0.2,\n",
    "    epochs=5,\n",
    ")\n",
    "loss, acc, rec, prec = model_1.evaluate(x_test, y_test)\n",
    "tf.keras.backend.clear_session()"
   ]
  },
  {
   "cell_type": "code",
   "execution_count": null,
   "metadata": {},
   "outputs": [],
   "source": [
    "model_2 = Sequential(name=\"classification_mlp2\")\n",
    "model_2.add(Dense(16, activation='relu', input_dim=4))\n",
    "model_2.add(Dense(8, activation='relu'))\n",
    "model_2.add(Dense(4, activation='relu'))\n",
    "model_2.add(Dense(3, activation='softmax'))\n",
    "\n",
    "model_2.compile(\n",
    "    optimizer=Adam(learning_rate=0.01),\n",
    "    loss=CategoricalCrossentropy(),\n",
    "    metrics=[CategoricalAccuracy(), Recall(), Precision()]\n",
    ")\n",
    "\n",
    "model_2.fit(\n",
    "    x=x_train, \n",
    "    y=y_train,\n",
    "    validation_split=0.2,\n",
    "    epochs=5,\n",
    ")\n",
    "loss, acc, rec, prec = model_2.evaluate(x_test, y_test)\n",
    "tf.keras.backend.clear_session()"
   ]
  },
  {
   "cell_type": "markdown",
   "metadata": {},
   "source": [
    "**Average Ensemble**"
   ]
  },
  {
   "cell_type": "code",
   "execution_count": null,
   "metadata": {},
   "outputs": [],
   "source": [
    "from keras.layers import Input, Average, Maximum\n",
    "from keras.models import Model\n",
    "from keras.utils import plot_model\n",
    "\n",
    "models = [model_1, model_2]\n",
    "\n",
    "model_input = Input(shape=(4,))\n",
    "single_mlp_outputs = [model(model_input) for model in models]\n",
    "ensemble_output = Average()([\n",
    "    model(model_input)\n",
    "    for model in models\n",
    "])\n",
    "ensemble_model_avg = Model(inputs=model_input, outputs=ensemble_output)\n",
    "plot_model(ensemble_model_avg, show_shapes=True, show_dtype=False, show_layer_names=True,\n",
    "           show_layer_activations=True)"
   ]
  },
  {
   "cell_type": "code",
   "execution_count": null,
   "metadata": {},
   "outputs": [],
   "source": [
    "ensemble_model_avg.compile(\n",
    "    optimizer=Adam(learning_rate=0.01),\n",
    "    loss=CategoricalCrossentropy(),\n",
    "    metrics=[CategoricalAccuracy(), Recall(), Precision()]\n",
    ")\n",
    "loss, acc, rec, prec = ensemble_model_avg.evaluate(x_test, y_test)"
   ]
  },
  {
   "cell_type": "markdown",
   "metadata": {},
   "source": [
    "**Maximum Ensemble**"
   ]
  },
  {
   "cell_type": "code",
   "execution_count": null,
   "metadata": {},
   "outputs": [],
   "source": [
    "model_input = Input(shape=(4,))\n",
    "single_mlp_outputs = [model(model_input) for model in models]\n",
    "ensemble_output = Maximum()([\n",
    "    model(model_input)\n",
    "    for model in models\n",
    "])\n",
    "ensemble_model_max = Model(inputs=model_input, outputs=ensemble_output)\n",
    "plot_model(ensemble_model_max, show_shapes=True, show_dtype=False, show_layer_names=True,\n",
    "           show_layer_activations=True)"
   ]
  },
  {
   "cell_type": "code",
   "execution_count": null,
   "metadata": {},
   "outputs": [],
   "source": [
    "ensemble_model_max.compile(\n",
    "    optimizer=Adam(learning_rate=0.01),\n",
    "    loss=CategoricalCrossentropy(),\n",
    "    metrics=[CategoricalAccuracy(), Recall(), Precision()]\n",
    ")\n",
    "loss, acc, rec, prec = ensemble_model_max.evaluate(x_test, y_test)"
   ]
  },
  {
   "cell_type": "markdown",
   "metadata": {},
   "source": [
    "**Majority Voting Ensemble**"
   ]
  },
  {
   "cell_type": "code",
   "execution_count": 11,
   "metadata": {},
   "outputs": [],
   "source": [
    "from keras.src.layers.merging.base_merge import _Merge\n",
    "\n",
    "class MajorityVoting(_Merge):\n",
    "    def _clean(self, t: tf.Tensor):\n",
    "        top, _ = tf.math.top_k(t, 1)\n",
    "        return tf.cast(tf.equal(t, top), dtype=tf.float32)\n",
    "\n",
    "    def _merge_function(self, inputs: list[tf.Tensor]):\n",
    "        output = self._clean(inputs[0])\n",
    "        for i in range(1, len(inputs)):\n",
    "            output = tf.add(output, self._clean(inputs[i]))\n",
    "        return tf.divide(output, len(inputs))"
   ]
  },
  {
   "cell_type": "code",
   "execution_count": null,
   "metadata": {},
   "outputs": [],
   "source": [
    "model_input = Input(shape=(4,))\n",
    "single_mlp_outputs = [model(model_input) for model in models]\n",
    "ensemble_output = MajorityVoting()([\n",
    "    model(model_input)\n",
    "    for model in models\n",
    "])\n",
    "ensemble_model_voting = Model(inputs=model_input, outputs=ensemble_output)\n",
    "plot_model(ensemble_model_max, show_shapes=True, show_dtype=False, show_layer_names=True,\n",
    "           show_layer_activations=True)"
   ]
  },
  {
   "cell_type": "code",
   "execution_count": null,
   "metadata": {},
   "outputs": [],
   "source": [
    "ensemble_model_voting.compile(\n",
    "    optimizer=Adam(learning_rate=0.01),\n",
    "    loss=CategoricalCrossentropy(),\n",
    "    metrics=[CategoricalAccuracy(), Recall(), Precision()]\n",
    ")\n",
    "loss, acc, rec, prec = ensemble_model_voting.evaluate(x_test, y_test)"
   ]
  },
  {
   "cell_type": "markdown",
   "metadata": {},
   "source": [
    "---\n",
    "\n",
    "Wahlpflichtach Künstliche Intelligenz II: Praktikum "
   ]
  }
 ],
 "metadata": {
  "kernelspec": {
   "display_name": "venv",
   "language": "python",
   "name": "python3"
  },
  "language_info": {
   "codemirror_mode": {
    "name": "ipython",
    "version": 3
   },
   "file_extension": ".py",
   "mimetype": "text/x-python",
   "name": "python",
   "nbconvert_exporter": "python",
   "pygments_lexer": "ipython3",
   "version": "3.11.6"
  }
 },
 "nbformat": 4,
 "nbformat_minor": 2
}
