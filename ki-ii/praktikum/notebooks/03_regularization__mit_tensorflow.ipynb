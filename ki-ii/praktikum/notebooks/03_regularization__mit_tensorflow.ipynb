{
 "cells": [
  {
   "cell_type": "markdown",
   "metadata": {},
   "source": [
    "# 03 - Regularization mit Tensorflow\n",
    "\n",
    "Nachdem wir uns den grundsätzlichen Aufbau eines neuronalen Netzes angesehen haben wollen wir uns ansehen, wie wir mittels Regularisierung das Lernen verbessern können."
   ]
  },
  {
   "cell_type": "code",
   "execution_count": 1,
   "metadata": {},
   "outputs": [
    {
     "name": "stderr",
     "output_type": "stream",
     "text": [
      "2024-01-13 22:30:09.476507: I tensorflow/core/util/port.cc:111] oneDNN custom operations are on. You may see slightly different numerical results due to floating-point round-off errors from different computation orders. To turn them off, set the environment variable `TF_ENABLE_ONEDNN_OPTS=0`.\n",
      "2024-01-13 22:30:09.477724: I tensorflow/tsl/cuda/cudart_stub.cc:28] Could not find cuda drivers on your machine, GPU will not be used.\n",
      "2024-01-13 22:30:09.495491: E tensorflow/compiler/xla/stream_executor/cuda/cuda_dnn.cc:9342] Unable to register cuDNN factory: Attempting to register factory for plugin cuDNN when one has already been registered\n",
      "2024-01-13 22:30:09.495515: E tensorflow/compiler/xla/stream_executor/cuda/cuda_fft.cc:609] Unable to register cuFFT factory: Attempting to register factory for plugin cuFFT when one has already been registered\n",
      "2024-01-13 22:30:09.495527: E tensorflow/compiler/xla/stream_executor/cuda/cuda_blas.cc:1518] Unable to register cuBLAS factory: Attempting to register factory for plugin cuBLAS when one has already been registered\n",
      "2024-01-13 22:30:09.499294: I tensorflow/tsl/cuda/cudart_stub.cc:28] Could not find cuda drivers on your machine, GPU will not be used.\n",
      "2024-01-13 22:30:09.499705: I tensorflow/core/platform/cpu_feature_guard.cc:182] This TensorFlow binary is optimized to use available CPU instructions in performance-critical operations.\n",
      "To enable the following instructions: AVX2 AVX512F AVX512_VNNI AVX512_BF16 FMA, in other operations, rebuild TensorFlow with the appropriate compiler flags.\n",
      "2024-01-13 22:30:09.968466: W tensorflow/compiler/tf2tensorrt/utils/py_utils.cc:38] TF-TRT Warning: Could not find TensorRT\n"
     ]
    }
   ],
   "source": [
    "import tensorflow as tf"
   ]
  },
  {
   "cell_type": "code",
   "execution_count": 2,
   "metadata": {},
   "outputs": [],
   "source": [
    "%matplotlib inline"
   ]
  },
  {
   "cell_type": "code",
   "execution_count": 3,
   "metadata": {},
   "outputs": [
    {
     "name": "stdout",
     "output_type": "stream",
     "text": [
      "2.14.0\n"
     ]
    }
   ],
   "source": [
    "print(tf.__version__)"
   ]
  },
  {
   "cell_type": "markdown",
   "metadata": {},
   "source": [
    "## Erstellen eines kleinen klassifikationsdaten"
   ]
  },
  {
   "cell_type": "code",
   "execution_count": 4,
   "metadata": {},
   "outputs": [],
   "source": [
    "from sklearn import datasets\n",
    "from sklearn.model_selection import train_test_split\n",
    "from keras.utils import to_categorical\n",
    "\n",
    "iris = datasets.load_iris()\n",
    "y = to_categorical(iris.target)\n",
    "x = iris.data\n",
    "x_train, x_test, y_train, y_test = train_test_split(x, y, test_size=0.3, random_state=42)"
   ]
  },
  {
   "cell_type": "code",
   "execution_count": 5,
   "metadata": {},
   "outputs": [
    {
     "name": "stdout",
     "output_type": "stream",
     "text": [
      "Epoch 1/5\n"
     ]
    },
    {
     "name": "stderr",
     "output_type": "stream",
     "text": [
      "2024-01-13 22:30:10.934440: I tensorflow/compiler/xla/stream_executor/cuda/cuda_gpu_executor.cc:880] could not open file to read NUMA node: /sys/bus/pci/devices/0000:01:00.0/numa_node\n",
      "Your kernel may have been built without NUMA support.\n",
      "2024-01-13 22:30:10.934585: W tensorflow/core/common_runtime/gpu/gpu_device.cc:2211] Cannot dlopen some GPU libraries. Please make sure the missing libraries mentioned above are installed properly if you would like to use GPU. Follow the guide at https://www.tensorflow.org/install/gpu for how to download and setup the required libraries for your platform.\n",
      "Skipping registering GPU devices...\n"
     ]
    },
    {
     "name": "stdout",
     "output_type": "stream",
     "text": [
      "3/3 [==============================] - 1s 63ms/step - loss: 3.5397 - categorical_accuracy: 0.3214 - recall: 0.3214 - precision: 0.3214 - val_loss: 2.9498 - val_categorical_accuracy: 0.1905 - val_recall: 0.1905 - val_precision: 0.1905\n",
      "Epoch 2/5\n",
      "3/3 [==============================] - 0s 9ms/step - loss: 2.3659 - categorical_accuracy: 0.3214 - recall: 0.3214 - precision: 0.3214 - val_loss: 1.6706 - val_categorical_accuracy: 0.1905 - val_recall: 0.1905 - val_precision: 0.1905\n",
      "Epoch 3/5\n",
      "3/3 [==============================] - 0s 9ms/step - loss: 1.5224 - categorical_accuracy: 0.4286 - recall: 0.2619 - precision: 0.4000 - val_loss: 1.1712 - val_categorical_accuracy: 0.4762 - val_recall: 0.4762 - val_precision: 0.5882\n",
      "Epoch 4/5\n",
      "3/3 [==============================] - 0s 9ms/step - loss: 1.1891 - categorical_accuracy: 0.3571 - recall: 0.3214 - precision: 0.4737 - val_loss: 0.9501 - val_categorical_accuracy: 0.4762 - val_recall: 0.4762 - val_precision: 0.5882\n",
      "Epoch 5/5\n",
      "3/3 [==============================] - 0s 8ms/step - loss: 1.0129 - categorical_accuracy: 0.3214 - recall: 0.2976 - precision: 0.4902 - val_loss: 0.9212 - val_categorical_accuracy: 0.2857 - val_recall: 0.0952 - val_precision: 0.2000\n",
      "2/2 [==============================] - 0s 3ms/step - loss: 1.0095 - categorical_accuracy: 0.2667 - recall: 0.0889 - precision: 0.2222\n"
     ]
    }
   ],
   "source": [
    "from keras import Sequential\n",
    "from keras.layers import Dense\n",
    "from keras.optimizers import Adam\n",
    "from keras.losses import CategoricalCrossentropy\n",
    "from keras.metrics import CategoricalAccuracy, Recall, Precision\n",
    "\n",
    "model = Sequential(name=\"classification_mlp\")\n",
    "model.add(Dense(8, activation='relu', input_dim=4))\n",
    "model.add(Dense(3, activation='softmax'))\n",
    "\n",
    "model.compile(\n",
    "    optimizer=Adam(learning_rate=0.01),\n",
    "    loss=CategoricalCrossentropy(),\n",
    "    metrics=[CategoricalAccuracy(), Recall(), Precision()]\n",
    ")\n",
    "\n",
    "model.fit(\n",
    "    x=x_train, \n",
    "    y=y_train,\n",
    "    validation_split=0.2,\n",
    "    epochs=5,\n",
    ")\n",
    "loss, acc, rec, prec = model.evaluate(x_test, y_test)\n",
    "tf.keras.backend.clear_session()"
   ]
  },
  {
   "cell_type": "markdown",
   "metadata": {},
   "source": [
    "## Regularization\n",
    "\n",
    "Regularisierung wird verwendet, um Overfittig beim Trainieren eines Models entgegenzuwirken, sowie die Komplexität in einem neuronalen Netz zu reduzieren. Dabei können Early Stopping, Weight Constraining, Weight Penalizing und Droupout verwendet werden. Die letzten beiden davon können ebenso zur Reduktion der komplexität des Netzes verwendet werden.\n",
    "\n",
    "Methoden zur Regularisierung:\n",
    "* Early Stopping\n",
    "* Weight oriented:\n",
    "    * Weight Penalizing: L1 (Lasso), L2 (Ridge), L1L2 (ElasticNet)\n",
    "    * Weight Constraining: Unit Norm, Max Norm, Min-Max Norm\n",
    "* Network oriented:\n",
    "    * Network agnostic: Vanilla Dropout, Gaussian Dropout, Stand-out"
   ]
  },
  {
   "cell_type": "markdown",
   "metadata": {},
   "source": [
    "### Weight oriented\n",
    "Hierbei wird auf die Gewichte im Kernel oder Bias des jeweiligen Layers Einfluss genommen."
   ]
  },
  {
   "cell_type": "code",
   "execution_count": 6,
   "metadata": {},
   "outputs": [
    {
     "name": "stdout",
     "output_type": "stream",
     "text": [
      "Epoch 1/5\n",
      "3/3 [==============================] - 0s 56ms/step - loss: 2.2489 - categorical_accuracy: 0.3333 - recall: 0.3333 - precision: 0.3457 - val_loss: 1.5546 - val_categorical_accuracy: 0.5238 - val_recall: 0.4762 - val_precision: 0.5882\n",
      "Epoch 2/5\n",
      "3/3 [==============================] - 0s 9ms/step - loss: 1.5098 - categorical_accuracy: 0.5714 - recall: 0.4762 - precision: 0.6349 - val_loss: 1.5653 - val_categorical_accuracy: 0.2381 - val_recall: 0.1905 - val_precision: 0.5714\n",
      "Epoch 3/5\n",
      "3/3 [==============================] - 0s 8ms/step - loss: 1.2406 - categorical_accuracy: 0.7024 - recall: 0.5476 - precision: 0.7931 - val_loss: 1.1390 - val_categorical_accuracy: 0.6667 - val_recall: 0.6667 - val_precision: 0.6667\n",
      "Epoch 4/5\n",
      "3/3 [==============================] - 0s 9ms/step - loss: 1.1687 - categorical_accuracy: 0.6310 - recall: 0.6190 - precision: 0.6265 - val_loss: 1.0923 - val_categorical_accuracy: 0.5714 - val_recall: 0.5714 - val_precision: 0.5714\n",
      "Epoch 5/5\n",
      "3/3 [==============================] - 0s 9ms/step - loss: 1.0091 - categorical_accuracy: 0.7857 - recall: 0.7738 - precision: 0.8125 - val_loss: 0.9670 - val_categorical_accuracy: 0.8571 - val_recall: 0.6667 - val_precision: 0.8750\n",
      "2/2 [==============================] - 0s 3ms/step - loss: 0.8935 - categorical_accuracy: 0.8000 - recall: 0.7111 - precision: 0.8205\n"
     ]
    }
   ],
   "source": [
    "from keras.regularizers import L1\n",
    "from keras.constraints import MaxNorm\n",
    "\n",
    "model = Sequential(name=\"classification_mlp\")\n",
    "model.add(Dense(512, activation='relu', input_dim=4, kernel_regularizer=L1(l1=0.01), kernel_constraint=MaxNorm(1.5)))\n",
    "model.add(Dense(3, activation='softmax'))\n",
    "\n",
    "model.compile(\n",
    "    optimizer=Adam(learning_rate=0.01),\n",
    "    loss=CategoricalCrossentropy(),\n",
    "    metrics=[CategoricalAccuracy(), Recall(), Precision()]\n",
    ")\n",
    "\n",
    "model.fit(\n",
    "    x=x_train, \n",
    "    y=y_train,\n",
    "    validation_split=0.2,\n",
    "    epochs=5,\n",
    ")\n",
    "loss, acc, rec, prec = model.evaluate(x_test, y_test)\n",
    "tf.keras.backend.clear_session()"
   ]
  },
  {
   "cell_type": "markdown",
   "metadata": {},
   "source": [
    "### Network oriented\n",
    "Hierbei wird auf die Architektur bzw. Verbindungen der bzw zwischen den Layers Einfluss genommen."
   ]
  },
  {
   "cell_type": "code",
   "execution_count": 7,
   "metadata": {},
   "outputs": [
    {
     "name": "stdout",
     "output_type": "stream",
     "text": [
      "Epoch 1/5\n",
      "3/3 [==============================] - 0s 55ms/step - loss: 1.1390 - categorical_accuracy: 0.4643 - recall: 0.3571 - precision: 0.5769 - val_loss: 0.7413 - val_categorical_accuracy: 0.6667 - val_recall: 0.6667 - val_precision: 0.6667\n",
      "Epoch 2/5\n",
      "3/3 [==============================] - 0s 9ms/step - loss: 0.8499 - categorical_accuracy: 0.6429 - recall: 0.5714 - precision: 0.6400 - val_loss: 0.6718 - val_categorical_accuracy: 0.5238 - val_recall: 0.5238 - val_precision: 0.5238\n",
      "Epoch 3/5\n",
      "3/3 [==============================] - 0s 9ms/step - loss: 0.6181 - categorical_accuracy: 0.6429 - recall: 0.6310 - precision: 0.6463 - val_loss: 0.5624 - val_categorical_accuracy: 0.6667 - val_recall: 0.6667 - val_precision: 0.6667\n",
      "Epoch 4/5\n",
      "3/3 [==============================] - 0s 9ms/step - loss: 0.5408 - categorical_accuracy: 0.7381 - recall: 0.6905 - precision: 0.7532 - val_loss: 0.5468 - val_categorical_accuracy: 0.5238 - val_recall: 0.5238 - val_precision: 0.5238\n",
      "Epoch 5/5\n",
      "3/3 [==============================] - 0s 9ms/step - loss: 0.4611 - categorical_accuracy: 0.7381 - recall: 0.7381 - precision: 0.7381 - val_loss: 0.3830 - val_categorical_accuracy: 0.9524 - val_recall: 0.9524 - val_precision: 1.0000\n",
      "2/2 [==============================] - 0s 3ms/step - loss: 0.3089 - categorical_accuracy: 0.8889 - recall: 0.8889 - precision: 0.8889\n"
     ]
    }
   ],
   "source": [
    "from keras.layers import Dropout\n",
    "\n",
    "model = Sequential(name=\"classification_mlp\")\n",
    "model.add(Dense(512, activation='relu', input_dim=4))\n",
    "model.add(Dropout(0.2))\n",
    "model.add(Dense(3, activation='softmax'))\n",
    "\n",
    "model.compile(\n",
    "    optimizer=Adam(learning_rate=0.01),\n",
    "    loss=CategoricalCrossentropy(),\n",
    "    metrics=[CategoricalAccuracy(), Recall(), Precision()]\n",
    ")\n",
    "\n",
    "model.fit(\n",
    "    x=x_train, \n",
    "    y=y_train,\n",
    "    validation_split=0.2,\n",
    "    epochs=5,\n",
    ")\n",
    "loss, acc, rec, prec = model.evaluate(x_test, y_test)\n",
    "tf.keras.backend.clear_session()"
   ]
  },
  {
   "cell_type": "markdown",
   "metadata": {},
   "source": [
    "### Early Stopping\n",
    "Hierbei wird das Training gestoppt so bald keine Verbesserung auf den Validierungsdaten erzeugt wird."
   ]
  },
  {
   "cell_type": "code",
   "execution_count": 8,
   "metadata": {},
   "outputs": [
    {
     "name": "stdout",
     "output_type": "stream",
     "text": [
      "Epoch 1/50\n",
      "3/3 [==============================] - 0s 55ms/step - loss: 14.3014 - categorical_accuracy: 0.2619 - recall: 0.2500 - precision: 0.3559 - val_loss: 7.6951 - val_categorical_accuracy: 0.6667 - val_recall: 0.6667 - val_precision: 0.6667\n",
      "Epoch 2/50\n",
      "3/3 [==============================] - 0s 9ms/step - loss: 7.3094 - categorical_accuracy: 0.4405 - recall: 0.4405 - precision: 0.4405 - val_loss: 0.9391 - val_categorical_accuracy: 0.6190 - val_recall: 0.5238 - val_precision: 0.6111\n",
      "Epoch 3/50\n",
      "3/3 [==============================] - 0s 9ms/step - loss: 1.2397 - categorical_accuracy: 0.5238 - recall: 0.3690 - precision: 0.4627 - val_loss: 2.0352 - val_categorical_accuracy: 0.1905 - val_recall: 0.1905 - val_precision: 0.1905\n",
      "2/2 [==============================] - 0s 3ms/step - loss: 1.4292 - categorical_accuracy: 0.4222 - recall: 0.4222 - precision: 0.4222\n"
     ]
    }
   ],
   "source": [
    "from keras.callbacks import EarlyStopping\n",
    "\n",
    "model = Sequential(name=\"classification_mlp\")\n",
    "model.add(Dense(512, activation='relu', input_dim=4))\n",
    "model.add(Dense(3, activation='softmax'))\n",
    "\n",
    "model.compile(\n",
    "    optimizer=Adam(learning_rate=0.1),\n",
    "    loss=CategoricalCrossentropy(),\n",
    "    metrics=[CategoricalAccuracy(), Recall(), Precision()]\n",
    ")\n",
    "\n",
    "model.fit(\n",
    "    x=x_train, \n",
    "    y=y_train,\n",
    "    validation_split=0.2,\n",
    "    epochs=50,\n",
    "    callbacks=[EarlyStopping()]\n",
    ")\n",
    "loss, acc, rec, prec = model.evaluate(x_test, y_test)\n",
    "tf.keras.backend.clear_session()"
   ]
  },
  {
   "cell_type": "markdown",
   "metadata": {},
   "source": [
    "---\n",
    "\n",
    "Wahlpflichtach Künstliche Intelligenz II: Praktikum "
   ]
  }
 ],
 "metadata": {
  "kernelspec": {
   "display_name": "venv",
   "language": "python",
   "name": "python3"
  },
  "language_info": {
   "codemirror_mode": {
    "name": "ipython",
    "version": 3
   },
   "file_extension": ".py",
   "mimetype": "text/x-python",
   "name": "python",
   "nbconvert_exporter": "python",
   "pygments_lexer": "ipython3",
   "version": "3.11.6"
  }
 },
 "nbformat": 4,
 "nbformat_minor": 2
}
