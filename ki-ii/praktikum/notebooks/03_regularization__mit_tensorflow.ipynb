{
 "cells": [
  {
   "cell_type": "markdown",
   "metadata": {},
   "source": [
    "Wahlpflichtfach Künstliche Intelligenz II: Praktikum \n",
    "\n",
    "---"
   ]
  },
  {
   "cell_type": "markdown",
   "metadata": {},
   "source": [
    "# 03 - Regularization mit Tensorflow\n",
    "\n",
    "Nachdem wir uns den grundsätzlichen Aufbau eines neuronalen Netzes angesehen haben wollen wir uns ansehen, wie wir mittels Regularisierung das Lernen verbessern können."
   ]
  },
  {
   "cell_type": "code",
   "execution_count": null,
   "metadata": {},
   "outputs": [],
   "source": [
    "import tensorflow as tf"
   ]
  },
  {
   "cell_type": "code",
   "execution_count": null,
   "metadata": {},
   "outputs": [],
   "source": [
    "%matplotlib inline"
   ]
  },
  {
   "cell_type": "code",
   "execution_count": null,
   "metadata": {},
   "outputs": [],
   "source": [
    "print(tf.__version__)"
   ]
  },
  {
   "cell_type": "markdown",
   "metadata": {},
   "source": [
    "## Erstellen eines kleinen klassifikationsdaten"
   ]
  },
  {
   "cell_type": "code",
   "execution_count": null,
   "metadata": {},
   "outputs": [],
   "source": [
    "from sklearn import datasets\n",
    "from sklearn.model_selection import train_test_split\n",
    "from keras.utils import to_categorical\n",
    "\n",
    "iris = datasets.load_iris()\n",
    "y = to_categorical(iris.target)\n",
    "x = iris.data\n",
    "x_train, x_test, y_train, y_test = train_test_split(x, y, test_size=0.3, random_state=42)"
   ]
  },
  {
   "cell_type": "code",
   "execution_count": null,
   "metadata": {},
   "outputs": [],
   "source": [
    "from keras import Sequential\n",
    "from keras.layers import Dense\n",
    "from keras.optimizers import Adam\n",
    "from keras.losses import CategoricalCrossentropy\n",
    "from keras.metrics import CategoricalAccuracy, Recall, Precision\n",
    "\n",
    "model = Sequential(name=\"classification_mlp\")\n",
    "model.add(Dense(8, activation='relu', input_dim=4))\n",
    "model.add(Dense(3, activation='softmax'))\n",
    "\n",
    "model.compile(\n",
    "    optimizer=Adam(learning_rate=0.01),\n",
    "    loss=CategoricalCrossentropy(),\n",
    "    metrics=[CategoricalAccuracy(), Recall(), Precision()]\n",
    ")\n",
    "\n",
    "model.fit(\n",
    "    x=x_train, \n",
    "    y=y_train,\n",
    "    validation_split=0.2,\n",
    "    epochs=5,\n",
    ")\n",
    "loss, acc, rec, prec = model.evaluate(x_test, y_test)\n",
    "tf.keras.backend.clear_session()"
   ]
  },
  {
   "cell_type": "markdown",
   "metadata": {},
   "source": [
    "## Regularization\n",
    "\n",
    "Regularisierung wird verwendet, um Overfittig beim Trainieren eines Models entgegenzuwirken, sowie die Komplexität in einem neuronalen Netz zu reduzieren. Dabei können Early Stopping, Weight Constraining, Weight Penalizing und Droupout verwendet werden. Die letzten beiden davon können ebenso zur Reduktion der komplexität des Netzes verwendet werden.\n",
    "\n",
    "Methoden zur Regularisierung:\n",
    "* Early Stopping\n",
    "* Weight oriented:\n",
    "    * Weight Penalizing: L1 (Lasso), L2 (Ridge), L1L2 (ElasticNet)\n",
    "    * Weight Constraining: Unit Norm, Max Norm, Min-Max Norm\n",
    "* Network oriented:\n",
    "    * Network agnostic: Vanilla Dropout, Gaussian Dropout, Stand-out"
   ]
  },
  {
   "cell_type": "markdown",
   "metadata": {},
   "source": [
    "### Weight oriented\n",
    "Hierbei wird auf die Gewichte im Kernel oder Bias des jeweiligen Layers Einfluss genommen."
   ]
  },
  {
   "cell_type": "code",
   "execution_count": null,
   "metadata": {},
   "outputs": [],
   "source": [
    "from keras.regularizers import L1\n",
    "from keras.constraints import MaxNorm\n",
    "\n",
    "model = Sequential(name=\"classification_mlp\")\n",
    "model.add(Dense(512, activation='relu', input_dim=4, kernel_regularizer=L1(l1=0.01), kernel_constraint=MaxNorm(1.5)))\n",
    "model.add(Dense(3, activation='softmax'))\n",
    "\n",
    "model.compile(\n",
    "    optimizer=Adam(learning_rate=0.01),\n",
    "    loss=CategoricalCrossentropy(),\n",
    "    metrics=[CategoricalAccuracy(), Recall(), Precision()]\n",
    ")\n",
    "\n",
    "model.fit(\n",
    "    x=x_train, \n",
    "    y=y_train,\n",
    "    validation_split=0.2,\n",
    "    epochs=5,\n",
    ")\n",
    "loss, acc, rec, prec = model.evaluate(x_test, y_test)\n",
    "tf.keras.backend.clear_session()"
   ]
  },
  {
   "cell_type": "markdown",
   "metadata": {},
   "source": [
    "### Network oriented\n",
    "Hierbei wird auf die Architektur bzw. Verbindungen der bzw zwischen den Layers Einfluss genommen."
   ]
  },
  {
   "cell_type": "code",
   "execution_count": null,
   "metadata": {},
   "outputs": [],
   "source": [
    "from keras.layers import Dropout\n",
    "\n",
    "model = Sequential(name=\"classification_mlp\")\n",
    "model.add(Dense(512, activation='relu', input_dim=4))\n",
    "model.add(Dropout(0.2))\n",
    "model.add(Dense(3, activation='softmax'))\n",
    "\n",
    "model.compile(\n",
    "    optimizer=Adam(learning_rate=0.01),\n",
    "    loss=CategoricalCrossentropy(),\n",
    "    metrics=[CategoricalAccuracy(), Recall(), Precision()]\n",
    ")\n",
    "\n",
    "model.fit(\n",
    "    x=x_train, \n",
    "    y=y_train,\n",
    "    validation_split=0.2,\n",
    "    epochs=5,\n",
    ")\n",
    "loss, acc, rec, prec = model.evaluate(x_test, y_test)\n",
    "tf.keras.backend.clear_session()"
   ]
  },
  {
   "cell_type": "markdown",
   "metadata": {},
   "source": [
    "### Early Stopping\n",
    "Hierbei wird das Training gestoppt so bald keine Verbesserung auf den Validierungsdaten erzeugt wird."
   ]
  },
  {
   "cell_type": "code",
   "execution_count": null,
   "metadata": {},
   "outputs": [],
   "source": [
    "from keras.callbacks import EarlyStopping\n",
    "\n",
    "model = Sequential(name=\"classification_mlp\")\n",
    "model.add(Dense(512, activation='relu', input_dim=4))\n",
    "model.add(Dense(3, activation='softmax'))\n",
    "\n",
    "model.compile(\n",
    "    optimizer=Adam(learning_rate=0.1),\n",
    "    loss=CategoricalCrossentropy(),\n",
    "    metrics=[CategoricalAccuracy(), Recall(), Precision()]\n",
    ")\n",
    "\n",
    "model.fit(\n",
    "    x=x_train, \n",
    "    y=y_train,\n",
    "    validation_split=0.2,\n",
    "    epochs=50,\n",
    "    callbacks=[EarlyStopping()]\n",
    ")\n",
    "loss, acc, rec, prec = model.evaluate(x_test, y_test)\n",
    "tf.keras.backend.clear_session()"
   ]
  },
  {
   "cell_type": "markdown",
   "metadata": {},
   "source": [
    "---\n",
    "\n",
    "Wahlpflichtach Künstliche Intelligenz II: Praktikum "
   ]
  }
 ],
 "metadata": {
  "kernelspec": {
   "display_name": "venv",
   "language": "python",
   "name": "python3"
  },
  "language_info": {
   "codemirror_mode": {
    "name": "ipython",
    "version": 3
   },
   "file_extension": ".py",
   "mimetype": "text/x-python",
   "name": "python",
   "nbconvert_exporter": "python",
   "pygments_lexer": "ipython3",
   "version": "3.11.6"
  }
 },
 "nbformat": 4,
 "nbformat_minor": 2
}
