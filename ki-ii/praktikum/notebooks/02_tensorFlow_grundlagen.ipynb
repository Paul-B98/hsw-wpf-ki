{
 "cells": [
  {
   "cell_type": "markdown",
   "metadata": {
    "id": "70S1WgLXQF_T"
   },
   "source": [
    "Wahlpflichtfach Künstliche Intelligenz II: Praktikum \n",
    "\n",
    "---"
   ]
  },
  {
   "cell_type": "markdown",
   "metadata": {
    "id": "gQfKAoAMQxJD"
   },
   "source": [
    "# 12 - Tensoflow Grundlagen\n",
    "\n",
    "Nachdem wir uns gerade angeguckt haben, wie wir eigene Schichten erstellen und kombinieren, das neuronale Netz optimieren und den Trainingsfortschritt visualisieren, wollen wir uns jetzt mit den Built-In Funktionen von Tensorflow vertraut machen."
   ]
  },
  {
   "cell_type": "code",
   "execution_count": null,
   "metadata": {
    "colab": {
     "base_uri": "https://localhost:8080/"
    },
    "id": "rN1rFschL8LX",
    "outputId": "aeee2232-db98-4cfe-e458-99f6777dea63"
   },
   "outputs": [],
   "source": [
    "import datetime\n",
    "\n",
    "import numpy as np\n",
    "import tensorflow as tf\n",
    "import matplotlib.pyplot as plt"
   ]
  },
  {
   "cell_type": "code",
   "execution_count": null,
   "metadata": {},
   "outputs": [],
   "source": [
    "%matplotlib inline\n",
    "%load_ext tensorboard"
   ]
  },
  {
   "cell_type": "code",
   "execution_count": null,
   "metadata": {
    "colab": {
     "base_uri": "https://localhost:8080/"
    },
    "id": "6jAIrXS-L8La",
    "outputId": "cc446f15-caee-4f28-a65e-3025af47486b"
   },
   "outputs": [],
   "source": [
    "print(tf.__version__)"
   ]
  },
  {
   "cell_type": "markdown",
   "metadata": {
    "id": "ZbOC94xuL8Le"
   },
   "source": [
    "## Erstellen eines kleinen Regressions-Datensatz\n",
    "Zuerst erstell wir uns erneut einen Dummy-Regressions-Datensatz "
   ]
  },
  {
   "cell_type": "code",
   "execution_count": null,
   "metadata": {
    "colab": {
     "base_uri": "https://localhost:8080/",
     "height": 265
    },
    "id": "SjlkeGMRL8Le",
    "outputId": "871e8a59-8779-42ab-ab8b-5a9a1c32e919"
   },
   "outputs": [],
   "source": [
    "xs = np.linspace(-5,5, 20, dtype=np.float32)\n",
    "def f(x):\n",
    "    return 0.005*(-x**3+6*x**2+2*x)+0.3\n",
    "ys = f(xs)\n",
    "\n",
    "training_data_ids = np.random.choice(20,15, replace=False)\n",
    "test_data_ids = np.array([i if i not in training_data_ids else 99 for i in range(20)])\n",
    "test_data_ids = test_data_ids[test_data_ids < 21]\n",
    "training_data_xs = xs[training_data_ids]\n",
    "training_data_ys = ys[training_data_ids]\n",
    "test_data_xs = xs[test_data_ids]\n",
    "test_data_ys = ys[test_data_ids]\n",
    "\n",
    "plt.scatter(training_data_xs, training_data_ys, c='red')\n",
    "plt.scatter(test_data_xs, test_data_ys, c='blue')\n",
    "plt.legend((\"Training Data\",\"Test Data\"), loc='upper right')\n",
    "plt.xlim(-5,5)\n",
    "plt.ylim(0.2,1.7)\n",
    "plt.show()"
   ]
  },
  {
   "cell_type": "markdown",
   "metadata": {
    "id": "q9T3HQyKgZJU"
   },
   "source": [
    "Wir müssen nicht unbedingt `tf.data.Dataset`s erstellen. Aber wir müssen trotzdem die Shape der Arrays anpassen, so dass sie 2 Dimensionen haben. "
   ]
  },
  {
   "cell_type": "code",
   "execution_count": null,
   "metadata": {
    "id": "4kM3ey5saBUm"
   },
   "outputs": [],
   "source": [
    "x_train = np.expand_dims(training_data_xs, axis=1)\n",
    "x_test = np.expand_dims(test_data_xs, axis=1)\n",
    "y_train = np.expand_dims(training_data_ys, axis=1)\n",
    "y_test = np.expand_dims(test_data_ys, axis=1)"
   ]
  },
  {
   "cell_type": "markdown",
   "metadata": {
    "id": "yw0wt2r_g8QJ"
   },
   "source": [
    "## Erstellen des neuronalen Netzes\n",
    "In der nächsten Zelle erstellen wir das neuronale Netz. Dafür verwenden wir ein [sequentielles Modell](https://www.tensorflow.org/api_docs/python/tf/keras/Sequential?hl=en). Diese hilft dabei ein Modell aus einer Liste von Schichten zu erstellen und die Schichten zu trainieren. Als Schichten nehmen wir das [Dense](https://www.tensorflow.org/api_docs/python/tf/keras/layers/Dense?hl=en)-Layer."
   ]
  },
  {
   "cell_type": "code",
   "execution_count": null,
   "metadata": {
    "id": "ax--ukSSYbYb"
   },
   "outputs": [],
   "source": [
    "from keras import Sequential\n",
    "from keras.layers import Dense\n",
    "\n",
    "# clear the session\n",
    "tf.keras.backend.clear_session()\n",
    "\n",
    "# create the model\n",
    "model = Sequential([Dense(512, activation='relu'), Dense(1)])\n",
    "model.compile(optimizer='adam',\n",
    "              loss='mse',\n",
    "              metrics='mse')"
   ]
  },
  {
   "cell_type": "markdown",
   "metadata": {
    "id": "-pCahUSGh6g0"
   },
   "source": [
    "## Einrichten von TensorBoard\n",
    "Um die Visualisierung des Trainings zu automatisieren, kann [TensorBoard](https://www.tensorflow.org/tensorboard) verwendet werden. Dieses hilft dabei den Trainingsfortschritt zu visualisieren. Um TensorBoard im Training zu aktivieren müssen wir uns eine callback-Funktion erstellen ([Doku](https://www.tensorflow.org/api_docs/python/tf/keras/callbacks/TensorBoard?hl=en)). "
   ]
  },
  {
   "cell_type": "code",
   "execution_count": null,
   "metadata": {
    "id": "Wng0ydELZEQl"
   },
   "outputs": [],
   "source": [
    "log_dir = \"logs/fit/\" + datetime.datetime.now().strftime(\"%Y%m%d-%H%M%S\")\n",
    "tensorboard_callback = tf.keras.callbacks.TensorBoard(log_dir=log_dir, histogram_freq=1)"
   ]
  },
  {
   "cell_type": "markdown",
   "metadata": {
    "id": "Ei88FQEAl8W7"
   },
   "source": [
    "## Trainieren des neuronalen Netzes\n",
    "Für das Training müssen wir nicht unbedingt eine Trainingschleife schreiben. Stattdessen können wir auch die `fit()`-Methode des `Sequential`-Modells verwenden."
   ]
  },
  {
   "cell_type": "code",
   "execution_count": null,
   "metadata": {
    "colab": {
     "base_uri": "https://localhost:8080/"
    },
    "id": "mmS0Ec-gZZbc",
    "outputId": "5b0eecc0-5fd4-4bf6-f180-2a3328931331"
   },
   "outputs": [],
   "source": [
    "model.fit(x=x_train, \n",
    "          y=y_train,\n",
    "          batch_size=15,\n",
    "          epochs=1000, \n",
    "          validation_data=(x_test, y_test), \n",
    "          callbacks=[tensorboard_callback])"
   ]
  },
  {
   "cell_type": "markdown",
   "metadata": {
    "id": "5oRcKvpEmjw_"
   },
   "source": [
    "## TensorBoard\n",
    "Das TensorBoard kann ganz einfach innerhalb von Jupyter Notebook verwendet werden."
   ]
  },
  {
   "cell_type": "code",
   "execution_count": null,
   "metadata": {
    "colab": {
     "base_uri": "https://localhost:8080/",
     "height": 821
    },
    "id": "LJ6_uZZ4a828",
    "outputId": "9b7f3f00-c202-419d-f61c-98b555cecc77",
    "scrolled": true
   },
   "outputs": [],
   "source": [
    "%tensorboard --logdir logs"
   ]
  },
  {
   "cell_type": "markdown",
   "metadata": {
    "id": "2SwjOaCcFl5b"
   },
   "source": [
    "## Vorhersagen treffen\n",
    "Um für neue Daten eine Vorhersage zu treffen, kann die `predict()`-Methode des `Sequential`-Modells verwendet werden."
   ]
  },
  {
   "cell_type": "code",
   "execution_count": null,
   "metadata": {
    "colab": {
     "base_uri": "https://localhost:8080/",
     "height": 265
    },
    "id": "uQ28FDHQL8Lj",
    "outputId": "e490bb6b-b1bf-4782-f833-7d36d98a4ec7"
   },
   "outputs": [],
   "source": [
    "# Plot training and test data.\n",
    "plt.figure()\n",
    "plt.scatter(training_data_xs, training_data_ys, c='red')\n",
    "plt.scatter(test_data_xs, test_data_ys, c='blue')\n",
    "\n",
    "# Calculate the network's output for 100 xs.\n",
    "xs = np.linspace(-5,5,100, dtype=np.float32)\n",
    "xs = np.reshape(xs, newshape=(-1,1))\n",
    "ys = model.predict(xs)\n",
    "\n",
    "# Plot it.\n",
    "plt.plot(xs,ys)\n",
    "plt.xlim(-5,5)\n",
    "plt.ylim(0.2,1.7)\n",
    "plt.show()"
   ]
  },
  {
   "cell_type": "markdown",
   "metadata": {
    "id": "-tqnuWhXCeXP"
   },
   "source": [
    "---\n",
    "\n",
    "Wahlpflichtach Künstliche Intelligenz II: Praktikum "
   ]
  }
 ],
 "metadata": {
  "colab": {
   "collapsed_sections": [],
   "name": "12 - TensorFlow - Grundlagen.ipynb",
   "provenance": []
  },
  "kernelspec": {
   "display_name": "Python 3 (ipykernel)",
   "language": "python",
   "name": "python3"
  },
  "language_info": {
   "codemirror_mode": {
    "name": "ipython",
    "version": 3
   },
   "file_extension": ".py",
   "mimetype": "text/x-python",
   "name": "python",
   "nbconvert_exporter": "python",
   "pygments_lexer": "ipython3",
   "version": "3.11.4"
  }
 },
 "nbformat": 4,
 "nbformat_minor": 1
}
