{
 "cells": [
  {
   "cell_type": "markdown",
   "metadata": {},
   "source": [
    "Wahlpflichtfach Künstliche Intelligenz II: Praktikum \n",
    "\n",
    "---"
   ]
  },
  {
   "cell_type": "code",
   "execution_count": null,
   "metadata": {},
   "outputs": [],
   "source": [
    "%load_ext tensorboard"
   ]
  },
  {
   "cell_type": "markdown",
   "metadata": {},
   "source": [
    "# 01 - Computer Vision: Hands On\n",
    "\n"
   ]
  },
  {
   "cell_type": "markdown",
   "metadata": {},
   "source": [
    "Jetzt seid ihr an der Reihe. Im folgenden sollt ihr euch ein wenig mit TensorFlow vertraut machen. Dazu werden wir den MNIST-Datensatz verwenden. Dieser kann direkt über TensorFlow importiert werden. Weiter Informationen zum MNIST Datensatz findet ihr beispielsweise auf [Wikipedia](https://de.wikipedia.org/wiki/MNIST-Datenbank)."
   ]
  },
  {
   "cell_type": "code",
   "execution_count": null,
   "metadata": {},
   "outputs": [],
   "source": [
    "import matplotlib.pyplot as plt\n",
    "\n",
    "plt.imshow(x_train[0], cmap=plt.cm.binary)"
   ]
  },
  {
   "cell_type": "code",
   "execution_count": null,
   "metadata": {},
   "outputs": [],
   "source": [
    "from keras.datasets.mnist import load_data\n",
    "\n",
    "(x_train, y_train), (x_test, y_test) = load_data()"
   ]
  },
  {
   "cell_type": "markdown",
   "metadata": {},
   "source": [
    "Macht euch mit den Daten vertraut.\n",
    "- Wie viele Datenpunkte habt ihr im Trainings- und Testdatensatz?\n",
    "- Wie sind die Datenpunkte aufgebaut?\n",
    "- Was sind die Labels?\n",
    "- ..."
   ]
  },
  {
   "cell_type": "code",
   "execution_count": null,
   "metadata": {},
   "outputs": [],
   "source": [
    "import tensorflow as tf\n",
    "\n",
    "x_train, x_test = x_train / 255, x_test / 255\n",
    "y_train = tf.one_hot(y_train, 10)\n",
    "y_test = tf.one_hot(y_test, 10)"
   ]
  },
  {
   "cell_type": "markdown",
   "metadata": {},
   "source": [
    "## Erstellen des neuronalen Netzes\n",
    "In der nächsten Zelle könnt ihr euer neuronale Netz erstellen. Dafür sollt ihr ein ein [sequentielles Modell](https://www.tensorflow.org/api_docs/python/tf/keras/Sequential?hl=en) verwenden. Da der MNIST-Datensatz aus Bildern besteht, müsst ihr als erstes Layer ein [Flatten](https://www.tensorflow.org/api_docs/python/tf/keras/layers/Flatten?hl=en)-Layer verwenden. Für die weiteren Schichten könnt ihr dann wieder das [Dense](https://www.tensorflow.org/api_docs/python/tf/keras/layers/Dense?hl=en)-Layer verwenden.\n",
    "\n",
    "Außerdem müsst ihr euch für ein Optimizer, eine Verlusfunktion und eine Metrik entscheiden."
   ]
  },
  {
   "cell_type": "code",
   "execution_count": null,
   "metadata": {},
   "outputs": [],
   "source": [
    "from keras import Sequential\n",
    "from keras.layers import Flatten, Dense\n",
    "from keras.losses import CategoricalCrossentropy\n",
    "\n",
    "model = Sequential()\n",
    "\n",
    "\n",
    "model.compile(optimizer=\"adam\",\n",
    "              loss=CategoricalCrossentropy(),\n",
    "              metrics=\"accuracy\")"
   ]
  },
  {
   "cell_type": "markdown",
   "metadata": {},
   "source": [
    "## Einrichten von TensorBoard\n",
    "Richten Sie hier das TensorBoard ein."
   ]
  },
  {
   "cell_type": "code",
   "execution_count": null,
   "metadata": {},
   "outputs": [],
   "source": []
  },
  {
   "cell_type": "markdown",
   "metadata": {},
   "source": [
    "## Trainieren des neuronalen Netzes\n",
    "Trainieren Sie nun das neuronale Netz. "
   ]
  },
  {
   "cell_type": "code",
   "execution_count": null,
   "metadata": {},
   "outputs": [],
   "source": []
  },
  {
   "cell_type": "markdown",
   "metadata": {},
   "source": [
    "## Trainingsverlauf\n",
    "Starten Sie das TensorBoard und gucken Sie sich den Trainingsverlauf an."
   ]
  },
  {
   "cell_type": "code",
   "execution_count": null,
   "metadata": {},
   "outputs": [],
   "source": [
    "%tensorboard --logdir logs/fit"
   ]
  },
  {
   "cell_type": "markdown",
   "metadata": {},
   "source": [
    "## Verwenden des Modells\n",
    "Um mit dem Modell vorhersagen zu treffen, gibt es die `predict()`-Methode. Da unser Netzwerk ohne Softmax-Aktivierung im letzten Layer trainiert wurde, müssen wir hie die entsprechende Methode aufrufen, um eine Wahrscheinlichkeitsverteilung zu bekommen."
   ]
  },
  {
   "cell_type": "code",
   "execution_count": null,
   "metadata": {},
   "outputs": [],
   "source": []
  },
  {
   "cell_type": "markdown",
   "metadata": {},
   "source": [
    "---\n",
    "\n",
    "Wahlpflichtach Künstliche Intelligenz II: Praktikum "
   ]
  }
 ],
 "metadata": {
  "kernelspec": {
   "display_name": "venv",
   "language": "python",
   "name": "python3"
  },
  "language_info": {
   "codemirror_mode": {
    "name": "ipython",
    "version": 3
   },
   "file_extension": ".py",
   "mimetype": "text/x-python",
   "name": "python",
   "nbconvert_exporter": "python",
   "pygments_lexer": "ipython3",
   "version": "3.11.6"
  }
 },
 "nbformat": 4,
 "nbformat_minor": 2
}
