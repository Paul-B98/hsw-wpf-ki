{
 "cells": [
  {
   "cell_type": "markdown",
   "metadata": {},
   "source": [
    "Wahlpflichtfach Künstliche Intelligenz II: Praktikum \n",
    "\n",
    "---"
   ]
  },
  {
   "cell_type": "markdown",
   "metadata": {},
   "source": [
    "# 03 - Computer Vision: Convolutional Neural Networks (CNNs) Hands On\n",
    "\n"
   ]
  },
  {
   "cell_type": "markdown",
   "metadata": {},
   "source": [
    "Jetzt seid ihr an der Reihe. Im folgenden sollt ihr euch ein wenig mit TensorFlow vertraut machen. Dazu werden wir den MNIST-Datensatz verwenden. Dieser kann direkt über TensorFlow importiert werden. Weiter Informationen zum MNIST Datensatz findet ihr beispielsweise auf [Wikipedia](https://de.wikipedia.org/wiki/MNIST-Datenbank)."
   ]
  },
  {
   "cell_type": "code",
   "execution_count": null,
   "metadata": {},
   "outputs": [],
   "source": [
    "from keras.datasets.mnist import load_data\n",
    "\n",
    "(x_train, y_train), (x_test, y_test) = load_data()"
   ]
  },
  {
   "cell_type": "markdown",
   "metadata": {},
   "source": [
    "Macht euch mit den Daten vertraut.\n",
    "- Wie viele Datenpunkte habt ihr im Trainings- und Testdatensatz?\n",
    "- Wie sind die Datenpunkte aufgebaut?\n",
    "- Was sind die Labels?\n",
    "- ..."
   ]
  },
  {
   "cell_type": "code",
   "execution_count": null,
   "metadata": {},
   "outputs": [],
   "source": [
    "import matplotlib.pyplot as plt\n",
    "\n",
    "plt.imshow(x_train[0], cmap=plt.cm.binary)"
   ]
  },
  {
   "cell_type": "code",
   "execution_count": null,
   "metadata": {},
   "outputs": [],
   "source": [
    "import tensorflow as tf\n",
    "\n",
    "x_train, x_test = x_train / 255, x_test / 255\n",
    "y_train = tf.one_hot(y_train, 10)\n",
    "y_test = tf.one_hot(y_test, 10)"
   ]
  },
  {
   "cell_type": "markdown",
   "metadata": {},
   "source": [
    "## Erstellen des Convolutional Neural Networks\n",
    "Im Folgenden sollt ihr für den mnist Datensatz den ihr schon kennt euer erstes CNN erstelln. Dafür sollt ihr ein ein [sequentielles Modell](https://www.tensorflow.org/api_docs/python/tf/keras/Sequential?hl=en) verwenden. Zusätzlich benötigt ihr Pooling und Convoltional Layer über die ihr euch [hier](https://www.tensorflow.org/api_docs/python/tf/keras/layers) informieren könnt.\n",
    "\n",
    "Außerdem müsst ihr euch für ein Optimizer, eine Loss-Funktion und eine Metrik entscheiden."
   ]
  },
  {
   "cell_type": "code",
   "execution_count": null,
   "metadata": {},
   "outputs": [],
   "source": [
    "from keras import Sequential\n",
    "from keras.layers import Dense # Add Layer\n",
    "from keras.losses import CategoricalCrossentropy\n",
    "\n",
    "model = Sequential()\n",
    "# Add Layer\n",
    "\n",
    "model.compile(optimizer=\"adam\",\n",
    "              loss=CategoricalCrossentropy(),\n",
    "              metrics=\"accuracy\")"
   ]
  },
  {
   "cell_type": "markdown",
   "metadata": {},
   "source": [
    "## Einrichten von TensorBoard\n",
    "Richten Sie hier das TensorBoard ein."
   ]
  },
  {
   "cell_type": "code",
   "execution_count": null,
   "metadata": {},
   "outputs": [],
   "source": [
    "%load_ext tensorboard"
   ]
  },
  {
   "cell_type": "code",
   "execution_count": null,
   "metadata": {},
   "outputs": [],
   "source": []
  },
  {
   "cell_type": "markdown",
   "metadata": {},
   "source": [
    "## Trainieren des neuronalen Netzes\n",
    "Trainieren Sie nun das neuronale Netz. "
   ]
  },
  {
   "cell_type": "code",
   "execution_count": null,
   "metadata": {},
   "outputs": [],
   "source": []
  },
  {
   "cell_type": "markdown",
   "metadata": {},
   "source": [
    "## Trainingsverlauf\n",
    "Starten Sie das TensorBoard und gucken Sie sich den Trainingsverlauf an."
   ]
  },
  {
   "cell_type": "code",
   "execution_count": null,
   "metadata": {},
   "outputs": [],
   "source": [
    "%tensorboard --logdir logs/fit"
   ]
  },
  {
   "cell_type": "markdown",
   "metadata": {},
   "source": [
    "## Verwenden des Modells\n",
    "Um mit dem Modell vorhersagen zu treffen, gibt es die `predict()`-Methode. Da unser Netzwerk ohne Softmax-Aktivierung im letzten Layer trainiert wurde, müssen wir hie die entsprechende Methode aufrufen, um eine Wahrscheinlichkeitsverteilung zu bekommen."
   ]
  },
  {
   "cell_type": "code",
   "execution_count": null,
   "metadata": {},
   "outputs": [],
   "source": []
  },
  {
   "cell_type": "markdown",
   "metadata": {},
   "source": [
    "---\n",
    "\n",
    "Wahlpflichtach Künstliche Intelligenz II: Praktikum "
   ]
  }
 ],
 "metadata": {
  "language_info": {
   "name": "python"
  }
 },
 "nbformat": 4,
 "nbformat_minor": 2
}
