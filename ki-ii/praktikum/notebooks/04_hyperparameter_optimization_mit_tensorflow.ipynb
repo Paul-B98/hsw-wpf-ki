{
 "cells": [
  {
   "cell_type": "markdown",
   "metadata": {},
   "source": [
    "Wahlpflichtfach Künstliche Intelligenz II: Praktikum \n",
    "\n",
    "---"
   ]
  },
  {
   "cell_type": "markdown",
   "metadata": {},
   "source": [
    "# 04 - Hyperparameter Optimization mit Tensorflow\n",
    "\n",
    "Nachdem wir uns angeschaut haben, wie wir das Lernen verbessern können schauen wir uns nun an wie wir die Hyperparameter optimieren. "
   ]
  },
  {
   "cell_type": "code",
   "execution_count": null,
   "metadata": {},
   "outputs": [],
   "source": [
    "import tensorflow as tf"
   ]
  },
  {
   "cell_type": "code",
   "execution_count": 2,
   "metadata": {},
   "outputs": [],
   "source": [
    "%matplotlib inline"
   ]
  },
  {
   "cell_type": "code",
   "execution_count": null,
   "metadata": {},
   "outputs": [],
   "source": [
    "print(tf.__version__)"
   ]
  },
  {
   "cell_type": "markdown",
   "metadata": {},
   "source": [
    "## Erstellen eines kleinen klassifikationsdaten"
   ]
  },
  {
   "cell_type": "code",
   "execution_count": 4,
   "metadata": {},
   "outputs": [],
   "source": [
    "from sklearn import datasets\n",
    "from sklearn.model_selection import train_test_split\n",
    "from keras.utils import to_categorical\n",
    "\n",
    "iris = datasets.load_iris()\n",
    "y = to_categorical(iris.target)\n",
    "x = iris.data\n",
    "x_train, x_test, y_train, y_test = train_test_split(x, y, test_size=0.3, random_state=42)"
   ]
  },
  {
   "cell_type": "markdown",
   "metadata": {},
   "source": [
    "## Hyperparameter Optimization\n",
    "\n",
    "Hyperparameter sind all die Parameter, die ein ML-Algorithmus nicht selbst lernt. Beispiel hierfür sind die Anzahl der Layer und jeweiligen Neuronen pro Layer (Netz Struktur). Weitere Hyperparameter sind:\n",
    "* Optimizer oder Learning Rate\n",
    "* Loss Funktion\n",
    "* Anzahl der Epochen\n",
    "* Batch Größe\n",
    "* Regularization (Gewicht, Netz, Early Stopping)\n",
    "* Pro Layer\n",
    "  * Aktivierungsfunktion\n",
    "  * Anzahl an Neuronen\n",
    "  * Gewichtsinitialisierung\n",
    "* Anzahl an Layern und Struktur (z. B.: Funnel, Bricks)"
   ]
  },
  {
   "cell_type": "code",
   "execution_count": null,
   "metadata": {},
   "outputs": [],
   "source": [
    "from keras_tuner import HyperParameters, BayesianOptimization\n",
    "from keras.models import Sequential\n",
    "from keras.layers import Input, Dense, Dropout\n",
    "from keras.optimizers import Adam\n",
    "from keras.losses import CategoricalCrossentropy\n",
    "from keras.metrics import (\n",
    "    CategoricalAccuracy,\n",
    "    Recall,\n",
    "    Precision,\n",
    ")\n",
    "\n",
    "def build_model(hp: HyperParameters):\n",
    "    model = Sequential()\n",
    "    model.add(Input(shape=(4, )))\n",
    "\n",
    "    for i in range(hp.Int(\"num_layers\", min_value=1, max_value=5, step=1)):\n",
    "        model.add(Dense(\n",
    "            hp.Int(f'units_{i}', min_value=4, max_value=32, step=2),\n",
    "            activation=\"relu\"\n",
    "        ))\n",
    "\n",
    "        if hp.Boolean(f\"dropout_{i}\"):\n",
    "            model.add(Dropout(rate=hp.Float(f\"dropout_rate\", min_value=0.1, max_value=0.7,\n",
    "                                            step=0.1)))\n",
    "\n",
    "    model.add(Dense(3, activation=\"softmax\"))\n",
    "\n",
    "    model.compile(\n",
    "        optimizer=Adam(learning_rate=hp.Float(\"lr\", min_value=1e-4, max_value=5e-4, step=1e-4)),\n",
    "        loss=CategoricalCrossentropy(),\n",
    "        metrics=[\n",
    "            CategoricalAccuracy(),\n",
    "            Recall(),\n",
    "            Precision(),\n",
    "        ]\n",
    "    )\n",
    "\n",
    "    return model"
   ]
  },
  {
   "cell_type": "code",
   "execution_count": null,
   "metadata": {},
   "outputs": [],
   "source": [
    "from datetime import datetime\n",
    "from pathlib import Path\n",
    "from keras.callbacks import EarlyStopping\n",
    "\n",
    "root_dir = Path.cwd()\n",
    "\n",
    "tuner = BayesianOptimization(\n",
    "    hypermodel=build_model,\n",
    "    objective=\"val_categorical_accuracy\",\n",
    "    max_trials=10,\n",
    "    executions_per_trial=2,\n",
    "    directory=root_dir / \"logs\" / f\"bayesian_{datetime.now().strftime('%Y.%m.%d-%H:%M:%S')}\",\n",
    "    project_name=f\"bayesian_{datetime.now().strftime('%Y.%m.%d-%H:%M:%S')}_categorical_accuracy\"\n",
    ")\n",
    "\n",
    "tuner.search(\n",
    "    x_train, \n",
    "    y_train, \n",
    "    epochs=15, \n",
    "    validation_split=0.2,\n",
    "    callbacks=[EarlyStopping(patience=3)]\n",
    ")"
   ]
  },
  {
   "cell_type": "markdown",
   "metadata": {},
   "source": [
    "### Das beste Modell selektieren"
   ]
  },
  {
   "cell_type": "code",
   "execution_count": null,
   "metadata": {},
   "outputs": [],
   "source": [
    "best_model = tuner.get_best_models()[0]\n",
    "loss, acc, rec, prec = best_model.evaluate(x_test, y_test)"
   ]
  },
  {
   "cell_type": "markdown",
   "metadata": {},
   "source": [
    "---\n",
    "\n",
    "Wahlpflichtach Künstliche Intelligenz II: Praktikum "
   ]
  }
 ],
 "metadata": {
  "kernelspec": {
   "display_name": "venv",
   "language": "python",
   "name": "python3"
  },
  "language_info": {
   "codemirror_mode": {
    "name": "ipython",
    "version": 3
   },
   "file_extension": ".py",
   "mimetype": "text/x-python",
   "name": "python",
   "nbconvert_exporter": "python",
   "pygments_lexer": "ipython3",
   "version": "3.11.6"
  }
 },
 "nbformat": 4,
 "nbformat_minor": 2
}
