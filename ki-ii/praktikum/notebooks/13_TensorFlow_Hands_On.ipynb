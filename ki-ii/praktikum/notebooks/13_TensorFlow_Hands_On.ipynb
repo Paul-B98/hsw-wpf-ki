{
 "cells": [
  {
   "cell_type": "markdown",
   "metadata": {
    "id": "70S1WgLXQF_T"
   },
   "source": [
    "Wahlpflichtfach Künstliche Intelligenz II: Praktikum | [Startseite](index.ipynb) | [**<< 12 - TensorFlow - Grundlagen**](12%20-%20TensorFlow%20-%20Grundlagen.ipynb)\n",
    "\n",
    "---"
   ]
  },
  {
   "cell_type": "markdown",
   "metadata": {
    "id": "gQfKAoAMQxJD"
   },
   "source": [
    "# 13 - <img src=https://www.gstatic.com/devrel-devsite/prod/vf8bcd170103a60a9457e3a7682d3f70251c619395c6349d20b56cd2a80761a19/tensorflow/images/lockup.svg height=30 alt=\"Tensorflow\"> - Hands On"
   ]
  },
  {
   "cell_type": "code",
   "execution_count": 1,
   "metadata": {
    "id": "rN1rFschL8LX"
   },
   "outputs": [
    {
     "name": "stderr",
     "output_type": "stream",
     "text": [
      "2023-03-02 18:04:18.503131: I tensorflow/core/platform/cpu_feature_guard.cc:193] This TensorFlow binary is optimized with oneAPI Deep Neural Network Library (oneDNN) to use the following CPU instructions in performance-critical operations:  AVX2 FMA\n",
      "To enable them in other operations, rebuild TensorFlow with the appropriate compiler flags.\n",
      "2023-03-02 18:04:18.625237: W tensorflow/compiler/xla/stream_executor/platform/default/dso_loader.cc:64] Could not load dynamic library 'libcudart.so.11.0'; dlerror: libcudart.so.11.0: cannot open shared object file: No such file or directory\n",
      "2023-03-02 18:04:18.625258: I tensorflow/compiler/xla/stream_executor/cuda/cudart_stub.cc:29] Ignore above cudart dlerror if you do not have a GPU set up on your machine.\n",
      "2023-03-02 18:04:19.080441: W tensorflow/compiler/xla/stream_executor/platform/default/dso_loader.cc:64] Could not load dynamic library 'libnvinfer.so.7'; dlerror: libnvinfer.so.7: cannot open shared object file: No such file or directory\n",
      "2023-03-02 18:04:19.080483: W tensorflow/compiler/xla/stream_executor/platform/default/dso_loader.cc:64] Could not load dynamic library 'libnvinfer_plugin.so.7'; dlerror: libnvinfer_plugin.so.7: cannot open shared object file: No such file or directory\n",
      "2023-03-02 18:04:19.080488: W tensorflow/compiler/tf2tensorrt/utils/py_utils.cc:38] TF-TRT Warning: Cannot dlopen some TensorRT libraries. If you would like to use Nvidia GPU with TensorRT, please make sure the missing libraries mentioned above are installed properly.\n"
     ]
    }
   ],
   "source": [
    "import numpy as np\n",
    "import datetime\n",
    "\n",
    "# Load the TensorBoard notebook extension\n",
    "%load_ext tensorboard\n",
    "\n",
    "import tensorflow as tf\n",
    "import matplotlib.pyplot as plt\n",
    "# COMMENT OUT NEXT LINE FOR COLAB!\n",
    "# %matplotlib notebook"
   ]
  },
  {
   "cell_type": "code",
   "execution_count": 2,
   "metadata": {
    "colab": {
     "base_uri": "https://localhost:8080/"
    },
    "id": "6jAIrXS-L8La",
    "outputId": "5641d6f0-81f7-4088-d3a2-c6b720fcc6cf"
   },
   "outputs": [
    {
     "name": "stdout",
     "output_type": "stream",
     "text": [
      "2.11.0\n"
     ]
    }
   ],
   "source": [
    "print(tf.__version__)"
   ]
  },
  {
   "cell_type": "markdown",
   "metadata": {
    "id": "4OqaL491pSAT"
   },
   "source": [
    "Jetzt seid ihr an der Reihe. Im folgenden sollt ihr euch ein wenig mit TensorFlow vertraut machen. Dazu werden wir den MNIST-Datensatz verwenden. Dieser kann direkt über TensorFlow importiert werden. Weiter Informationen zum MNIST Datensatz findet ihr beispielsweise auf [Wikipedia](https://de.wikipedia.org/wiki/MNIST-Datenbank)."
   ]
  },
  {
   "cell_type": "code",
   "execution_count": 3,
   "metadata": {
    "id": "6hG74J-jpTLS"
   },
   "outputs": [
    {
     "name": "stdout",
     "output_type": "stream",
     "text": [
      "Downloading data from https://storage.googleapis.com/tensorflow/tf-keras-datasets/mnist.npz\n",
      "11490434/11490434 [==============================] - 1s 0us/step\n"
     ]
    }
   ],
   "source": [
    "(x_train, y_train), (x_test, y_test) = tf.keras.datasets.mnist.load_data()"
   ]
  },
  {
   "cell_type": "markdown",
   "metadata": {
    "id": "3A3xTum2qQu0"
   },
   "source": [
    "Macht euch mit den Daten vertraut.\n",
    "- Wie viele Datenpunkte habt ihr im Trainings- und Testdatensatz?\n",
    "- Wie sind die Datenpunkte aufgebaut?\n",
    "- Was sind die Labels?\n",
    "- ..."
   ]
  },
  {
   "cell_type": "code",
   "execution_count": null,
   "metadata": {
    "id": "9cH_Uo4up-pS"
   },
   "outputs": [],
   "source": []
  },
  {
   "cell_type": "markdown",
   "metadata": {
    "id": "yw0wt2r_g8QJ"
   },
   "source": [
    "## Erstellen des neuronalen Netzes\n",
    "In der nächsten Zelle könnt ihr euer neuronale Netz erstellen. Dafür sollt ihr ein ein [sequentielles Modell](https://www.tensorflow.org/api_docs/python/tf/keras/Sequential?hl=en) verwenden. Da der MNIST-Datensatz aus Bildern besteht, müsst ihr als erstes Layer ein [Flatten](https://www.tensorflow.org/api_docs/python/tf/keras/layers/Flatten?hl=en)-Layer verwenden. Für die weiteren Schichten könnt ihr dann wieder das [Dense](https://www.tensorflow.org/api_docs/python/tf/keras/layers/Dense?hl=en)-Layer verwenden.\n",
    "\n",
    "Außerdem müsst ihr euch für ein Optimizer, eine Verlusfunktion und eine Metrik entscheiden."
   ]
  },
  {
   "cell_type": "code",
   "execution_count": null,
   "metadata": {
    "id": "ax--ukSSYbYb"
   },
   "outputs": [],
   "source": []
  },
  {
   "cell_type": "markdown",
   "metadata": {
    "id": "-pCahUSGh6g0"
   },
   "source": [
    "## Einrichten von TensorBoard\n",
    "Richten Sie hier das TensorBoard ein."
   ]
  },
  {
   "cell_type": "code",
   "execution_count": null,
   "metadata": {
    "id": "Wng0ydELZEQl"
   },
   "outputs": [],
   "source": []
  },
  {
   "cell_type": "markdown",
   "metadata": {
    "id": "Ei88FQEAl8W7"
   },
   "source": [
    "## Trainieren des neuronalen Netzes\n",
    "Trainieren Sie nun das neuronale Netz. "
   ]
  },
  {
   "cell_type": "code",
   "execution_count": null,
   "metadata": {
    "colab": {
     "base_uri": "https://localhost:8080/"
    },
    "id": "mmS0Ec-gZZbc",
    "outputId": "6ea4bdc6-cc38-4ba1-f31b-924ec57b2b4b"
   },
   "outputs": [],
   "source": []
  },
  {
   "cell_type": "markdown",
   "metadata": {
    "id": "5oRcKvpEmjw_"
   },
   "source": [
    "## Trainingsverlauf\n",
    "Starten Sie das TensorBoard und gucken Sie sich den Trainingsverlauf an."
   ]
  },
  {
   "cell_type": "code",
   "execution_count": 4,
   "metadata": {
    "id": "LJ6_uZZ4a828"
   },
   "outputs": [
    {
     "data": {
      "text/plain": [
       "Reusing TensorBoard on port 6006 (pid 67643), started 0:03:48 ago. (Use '!kill 67643' to kill it.)"
      ]
     },
     "metadata": {},
     "output_type": "display_data"
    },
    {
     "data": {
      "text/html": [
       "\n",
       "      <iframe id=\"tensorboard-frame-ce79231b3f23ee8f\" width=\"100%\" height=\"800\" frameborder=\"0\">\n",
       "      </iframe>\n",
       "      <script>\n",
       "        (function() {\n",
       "          const frame = document.getElementById(\"tensorboard-frame-ce79231b3f23ee8f\");\n",
       "          const url = new URL(\"/\", window.location);\n",
       "          const port = 6006;\n",
       "          if (port) {\n",
       "            url.port = port;\n",
       "          }\n",
       "          frame.src = url;\n",
       "        })();\n",
       "      </script>\n",
       "    "
      ],
      "text/plain": [
       "<IPython.core.display.HTML object>"
      ]
     },
     "metadata": {},
     "output_type": "display_data"
    }
   ],
   "source": [
    "%tensorboard --logdir logs/fit"
   ]
  },
  {
   "cell_type": "markdown",
   "metadata": {
    "id": "6HhdDfDR85Av"
   },
   "source": [
    "## Weitere Schritte\n",
    "Nachdem Sie jetzt das erste Trainig durchlaufen haben, können Sie jetzt versuchen das Netz weiter zu optimieren. Dazu können sie z.B. die folgenden Dinge probieren:\n",
    "- Mehr oder weniger Schichten \n",
    "- Mehr oder weniger Neuronen pro Schicht\n",
    "- Andere Aktivierungsfunktionen verwenden\n",
    "- Andere Verlustfunktion verwenden\n",
    "- Initialisierung der Parameter ändern\n",
    "- Vorverarbeitung des Inputs\n",
    "- Mehr oder weniger Epochen\n",
    "- Kleinere oder größere Batches\n",
    "- ...\n",
    "\n",
    "Lesen Sie dazu in der [Dokumentation](https://www.tensorflow.org/versions) nach wie einzelne Sachen funktionieren oder gucken Sie sich [Tutorials](https://www.tensorflow.org/learn) an"
   ]
  },
  {
   "cell_type": "markdown",
   "metadata": {
    "id": "-tqnuWhXCeXP"
   },
   "source": [
    "---\n",
    "\n",
    "Wahlpflichtach Künstliche Intelligenz II: Praktikum | [Startseite](index.ipynb) | [**>> t.b.d.**]()"
   ]
  }
 ],
 "metadata": {
  "colab": {
   "collapsed_sections": [],
   "name": "13- TensorFlow - Hands On.ipynb",
   "provenance": []
  },
  "kernelspec": {
   "display_name": "Python 3 (ipykernel)",
   "language": "python",
   "name": "python3"
  },
  "language_info": {
   "codemirror_mode": {
    "name": "ipython",
    "version": 3
   },
   "file_extension": ".py",
   "mimetype": "text/x-python",
   "name": "python",
   "nbconvert_exporter": "python",
   "pygments_lexer": "ipython3",
   "version": "3.10.8"
  }
 },
 "nbformat": 4,
 "nbformat_minor": 1
}
