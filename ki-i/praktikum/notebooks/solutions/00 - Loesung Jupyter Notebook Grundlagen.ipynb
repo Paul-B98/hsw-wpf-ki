{
 "cells": [
  {
   "cell_type": "markdown",
   "metadata": {},
   "source": [
    "Wahlpflichtfach Künstliche Intelligenz II: Praktikum | [Startseite](index.ipynb)\n",
    "\n",
    "---"
   ]
  },
  {
   "cell_type": "markdown",
   "metadata": {},
   "source": [
    "# 00 - Übungsaufgaben Jupyter Notebook Grundlagen"
   ]
  },
  {
   "cell_type": "markdown",
   "metadata": {},
   "source": [
    "Dies ist das Übungsblatt zum Notebook [**00 - Jupyter Notebook Grundlagen**](00%20-%20Jupyter%20Notebook%20Grundlagen.ipynb)."
   ]
  },
  {
   "cell_type": "markdown",
   "metadata": {},
   "source": [
    "## Übungsblatt Aufbau\n",
    "\n",
    "DIe Übungsblätter für das Praktikum sind immer gleich aufgebaut. Pro Übungsblatt gibt es mehrere (Teil-)Aufgaben. Eine (Teil-)Aufgabe besitzt jeweils immer die folgenden Zellen:\n",
    "\n",
    "1. Aufgabentitel und -beschreibung, bei Teilaufgaben mit a)-d) gekennzeichnet (Markdown-Zelle)\n",
    "2. Antwort/Lösung auf die Aufgabe in Python-Code (Code-Zelle)\n",
    "3. Test-/Evaluations-Zelle zur Überprüfung der Lösung (Code-Zelle)\n",
    "\n",
    "Die Aufgabenbeschreibung (Punkt 1) sollte selbsterkärend sein. Wenn Sie hierzu fragen haben, melden Sie sich direkt bei mir. Die Code-Zelle für ihre programmierte Antwort/Lösung beinhaltet immer den folgenden Abschnitt:\n",
    "\n",
    "```python\n",
    "### BEGIN SOLUTION\n",
    "# IHRE LÖSUNG HIER\n",
    "### END SOLUTION\n",
    "```\n",
    "\n",
    "Hier **entfernen** sie den den Platzhalter-Code\n",
    "\n",
    " ```python\n",
    " # IHRE LÖSUNG HIER\n",
    " ```\n",
    "\n",
    " und schreibe stattdessen den Code zur Lösung der Aufgabe dorthin. Der Code kann auch über mehrere Zeilen gehen. Meistens muss einer enstprechenden Variable ein Wert zugewiesen werden.\n",
    " \n",
    "Auf die Lösung jeder Aufgabe folgt eine Test-Zelle wie die folgende, mit der Sie Ihre Lösung überprüfen können. Führen Sie einfach diese Zelle aus. Sie sollte aussagekräftige Fehlermeldungen ausgeben, wenn Ihre Lösung (noch) nicht korrekt ist. Wenn Ihre Lösung korrekt ist, gibt es eine zugehörige Meldung! \n",
    "\n",
    "Als Beispiel hier eine Aufgabe ohne Teilaufgaben:"
   ]
  },
  {
   "cell_type": "markdown",
   "metadata": {},
   "source": [
    "## Aufgabe 1 - Beispielaufgabe\n",
    "\n",
    "Legen Sie die Variable `hello` an, die den String `\"Hello World!\"` beinhaltet!"
   ]
  },
  {
   "cell_type": "code",
   "execution_count": 1,
   "metadata": {},
   "outputs": [],
   "source": [
    "### BEGIN SOLUTION\n",
    "hello = \"Hello World!\"\n",
    "### END SOLUTION"
   ]
  },
  {
   "cell_type": "code",
   "execution_count": 2,
   "metadata": {},
   "outputs": [
    {
     "name": "stdout",
     "output_type": "stream",
     "text": [
      "👍 Sehr gut!\n"
     ]
    }
   ],
   "source": [
    "from nose.tools import assert_equal\n",
    "try:\n",
    "    hello\n",
    "except NameError:\n",
    "    raise NameError(\"Es gibt keine Variable 'y'. Weise den Wert einer Variablen mit diesem Namen zu.\")\n",
    "assert_equal(hello, \"Hello World!\", \"Die Variable hat nicht den richtigen Wert. Überprüfe Sie Ihre Zuweisung.\")\n",
    "print(\"👍 Sehr gut!\")"
   ]
  },
  {
   "cell_type": "markdown",
   "metadata": {},
   "source": [
    "Eine Aufgabe mit Teilaufgaben sieht so aus:"
   ]
  },
  {
   "cell_type": "markdown",
   "metadata": {},
   "source": [
    "## Aufgabe 2 - Beispielaufgabe"
   ]
  },
  {
   "cell_type": "markdown",
   "metadata": {},
   "source": [
    "a) Legen Sie die Variable `name` an, die den String `\"Mein Name ist Philipp!\"` beinhaltet!"
   ]
  },
  {
   "cell_type": "code",
   "execution_count": 3,
   "metadata": {},
   "outputs": [],
   "source": [
    "### BEGIN SOLUTION\n",
    "name = \"Mein Name ist Philipp!\"\n",
    "### END SOLUTION"
   ]
  },
  {
   "cell_type": "code",
   "execution_count": 4,
   "metadata": {},
   "outputs": [
    {
     "name": "stdout",
     "output_type": "stream",
     "text": [
      "Hallo Philipp!\n"
     ]
    }
   ],
   "source": [
    "from nose.tools import assert_equal\n",
    "try:\n",
    "    name\n",
    "except NameError:\n",
    "    raise NameError(\"Es gibt keine Variable 'name'. Weise den Wert einer Variablen mit diesem Namen zu.\")\n",
    "assert_equal(name, \"Mein Name ist Philipp!\", \"Die Variable hat nicht den richtigen Wert. Überprüfe Sie Ihre Zuweisung.\")\n",
    "print(\"Hallo Philipp!\")"
   ]
  },
  {
   "cell_type": "markdown",
   "metadata": {},
   "source": [
    "b) Ändern Sie die Variable `name` so, dass sie den String `\"Mein Name ist nicht Philipp!\"` beinhaltet:"
   ]
  },
  {
   "cell_type": "code",
   "execution_count": 5,
   "metadata": {},
   "outputs": [],
   "source": [
    "### BEGIN SOLUTION\n",
    "name = \"Mein Name ist nicht Philipp!\"\n",
    "### END SOLUTION"
   ]
  },
  {
   "cell_type": "code",
   "execution_count": 6,
   "metadata": {},
   "outputs": [
    {
     "name": "stdout",
     "output_type": "stream",
     "text": [
      "Ah! Wie heißen Sie dann?\n"
     ]
    }
   ],
   "source": [
    "from nose.tools import assert_equal\n",
    "try:\n",
    "    name\n",
    "except NameError:\n",
    "    raise NameError(\"Es gibt keine Variable 'name'. Weise den Wert einer Variablen mit diesem Namen zu.\")\n",
    "assert_equal(name, \"Mein Name ist nicht Philipp!\", \"Die Variable hat nicht den richtigen Wert. Überprüfe Sie Ihre Zuweisung.\")\n",
    "print(\"Ah! Wie heißen Sie dann?\")"
   ]
  },
  {
   "cell_type": "markdown",
   "metadata": {},
   "source": [
    "Wenn sich irgendwelche Fragen bei der Bearbeitung der Übungsblätter im Praktikum ergeben, können Sie sich jederzeit bei mir melden!"
   ]
  },
  {
   "cell_type": "markdown",
   "metadata": {},
   "source": [
    "---\n",
    "\n",
    "Wahlpflichtfach Künstliche Intelligenz I: Praktikum | [Startseite](index.ipynb) | [**>> 01 - Übungsaufgaben Python Grundlagen**](01%20-%20Uebungsaufgaben%20Python%20Grundlagen.ipynb)"
   ]
  }
 ],
 "metadata": {
  "kernelspec": {
   "display_name": "Python 3 (ipykernel)",
   "language": "python",
   "name": "python3"
  },
  "language_info": {
   "codemirror_mode": {
    "name": "ipython",
    "version": 3
   },
   "file_extension": ".py",
   "mimetype": "text/x-python",
   "name": "python",
   "nbconvert_exporter": "python",
   "pygments_lexer": "ipython3",
   "version": "3.10.6"
  }
 },
 "nbformat": 4,
 "nbformat_minor": 2
}
