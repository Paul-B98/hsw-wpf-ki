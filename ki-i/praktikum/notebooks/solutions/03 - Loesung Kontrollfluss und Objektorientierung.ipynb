{
 "cells": [
  {
   "cell_type": "markdown",
   "metadata": {},
   "source": [
    "Wahlpflichtfach Künstliche Intelligenz II: Praktikum | [Startseite](index.ipynb) | [**<< 02 - Übungsaufgabe Grundlegende Datenstrukturen**](02%20-%20Uebungsaufgaben%20Grundlegende%20Datenstrukturen.ipynb)\n",
    "\n",
    "---"
   ]
  },
  {
   "cell_type": "markdown",
   "metadata": {},
   "source": [
    "# 03 - Übungsaufgaben Kontrollfluss und Objektorientierung"
   ]
  },
  {
   "cell_type": "markdown",
   "metadata": {},
   "source": [
    "Dies ist das Übungsblatt zum Notebook [**03 - Kontrollfluss und Objektorientierung**](03%20-%20Kontrollfluss%20und%20Objektorientierung.ipynb)."
   ]
  },
  {
   "cell_type": "markdown",
   "metadata": {},
   "source": [
    "## Aufgabe 1 - Raumtemperatur\n",
    "\n",
    "Schreibe eine `if`-Abfrage, die die Temperatur `T` mit der Raumtemperatur `T_Raum` vergleicht und mit `print` ausgibt, ob die Temperatur zu warm, zu kalt oder genau bei Raumtemperatur ist. Setze zudem den Boolean-Wert der Variable `heating` auf `True`, wenn die Temperatur unter der Raumtemperatur liegt, und andernfalls auf `False`. Du kannst dies entweder explizit in die `if`-Abfrage integrieren oder separat durch einen Boolean-Ausdruck setzen. Gib je nach dem Wert von `heating` mit `print` aus, ob geheizt wird oder nicht.\n",
    "\n",
    "Probieren Sie ihr kleines Programm aus, indem Sie den Wert von `T` verändern."
   ]
  },
  {
   "cell_type": "code",
   "execution_count": 1,
   "metadata": {},
   "outputs": [],
   "source": [
    "T = 20\n",
    "T_Raum = 21\n",
    "heating = False\n",
    "### BEGIN SOLUTION\n",
    "# IHRE LÖSUNG HIER\n",
    "### END SOLUTION"
   ]
  },
  {
   "cell_type": "code",
   "execution_count": 2,
   "metadata": {},
   "outputs": [
    {
     "name": "stdout",
     "output_type": "stream",
     "text": [
      "zu kalt!\n",
      "Es wird geheizt.\n"
     ]
    }
   ],
   "source": [
    "### BEGIN SOLUTION\n",
    "if T == T_Raum:\n",
    "    print(\"Temperatur bei Raumtemperatur.\")\n",
    "elif T < T_Raum:\n",
    "    print(\"zu kalt!\")\n",
    "elif T > T_Raum:\n",
    "    print(\"zu warm!\")\n",
    "heating = T < T_Raum\n",
    "if heating:\n",
    "    print(\"Es wird geheizt.\")\n",
    "else:\n",
    "    print(\"Heizung ist aus.\")\n",
    "### END SOLUTION"
   ]
  },
  {
   "cell_type": "code",
   "execution_count": 3,
   "metadata": {},
   "outputs": [
    {
     "name": "stdout",
     "output_type": "stream",
     "text": [
      "👏 Easy.\n"
     ]
    }
   ],
   "source": [
    "from nose.tools import assert_equal\n",
    "assert_equal(heating, T < T_Raum, \"Der Wert von `heating` passt nicht. Setze den Wert nur dann auf `True`, wenn `T < T_R` ist.\")\n",
    "print(\"👏 Easy.\")"
   ]
  },
  {
   "cell_type": "markdown",
   "metadata": {},
   "source": [
    "## Aufgabe 2 - Primzahlen\n",
    "\n",
    "Schreibe ein Programm, das alle Primzahlen kleiner `50` bestimmt. Füge sie der Liste `primes` hinzu.\n",
    "\n",
    "**Hinweis:** Der `%`-Operator gibt den Rest der Division zweier Integer zurück.\n",
    "\n",
    "**Möglicher Ansatz:** Versuch's mal mit einer Boolean-Variable `is_prime` für jede der Zahlen bis `50`, die zunächst `True` ist und dann in einer zweiten `for`-Schleife ggfs. auf `False` gesetzt wird.\n",
    "\n",
    "**Erinnerung:** Mit der `append` Methode können wir Elemente einer Liste hinzufügen."
   ]
  },
  {
   "cell_type": "code",
   "execution_count": 5,
   "metadata": {},
   "outputs": [],
   "source": [
    "### BEGIN SOLUTION\n",
    "# IHRE LÖSUNG HIER\n",
    "### END SOLUTION"
   ]
  },
  {
   "cell_type": "code",
   "execution_count": 6,
   "metadata": {},
   "outputs": [
    {
     "data": {
      "text/plain": [
       "[0, 1, 2, 3, 5, 7, 11, 13, 17, 19, 23, 29, 31, 37, 41, 43, 47]"
      ]
     },
     "execution_count": 6,
     "metadata": {},
     "output_type": "execute_result"
    }
   ],
   "source": [
    "### BEGIN SOLUTION\n",
    "primes = []\n",
    "for n in range(50):\n",
    "    is_prime = True\n",
    "    for m in range(2, n):\n",
    "        if n % m == 0:\n",
    "            is_prime = False\n",
    "            break\n",
    "    if is_prime:\n",
    "        primes.append(n)\n",
    "### END SOLUTION\n",
    "primes"
   ]
  },
  {
   "cell_type": "code",
   "execution_count": 7,
   "metadata": {},
   "outputs": [
    {
     "name": "stdout",
     "output_type": "stream",
     "text": [
      "Sehr gut! 🎉🎉🎉\n"
     ]
    }
   ],
   "source": [
    "from nose.tools import assert_equal\n",
    "trimmed_primes = primes\n",
    "for x in [ 0, 1 ]:\n",
    "    try:\n",
    "        trimmed_primes.remove(x)\n",
    "    except ValueError:\n",
    "        pass\n",
    "assert_equal([2, 3, 5, 7, 11, 13, 17, 19, 23, 29, 31, 37, 41, 43, 47], trimmed_primes, \"Die Liste von Primzahlen sollte bei 0, 1 oder 2 beginnen und die Primzahlen bis inkl. 47 enthalten\")\n",
    "print(\"Sehr gut! 🎉🎉🎉\")"
   ]
  },
  {
   "cell_type": "markdown",
   "metadata": {},
   "source": [
    "## Aufgabe 3 - Fibonacci\n",
    "\n",
    "Verwende eine `while`-Schleife um die Zahlen der Fibonacci-Reihe bis 100 der Liste `fib_numbers` hinzuzufügen. Die ersten zwei Zahlen sind `0` und `1` und jede weitere Zahl ist die Summe der beiden vorherigen.\n",
    "\n",
    "**Erinnerung:** Auf das letzte Element einer Reihe können wir mit dem Subskript `l[-1]` zugreifen. Das vorletzte Element ist dann entsprechend `l[-2]`."
   ]
  },
  {
   "cell_type": "code",
   "execution_count": 8,
   "metadata": {},
   "outputs": [],
   "source": [
    "### BEGIN SOLUTION\n",
    "# IHRE LÖSUNG HIER\n",
    "### END SOLUTION"
   ]
  },
  {
   "cell_type": "code",
   "execution_count": 9,
   "metadata": {},
   "outputs": [
    {
     "data": {
      "text/plain": [
       "[0, 1, 1, 2, 3, 5, 8, 13, 21, 34, 55, 89]"
      ]
     },
     "execution_count": 9,
     "metadata": {},
     "output_type": "execute_result"
    }
   ],
   "source": [
    "### BEGIN SOLUTION\n",
    "fib_numbers = [ 0, 1 ]\n",
    "while fib_numbers[-1] + fib_numbers[-2] < 100:\n",
    "    fib_numbers.append(fib_numbers[-1] + fib_numbers[-2])\n",
    "### END SOLUTION\n",
    "fib_numbers"
   ]
  },
  {
   "cell_type": "code",
   "execution_count": 10,
   "metadata": {},
   "outputs": [
    {
     "name": "stdout",
     "output_type": "stream",
     "text": [
      "👌 Richtig!\n"
     ]
    }
   ],
   "source": [
    "from nose.tools import assert_equal\n",
    "assert_equal([0, 1, 1, 2, 3, 5, 8, 13, 21, 34, 55, 89], fib_numbers, \"Die Liste sollte mit [ 0, 1, 1, 2, ...] beginnen und die Fibonacci-Zahlen bis einschließlich 89 enthalten.\")\n",
    "print(\"👌 Richtig!\")"
   ]
  },
  {
   "cell_type": "markdown",
   "metadata": {},
   "source": [
    "## Aufgabe 3 - Mehr Primzahlen\n",
    "\n",
    "Definiere eine Funktion mit dem Namen `is_prime`, die eine Zahl annimmt und `True` zurückgibt wenn die Zahl eine Primzahl ist, bzw. `False` wenn nicht.\n",
    "\n",
    "Kopiere dazu deinen Code um Primzahlen zu finden von zuvor und verändere ihn entsprechend."
   ]
  },
  {
   "cell_type": "code",
   "execution_count": 11,
   "metadata": {},
   "outputs": [],
   "source": [
    "### BEGIN SOLUTION\n",
    "# IHRE LÖSUNG HIER\n",
    "### END SOLUTION"
   ]
  },
  {
   "cell_type": "code",
   "execution_count": 12,
   "metadata": {},
   "outputs": [],
   "source": [
    "### BEGIN SOLUTION\n",
    "def is_prime(n):\n",
    "    for m in range(2, n):\n",
    "        if n % m == 0:\n",
    "            return False\n",
    "    return True\n",
    "### END SOLUTION"
   ]
  },
  {
   "cell_type": "code",
   "execution_count": 13,
   "metadata": {},
   "outputs": [
    {
     "name": "stdout",
     "output_type": "stream",
     "text": [
      "Klappt.\n"
     ]
    }
   ],
   "source": [
    "from nose.tools import assert_true, assert_false\n",
    "try:\n",
    "    is_prime\n",
    "except NameError:\n",
    "    raise NameError(\"Es gibt keine Funktion mit dem Namen 'is_prime'. Stelle sicher, dass deine Funktion so benannt ist.\")\n",
    "assert_true(is_prime(47), \"Die Zahl 47 sollte eine Primzahl sein. Prüfe den Code deiner Funktion.\")\n",
    "assert_false(is_prime(48), \"Die Zahl 48 sollte _keine_ Primzahl sein. Prüfe den Code deiner Funktion.\")\n",
    "print(\"Klappt.\")"
   ]
  },
  {
   "cell_type": "markdown",
   "metadata": {},
   "source": [
    "## Aufgabe 4 - Fakultät\n",
    "\n",
    "Schreibe eine Funktion mit dem Namen `factorial`, die eine Zahl annimmt und die Fakultät `n! = n*(n-1)*...*3*2*1` dieser Zahl zurückgibt.\n",
    "\n",
    "**Hinweis:** Du kannst zunächst versuchen, die Aufgabe mit einer Schleife zu lösen. Funktionen können sich jedoch auch selbst aufrufen (sog. _rekursive_ Funktionen). Versuche eine Funktion zu schreiben, die _keine Schleife_ verwendet!"
   ]
  },
  {
   "cell_type": "code",
   "execution_count": 14,
   "metadata": {},
   "outputs": [],
   "source": [
    "### BEGIN SOLUTION\n",
    "# IHRE LÖSUNG HIER\n",
    "### END SOLUTION"
   ]
  },
  {
   "cell_type": "code",
   "execution_count": 15,
   "metadata": {},
   "outputs": [],
   "source": [
    "### BEGIN SOLUTION\n",
    "def factorial(n):\n",
    "    if n==1:\n",
    "        return n\n",
    "    return n * factorial(n-1)\n",
    "### END SOLUTION"
   ]
  },
  {
   "cell_type": "code",
   "execution_count": 16,
   "metadata": {},
   "outputs": [
    {
     "name": "stdout",
     "output_type": "stream",
     "text": [
      "🙌 Funktioniert!\n"
     ]
    }
   ],
   "source": [
    "from nose.tools import assert_equal\n",
    "try:\n",
    "    factorial\n",
    "except NameError:\n",
    "    raise NameError(\"Es gibt keine Funktion mit dem Namen 'factorial'. Stelle sicher, dass deine Funktion so benannt ist.\")\n",
    "assert_equal(factorial(1), 1, \"1! sollte 1 ergeben. Prüfe den Code deiner Funktion.\")\n",
    "assert_equal(factorial(2), 2, \"2! sollte 2 ergeben. Prüfe den Code deiner Funktion.\")\n",
    "assert_equal(factorial(5), 120, \"5! sollte 120 ergeben. Prüfe den Code deiner Funktion.\")\n",
    "print(\"🙌 Funktioniert!\")"
   ]
  },
  {
   "cell_type": "markdown",
   "metadata": {},
   "source": [
    "## Aufgabe 5 - Schreiben von Lambda-Funktionen"
   ]
  },
  {
   "cell_type": "markdown",
   "metadata": {},
   "source": [
    "a) Schreiben Sie eine Lambda-Funktion flatten, die eine zweidimensionale Liste annimmt und die reduzierte Liste zurückgibt - ein Aufruf wie `flatten([[1,2],[3,4]]) == [1,2,3,4]` sollte also True zurückgeben."
   ]
  },
  {
   "cell_type": "code",
   "execution_count": null,
   "metadata": {},
   "outputs": [],
   "source": [
    "not_flattened = [[1,2,3],[3,4,5],[6,7,8]]\n",
    "### BEGIN SOLUTION\n",
    "# IHRE LÖSUNG HIER\n",
    "### END SOLUTION\n",
    "flatten(not_flattened)"
   ]
  },
  {
   "cell_type": "code",
   "execution_count": 18,
   "metadata": {},
   "outputs": [
    {
     "data": {
      "text/plain": [
       "[1, 2, 3, 3, 4, 5, 6, 7, 8]"
      ]
     },
     "execution_count": 18,
     "metadata": {},
     "output_type": "execute_result"
    }
   ],
   "source": [
    "ot_flattened = [[1,2,3],[3,4,5],[6,7,8]]\n",
    "### BEGIN SOLUTION\n",
    "flatten = lambda l: [item for sublist in l for item in sublist] \n",
    "### END SOLUTION\n",
    "flatten(not_flattened)"
   ]
  },
  {
   "cell_type": "code",
   "execution_count": 19,
   "metadata": {},
   "outputs": [
    {
     "name": "stdout",
     "output_type": "stream",
     "text": [
      "Sehr gut, Sie können Listen mit dieser Funkion platt machen!\n"
     ]
    }
   ],
   "source": [
    "LAMBDA = lambda: 0\n",
    "assert isinstance(flatten, type(LAMBDA)) and flatten.__name__ == LAMBDA.__name__, \"Ihre flatten-Funktion muss eine Lambda-Funktion sein!\"\n",
    "not_flattened = [[1,2,3],[3,4,5],[6,7,8]]\n",
    "assert flatten(not_flattened) == [1,2,3,3,4,5,6,7,8], \"Ihre flatten-Funktion liefert noch nicht das gewünschte Ergebnis!\"\n",
    "print(\"Sehr gut, Sie können Listen mit dieser Funkion platt machen!\")"
   ]
  },
  {
   "cell_type": "markdown",
   "metadata": {},
   "source": [
    "b) Schreiben Sie eine weitere Lambda-Funktion `get_keys`, die eine Liste von Dictionaries annimmt und die (eindeutige) Vereinigung aller Schlüssel aller Dictionaries in dieser Liste zurückgibt. Ein Aufruf wie `get_keys([{\"a\": 1, \"b\": 2}, {\"c\": 3}])` sollte also `[\"a\", \"b\", \"c\"]` zurückgeben."
   ]
  },
  {
   "cell_type": "code",
   "execution_count": null,
   "metadata": {},
   "outputs": [],
   "source": [
    "list_of_dicts = [{\"age\": 31, \"gender\": \"female\"}, {\"name\": \"john\"}, {\"lastname\": \"doe\", \"gender\": \"male\"}]\n",
    "### BEGIN SOLUTION\n",
    "# IHRE LÖSUNG HIER\n",
    "### END SOLUTION\n",
    "get_keys(list_of_dicts)"
   ]
  },
  {
   "cell_type": "code",
   "execution_count": 20,
   "metadata": {},
   "outputs": [
    {
     "data": {
      "text/plain": [
       "['age', 'name', 'gender', 'lastname']"
      ]
     },
     "execution_count": 20,
     "metadata": {},
     "output_type": "execute_result"
    }
   ],
   "source": [
    "list_of_dicts = [{\"age\": 31, \"gender\": \"female\"}, {\"name\": \"john\"}, {\"lastname\": \"doe\", \"gender\": \"male\"}]\n",
    "### BEGIN SOLUTION\n",
    "get_keys = lambda list_of_dicts : list(set(flatten([list(i) for i in list_of_dicts])))\n",
    "### END SOLUTION\n",
    "get_keys(list_of_dicts)"
   ]
  },
  {
   "cell_type": "code",
   "execution_count": 21,
   "metadata": {},
   "outputs": [
    {
     "name": "stdout",
     "output_type": "stream",
     "text": [
      "Sehr gut, mit dieser Funkion erhalten Sie die Keys aus einer Liste von Dictionaries!\n"
     ]
    }
   ],
   "source": [
    "LAMBDA = lambda: 0\n",
    "assert isinstance(get_keys, type(LAMBDA)) and get_keys.__name__ == LAMBDA.__name__, \"Your get_keys-function must be a lambda-function!\"\n",
    "list_of_dicts = [{\"age\": 31, \"gender\": \"female\"}, {\"name\": \"john\"}, {\"lastname\": \"doe\", \"gender\": \"male\"}]\n",
    "assert sorted(get_keys(list_of_dicts)) == [\"age\", \"gender\", \"lastname\", \"name\"]\n",
    "print(\"Sehr gut, mit dieser Funkion erhalten Sie die Keys aus einer Liste von Dictionaries!\")"
   ]
  },
  {
   "cell_type": "markdown",
   "metadata": {},
   "source": [
    "## Aufgabe 6 - Die Zeichen des Großen Gatsbys\n",
    "\n",
    "Zählen der Anzahl der Zeichen einer Datei! Die Datei gatsby.txt enthält den gesamten Roman \"Der große Gatsby\" (auf Englisch). Ihre Aufgabe ist es, eine Funktion `return_most_frequent_characters` zu schreiben, die als Argumente einen Dateinamen und den Parameter `num_chars` (Standardwert 5) annimmt und eine formatierte Zeichenkette zurückgibt, die angibt, welche Buchstaben wie oft vorkommen. Sie sollen nur Buchstaben des Alphabets zählen, und Sie müssen die Zählungen für Groß- und Kleinschreibung zusammenführen. Ihre Methode soll eine Zeichenkette zurückgeben, die wie folgt aussieht: Die 5 häufigsten Zeichen sind x mit 99 Vorkommnissen, q mit 99 Vorkommnissen. Das häufigste Zeichen wird zuerst ausgegeben wird. Sie dürfen in dieser Aufgabe keine zusätzlichen Bibliotheken verwenden.\n",
    "\n",
    "Hinweis: Wenn Sie die Aufgabe so lösen, wie ich es getan habe, benötigen Sie List-Con comprehensions, setzen auf EAFP, und benötigen weiterhin Diktat-Con comprehensions und Format-Strings. Da das Test-Skript für diese Aufgabe recht kurz und unverbunden ist, können Sie auch eigene Test-Methoden schreiben (stellen Sie nur sicher, dass Sie diese vor Aufgabe 4 löschen -- der Befehl git checkout kann dafür hilfreich sein)."
   ]
  },
  {
   "cell_type": "code",
   "execution_count": null,
   "metadata": {},
   "outputs": [],
   "source": [
    "### BEGIN SOLUTION\n",
    "# IHRE LÖSUNG HIER\n",
    "### END SOLUTION\n",
    "return_most_frequent_characters(\"data/03/gatsby.txt\")"
   ]
  },
  {
   "cell_type": "code",
   "execution_count": 26,
   "metadata": {},
   "outputs": [
    {
     "data": {
      "text/plain": [
       "'The 5 most frequent characters are e with 25133 occurences, t with 18785 occurences, a with 17163 occurences, o with 15870 occurences, n with 14226 occurences.'"
      ]
     },
     "execution_count": 26,
     "metadata": {},
     "output_type": "execute_result"
    }
   ],
   "source": [
    "### BEGIN SOLUTION\n",
    "def return_most_frequent_characters(file,num_chars=5):\n",
    "    fh = open(file, 'r')\n",
    "    lines = fh.readlines()\n",
    "    dict_chars = {}\n",
    "    \n",
    "    for l in lines:\n",
    "        input_str = l.lower()\n",
    "        new_string = \"\".join(input_str.split())\n",
    "        character = \"\"\n",
    "    \n",
    "        for i in range(0, len(new_string)):\n",
    "            character = new_string[i]\n",
    "                    \n",
    "            if character in dict_chars:\n",
    "                dict_chars[character] += 1\n",
    "            else:\n",
    "                dict_chars[character] = 1\n",
    "    \n",
    "    best_diction = sorted(dict_chars, key=dict_chars.get,reverse=True)[:num_chars]\n",
    "    returnString = f\"The {num_chars} most frequent characters are \"\n",
    "    for i in range(len(best_diction)):\n",
    "        if i == len(best_diction)-1:\n",
    "            returnString += f\"{best_diction[i]} with {dict_chars[best_diction[i]]} occurences.\"\n",
    "        else:\n",
    "            returnString += f\"{best_diction[i]} with {dict_chars[best_diction[i]]} occurences, \"\n",
    "    return returnString\n",
    "### END SOLUTION\n",
    "return_most_frequent_characters(\"../data/03/gatsby.txt\")"
   ]
  },
  {
   "cell_type": "code",
   "execution_count": 28,
   "metadata": {},
   "outputs": [
    {
     "name": "stdout",
     "output_type": "stream",
     "text": [
      "Wow, die einzelnen Zeichen kommen so häufig vor!\n"
     ]
    }
   ],
   "source": [
    "assert return_most_frequent_characters(\"../data/03/gatsby.txt\") == \"The 5 most frequent characters are e with 25133 occurences, t with 18785 occurences, a with 17163 occurences, o with 15870 occurences, n with 14226 occurences.\" or \"The 5 most frequent characters are e with 25133 occurrences, t with 18785 occurrences, a with 17163 occurrences, o with 15870 occurrences, n with 14226 occurrences.\", \"Your function doesn't return what it should...\"\n",
    "print(\"Wow, die einzelnen Zeichen kommen so häufig vor!\")"
   ]
  },
  {
   "cell_type": "markdown",
   "metadata": {},
   "source": [
    "## Aufgabe 7 - Die Zeichen des Großen Gatsbys\n",
    "\n",
    "Ihre Aufgabe ist es, eine Matrix-Klasse zu schreiben, die eine mathematische 2D-Matrix simuliert und mit der grundlegende Matrix-Operationen durchgeführt werden können. Der Name Ihrer Matrix-Klasse soll `Matrix` sein. Ihre Klasse muss alle unten genannten Anwendungsfälle erfüllen, und außer dem `copy`-Modul dürfen Sie keine weiteren Bibliotheken verwenden!\n",
    "\n",
    "Die Matrix sollte nur numerische Daten (ints und floats) enthalten. Um das zu überprüfen, können Sie zunächst einfach eine `assert`-Anweisung verwenden. Außerdem müssen Sie beim Aufbau der Matrix darauf achten, dass alle Zeilen gleich lang sind, auch das können Sie mit einer Assertion erreichen. Da wir noch nicht zu den Exceptions gekommen sind, müssen Sie außer den hier genannten keine weiteren Fehlerszenarien behandeln.\n",
    "\n",
    "**Hinweise:** Sie werden eine magische Methode benötigen, die in der Klasse nicht erwähnt wurde, nämlich `__rmul__()`. Informieren Sie sich im Internet über deren Verwendung. Außerdem sollten Sie `__getitem__()` und `__setitem__()` nachschlagen\n",
    "\n",
    "**Anwendungsfälle:**\n",
    "\n",
    "1. **Erstellung:** \n",
    "\n",
    "Generell gibt es zwei sinnvolle Möglichkeiten, wie man eine neue Matrix erstellen kann. Entweder haben Sie bereits die kompletten Daten, oder Sie wollen einen einzelnen Wert verwenden, um eine Matrix für eine bestimmte Form zu erstellen. Für die erste Art, eine Matrix zu erstellen, sollte der folgende Code wie erwartet funktionieren:\n",
    "\n",
    "```python\n",
    "# create a matrix with data being [[1, 2], [3, 4]]\n",
    "a = Matrix([[1, 2], [3, 4]])\n",
    "```\n",
    "\n",
    "Spezielle Erstellungsprozeduren wie die zweite werden in der Regel mit statischen Funktionen innerhalb der Klasse realisiert - um das zu realisieren, sollte der zweite Weg, eine Matrix zu erstellen, etwa so aussehen:\n",
    "\n",
    "```python\n",
    "# create a matrix filled with zeros with 2 rows and 3 columns\n",
    "b = Matrix.filled(rows=2, cols=3, value=0)\n",
    "# this should have the values: #[[0, 0, 0], [0, 0, 0]]\n",
    "```\n",
    "\n",
    "2. **Printing:** \n",
    "\n",
    "Stellen Sie sicher, dass Ihre Matrix mit schöner Formatierung für Debugging und dergleichen mit Python's eingebauter Druckfunktion gedruckt werden kann, wie:\n",
    "\n",
    "```python\n",
    "a = matrix.Matrix([[1, 2, 3], [4, 5, 6], [1, 2, 9]])\n",
    "print(a)\n",
    "#The result should look like this:\n",
    "#[[1, 2, 3],\n",
    "# [4, 5, 6],\n",
    "# [1, 2, 9]]\n",
    "```\n",
    "\n",
    "3. **Daten auslesen:**\n",
    "\n",
    "Es sollte eine Möglichkeit geben, alle in der Matrix gespeicherten Daten im Format verschachtelter Listen zu erhalten. Stellen Sie sicher, dass die internen Daten auf diese Weise nicht verändert werden können! Dazu gehört, dass sichergestellt wird, dass dadurch nur eine Kopie der internen Daten entsteht.\n",
    "\n",
    "```python\n",
    "a = Matrix([[1, 2], [3, 4]])\n",
    "print(a.data == [[1, 2], [3, 4]])\n",
    "# should return true\n",
    "#\n",
    "# this must not work:\n",
    "a.data = [[0, 0], [0, 0]]\n",
    "#\n",
    "# also careful with copying!\n",
    "internal = a.data\n",
    "internal[0][0] = 42\n",
    "print(a.data == [[1, 2], [3, 4]])\n",
    "# should still be true\n",
    "```\n",
    "\n",
    "4. **Zugriff und Änderung von Werten:**\n",
    "\n",
    "Normalerweise werden die eckigen Klammern `[]` verwendet, um auf Werte in Containern zuzugreifen und diese zu ändern. Ihre Matrix sollte das auch unterstützen. Auf eine 2D-Liste kann z. B. mit `mylist[0][0]` zugegriffen werden. Für die Matrix ist das Folgende noch schöner:\n",
    "\n",
    "```python\n",
    "a = Matrix([[1, 2], [3, 4]])\n",
    "print(a[0, 0])\n",
    "# should print \"1\"\n",
    "#\n",
    "print(a[1, 0])\n",
    "# should print \"3\"\n",
    "#\n",
    "# modify\n",
    "a[0, 1] = 42\n",
    "print(a.data == [[1, 42], [3, 4]])\n",
    "# should be true\n",
    "```\n",
    "\n",
    "5. **Matrix-Transponierung:**\n",
    "\n",
    "Ihre Matrix-Klasse sollte eine Eigenschaft Matrix.T haben, die die Transponierung der Matrix zurückgibt, während die ursprüngliche Matrix unangetastet bleibt. Das Erzeugen der Transponierung kann mit einer einzigen Zeile Code erfolgen, und zwar mit einem Befehl, den wir im Unterricht hatten.\n",
    "\n",
    "```python\n",
    "a = Matrix([[1, 2], [3, 4]])\n",
    "b = a.T\n",
    "#\n",
    "print(isinstance(b, Matrix))\n",
    "print(b.data == [[1, 3], [2, 4]])\n",
    "# should both be true\n",
    "#\n",
    "# again make sure that you copy the data\n",
    "a[0, 0] = 42\n",
    "print(b.data == [[1, 3], [2, 4]])\n",
    "# should still be true\n",
    "```\n",
    "\n",
    "6. **Matrix-Addition:**\n",
    "\n",
    "Die Addition zweier Matrizen mit gleicher Form sollte das richtige Ergebnis liefern. Beachten Sie, dass Sie für diese Aufgabe einfach davon ausgehen können, dass beide Matrizen identische Abmessungen haben.\n",
    "\n",
    "```python\n",
    "a = Matrix([[1, 2], [3, 4]])\n",
    "b = Matrix.filled(2, 2, 1)\n",
    "c = a + b\n",
    "#\n",
    "print(isinstance(c, Matrix))\n",
    "print(c.data == [[2, 3], [4, 5]])\n",
    "# should both be true\n",
    "```\n",
    "\n",
    "7. **Skalarmultiplikation:** \n",
    "\n",
    "Implementieren Sie eine skalare Multiplikation, die mit Ints und Floats funktioniert. Es genügt, wenn Sie nur Fälle betrachten, in denen die Matrix der zweite Faktor ist:\n",
    "\n",
    "```python\n",
    "a = Matrix([[1, 2], [3, 4]])\n",
    "b = 2 * a\n",
    "#\n",
    "print(isinstance(b, Matrix))\n",
    "print(b.data == [[2, 4], [6, 8]])\n",
    "# should be true\n",
    "```\n",
    "\n",
    "8. **Matrix-Multiplikation:**\n",
    "\n",
    "Implementieren Sie eine Matrixmultiplikation, die für Matrizen mit der richtigen Form funktioniert (ohne Fehlerbehandlung, wenn sie es nicht sind, und ohne Fehlerbehandlung, wenn die seonc überhaupt eine Matrix ist). Wenn Sie unsicher sind, wie die Matrix-Multiplikation funktioniert, bietet das Internet eine große Hilfe ;)\n",
    "\n",
    "```python\n",
    "a = Matrix([[1, 2]])\n",
    "b = Matrix([[3], [4]])\n",
    "# multiply, different orders\n",
    "c = a * b\n",
    "d = b * a\n",
    "# expected results:\n",
    "print(isinstance(c, Matrix)) # true\n",
    "print(isinstance(d, Matrix)) # true\n",
    "print(c.data == [[11]]) # true\n",
    "print(d.data == [[3, 6], [4, 8]]) # true\n",
    "```"
   ]
  },
  {
   "cell_type": "code",
   "execution_count": null,
   "metadata": {},
   "outputs": [],
   "source": [
    "### BEGIN SOLUTION\n",
    "# IHRE LÖSUNG HIER\n",
    "### END SOLUTION"
   ]
  },
  {
   "cell_type": "code",
   "execution_count": 29,
   "metadata": {},
   "outputs": [],
   "source": [
    "### BEGIN SOLUTION\n",
    "import copy\n",
    "\n",
    "class Matrix:\n",
    "    def __init__(self,matrix):\n",
    "        row_length = 0\n",
    "        for i in range(len(matrix)):\n",
    "            if row_length != 0:\n",
    "                assert row_length == len(matrix[i]),'The matrix is not well shaped!'\n",
    "            else:\n",
    "                row_length = len(matrix[i])\n",
    "            for j in range(len(matrix[i])):\n",
    "                assert type(matrix[i][j]) == type(1) or type(matrix[i][j]) == type(1.0),'Only integer or float values are allowed!'\n",
    "        self.matrix = matrix\n",
    "        self.length = len(matrix)\n",
    "    \n",
    "    def __str__(self):\n",
    "        return_String = \"[\"\n",
    "        for i in range(len(self)-1):\n",
    "            return_String += str(self[i]) + \",\\n \"\n",
    "        return_String += str(self[i+1])\n",
    "        return_String = return_String + \"]\"\n",
    "        return return_String\n",
    "    \n",
    "    def __len__(self):\n",
    "        return self.length\n",
    "    \n",
    "    def __getitem__(self,index):\n",
    "        if type(index) != int:\n",
    "            x = index[0]\n",
    "            y = index[1]\n",
    "            return self.matrix[x][y]\n",
    "        else:\n",
    "            return self.matrix[index]\n",
    "\n",
    "    def __setitem__(self,index,value):\n",
    "        if type(index) != int:\n",
    "            x = index[0]\n",
    "            y = index[1]\n",
    "            self.matrix[x][y] = value\n",
    "        else:\n",
    "            self.matrix[index] = value\n",
    "            \n",
    "    def  __add__(*self):\n",
    "        added_matrix = Matrix.filled(len(self[0]),len(self[0][0]),0)\n",
    "        for i in self:\n",
    "            for x in range(len(i)):\n",
    "                for y in range(len(i[x])):\n",
    "                    added_matrix[x][y] += i[x][y]\n",
    "        return Matrix(added_matrix)\n",
    "    \n",
    "    def __rmul__(self,integer):\n",
    "        multiplied_matrix = copy.deepcopy(self)\n",
    "        for x in range(len(self)):\n",
    "                for y in range(len(self[x])):\n",
    "                    multiplied_matrix[x][y] *= integer\n",
    "        return Matrix(multiplied_matrix)\n",
    "    \n",
    "    def __mul__(self,other):\n",
    "        multiplied_matrix = Matrix.filled(len(self),len(other[0]),0)\n",
    "        for i in range(len(self)):\n",
    "            for j in range(len(other[0])):\n",
    "                for k in range(len(other)):\n",
    "                    multiplied_matrix[i][j] += self[i][k] * other[k][j]\n",
    "        return Matrix(multiplied_matrix)\n",
    "        \n",
    "        \n",
    "    def filled(rows,cols,value):\n",
    "        filled_Matrix = []\n",
    "        sub_Matrix = []\n",
    "        for i in range(rows):\n",
    "            sub_Matrix = []\n",
    "            for j in range(cols):\n",
    "                sub_Matrix.append(value)\n",
    "            filled_Matrix.append(sub_Matrix)\n",
    "        return Matrix(filled_Matrix)\n",
    "    \n",
    "    @property\n",
    "    def data(self):\n",
    "        return list(copy.deepcopy(self))\n",
    "    \n",
    "    @property\n",
    "    def T(self):\n",
    "        transposed_list = list(zip(*self))\n",
    "        for i in range(len(transposed_list)):\n",
    "            transposed_list[i] = list(transposed_list[i])\n",
    "        return Matrix(transposed_list)\n",
    "### END SOLUTION"
   ]
  },
  {
   "cell_type": "code",
   "execution_count": 31,
   "metadata": {},
   "outputs": [],
   "source": [
    "import pytest\n",
    "import numpy as np\n",
    "import random\n",
    "\n",
    "def test_assertions_for_creation_with_constructor():\n",
    "    with pytest.raises(AssertionError):\n",
    "        Matrix([[1, 2, 3], [1, 2], [1, 2, 3]]) #Your class is supposed to assert that the Matrix is not ill-shaped!\n",
    "\n",
    "    with pytest.raises(AssertionError):\n",
    "        Matrix([[1, 2, 3], [1, 2, 'platypus'], [1, 2, 3]]) #Your class is supposed to assert that it can only be constructed with ints or floats\n",
    "\n",
    "    Matrix([[1, 2, 3], [1, 2, 3], [1, 2, 3]])\n",
    "\n",
    "\n",
    "def test_creation_and_string_generation():\n",
    "    a = Matrix([[1, 2, 3], [4, 5, 6], [1, 2, 9]])\n",
    "    assert str(a) == \"[[1, 2, 3],\\n [4, 5, 6],\\n [1, 2, 9]]\", \"The string-representation of Your Matrix must correspond precisely to what the task said!\"\n",
    "    b = Matrix.filled(rows=2, cols=4, value=4)\n",
    "    assert str(b) == \"[[4, 4, 4, 4],\\n [4, 4, 4, 4]]\", \"Creating your Matrix with the static filled()-method did not work!\"\n",
    "\n",
    "\n",
    "\n",
    "def generate_random_2dlist(forced_rows=False, forced_cols=False):\n",
    "    num_rows = random.randint(1, 10) if not forced_rows else forced_rows\n",
    "    num_cols = random.randint(1, 10) if not forced_cols else forced_cols\n",
    "    the_data = []\n",
    "    for i in range(num_rows):\n",
    "        the_row = []\n",
    "        for j in range(num_cols):\n",
    "            the_row.append(random.randint(-999, 999))\n",
    "        the_data.append(the_row)\n",
    "    return the_data, num_rows, num_cols\n",
    "\n",
    "\n",
    "def test_data_method_returns_a_copy():\n",
    "    #trying a few possibilities...:\n",
    "    for _ in range(20):\n",
    "        the_data = generate_random_2dlist()[0]\n",
    "        a = Matrix(the_data)\n",
    "        assert a.data == the_data, \"Your data needs a data-property, that returns a list of lists, looking exactly like the one used to create it!\"\n",
    "    #testing if its actually a copy...\n",
    "    a = Matrix([[1, 2, 3], [4, 5, 6], [1, 2, 9]])\n",
    "    assert a.data == [[1, 2, 3], [4, 5, 6], [1, 2, 9]], \"Your data needs a data-property, that returns a list of lists, looking exactly like the one used to create it!\"\n",
    "\n",
    "    with pytest.raises(AttributeError):\n",
    "        a.data = [[1, 2, 3], [1, 2, 3]] #This should raise an AttributeError, because you aren't allowed to set the data!\n",
    "\n",
    "    internal = a.data\n",
    "    internal[0][0] = 42\n",
    "    assert a.data == [[1, 2, 3], [4, 5, 6], [1, 2, 9]], \"When you copy the internal data and change the copy, the original data is supposed to stay equal!\"\n",
    "\n",
    "\n",
    "def test_getters_and_setters():\n",
    "    a = Matrix([[-1, -2], [-3, -4]])\n",
    "    # this is the same as assert a[0,0] == -1, only the error will be more informative\n",
    "    assert a.__getitem__([0, 0]) == -1, \"Your setter-method (indexing with comma-separated values in square brackets) didn't return the value it should!\"\n",
    "\n",
    "    a[0, 0] = 42\n",
    "    assert a[0, 0] == 42, \"Your setter-method (indexing with comma-separated values in square brackets) didn't correctly set the value!\"\n",
    "    assert a.data[0][0] == 42, \"Your setter-method (indexing with comma-separated values in square brackets) didn't correctly set the value!\"\n",
    "\n",
    "    for _ in range(20):\n",
    "        the_data, nrows, ncols = generate_random_2dlist()\n",
    "        a = Matrix(the_data)\n",
    "        row = random.randint(0, nrows-1)\n",
    "        col = random.randint(0, ncols-1)\n",
    "        # this is the same as assert a[row, col] == a.data[row][col], only the error will be more informative\n",
    "        assert a.__getitem__([row, col]) == a.data[row][col], \"Your getter-method (indexing with comma-separated values in square brackets) didn't return the value it should!\"\n",
    "\n",
    "        random_val = random.randint(-99, 99)\n",
    "        a[row, col] = random_val\n",
    "        assert a[row, col] == random_val, \"Your setter-method (indexing with comma-separated values in square brackets) didn't correctly set the value!\"\n",
    "        assert a.data[row][col] == random_val, \"Your setter-method (indexing with comma-separated values in square brackets) didn't correctly set the value!\"\n",
    "\n",
    "\n",
    "def test_matrix_transpose():\n",
    "    a = Matrix([[-1, -2], [-3, -4]])\n",
    "    b = a.T\n",
    "    assert isinstance(b, Matrix), \"Your transposed Matrix is supposed to be a matrix as well!\"\n",
    "    assert b.data == [[-1, -3], [-2, -4]], \"You transposed your Matrix wrongly!\"\n",
    "    assert str(b) == \"[[-1, -3],\\n [-2, -4]]\", \"You transposed your Matrix wrongly!\"\n",
    "    assert str(a) == \"[[-1, -2],\\n [-3, -4]]\", \"You changed the original Matrix when transposing!\"\n",
    "    a[0, 0] = 42\n",
    "    b[1, 1] = 1337\n",
    "    assert a.data == [[42, -2], [-3, -4]], \"Changing the transposed Matrix changed the original one!\"\n",
    "    assert b.data == [[-1, -3], [-2, 1337]], \"Changing the original Matrix changed the transposed one!\"\n",
    "\n",
    "\n",
    "def test_matrix_addition():\n",
    "    a = Matrix([[-1, -2], [-3, -4]])\n",
    "    b = Matrix.filled(rows=2, cols=2, value=4)\n",
    "    c = a + b\n",
    "    assert isinstance(c, Matrix), \"The result of the addition must be a Matrix as well!\"\n",
    "    assert c.data == [[3, 2],[1, 0]], \"The result of your addition is not correct!\"\n",
    "\n",
    "    a2 = Matrix([[-1, -2], [-3, -4]])\n",
    "    b2 = Matrix([[-1, -2], [-3, -4]])\n",
    "    assert (a+b).data == [[3, 2],[1, 0]], \"The result of your addition is not correct!\"\n",
    "\n",
    "\n",
    "def test_scalar_multiplication():\n",
    "    a = Matrix.filled(rows=2, cols=2, value=4)\n",
    "    b = 5 * a\n",
    "    assert isinstance(b, Matrix), \"The product must be a Matrix as well!\"\n",
    "    assert b.data == [[20, 20], [20, 20]], \"The product is not correct!\"\n",
    "\n",
    "    a2 = Matrix([[-1, -2], [-3, -4]])\n",
    "    c2 = 3.1415 * a2\n",
    "    assert c2.data == [[-3.1415, -6.283], [-9.4245, -12.566]], \"The product is not correct!\"\n",
    "\n",
    "\n",
    "def test_matrix_multiplication():\n",
    "    a = Matrix([[-1, 4, -2]])\n",
    "    b = Matrix([[1], [2], [3]])\n",
    "    c = a * b\n",
    "    d = b * a\n",
    "    assert isinstance(c, Matrix), \"The product must be a Matrix as well!\"\n",
    "    assert c.data == [[1]], \"The product is not correct!\"\n",
    "    assert d.data == [[-1, 4, -2], [-2, 8, -4], [-3, 12, -6]], \"The product is not correct!\"\n",
    "\n",
    "\n",
    "def test_matrix_multiplication_with_numpy_comparision():\n",
    "    for _ in range(20):\n",
    "        #this will create a matrix, a second one with the same number of rows, and a third one with the same number of cols\n",
    "        firstlist = generate_random_2dlist()\n",
    "        firstmatrix = firstlist[0]\n",
    "        secondmatrix = generate_random_2dlist(forced_cols=firstlist[1])[0]\n",
    "        thirdmatrix = generate_random_2dlist(forced_rows=firstlist[2])[0]\n",
    "\n",
    "        #in numpy, matrix multiplicaiton is numpy.dot(matrix1, matrix2). This should correspond to your solution.\n",
    "        numpy_first = np.dot(np.array(secondmatrix), np.array(firstmatrix))\n",
    "        own_first = Matrix(secondmatrix)*Matrix(firstmatrix)\n",
    "        numpy_second = np.dot(np.array(firstmatrix), np.array(thirdmatrix))\n",
    "        own_second = Matrix(firstmatrix)*Matrix(thirdmatrix)\n",
    "\n",
    "        assert numpy_first.tolist() == own_first.data, \"For some data, your solution does not correspond to the Numpy-Solution!\"\n",
    "        assert numpy_second.tolist() == own_second.data, \"For some data, your solution does not correspond to the Numpy-Solution!\"\n",
    "\n",
    "test_assertions_for_creation_with_constructor()\n",
    "test_creation_and_string_generation()\n",
    "test_data_method_returns_a_copy()\n",
    "test_getters_and_setters()\n",
    "test_matrix_transpose()\n",
    "test_matrix_addition()\n",
    "test_scalar_multiplication()\n",
    "test_matrix_multiplication()\n",
    "test_matrix_multiplication_with_numpy_comparision()"
   ]
  },
  {
   "cell_type": "markdown",
   "metadata": {},
   "source": [
    "---\n",
    "\n",
    "Wahlpflichtfach Künstliche Intelligenz I: Praktikum | [Startseite](index.ipynb) | [**>> 04 - Übungsaufgaben Numerische Berechnungen in Numpy**](04%20-%20Uebungsaufgaben%20Numerische%20Berechnungen%20in%20Numpy.ipynb)"
   ]
  }
 ],
 "metadata": {
  "kernelspec": {
   "display_name": "Python 3 (ipykernel)",
   "language": "python",
   "name": "python3"
  },
  "language_info": {
   "codemirror_mode": {
    "name": "ipython",
    "version": 3
   },
   "file_extension": ".py",
   "mimetype": "text/x-python",
   "name": "python",
   "nbconvert_exporter": "python",
   "pygments_lexer": "ipython3",
   "version": "3.10.6"
  }
 },
 "nbformat": 4,
 "nbformat_minor": 2
}
