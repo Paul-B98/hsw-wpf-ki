{
 "cells": [
  {
   "cell_type": "markdown",
   "metadata": {},
   "source": [
    "Wahlpflichtfach Künstliche Intelligenz II: Praktikum | [Startseite](index.ipynb) | [**<< 01 - Übungsaufgabe Python Grundlagen**](01%20-%20Uebungsaufgaben%20Python%20Grundlagen.ipynb)\n",
    "\n",
    "---"
   ]
  },
  {
   "cell_type": "markdown",
   "metadata": {},
   "source": [
    "# 02 - Übungsaufgaben Grundlegende Datenstrukturen"
   ]
  },
  {
   "cell_type": "markdown",
   "metadata": {},
   "source": [
    "Dies ist das Übungsblatt zum Notebook [**02 - Grundlegende Datenstrukturen**](02%20-%20Grundlegende%20Datenstrukturen.ipynb)\n",
    "."
   ]
  },
  {
   "cell_type": "markdown",
   "metadata": {},
   "source": [
    "## Aufgabe 1 - Slicing\n",
    "\n",
    "Versuche durch geschicktes Slicing alle Lebensmittel aus den Küchenschränken `l1`, `l2` und `l3` auszusortieren, die nicht **vegan** sind. In den neusortierten Küchenschränken `v1`, `v2` und `v3` sollen nur noch die **veganen** Lebensmittel enthalten sein!"
   ]
  },
  {
   "cell_type": "markdown",
   "metadata": {},
   "source": [
    "a) Der erste Küchenschrank `l1` beinhaltet diese Lebensmittel (genau in dieser Reihenfolge!):\n",
    "\n",
    "`[\"Wurst\",\"Ei\",\"Thunfisch\",\"Milch\",\"Käse\",\"Banane\",\"Orange\",\"Kartoffel\",\"Apfel\",\"Tomate\",\"Reis\"]`"
   ]
  },
  {
   "cell_type": "code",
   "execution_count": 5,
   "metadata": {},
   "outputs": [
    {
     "data": {
      "text/plain": [
       "['Banane', 'Orange', 'Kartoffel', 'Apfel', 'Tomate', 'Reis']"
      ]
     },
     "execution_count": 5,
     "metadata": {},
     "output_type": "execute_result"
    }
   ],
   "source": [
    "l1 = [\"Wurst\",\"Ei\",\"Thunfisch\",\"Milch\",\"Käse\",\"Banane\",\"Orange\",\"Kartoffel\",\"Apfel\",\"Tomate\",\"Reis\"]\n",
    "### BEGIN SOLUTION\n",
    "v1 = l1[5:]\n",
    "### END SOLUTION\n",
    "v1"
   ]
  },
  {
   "cell_type": "code",
   "execution_count": 4,
   "metadata": {},
   "outputs": [
    {
     "name": "stdout",
     "output_type": "stream",
     "text": [
      "Wow, es gibt 6 vegane Lebensmittel im Küchenschrank!\n"
     ]
    }
   ],
   "source": [
    "from nose.tools import assert_true\n",
    "try:\n",
    "    v1\n",
    "except NameError:\n",
    "    raise NameError(\"Es gibt keine Variable 'm'. Weise den Wert einer Variablen mit diesem Namen zu.\")\n",
    "assert_true((set(['Banane', 'Orange', 'Kartoffel', 'Apfel', 'Tomate', 'Reis']) <= set(v1)), \"Die Liste enthält nicht alle veganen Lebensmittel!\")\n",
    "assert_true(((\"Wurst\",\"Ei\",\"Thunfisch\",\"Milch\",\"Käse\") not in v1), \"Die Liste enthält noch Lebensmittel, die nicht vegan sind!\")\n",
    "assert_true(len(v1) != 5, \"Die Liste hat nicht die korrekte Anzahl an Einträgen.\")\n",
    "print(\"Wow, es gibt {} vegane Lebensmittel im Küchenschrank!\".format(len(v1)))"
   ]
  },
  {
   "cell_type": "markdown",
   "metadata": {},
   "source": [
    "b) Der zweite Küchenschrank `l2` beinhaltet diese Lebensmittel (genau in dieser Reihenfolge!):\n",
    "\n",
    "`[\"Apfel\",\"Wurst\",\"Banane\",\"Ei\",\"Orange\",\"Thunfisch\",\"Kartoffel\",\"Milch\",\"Tomate\",\"Käse\",\"Reis\"]`"
   ]
  },
  {
   "cell_type": "code",
   "execution_count": 6,
   "metadata": {},
   "outputs": [
    {
     "data": {
      "text/plain": [
       "['Apfel', 'Banane', 'Orange', 'Kartoffel', 'Tomate', 'Reis']"
      ]
     },
     "execution_count": 6,
     "metadata": {},
     "output_type": "execute_result"
    }
   ],
   "source": [
    "l2 = [\"Apfel\",\"Wurst\",\"Banane\",\"Ei\",\"Orange\",\"Thunfisch\",\"Kartoffel\",\"Milch\",\"Tomate\",\"Käse\",\"Reis\"]\n",
    "### BEGIN SOLUTION\n",
    "v2 = l2[::2]\n",
    "### END SOLUTION\n",
    "v2"
   ]
  },
  {
   "cell_type": "code",
   "execution_count": 7,
   "metadata": {},
   "outputs": [
    {
     "name": "stdout",
     "output_type": "stream",
     "text": [
      "Wow, es gibt 6 vegane Lebensmittel im Küchenschrank!\n"
     ]
    }
   ],
   "source": [
    "from nose.tools import assert_true\n",
    "try:\n",
    "    v2\n",
    "except NameError:\n",
    "    raise NameError(\"Es gibt keine Variable 'm'. Weise den Wert einer Variablen mit diesem Namen zu.\")\n",
    "assert_true((set(['Banane', 'Orange', 'Kartoffel', 'Apfel', 'Tomate', 'Reis']) <= set(v2)), \"Die Liste enthält nicht alle veganen Lebensmittel!\")\n",
    "assert_true(((\"Wurst\",\"Ei\",\"Thunfisch\",\"Milch\",\"Käse\") not in v2), \"Die Liste enthält noch Lebensmittel, die nicht vegan sind!\")\n",
    "assert_true(len(v2) != 5, \"Die Liste hat nicht die korrekte Anzahl an Einträgen.\")\n",
    "print(\"Wow, es gibt {} vegane Lebensmittel im Küchenschrank!\".format(len(v2)))"
   ]
  },
  {
   "cell_type": "markdown",
   "metadata": {},
   "source": [
    "c) Der dritte Küchenschrank `l3` beinhaltet diese Lebensmittel (genau in dieser Reihenfolge!):\n",
    "\n",
    "`[\"Wurst\",\"Apfel\",\"Orange\",\"Ei\",\"Banane\",\"Kartoffel\",\"Thunfisch\",\"Tomate\",\"Reis\",\"Milch\",\"Zwiebel\",\"Knoblauch\",\"Käse\"]`\n",
    "\n",
    "**Hinweis**: Versuche eine List Comprehension als _helper_ zu nehmen!"
   ]
  },
  {
   "cell_type": "code",
   "execution_count": 8,
   "metadata": {},
   "outputs": [
    {
     "data": {
      "text/plain": [
       "['Apfel',\n",
       " 'Orange',\n",
       " 'Banane',\n",
       " 'Kartoffel',\n",
       " 'Tomate',\n",
       " 'Reis',\n",
       " 'Zwiebel',\n",
       " 'Knoblauch']"
      ]
     },
     "execution_count": 8,
     "metadata": {},
     "output_type": "execute_result"
    }
   ],
   "source": [
    "l3 = [\"Wurst\",\"Apfel\",\"Orange\",\"Ei\",\"Banane\",\"Kartoffel\",\"Thunfisch\",\"Tomate\",\"Reis\",\"Milch\",\"Zwiebel\",\"Knoblauch\",\"Käse\"]\n",
    "### BEGIN SOLUTION\n",
    "helper = l3[::3]\n",
    "v3 = [x for x in l3 if x not in helper]\n",
    "### END SOLUTION\n",
    "v3"
   ]
  },
  {
   "cell_type": "code",
   "execution_count": 9,
   "metadata": {},
   "outputs": [
    {
     "name": "stdout",
     "output_type": "stream",
     "text": [
      "Wow, es gibt 8 vegane Lebensmittel im Küchenschrank!\n"
     ]
    }
   ],
   "source": [
    "from nose.tools import assert_true\n",
    "try:\n",
    "    v3\n",
    "except NameError:\n",
    "    raise NameError(\"Es gibt keine Variable 'm'. Weise den Wert einer Variablen mit diesem Namen zu.\")\n",
    "assert_true((set(['Banane', 'Orange', 'Kartoffel', 'Apfel', 'Tomate', 'Reis','Zwiebel','Knoblauch']) <= set(v3)), \"Die Liste enthält nicht alle veganen Lebensmittel!\")\n",
    "assert_true(((\"Wurst\",\"Ei\",\"Thunfisch\",\"Milch\",\"Käse\") not in v3), \"Die Liste enthält noch Lebensmittel, die nicht vegan sind!\")\n",
    "assert_true(len(v3) != 5, \"Die Liste hat nicht die korrekte Anzahl an Einträgen.\")\n",
    "print(\"Wow, es gibt {} vegane Lebensmittel im Küchenschrank!\".format(len(v3)))"
   ]
  },
  {
   "cell_type": "markdown",
   "metadata": {},
   "source": [
    "## Aufgabe 3 - Dictionaries\n",
    "\n",
    "Schreibe ein Wörterbuch mit einigen deutschen Wörtern und ihrer Übersetzung ins Englische. Weise es der Variable `d` zu und verwende es dann, indem du dir einige Werte darin ausgeben lässt."
   ]
  },
  {
   "cell_type": "code",
   "execution_count": 13,
   "metadata": {},
   "outputs": [
    {
     "data": {
      "text/plain": [
       "'dictionary'"
      ]
     },
     "execution_count": 13,
     "metadata": {},
     "output_type": "execute_result"
    }
   ],
   "source": [
    "### BEGIN SOLUTION\n",
    "d = {\"Wörterbuch\": \"dictionary\"}\n",
    "### END SOLUTION\n",
    "d[\"Wörterbuch\"]"
   ]
  },
  {
   "cell_type": "code",
   "execution_count": 14,
   "metadata": {},
   "outputs": [
    {
     "name": "stdout",
     "output_type": "stream",
     "text": [
      "Wow, 1 Einträge im Wörterbuch!\n"
     ]
    }
   ],
   "source": [
    "from nose.tools import assert_true\n",
    "try:\n",
    "    d\n",
    "except NameError:\n",
    "    raise NameError(\"Es gibt keine Variable 'd'. Weise den Wert einer Variablen mit diesem Namen zu.\")\n",
    "assert_true(len(d) > 0, \"Das Wörterbuch hat keine Einträge.\")\n",
    "print(\"Wow, {} Einträge im Wörterbuch!\".format(len(d)))"
   ]
  },
  {
   "cell_type": "markdown",
   "metadata": {},
   "source": [
    "---\n",
    "\n",
    "Wahlpflichtfach Künstliche Intelligenz I: Praktikum | [Startseite](index.ipynb) | [**>> 03 - Übungsaufgaben Kontrollfluss und Objektorientierung**](03%20-%20Uebungsaufgaben%20Kontrollfluss%20und%20Objektorientierung.ipynb)"
   ]
  }
 ],
 "metadata": {
  "kernelspec": {
   "display_name": "Python 3 (ipykernel)",
   "language": "python",
   "name": "python3"
  },
  "language_info": {
   "codemirror_mode": {
    "name": "ipython",
    "version": 3
   },
   "file_extension": ".py",
   "mimetype": "text/x-python",
   "name": "python",
   "nbconvert_exporter": "python",
   "pygments_lexer": "ipython3",
   "version": "3.10.6"
  }
 },
 "nbformat": 4,
 "nbformat_minor": 2
}
