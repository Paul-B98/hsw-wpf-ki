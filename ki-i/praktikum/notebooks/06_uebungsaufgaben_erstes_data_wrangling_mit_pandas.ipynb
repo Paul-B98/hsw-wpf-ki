{
 "cells": [
  {
   "cell_type": "markdown",
   "metadata": {},
   "source": [
    "Wahlpflichtfach Künstliche Intelligenz I: Praktikum \n",
    "\n",
    "---"
   ]
  },
  {
   "cell_type": "markdown",
   "metadata": {},
   "source": [
    "# 06 - Übungsaufgaben Erstes Data Wrangling mit Pandas\n",
    "\n",
    "- [Aufgabe 1 - Erste Schritte in der Data Preparation](#Aufgabe-1---Erste-Schritte-in-der-Data-Preparation)"
   ]
  },
  {
   "cell_type": "markdown",
   "metadata": {},
   "source": [
    "Dies ist das Übungsblatt zum Notebook [**06 - Erstes Data Wrangling mit Pandas**](06%20-%20Erstes%20Data%20Wrangling%20mit%20Pandas.ipynb)"
   ]
  },
  {
   "cell_type": "markdown",
   "metadata": {},
   "source": [
    "## Aufgabe 1 - Erste Schritte in der Data Preparation\n",
    "\n",
    "Die Aufgabe ist die erste, bei der wir einen echten Datensatz verwenden, juhu! Sie finden den Datensatz `countries.csv` in demselben Ordner wie diese Datei. Er enthält eine Liste von (wohl) allen Ländern der Welt (Stand etwa 2008), einschließlich einiger Informationen über jedes dieser Länder. Die Basis davon ist frei verfügbar unter http://gsociology.icaap.org/dataupload.html, mit einigen Informationen von http://www.iucnredlist.org/technical-documents/data-organization/countries-by-regions. Beachten Sie, dass die Informationen in diesem Datensatz nicht die Meinung der Autoren widerspiegeln, veraltet sind und falsch sein können."
   ]
  },
  {
   "cell_type": "markdown",
   "metadata": {},
   "source": [
    "a) **Machen Sie sich mit dem Datensatz vertraut (ohne automatische Evaluation):** Dies ist der erste Schritt, den Sie für jeden Datensatz, mit dem Sie arbeiten, tun sollten. Laden Sie den Datensatz mit Pandas . Schauen Sie sich seinen `head()` an, seine `columns`, und lassen Sie pandas den Datensatz für Sie `describe()`. Wenn Sie etwas über einzelne Spalten wissen wollen, können Sie für diese zum Beispiel auch `value_counts()` verwenden."
   ]
  },
  {
   "cell_type": "code",
   "execution_count": null,
   "metadata": {},
   "outputs": [],
   "source": [
    "import pandas as pd\n",
    "df = pd.read_csv(\"../data/06/countries.csv\")\n",
    "### BEGIN SOLUTION\n",
    "# IHRE LÖSUNG HIER\n",
    "### END SOLUTION"
   ]
  },
  {
   "cell_type": "markdown",
   "metadata": {},
   "source": [
    "b) **Ermitteln Sie die mittlere Bevölkerungsdichte nach Region:** Das gegebene Dataset enthält eine Spalte `Region` sowie eine Spalte `Pop. Density`. Schreiben Sie eine Funktion `get_mean_popdens_by_region()`, die als Argument den Datenrahmen mit allen Ländern nimmt und eine `Series` zurückgibt, die Regionen auf die durchschnittliche Bevölkerungsdichte ihrer Länder abbildet, absteigend sortiert nach der Bevölkerungsdichte."
   ]
  },
  {
   "cell_type": "code",
   "execution_count": null,
   "metadata": {},
   "outputs": [],
   "source": [
    "### BEGIN SOLUTION\n",
    "# IHRE LÖSUNG HIER\n",
    "### END SOLUTION"
   ]
  },
  {
   "cell_type": "code",
   "execution_count": null,
   "metadata": {},
   "outputs": [],
   "source": [
    "import pandas as pd\n",
    "import numpy as np\n",
    "\n",
    "df = pd.read_csv('../data/06/countries.csv', index_col=0)\n",
    "res = get_mean_popdens_by_region(df)\n",
    "assert type(res) == pd.Series\n",
    "assert list(res.index) == ['ASIA (EX. NEAR EAST)', 'WESTERN EUROPE', 'NEAR EAST', 'NORTHERN AMERICA', 'LATIN AMER. & CARIB', 'OCEANIA', 'EASTERN EUROPE', 'SUB-SAHARAN AFRICA', 'C.W. OF IND. STATES', 'BALTICS', 'NORTHERN AFRICA']\n",
    "_, densities = zip(*res.items())\n",
    "densities = np.array(densities)\n",
    "demanded_densities = np.array([1264.81928571, 952.04285714, 427.07875, 260.872, 136.19177778, 131.18285714, 100.89083333, 92.25901961, 56.70083333, 39.83333333, 38.935])\n",
    "assert np.allclose(densities, demanded_densities, atol=1e-8)"
   ]
  },
  {
   "cell_type": "markdown",
   "metadata": {},
   "source": [
    "c) **Finden Sie das Non-G20-Land mit dem höchsten BIP:** Sie finden eine Liste der Länder, die Teil der G20 sind, in Form des Wörterbuchs `gtwenty` im Modul `data`. Außerdem zählt jedes Land, das in der EU ist, als G20-Land für unsere Zwecke (es gibt eine Spalte im Datensatz, die dies anzeigt). Verwenden Sie die Maskierung, um das Land mit dem höchsten BIP zu finden, das weder Teil der EU noch explizit ein G20-Land ist. Ihre Funktion `get_highest_nongtwenty` soll eine `Series` zurückgeben, die den Namen dieses Landes und sein BIP enthält."
   ]
  },
  {
   "cell_type": "code",
   "execution_count": null,
   "metadata": {},
   "outputs": [],
   "source": [
    "gtwenty = ['Argentina', 'Australia', 'Brazil', 'Canada', 'China', 'France', 'Germany', 'India', \\\n",
    "           'Indonesia', 'Italy', 'Japan',  'Korea, South', 'Mexico', 'Russia', \\\n",
    "           'Saudi Arabia', 'South Africa', 'Turkey', 'United Kingdom', 'United States']\n",
    "\n",
    "### BEGIN SOLUTION\n",
    "# IHRE LÖSUNG HIER\n",
    "### END SOLUTION"
   ]
  },
  {
   "cell_type": "code",
   "execution_count": null,
   "metadata": {},
   "outputs": [],
   "source": [
    "df = pd.read_csv('../data/06/countries.csv', index_col=0)\n",
    "res = get_highest_nongtwenty(df, gtwenty)\n",
    "assert type(res) == pd.Series\n",
    "assert res.to_dict() == {'Country': 'Norway', 'GDP': 37800.0}"
   ]
  },
  {
   "cell_type": "markdown",
   "metadata": {},
   "source": [
    "d) **Ermitteln Sie Informationen über Kontinente:** Eine Spalte des Datensatzes repräsentiert Subkontinente. In der Datei `continents.csv` finden Sie eine Übersetzung für Subkontinente in Kontinente. Ihre Aufgabe ist es, eine Funktion `create_continent_dataframe(countries, continents)` zu schreiben, die zwei Dataframes als Argumente nimmt, die die geladenen `continents.csv` und `countries.csv` enthalten, und einen Pandas-Dataframe der Kontinente zurückgibt, der so aussieht:\n",
    "\n",
    "> <pre>\t\t        Population\tCountries  \n",
    "> continent  \n",
    "> Asia\t\t        4163132161\t56  \n",
    "> Africa\t\t        910844133\t57  \n",
    "> Europe\t\t        523496050\t44  \n",
    "> North & Central America\t517799370\t36  \n",
    "> South America\t\t375641175\t13  \n",
    "> Oceania\t\t\t33131662\t21 </pre>\n",
    "\n",
    "Beachten Sie, dass der resultierende DataFrame nach der Grundgesamtheit des Cotinten sortiert ist.\n",
    "\n",
    "**Hinweis**: Die Funktion `apply()` kann in Kombination mit einem Dictionary verwendet werden, um eine neue `Continent`-Spalte im Hauptdatensatz zu erstellen. Dann sollten Sie `groupby` verwenden, um Informationen über die Bevölkerung eines Kontinents zu erhalten, wenn Sie Informationen über die Bevölkerung seiner Länder haben."
   ]
  },
  {
   "cell_type": "code",
   "execution_count": null,
   "metadata": {},
   "outputs": [],
   "source": [
    "### BEGIN SOLUTION\n",
    "# IHRE LÖSUNG HIER\n",
    "### END SOLUTION"
   ]
  },
  {
   "cell_type": "code",
   "execution_count": null,
   "metadata": {},
   "outputs": [],
   "source": [
    "df = pd.read_csv('../data/06/countries.csv', index_col=0)\n",
    "df2 = pd.read_csv('../data/06/continents.csv', delimiter=\",\", index_col=0)\n",
    "res = create_continent_dataframe(df, df2)\n",
    "assert type(res) == pd.DataFrame\n",
    "assert list(res.index) == ['Asia', 'Africa', 'Europe', 'North & Central America', 'South America', 'Oceania']\n",
    "assert res[\"Population\"].to_dict() == {'Asia': 4163132161, 'Africa': 910844133, 'Europe': 523496050, 'North & Central America': 517799370, 'South America': 375641175, 'Oceania': 33131662}\n",
    "assert res[\"Countries\"].to_dict() == {'Asia': 56, 'Africa': 57, 'Europe': 44, 'North & Central America': 36, 'South America': 13, 'Oceania': 21}"
   ]
  },
  {
   "cell_type": "markdown",
   "metadata": {},
   "source": [
    "---\n",
    "\n",
    "Wahlpflichtfach Künstliche Intelligenz II: Praktikum"
   ]
  }
 ],
 "metadata": {
  "kernelspec": {
   "display_name": "Python 3 (ipykernel)",
   "language": "python",
   "name": "python3"
  },
  "language_info": {
   "codemirror_mode": {
    "name": "ipython",
    "version": 3
   },
   "file_extension": ".py",
   "mimetype": "text/x-python",
   "name": "python",
   "nbconvert_exporter": "python",
   "pygments_lexer": "ipython3",
   "version": "3.11.3"
  }
 },
 "nbformat": 4,
 "nbformat_minor": 2
}
