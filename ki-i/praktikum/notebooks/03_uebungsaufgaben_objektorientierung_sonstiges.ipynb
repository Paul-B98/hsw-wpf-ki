{
 "cells": [
  {
   "cell_type": "markdown",
   "metadata": {},
   "source": [
    "Wahlpflichtfach Künstliche Intelligenz I: Rechercheauftrag [**<< 02 - Übungsaufgabe Grundlegende Datenstrukturen und Kontrollfluss**](02_uebungsaufgaben_grundlegende_datenstrukturen.ipynb)\n",
    "\n",
    "---"
   ]
  },
  {
   "cell_type": "markdown",
   "metadata": {},
   "source": [
    "# 03 - Übungsaufgaben Kontrollfluss und Objektorientierung\n",
    "\n",
    "- [Aufgabe 1 - Raumtemperatur](#Aufgabe-1---Raumtemperatur)\n",
    "- [Aufgabe 2 - Primzahlen](#Aufgabe-2---Primzahlen)\n",
    "- [Aufgabe 3 - Fibonacci](#Aufgabe-3---Fibonacci)\n",
    "- [Aufgabe 4 - Mehr Primzahlen](#Aufgabe-4---Mehr-Primzahlen)\n",
    "- [Aufgabe 5 - Fakultät](#Aufgabe-5---Fakultät)\n",
    "- [Aufgabe 6 - Schreiben von Lambda-Funktionen](#Aufgabe-6---Schreiben-von-Lambda-Funktionen)"
   ]
  },
  {
   "cell_type": "markdown",
   "metadata": {},
   "source": [
    "Dies ist das Übungsblatt zum Notebook [**03 - Kontrollfluss und Objektorientierung**](03%20-%20Kontrollfluss%20und%20Objektorientierung.ipynb)."
   ]
  },
  {
   "cell_type": "markdown",
   "metadata": {},
   "source": [
    "## Aufgabe 1 - Raumtemperatur\n",
    "\n",
    "Schreibe eine `if`-Abfrage, die die Temperatur `T` mit der Raumtemperatur `T_Raum` vergleicht und mit `print` ausgibt, ob die Temperatur zu warm, zu kalt oder genau bei Raumtemperatur ist. Setze zudem den Boolean-Wert der Variable `heating` auf `True`, wenn die Temperatur unter der Raumtemperatur liegt, und andernfalls auf `False`. Du kannst dies entweder explizit in die `if`-Abfrage integrieren oder separat durch einen Boolean-Ausdruck setzen. Gib je nach dem Wert von `heating` mit `print` aus, ob geheizt wird oder nicht.\n",
    "\n",
    "Probieren Sie ihr kleines Programm aus, indem Sie den Wert von `T` verändern."
   ]
  },
  {
   "cell_type": "code",
   "execution_count": null,
   "metadata": {},
   "outputs": [],
   "source": [
    "T = 20\n",
    "T_Raum = 21\n",
    "heating = False\n",
    "### BEGIN SOLUTION\n",
    "# IHRE LÖSUNG HIER\n",
    "### END SOLUTION"
   ]
  },
  {
   "cell_type": "code",
   "execution_count": null,
   "metadata": {},
   "outputs": [],
   "source": [
    "from nose.tools import assert_equal\n",
    "assert heating == (T < T_Raum), \"Der Wert von `heating` passt nicht. Setze den Wert nur dann auf `True`, wenn `T < T_R` ist.\"\n",
    "print(\"👏 Easy.\")"
   ]
  },
  {
   "cell_type": "markdown",
   "metadata": {},
   "source": [
    "## Aufgabe 2 - Primzahlen\n",
    "\n",
    "Schreibe ein Programm, das alle Primzahlen kleiner `50` bestimmt. Füge sie der Liste `primes` hinzu.\n",
    "\n",
    "**Hinweis:** Der `%`-Operator gibt den Rest der Division zweier Integer zurück.\n",
    "\n",
    "**Möglicher Ansatz:** Versuch's mal mit einer Boolean-Variable `is_prime` für jede der Zahlen bis `50`, die zunächst `True` ist und dann in einer zweiten `for`-Schleife ggfs. auf `False` gesetzt wird.\n",
    "\n",
    "**Erinnerung:** Mit der `append` Methode können wir Elemente einer Liste hinzufügen."
   ]
  },
  {
   "cell_type": "code",
   "execution_count": null,
   "metadata": {},
   "outputs": [],
   "source": [
    "### BEGIN SOLUTION\n",
    "# IHRE LÖSUNG HIER\n",
    "### END SOLUTION\n",
    "primes"
   ]
  },
  {
   "cell_type": "code",
   "execution_count": null,
   "metadata": {},
   "outputs": [],
   "source": [
    "from nose.tools import assert_equal\n",
    "trimmed_primes = primes\n",
    "for x in [0, 1]:\n",
    "    try:\n",
    "        trimmed_primes.remove(x)\n",
    "    except ValueError:\n",
    "        pass\n",
    "assert [2, 3, 5, 7, 11, 13, 17, 19, 23, 29, 31, 37, 41, 43, 47] == trimmed_primes, \"Die Liste von Primzahlen sollte bei 0, 1 oder 2 beginnen und die Primzahlen bis inkl. 47 enthalten\"\n",
    "print(\"Sehr gut! 🎉🎉🎉\")"
   ]
  },
  {
   "cell_type": "markdown",
   "metadata": {},
   "source": [
    "## Aufgabe 3 - Fibonacci\n",
    "\n",
    "Verwende eine `while`-Schleife um die Zahlen der Fibonacci-Reihe bis 100 der Liste `fib_numbers` hinzuzufügen. Die ersten zwei Zahlen sind `0` und `1` und jede weitere Zahl ist die Summe der beiden vorherigen.\n",
    "\n",
    "**Erinnerung:** Auf das letzte Element einer Reihe können wir mit dem Subskript `l[-1]` zugreifen. Das vorletzte Element ist dann entsprechend `l[-2]`."
   ]
  },
  {
   "cell_type": "code",
   "execution_count": null,
   "metadata": {},
   "outputs": [],
   "source": [
    "### BEGIN SOLUTION\n",
    "# IHRE LÖSUNG HIER\n",
    "### END SOLUTION\n",
    "fib_numbers"
   ]
  },
  {
   "cell_type": "code",
   "execution_count": null,
   "metadata": {},
   "outputs": [],
   "source": [
    "from nose.tools import assert_equal\n",
    "assert [0, 1, 1, 2, 3, 5, 8, 13, 21, 34, 55, 89] == fib_numbers, \"Die Liste sollte mit [ 0, 1, 1, 2, ...] beginnen und die Fibonacci-Zahlen bis einschließlich 89 enthalten.\"\n",
    "print(\"👌 Richtig!\")"
   ]
  },
  {
   "cell_type": "markdown",
   "metadata": {},
   "source": [
    "## Aufgabe 4 - Mehr Primzahlen\n",
    "\n",
    "Definiere eine Funktion mit dem Namen `is_prime`, die eine Zahl annimmt und `True` zurückgibt wenn die Zahl eine Primzahl ist, bzw. `False` wenn nicht.\n",
    "\n",
    "Kopiere dazu deinen Code um Primzahlen zu finden von zuvor und verändere ihn entsprechend."
   ]
  },
  {
   "cell_type": "code",
   "execution_count": null,
   "metadata": {},
   "outputs": [],
   "source": [
    "### BEGIN SOLUTION\n",
    "# IHRE LÖSUNG HIER\n",
    "### END SOLUTION"
   ]
  },
  {
   "cell_type": "code",
   "execution_count": null,
   "metadata": {},
   "outputs": [],
   "source": [
    "from nose.tools import assert_true, assert_false\n",
    "try:\n",
    "    is_prime\n",
    "except NameError:\n",
    "    raise NameError(\"Es gibt keine Funktion mit dem Namen 'is_prime'. Stelle sicher, dass deine Funktion so benannt ist.\")\n",
    "assert is_prime(47), \"Die Zahl 47 sollte eine Primzahl sein. Prüfe den Code deiner Funktion.\"\n",
    "assert not is_prime(48), \"Die Zahl 48 sollte _keine_ Primzahl sein. Prüfe den Code deiner Funktion.\"\n",
    "print(\"Klappt.\")"
   ]
  },
  {
   "cell_type": "markdown",
   "metadata": {},
   "source": [
    "## Aufgabe 5 - Fakultät\n",
    "\n",
    "Schreibe eine Funktion mit dem Namen `factorial`, die eine Zahl annimmt und die Fakultät `n! = n*(n-1)*...*3*2*1` dieser Zahl zurückgibt.\n",
    "\n",
    "**Hinweis:** Du kannst zunächst versuchen, die Aufgabe mit einer Schleife zu lösen. Funktionen können sich jedoch auch selbst aufrufen (sog. _rekursive_ Funktionen). Versuche eine Funktion zu schreiben, die _keine Schleife_ verwendet!"
   ]
  },
  {
   "cell_type": "code",
   "execution_count": null,
   "metadata": {},
   "outputs": [],
   "source": [
    "### BEGIN SOLUTION\n",
    "# IHRE LÖSUNG HIER\n",
    "### END SOLUTION"
   ]
  },
  {
   "cell_type": "code",
   "execution_count": null,
   "metadata": {},
   "outputs": [],
   "source": [
    "from nose.tools import assert_equal\n",
    "try:\n",
    "    factorial\n",
    "except NameError:\n",
    "    raise NameError(\"Es gibt keine Funktion mit dem Namen 'factorial'. Stelle sicher, dass deine Funktion so benannt ist.\")\n",
    "assert factorial(1) == 1, \"1! sollte 1 ergeben. Prüfe den Code deiner Funktion.\"\n",
    "assert factorial(2) == 2, \"2! sollte 2 ergeben. Prüfe den Code deiner Funktion.\"\n",
    "assert factorial(5) == 120, \"5! sollte 120 ergeben. Prüfe den Code deiner Funktion.\"\n",
    "print(\"🙌 Funktioniert!\")"
   ]
  },
  {
   "cell_type": "markdown",
   "metadata": {},
   "source": [
    "## Aufgabe 6 - Schreiben von Lambda-Funktionen"
   ]
  },
  {
   "cell_type": "markdown",
   "metadata": {},
   "source": [
    "a) Schreiben Sie eine Lambda-Funktion flatten, die eine zweidimensionale Liste annimmt und die reduzierte Liste zurückgibt - ein Aufruf wie `flatten([[1,2],[3,4]]) == [1,2,3,4]` sollte also True zurückgeben."
   ]
  },
  {
   "cell_type": "code",
   "execution_count": null,
   "metadata": {},
   "outputs": [],
   "source": [
    "not_flattened = [[1,2,3],[3,4,5],[6,7,8]]\n",
    "### BEGIN SOLUTION\n",
    "# IHRE LÖSUNG HIER\n",
    "### END SOLUTION\n",
    "flatten(not_flattened)"
   ]
  },
  {
   "cell_type": "code",
   "execution_count": null,
   "metadata": {},
   "outputs": [],
   "source": [
    "LAMBDA = lambda: 0\n",
    "assert isinstance(flatten, type(LAMBDA)) and flatten.__name__ == LAMBDA.__name__, \"Ihre flatten-Funktion muss eine Lambda-Funktion sein!\"\n",
    "not_flattened = [[1, 2, 3], [3, 4, 5], [6, 7, 8]]\n",
    "assert flatten(not_flattened) == [1, 2, 3, 3, 4, 5, 6, 7, 8], \"Ihre flatten-Funktion liefert noch nicht das gewünschte Ergebnis!\"\n",
    "print(\"Sehr gut, Sie können Listen mit dieser Funkion platt machen!\")"
   ]
  },
  {
   "cell_type": "markdown",
   "metadata": {},
   "source": [
    "b) Schreiben Sie eine weitere Lambda-Funktion `get_keys`, die eine Liste von Dictionaries annimmt und die (eindeutige) Vereinigung aller Schlüssel aller Dictionaries in dieser Liste zurückgibt. Ein Aufruf wie `get_keys([{\"a\": 1, \"b\": 2}, {\"c\": 3}])` sollte also `[\"a\", \"b\", \"c\"]` zurückgeben."
   ]
  },
  {
   "cell_type": "code",
   "execution_count": null,
   "metadata": {},
   "outputs": [],
   "source": [
    "list_of_dicts = [{\"age\": 31, \"gender\": \"female\"}, {\"name\": \"john\"}, {\"lastname\": \"doe\", \"gender\": \"male\"}]\n",
    "### BEGIN SOLUTION\n",
    "# IHRE LÖSUNG HIER\n",
    "### END SOLUTION\n",
    "get_keys(list_of_dicts)"
   ]
  },
  {
   "cell_type": "code",
   "execution_count": null,
   "metadata": {},
   "outputs": [],
   "source": [
    "LAMBDA = lambda: 0\n",
    "assert isinstance(get_keys, type(LAMBDA)) and get_keys.__name__ == LAMBDA.__name__, \"Your get_keys-function must be a lambda-function!\"\n",
    "list_of_dicts = [{\"age\": 31, \"gender\": \"female\"}, {\"name\": \"john\"}, {\"lastname\": \"doe\", \"gender\": \"male\"}]\n",
    "assert sorted(get_keys(list_of_dicts)) == [\"age\", \"gender\", \"lastname\", \"name\"]\n",
    "print(\"Sehr gut, mit dieser Funkion erhalten Sie die Keys aus einer Liste von Dictionaries!\")"
   ]
  },
  {
   "cell_type": "markdown",
   "metadata": {},
   "source": [
    "---\n",
    "\n",
    "Wahlpflichtfach Künstliche Intelligenz I: Rechercheauftrag"
   ]
  }
 ],
 "metadata": {
  "kernelspec": {
   "display_name": "Python 3 (ipykernel)",
   "language": "python",
   "name": "python3"
  },
  "language_info": {
   "codemirror_mode": {
    "name": "ipython",
    "version": 3
   },
   "file_extension": ".py",
   "mimetype": "text/x-python",
   "name": "python",
   "nbconvert_exporter": "python",
   "pygments_lexer": "ipython3",
   "version": "3.11.3"
  }
 },
 "nbformat": 4,
 "nbformat_minor": 4
}
