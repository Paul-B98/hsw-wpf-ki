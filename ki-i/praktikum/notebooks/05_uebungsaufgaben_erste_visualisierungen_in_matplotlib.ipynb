{
 "cells": [
  {
   "cell_type": "markdown",
   "metadata": {},
   "source": [
    "Wahlpflichtfach Künstliche Intelligenz II: Praktikum \n",
    "---"
   ]
  },
  {
   "cell_type": "markdown",
   "metadata": {},
   "source": [
    "# 05 - Übungsaufgaben Erste Visualisierungen in Matplotlib\n",
    "\n",
    "- [Aufgabe 1 - Temperaturen in Heidelberg visualisieren](#Aufgabe-1---Temperaturen-in-Heidelberg-visualisieren)\n",
    "- [Aufgabe 2 - Weitere Visualisierungen](#Aufgabe-2---Weitere-Visualisierungen)"
   ]
  },
  {
   "cell_type": "markdown",
   "metadata": {},
   "source": [
    "Dies ist das Übungsblatt zum Notebook [**05 - Erste Visualisierungen in Matplotlib**](05%20-%20Erste%20Visualisierungen%20in%20Matplotlib.ipynb)"
   ]
  },
  {
   "cell_type": "markdown",
   "metadata": {},
   "source": [
    "## Aufgabe 1 - Temperaturen in Heidelberg visualisieren\n",
    "\n",
    "Wir visualisieren nun die Temperaturdaten mit denen wir schon numerisch gearbeitet haben. Lest die Daten zunächst erneut ein:"
   ]
  },
  {
   "cell_type": "code",
   "execution_count": null,
   "metadata": {},
   "outputs": [],
   "source": [
    "%matplotlib inline\n",
    "import numpy as np\n",
    "import matplotlib.pyplot as plt\n",
    "\n",
    "# Zelle ausführen, um Daten einzulesen\n",
    "data = np.loadtxt('./data/04/temperatures.txt')\n",
    "date, T = data[np.abs(data[:,1]) != 99,:].transpose()"
   ]
  },
  {
   "cell_type": "markdown",
   "metadata": {},
   "source": [
    "a) Plottet den Temperaturverlauf über den gesamten Zeitraum. Vergesst nicht Titel, Achsenbeschriftungen und Legende.\n",
    "\n",
    "**Hinweis:** Ihr könnt die Temperatureinheit als `^\\circ{}\\mathrm{C}` (rendert als $^\\circ{}\\mathrm{C}$) schreiben."
   ]
  },
  {
   "cell_type": "code",
   "execution_count": null,
   "metadata": {},
   "outputs": [],
   "source": [
    "### BEGIN SOLUTION\n",
    "# IHRE LÖSUNG HIER\n",
    "### END SOLUTION"
   ]
  },
  {
   "cell_type": "markdown",
   "metadata": {},
   "source": [
    "Sieht dein Plot etwa so aus?\n",
    "\n",
    "![Temperaturverlauf in Heidelberg](./images/05/task1a.png)"
   ]
  },
  {
   "cell_type": "markdown",
   "metadata": {},
   "source": [
    "b) Plottet den kombinierten Jahres-Temperaturverlauf, also die Temperaturdaten aufgetragen über dem Zeitpunkt innerhalb des Jahres.\n",
    "\n",
    "Plottet nur die Datenpunkte und keine verbindende Linie. Vergesst nicht Titel, Achsenbeschriftungen und Legende.\n",
    "\n",
    "**Hinweis:** Den Zeitpunkt innerhalb eines Jahres erhaltet ihr wieder mit dem Modulo Operator: `date % 1`"
   ]
  },
  {
   "cell_type": "code",
   "execution_count": null,
   "metadata": {},
   "outputs": [],
   "source": [
    "### BEGIN SOLUTION\n",
    "# IHRE LÖSUNG HIER\n",
    "### END SOLUTION"
   ]
  },
  {
   "cell_type": "markdown",
   "metadata": {},
   "source": [
    "Sieht dein Plot etwa so aus?\n",
    "\n",
    "![Jahres-Temperaturverlauf in Heidelberg](./images/05/task1b.png)"
   ]
  },
  {
   "cell_type": "markdown",
   "metadata": {},
   "source": [
    "## Aufgabe 2 - Weitere Visualisierungen\n",
    "\n",
    "In dieser Aufgabe erstellen Sie weitere Grafiken, um die Verwendung von matplotlib zu üben. Für jede Aufgabe müssen Sie eine Funktion schreiben, die eine Figur zurückgibt.\n",
    "Ihre Aufgabe ist es also, Ihre Plots genau so aussehen zu lassen wie in den Evaluations-Zellen dargestellt.\n",
    "\n",
    "Achten Sie beim Nachbau der Plots immer auf die Achsenbeschriftung, Legenden und Häkchen. In den meisten Fällen sind die Voreinstellungen von matplotlib gut genug, um das gewünschte Ergebnis zu erzielen. Versuchen Sie, nur dann Anpassungen vorzunehmen, wenn Sie feststellen, dass der Plot etwas Spezielleres erfordert."
   ]
  },
  {
   "cell_type": "markdown",
   "metadata": {},
   "source": [
    "a) Schreiben Sie eine Funktion `make_histogram(data)`, die eine Figur mit einem normierten Histogramm erzeugt. Die Eingabedaten sind ein 1d-Array."
   ]
  },
  {
   "cell_type": "code",
   "execution_count": null,
   "metadata": {},
   "outputs": [],
   "source": [
    "np.random.seed(1)\n",
    "hist_data = np.random.normal(0, 1, 1000)\n",
    "### BEGIN SOLUTION\n",
    "# IHRE LÖSUNG HIER\n",
    "### END SOLUTION\n",
    "make_histogram(hist_data)"
   ]
  },
  {
   "cell_type": "markdown",
   "metadata": {},
   "source": [
    "Sieht dein Plot etwa so aus?\n",
    "\n",
    "![Histogramm](./images/05/task2a.png)"
   ]
  },
  {
   "cell_type": "markdown",
   "metadata": {},
   "source": [
    "b) Als nächstes werden wir uns einige Wetterdaten ansehen und die Temperaturen in Osnabrück mit denen von Trento in Italien vergleichen. Schreiben Sie eine Funktion `make_temperature_plot(data)`. Der resultierende Plot sollte zwei Subplots enthalten: einen für die niedrigen und einen für die hohen Temperaturen. Die Eingabedaten sind ein Dictionary, das Städtenamen auf 2d-Arrays abbildet, wobei die erste Spalte die niedrigen Werte und die zweite Spalte die hohen Werte enthält. Achten Sie darauf, der Abbildung einen Übertitel zu geben und beide y-Achsen auf den Bereich von -5 bis 30 Grad zu begrenzen, damit die Plots vergleichbar sind."
   ]
  },
  {
   "cell_type": "code",
   "execution_count": null,
   "metadata": {},
   "outputs": [],
   "source": [
    "temperature_data = {'Osnabrueck': np.array([[ 0,  4],\n",
    "                                           [-1,  4],\n",
    "                                           [ 2,  8],\n",
    "                                           [ 4, 12],\n",
    "                                           [ 8, 17],\n",
    "                                           [11, 20],\n",
    "                                           [13, 22],\n",
    "                                           [13, 22],\n",
    "                                           [11, 18],\n",
    "                                           [ 7, 13],\n",
    "                                           [ 3,  8],\n",
    "                                           [ 1,  5]]),\n",
    "                    'Trento': np.array([[ 4,  8],\n",
    "                                       [ 3,  8],\n",
    "                                       [ 5, 10],\n",
    "                                       [ 8, 13],\n",
    "                                       [12, 18],\n",
    "                                       [16, 22],\n",
    "                                       [18, 25],\n",
    "                                       [18, 24],\n",
    "                                       [15, 21],\n",
    "                                       [12, 16],\n",
    "                                       [ 7, 12],\n",
    "                                       [ 5,  9]])\n",
    "}\n",
    "### BEGIN SOLUTION\n",
    "def make_temperature_plot(city_data):\n",
    "    \n",
    "    figure, (ax1,ax2) = plt.subplots(2, 1)\n",
    "    \n",
    "    ax1.set(ylim=[-5, 30], title='low',ylabel='Temperature [°C]')\n",
    "    ax1.set_xticks([])\n",
    "    ax2.set(ylim=[-5, 30], title='high',ylabel='Temperature [°C]',xlabel='Month')\n",
    "    \n",
    "    ax1.plot([1, 2, 3, 4, 5, 6, 7, 8, 9, 10, 11, 12],city_data[\"Osnabrueck\"][:,0],label=\"Osnabrueck\",marker=\"o\")\n",
    "    ax1.plot([1, 2, 3, 4, 5, 6, 7, 8, 9, 10, 11, 12],city_data[\"Trento\"][:,0],label=\"Trento\",marker=\"o\")\n",
    "    ax1.legend()\n",
    "    \n",
    "    ax2.plot([0,1, 2, 3, 4, 5, 6, 7, 8, 9, 10, 11],city_data[\"Osnabrueck\"][:,1],label=\"Osnabrueck\",marker=\"o\")\n",
    "    ax2.plot([0,1, 2, 3, 4, 5, 6, 7, 8, 9, 10, 11],city_data[\"Trento\"][:,1],label=\"Trento\",marker=\"o\")\n",
    "    ax2.set_xticks([0,1,2,3,4,5,6,7,8,9,10,11])\n",
    "    ax2.set_xticklabels([1, 2, 3, 4, 5, 6, 7, 8, 9, 10, 11,12])\n",
    "    ax2.legend(loc=\"upper left\")\n",
    "    \n",
    "    figure.suptitle('Average temperatures in Trento and Osnabrueck')\n",
    "### END SOLUTION\n",
    "make_temperature_plot(temperature_data)"
   ]
  },
  {
   "cell_type": "markdown",
   "metadata": {},
   "source": [
    "Sieht dein Plot etwa so aus?\n",
    "\n",
    "![Temparaturen](./images/05/task2b.png)"
   ]
  },
  {
   "cell_type": "markdown",
   "metadata": {},
   "source": [
    "c) Wir setzen unsere Wetteruntersuchung fort, indem wir ein Balkendiagramm der Gesamtniederschläge in verschiedenen deutschen Städten erstellen. Die Funktion `make_barplot(data)` nimmt ein Wörterbuch, das die Städtenamen den Niederschlagswerten zuordnet. Sortieren Sie die Daten und zeigen Sie die Balken an. Berechnen Sie den Mittelwert der Daten und zeigen Sie ihn im Plot als graue horizontale Linie an. Färben Sie jeden Balken, der unterhalb des Mittelwerts liegt, in `rgb(255, 99, 71)`, alles oberhalb des Mittelwerts in `#4682B4`. Zur besseren Lesbarkeit werden die Beschriftungen um 25 Grad gedreht und rechtsbündig ausgerichtet. Schauen Sie in der Dokumentation von matplotlib nach, wie Sie diese Effekte erreichen."
   ]
  },
  {
   "cell_type": "code",
   "execution_count": null,
   "metadata": {},
   "outputs": [],
   "source": [
    "rain_data = {'Bielefeld': 906,\n",
    "             'Köln': 886,\n",
    "             'Hamburg': 806,\n",
    "             'Karlsruhe': 658,\n",
    "             'Hannover': 675,\n",
    "             'Darmstadt': 656,\n",
    "             'Stuttgart': 616,\n",
    "             'Berlin': 563,\n",
    "             'Frankfurt': 555,\n",
    "             'Weimar': 508,}\n",
    "### BEGIN SOLUTION\n",
    "# IHRE LÖSUNG HIER\n",
    "### END SOLUTION\n",
    "make_barplot(rain_data)"
   ]
  },
  {
   "cell_type": "markdown",
   "metadata": {},
   "source": [
    "Sieht dein Plot etwa so aus?\n",
    "\n",
    "![Gesamtniederschläge](./images/05/task2c.png)"
   ]
  },
  {
   "cell_type": "markdown",
   "metadata": {},
   "source": [
    "d) Schreiben Sie eine Funktion `make_inferno_image(img_data)`, die ein 2d-Array nimmt und es als Bild unter Verwendung der `inferno`-Farbkarte anzeigt. Schalten Sie die Achse aus, da sie für Bilder keine Bedeutung hat. Der Farbbalken sollte den gesamten Bereich der möglichen Pixelwerte von 0 bis 1 darstellen. Geben Sie dem Bild einen Farbbalken, damit wir einschätzen können, wie gleichmäßig die Farbkarte wahrnehmbar ist."
   ]
  },
  {
   "cell_type": "code",
   "execution_count": null,
   "metadata": {},
   "outputs": [],
   "source": [
    "kitty_data = plt.imread('./images/05/stinkbug.png')\n",
    "### BEGIN SOLUTION\n",
    "# IHRE LÖSUNG HIER\n",
    "### END SOLUTION\n",
    "make_inferno_image(kitty_data)"
   ]
  },
  {
   "cell_type": "markdown",
   "metadata": {},
   "source": [
    "Sieht dein Plot etwa so aus?\n",
    "\n",
    "![Inferno Katze](./images/05/task2d.png)"
   ]
  },
  {
   "cell_type": "markdown",
   "metadata": {},
   "source": [
    "---\n",
    "\n",
    "Wahlpflichtach Künstliche Intelligenz II: Praktikum "
   ]
  }
 ],
 "metadata": {
  "kernelspec": {
   "display_name": "Python 3",
   "language": "python",
   "name": "python3"
  },
  "language_info": {
   "codemirror_mode": {
    "name": "ipython",
    "version": 3
   },
   "file_extension": ".py",
   "mimetype": "text/x-python",
   "name": "python",
   "nbconvert_exporter": "python",
   "pygments_lexer": "ipython3",
   "version": "3.11.3"
  }
 },
 "nbformat": 4,
 "nbformat_minor": 2
}
