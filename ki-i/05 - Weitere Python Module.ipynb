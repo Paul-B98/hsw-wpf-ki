{
 "cells": [
  {
   "cell_type": "code",
   "execution_count": 1,
   "id": "1f970d98",
   "metadata": {},
   "outputs": [],
   "source": [
    "from decimal import *"
   ]
  },
  {
   "cell_type": "code",
   "execution_count": 2,
   "id": "2e325635",
   "metadata": {},
   "outputs": [
    {
     "data": {
      "text/plain": [
       "0.30000000000000004"
      ]
     },
     "execution_count": 2,
     "metadata": {},
     "output_type": "execute_result"
    }
   ],
   "source": [
    ".2 + 0.1"
   ]
  },
  {
   "cell_type": "code",
   "execution_count": 3,
   "id": "3b015f35",
   "metadata": {},
   "outputs": [
    {
     "data": {
      "text/plain": [
       "Decimal('0.3')"
      ]
     },
     "execution_count": 3,
     "metadata": {},
     "output_type": "execute_result"
    }
   ],
   "source": [
    "Decimal(\"0.2\") + Decimal(\"0.1\")"
   ]
  },
  {
   "cell_type": "code",
   "execution_count": 4,
   "id": "b2de6e67",
   "metadata": {},
   "outputs": [
    {
     "data": {
      "text/plain": [
       "Decimal('-Infinity')"
      ]
     },
     "execution_count": 4,
     "metadata": {},
     "output_type": "execute_result"
    }
   ],
   "source": [
    "Decimal(\"-Infinity\")"
   ]
  },
  {
   "cell_type": "code",
   "execution_count": 6,
   "id": "0d759535",
   "metadata": {},
   "outputs": [
    {
     "data": {
      "text/plain": [
       "Decimal('1.414213562373095048801689')"
      ]
     },
     "execution_count": 6,
     "metadata": {},
     "output_type": "execute_result"
    }
   ],
   "source": [
    "getcontext().prec = 25\n",
    "Decimal(2).sqrt()"
   ]
  },
  {
   "cell_type": "markdown",
   "id": "cb362648",
   "metadata": {},
   "source": [
    "Weitere Infrormationen finden sie im [Decimal](https://docs.python.org/3/library/decimal.html) Modul"
   ]
  },
  {
   "cell_type": "code",
   "execution_count": 7,
   "id": "cae1320c",
   "metadata": {},
   "outputs": [],
   "source": [
    "from datetime import *"
   ]
  },
  {
   "cell_type": "code",
   "execution_count": 8,
   "id": "677ffec8",
   "metadata": {},
   "outputs": [
    {
     "data": {
      "text/plain": [
       "datetime.datetime(2022, 10, 1, 11, 48, 30, 297480)"
      ]
     },
     "execution_count": 8,
     "metadata": {},
     "output_type": "execute_result"
    }
   ],
   "source": [
    "datetime.now()"
   ]
  },
  {
   "cell_type": "code",
   "execution_count": 9,
   "id": "e6de207e",
   "metadata": {},
   "outputs": [
    {
     "data": {
      "text/plain": [
       "datetime.date(2022, 10, 1)"
      ]
     },
     "execution_count": 9,
     "metadata": {},
     "output_type": "execute_result"
    }
   ],
   "source": [
    "date.today()"
   ]
  },
  {
   "cell_type": "code",
   "execution_count": 10,
   "id": "5013c9a6",
   "metadata": {},
   "outputs": [
    {
     "data": {
      "text/plain": [
       "datetime.time"
      ]
     },
     "execution_count": 10,
     "metadata": {},
     "output_type": "execute_result"
    }
   ],
   "source": [
    "time"
   ]
  },
  {
   "cell_type": "code",
   "execution_count": 11,
   "id": "3eb2963d",
   "metadata": {},
   "outputs": [
    {
     "data": {
      "text/plain": [
       "datetime.timedelta"
      ]
     },
     "execution_count": 11,
     "metadata": {},
     "output_type": "execute_result"
    }
   ],
   "source": [
    "timedelta"
   ]
  },
  {
   "cell_type": "code",
   "execution_count": 27,
   "id": "5ca7dabc",
   "metadata": {},
   "outputs": [
    {
     "data": {
      "text/plain": [
       "datetime.datetime(2021, 9, 18, 14, 22, 42, 84699)"
      ]
     },
     "execution_count": 27,
     "metadata": {},
     "output_type": "execute_result"
    }
   ],
   "source": [
    "datetime.now() + timedelta(hours=2)"
   ]
  },
  {
   "cell_type": "markdown",
   "id": "c2629d41",
   "metadata": {},
   "source": [
    "Weitere Infrormationen finden sie im [Datetime](https://docs.python.org/3/library/datetime.html) Modul"
   ]
  },
  {
   "cell_type": "code",
   "execution_count": 12,
   "id": "08439881",
   "metadata": {},
   "outputs": [],
   "source": [
    "import json"
   ]
  },
  {
   "cell_type": "code",
   "execution_count": 13,
   "id": "131d851c",
   "metadata": {},
   "outputs": [
    {
     "data": {
      "text/plain": [
       "'{\"a\": 1, \"b\": 2}'"
      ]
     },
     "execution_count": 13,
     "metadata": {},
     "output_type": "execute_result"
    }
   ],
   "source": [
    "json.dumps({\"a\": 1, \"b\": 2})"
   ]
  },
  {
   "cell_type": "code",
   "execution_count": 14,
   "id": "cc09c50c",
   "metadata": {},
   "outputs": [],
   "source": [
    "with open(\"test.json\", \"w\") as file:\n",
    "    json.dump({\"a\": 1, \"b\": 2}, file)"
   ]
  },
  {
   "cell_type": "code",
   "execution_count": 15,
   "id": "a59f4004",
   "metadata": {},
   "outputs": [
    {
     "data": {
      "text/plain": [
       "{'a': 1, 'b': 2}"
      ]
     },
     "execution_count": 15,
     "metadata": {},
     "output_type": "execute_result"
    }
   ],
   "source": [
    "json.loads('{\"a\": 1, \"b\": 2}')"
   ]
  },
  {
   "cell_type": "code",
   "execution_count": 16,
   "id": "eee5d529",
   "metadata": {},
   "outputs": [
    {
     "name": "stdout",
     "output_type": "stream",
     "text": [
      "{'a': 1, 'b': 2}\n"
     ]
    }
   ],
   "source": [
    "with open(\"test.json\", \"r\") as file:\n",
    "    print(json.load(file))"
   ]
  },
  {
   "cell_type": "markdown",
   "id": "37310fe4",
   "metadata": {},
   "source": [
    "Weitere Infrormationen finden sie im [JSON](https://docs.python.org/3/library/json.html) Modul"
   ]
  },
  {
   "cell_type": "code",
   "execution_count": 17,
   "id": "9bc6175f",
   "metadata": {},
   "outputs": [],
   "source": [
    "from pathlib import Path"
   ]
  },
  {
   "cell_type": "code",
   "execution_count": 18,
   "id": "394692cb",
   "metadata": {},
   "outputs": [],
   "source": [
    "dir_path = Path(\".\").resolve()"
   ]
  },
  {
   "cell_type": "code",
   "execution_count": 26,
   "id": "b4b2efcc",
   "metadata": {},
   "outputs": [
    {
     "data": {
      "text/plain": [
       "PosixPath('/home/delta/project/education/lectures/hsw/wpf-i-grundlagen-python/notebooks')"
      ]
     },
     "execution_count": 26,
     "metadata": {},
     "output_type": "execute_result"
    }
   ],
   "source": [
    "dir_path"
   ]
  },
  {
   "cell_type": "code",
   "execution_count": 19,
   "id": "1b6e20b0",
   "metadata": {},
   "outputs": [
    {
     "data": {
      "text/plain": [
       "True"
      ]
     },
     "execution_count": 19,
     "metadata": {},
     "output_type": "execute_result"
    }
   ],
   "source": [
    "dir_path.is_dir()"
   ]
  },
  {
   "cell_type": "code",
   "execution_count": 20,
   "id": "4f0f300e",
   "metadata": {},
   "outputs": [
    {
     "data": {
      "text/plain": [
       "False"
      ]
     },
     "execution_count": 20,
     "metadata": {},
     "output_type": "execute_result"
    }
   ],
   "source": [
    "dir_path.is_file()"
   ]
  },
  {
   "cell_type": "code",
   "execution_count": 27,
   "id": "f051868f",
   "metadata": {},
   "outputs": [],
   "source": [
    "json_file = dir_path / \"test.json\""
   ]
  },
  {
   "cell_type": "code",
   "execution_count": 28,
   "id": "fecafe77",
   "metadata": {},
   "outputs": [
    {
     "data": {
      "text/plain": [
       "True"
      ]
     },
     "execution_count": 28,
     "metadata": {},
     "output_type": "execute_result"
    }
   ],
   "source": [
    "json_file.is_file()"
   ]
  },
  {
   "cell_type": "code",
   "execution_count": 29,
   "id": "3a05b2f0",
   "metadata": {},
   "outputs": [
    {
     "data": {
      "text/plain": [
       "True"
      ]
     },
     "execution_count": 29,
     "metadata": {},
     "output_type": "execute_result"
    }
   ],
   "source": [
    "json_file.exists()"
   ]
  },
  {
   "cell_type": "code",
   "execution_count": 30,
   "id": "ac608108",
   "metadata": {},
   "outputs": [
    {
     "data": {
      "text/plain": [
       "'test.json'"
      ]
     },
     "execution_count": 30,
     "metadata": {},
     "output_type": "execute_result"
    }
   ],
   "source": [
    "json_file.name"
   ]
  },
  {
   "cell_type": "code",
   "execution_count": 31,
   "id": "e70793f3",
   "metadata": {},
   "outputs": [
    {
     "data": {
      "text/plain": [
       "[PosixPath('00 - Jupyter Notebook Grundlagen.ipynb'),\n",
       " PosixPath('00 - Uebungsaufgaben Jupyter Notebook Grundlagen.ipynb'),\n",
       " PosixPath('01 - Python Grundlagen.ipynb'),\n",
       " PosixPath('01 - Uebungsaufgaben Python Grundlagen.ipynb'),\n",
       " PosixPath('02 - Grundlegende Datenstrukturen.ipynb'),\n",
       " PosixPath('02 - Uebungsaufgaben Grundlegende Datenstrukturen.ipynb'),\n",
       " PosixPath('03 - Kontrollfluss und Objektorientierung.ipynb'),\n",
       " PosixPath('03 - Uebungsaufgaben Kontrollfluss und Objektorientierung.ipynb'),\n",
       " PosixPath('04 - Numerische Berechnungen in Numpy.ipynb'),\n",
       " PosixPath('04 - Uebungsaufgaben Numerische Berechnungen in Numpy.ipynb'),\n",
       " PosixPath('index.ipynb'),\n",
       " PosixPath('05 - Weitere Python Module.ipynb'),\n",
       " PosixPath('06 - Übung doppelt verkettete Liste.ipynb'),\n",
       " PosixPath('06 - Übung doppelt verkettete Liste - Lösung.ipynb'),\n",
       " PosixPath('05 - Erste Visualisierungen in Matplotlib.ipynb'),\n",
       " PosixPath('05 - Uebungsaufgaben Erste Visualisierungen in Matplotlib.ipynb'),\n",
       " PosixPath('06 - Erstes Data Wrangling mit Pandas.ipynb'),\n",
       " PosixPath('06 - Uebungsaufgaben Erstes Data Wrangling mit Pandas.ipynb'),\n",
       " PosixPath('.ipynb_checkpoints/index-checkpoint.ipynb'),\n",
       " PosixPath('.ipynb_checkpoints/01 - Python Grundlagen-checkpoint.ipynb'),\n",
       " PosixPath('.ipynb_checkpoints/01 - Uebungsaufgaben Python Grundlagen-checkpoint.ipynb'),\n",
       " PosixPath('.ipynb_checkpoints/00 - Uebungsaufgaben Jupyter Notebook Grundlagen-checkpoint.ipynb'),\n",
       " PosixPath('.ipynb_checkpoints/03 - Uebungsaufgaben Kontrollfluss und Objektorientierung-checkpoint.ipynb'),\n",
       " PosixPath('.ipynb_checkpoints/02 - Uebungsaufgaben Grundlegende Datenstrukturen-checkpoint.ipynb'),\n",
       " PosixPath('.ipynb_checkpoints/04 - Uebungsaufgaben Numerische Berechnungen in Numpy-checkpoint.ipynb'),\n",
       " PosixPath('.ipynb_checkpoints/02 - Grundlegende Datenstrukturen-checkpoint.ipynb'),\n",
       " PosixPath('.ipynb_checkpoints/03 - Kontrollfluss und Objektorientierung-checkpoint.ipynb'),\n",
       " PosixPath('.ipynb_checkpoints/04 - Numerische Berechnungen in Numpy-checkpoint.ipynb'),\n",
       " PosixPath('.ipynb_checkpoints/00 - Jupyter Notebook Grundlagen-checkpoint.ipynb'),\n",
       " PosixPath('.ipynb_checkpoints/05 - Weitere Python Module-checkpoint.ipynb'),\n",
       " PosixPath('.ipynb_checkpoints/04 - Uebungsaufgaben Numerische Berechnungen in Numpy - Lösung-checkpoint.ipynb'),\n",
       " PosixPath('.ipynb_checkpoints/06 - Übung doppelt verkettete Liste-checkpoint.ipynb'),\n",
       " PosixPath('.ipynb_checkpoints/06 - Übung doppelt verkettete Liste - Lösung-checkpoint.ipynb'),\n",
       " PosixPath('.ipynb_checkpoints/05 - Erste Visualisierungen in Matplotlib-checkpoint.ipynb'),\n",
       " PosixPath('.ipynb_checkpoints/06 - Erstes Data Wrangling mit Pandas-checkpoint.ipynb'),\n",
       " PosixPath('.ipynb_checkpoints/05 - Uebungsaufgaben Erste Visualisierungen in Matplotlib-checkpoint.ipynb'),\n",
       " PosixPath('.ipynb_checkpoints/06 - Uebungsaufgaben Erstes Data Wrangling mit Pandas-checkpoint.ipynb'),\n",
       " PosixPath('solutions/00 - Loesung Jupyter Notebook Grundlagen.ipynb'),\n",
       " PosixPath('solutions/01 - Loesung Python Grundlagen.ipynb'),\n",
       " PosixPath('solutions/02 - Loesung Grundlegende Datenstrukturen.ipynb'),\n",
       " PosixPath('solutions/03 - Loesung Kontrollfluss und Objektorientierung.ipynb'),\n",
       " PosixPath('solutions/04 - Loesung Numerische Berechnungen in Numpy.ipynb'),\n",
       " PosixPath('solutions/05 - Loesung Erste Visualisierungen in Matplotlib.ipynb'),\n",
       " PosixPath('solutions/.ipynb_checkpoints/00 - Loesung Jupyter Notebook Grundlagen-checkpoint.ipynb'),\n",
       " PosixPath('solutions/.ipynb_checkpoints/01 - Loesung Python Grundlagen-checkpoint.ipynb'),\n",
       " PosixPath('solutions/.ipynb_checkpoints/03 - Loesung Kontrollfluss und Objektorientierung-checkpoint.ipynb'),\n",
       " PosixPath('solutions/.ipynb_checkpoints/04 - Loesung Numerische Berechnungen in Numpy-checkpoint.ipynb'),\n",
       " PosixPath('solutions/.ipynb_checkpoints/05 - Loesung Erste Visualisierungen in Matplotlib-checkpoint.ipynb'),\n",
       " PosixPath('solutions/.ipynb_checkpoints/02 - Loesung Grundlegende Datenstrukturen-checkpoint.ipynb')]"
      ]
     },
     "execution_count": 31,
     "metadata": {},
     "output_type": "execute_result"
    }
   ],
   "source": [
    "[*Path(\".\").rglob(\"*.ipynb\")]"
   ]
  },
  {
   "cell_type": "markdown",
   "id": "e6064632",
   "metadata": {},
   "source": [
    "Weitere Infrormationen finden sie im [Pathlib](https://docs.python.org/3/library/pathlib.html) Modul"
   ]
  },
  {
   "cell_type": "code",
   "execution_count": 32,
   "id": "bb624f09",
   "metadata": {},
   "outputs": [],
   "source": [
    "from collections import *"
   ]
  },
  {
   "cell_type": "code",
   "execution_count": 33,
   "id": "f174e408",
   "metadata": {},
   "outputs": [],
   "source": [
    "Point = namedtuple(\"Point\", [\"x\", \"y\"])"
   ]
  },
  {
   "cell_type": "code",
   "execution_count": 34,
   "id": "65d096fa",
   "metadata": {},
   "outputs": [],
   "source": [
    "p = Point(1, 2)"
   ]
  },
  {
   "cell_type": "code",
   "execution_count": 35,
   "id": "c485261c",
   "metadata": {},
   "outputs": [
    {
     "data": {
      "text/plain": [
       "1"
      ]
     },
     "execution_count": 35,
     "metadata": {},
     "output_type": "execute_result"
    }
   ],
   "source": [
    "p.x"
   ]
  },
  {
   "cell_type": "code",
   "execution_count": 36,
   "id": "36e2c650",
   "metadata": {},
   "outputs": [
    {
     "data": {
      "text/plain": [
       "1"
      ]
     },
     "execution_count": 36,
     "metadata": {},
     "output_type": "execute_result"
    }
   ],
   "source": [
    "p[0]"
   ]
  },
  {
   "cell_type": "markdown",
   "id": "7b8e1c6c",
   "metadata": {},
   "source": [
    "Weitere Infrormationen finden sie im [Namedtuple](https://docs.python.org/3/library/collections.html#collections.namedtuple) Modul"
   ]
  },
  {
   "cell_type": "code",
   "execution_count": 37,
   "id": "34d189e5",
   "metadata": {},
   "outputs": [],
   "source": [
    "d = deque()"
   ]
  },
  {
   "cell_type": "code",
   "execution_count": 38,
   "id": "57077f14",
   "metadata": {},
   "outputs": [],
   "source": [
    "d.extend(range(10))"
   ]
  },
  {
   "cell_type": "code",
   "execution_count": 39,
   "id": "55c33e60",
   "metadata": {},
   "outputs": [
    {
     "data": {
      "text/plain": [
       "deque([0, 1, 2, 3, 4, 5, 6, 7, 8, 9])"
      ]
     },
     "execution_count": 39,
     "metadata": {},
     "output_type": "execute_result"
    }
   ],
   "source": [
    "d"
   ]
  },
  {
   "cell_type": "markdown",
   "id": "b456d440",
   "metadata": {},
   "source": [
    "Weitere Infrormationen finden sie im [Deque](https://docs.python.org/3/library/collections.html#collections.deque) Modul"
   ]
  },
  {
   "cell_type": "code",
   "execution_count": 40,
   "id": "09cc945c",
   "metadata": {},
   "outputs": [
    {
     "data": {
      "text/plain": [
       "Counter({'A': 4, 'B': 4, 'C': 3, 'D': 1})"
      ]
     },
     "execution_count": 40,
     "metadata": {},
     "output_type": "execute_result"
    }
   ],
   "source": [
    "Counter(\"ABBBBAAACCCD\")"
   ]
  },
  {
   "cell_type": "markdown",
   "id": "f6cc60ca",
   "metadata": {},
   "source": [
    "Weitere Infrormationen finden sie im [Counter](https://docs.python.org/3/library/collections.html#collections.Counter) Modul"
   ]
  },
  {
   "cell_type": "code",
   "execution_count": 41,
   "id": "31277f9b",
   "metadata": {},
   "outputs": [],
   "source": [
    "d = OrderedDict()"
   ]
  },
  {
   "cell_type": "code",
   "execution_count": 42,
   "id": "9757209e",
   "metadata": {},
   "outputs": [],
   "source": [
    "d[\"z\"] = 1"
   ]
  },
  {
   "cell_type": "code",
   "execution_count": 43,
   "id": "6ff30b50",
   "metadata": {},
   "outputs": [],
   "source": [
    "d[\"a\"] = 2"
   ]
  },
  {
   "cell_type": "code",
   "execution_count": 44,
   "id": "1fd00fb4",
   "metadata": {},
   "outputs": [
    {
     "data": {
      "text/plain": [
       "OrderedDict([('z', 1), ('a', 2)])"
      ]
     },
     "execution_count": 44,
     "metadata": {},
     "output_type": "execute_result"
    }
   ],
   "source": [
    "d"
   ]
  },
  {
   "cell_type": "markdown",
   "id": "28b9def5",
   "metadata": {},
   "source": [
    "Weitere Infrormationen finden sie im [OrderedDirct](https://docs.python.org/3/library/collections.html#collections.OrderedDict) Modul"
   ]
  },
  {
   "cell_type": "code",
   "execution_count": 45,
   "id": "934ea036",
   "metadata": {},
   "outputs": [],
   "source": [
    "d = defaultdict(list)"
   ]
  },
  {
   "cell_type": "code",
   "execution_count": 46,
   "id": "f8dbe07d",
   "metadata": {},
   "outputs": [],
   "source": [
    "d[\"a\"].extend(range(10))"
   ]
  },
  {
   "cell_type": "code",
   "execution_count": 47,
   "id": "3038c475",
   "metadata": {},
   "outputs": [
    {
     "data": {
      "text/plain": [
       "defaultdict(list, {'a': [0, 1, 2, 3, 4, 5, 6, 7, 8, 9]})"
      ]
     },
     "execution_count": 47,
     "metadata": {},
     "output_type": "execute_result"
    }
   ],
   "source": [
    "d"
   ]
  },
  {
   "cell_type": "code",
   "execution_count": 48,
   "id": "988696ab",
   "metadata": {},
   "outputs": [],
   "source": [
    "d = defaultdict(str)\n"
   ]
  },
  {
   "cell_type": "code",
   "execution_count": 49,
   "id": "3363ac5f",
   "metadata": {},
   "outputs": [],
   "source": [
    "d[\"s\"] += \"aaaa\""
   ]
  },
  {
   "cell_type": "code",
   "execution_count": 50,
   "id": "3bc42849",
   "metadata": {},
   "outputs": [
    {
     "data": {
      "text/plain": [
       "defaultdict(str, {'s': 'aaaa'})"
      ]
     },
     "execution_count": 50,
     "metadata": {},
     "output_type": "execute_result"
    }
   ],
   "source": [
    "d"
   ]
  },
  {
   "cell_type": "markdown",
   "id": "1f9d7aa5",
   "metadata": {},
   "source": [
    "Weitere Infrormationen finden sie im [DefaultDict](https://docs.python.org/3/library/collections.html#collections.defaultdict) Modul"
   ]
  }
 ],
 "metadata": {
  "kernelspec": {
   "display_name": "Python 3 (ipykernel)",
   "language": "python",
   "name": "python3"
  },
  "language_info": {
   "codemirror_mode": {
    "name": "ipython",
    "version": 3
   },
   "file_extension": ".py",
   "mimetype": "text/x-python",
   "name": "python",
   "nbconvert_exporter": "python",
   "pygments_lexer": "ipython3",
   "version": "3.10.7"
  }
 },
 "nbformat": 4,
 "nbformat_minor": 5
}
