{
 "cells": [
  {
   "cell_type": "markdown",
   "metadata": {},
   "source": [
    "Wahlpflichtach Künstliche Intelligenz I: Rechercheauftrag \n",
    "    \n",
    "---"
   ]
  },
  {
   "cell_type": "markdown",
   "metadata": {},
   "source": [
    "# 00 - Jupyter Notebook Grundlagen\n",
    "\n",
    "- [Jupyter Notebook](#Jupyter-Notebook)\n",
    "- [Die Notebook-Oberfläche](#Die-Notebook-Oberfläche)\n",
    "- [Tastaturkürzel](#Tastaturkürzel)\n",
    "- [Markdown-Zellen](#Markdown-Zellen)\n",
    "- [Kernel](#Kernel)\n",
    "- [Speichern und Checkpoints](#Speichern-und-Checkpoints)\n",
    "- [Tipps & Tricks](#Tipps-&-Tricks)"
   ]
  },
  {
   "cell_type": "markdown",
   "metadata": {},
   "source": [
    "## Jupyter Notebook"
   ]
  },
  {
   "cell_type": "markdown",
   "metadata": {},
   "source": [
    "### Was ist ein Jupyter Notebook?\n",
    "\n",
    "Das Jupyter Notebook ist ein äußerst leistungsfähiges Werkzeug zur interaktiven Entwicklung und Präsentation von Data Science- und **Machine Learning**-Projekten. Ein Notebook integriert Code und dessen Ausgabe in einem einzigen Dokument, welches zusätzlich noch Visualisierungen, erklärenden Text, mathematische Gleichungen und andere Medienkomponenten beinhalten kann. Mit anderen Worten: \n",
    "\n",
    "##### Es ist ein einzelnes Dokument, in dem Sie Code ausführen und die Ausgabe direkt anzeigen sowie Erklärungen, Formeln und Diagramme hinzufügen können, um Ihre Arbeit transparenter, verständlicher, wiederholbar und gemeinsam nutzbar zu machen. "
   ]
  },
  {
   "cell_type": "markdown",
   "metadata": {},
   "source": [
    "### Was bedeutet Jupyter?\n",
    "\n",
    "\"Jupyter\" ist ein offenes Akronym und steht für Julia, Python und R. Diese Programmiersprachen waren die ersten Zielsprachen der Jupyter-Anwendung, aber mittlerweile unterstützt die Notebook-Technologie auch viele andere Sprachen."
   ]
  },
  {
   "cell_type": "markdown",
   "metadata": {},
   "source": [
    "### Was ist die Jupyter Notebook App?\n",
    "\n",
    "Als Server-Client-Anwendung ermöglicht die Jupyter Notebook App die Bearbeitung und Ausführung Ihrer Notebooks über einen Webbrowser. Die Anwendung kann auf einem PC ohne Internetzugang ausgeführt werden, oder sie kann auf einem Remote-Server installiert werden, wo Sie über das Internet darauf zugreifen können. Die beiden Hauptkomponenten sind die Kernel und ein Dashboard.\n",
    "\n",
    "Ein Kernel ist ein Programm, das den Code des Benutzers prüft und ausführt. Die Jupyter Notebook App hat einen Kernel für Python-Code, aber es gibt auch Kernel für andere Programmiersprachen.\n",
    "\n",
    "Das Dashboard der Anwendung zeigt Ihnen nicht nur die Notebook-Dokumente, die Sie erstellt haben und wieder öffnen können, sondern kann auch zur Verwaltung der Kernel verwendet werden: Sie können sehen, welche laufen und sie bei Bedarf herunterfahren."
   ]
  },
  {
   "cell_type": "markdown",
   "metadata": {},
   "source": [
    "### Jupyter Notebook einrichten\n",
    "\n",
    "* **Installieren und Ausführen von Jupyter-Notebooks mit der Python-Distribution Anaconda**\n",
    "* Installieren und Ausführen von Jupyter Notebook mit pip (pip installs packages)\n",
    "* Installieren und Ausführen Jupyter-Notebooks in Docker-Containern\n",
    "\n",
    "Alternative: \n",
    "* **Ausführen von Jupyter-Notebooks in Google Colab**"
   ]
  },
  {
   "cell_type": "markdown",
   "metadata": {},
   "source": [
    "### Was ist eine ipynb Datei?\n",
    "\n",
    "**Die kurze Antwort:** Jede .ipynb-Datei ist ein Notizbuch, d. h. jedes Mal, wenn Sie ein neues Notizbuch erstellen, wird eine neue .ipynb-Datei erzeugt.\n",
    "\n",
    "**Die längere Antwort:** Jede .ipynb-Datei ist eine Textdatei, die den Inhalt Ihres Notizbuchs in einem JSON-Format beschreibt. Jede Zelle und ihr Inhalt, einschließlich Bildanhängen, die in Textstrings konvertiert wurden, wird darin zusammen mit einigen Metadaten aufgelistet."
   ]
  },
  {
   "cell_type": "markdown",
   "metadata": {},
   "source": [
    "## Die Notebook-Oberfläche\n",
    "\n",
    "Jetzt, wo Sie ein geöffnetes Notebook vor sich haben, wird Ihnen dessen Oberfläche hoffentlich nicht völlig fremd vorkommen. Ein Jupyter Notebook ist im Grunde nur eine erweiterte Textverarbeitung.\n",
    "\n",
    "Warum schauen Sie sich nicht ein wenig um? Schauen Sie sich die Menüs an, um ein Gefühl für Jupyter Notebook zu bekommen und nehmen Sie sich ein paar Augenblicke Zeit und testen ein paar Funktionen über die Menü- und Werkzeugleiste. Schauen Sie sich auch die Liste der Befehle in der Befehlspalette an, die sie unter der Schaltfläche namens *Edit* finden."
   ]
  },
  {
   "cell_type": "markdown",
   "metadata": {},
   "source": [
    "Zentral bei der Arbeit mit Jupyter Notebook sind Kernel und Zellen:\n",
    "\n",
    "* Ein Kernel ist eine \" Rechen-Engine\", die den in einem Notebook-Dokument enthaltenen Code ausführt. \n",
    "* Eine Zelle ist ein Behälter für Text, der im Notebook angezeigt werden soll, oder für Code, der vom Kernel des Notebooks ausgeführt werden soll.\n",
    "\n",
    "Wir werden etwas später auf Kernel zurückkommen, aber zuerst wollen wir uns mit Zellen beschäftigen. Zellen bilden den Hauptteil eines Notebooks. Es gibt zwei Haupttypen von Zellen, die wir behandeln werden:\n",
    "\n",
    "* Eine Code-Zelle enthält Code, der im Kernel ausgeführt werden soll. Wenn der Code ausgeführt wird, zeigt das Notebook die Ausgabe unterhalb der Code-Zelle an, die ihn erzeugt hat.\n",
    "* Eine Markdown-Zelle enthält Text, der mit Markdown formatiert wurde, und zeigt seine Ausgabe an Ort und Stelle an, wenn die Markdown-Zelle ausgeführt wird."
   ]
  },
  {
   "cell_type": "markdown",
   "metadata": {},
   "source": [
    "Die erste Zelle in einem neuen Notizbuch ist immer eine Code-Zelle. Lassen Sie uns das mit einem klassischen Hallo-Welt-Beispiel ausprobieren: Geben Sie `print('Hello World!')` in die Zelle ein und klicken Sie auf die Ausführen-Schaltfläche Notebook Run Button in der Werkzeugleiste oben (oder drücken Sie Strg + Enter)."
   ]
  },
  {
   "cell_type": "code",
   "execution_count": null,
   "metadata": {},
   "outputs": [],
   "source": [
    "print('Hello World!')"
   ]
  },
  {
   "cell_type": "markdown",
   "metadata": {},
   "source": [
    "Wenn wir die Zelle ausführen, wird ihre Ausgabe darunter angezeigt und die Beschriftung links von ihr hat sich von In [ ] zu In [1] geändert.\n",
    "\n",
    "Die Ausgabe einer Code-Zelle ist ebenfalls Teil des Dokuments, weshalb Sie sie in diesem Abschnitt sehen können. Sie können den Unterschied zwischen Code- und Markdown-Zellen immer daran erkennen, dass Code-Zellen diese Beschriftung auf der linken Seite haben und Markdown-Zellen nicht.\n",
    "\n",
    "Der \"In\"-Teil der Beschriftung steht einfach für \"Input\", während die Nummer der Beschriftung angibt, wann die Zelle auf dem Kernel ausgeführt wurde - in diesem Fall wurde die Zelle als erstes ausgeführt.\n",
    "\n",
    "Führen Sie die Zelle erneut aus und die Beschriftung ändert sich zu In [2], da die Zelle nun als zweites auf dem Kernel ausgeführt wurde. Warum dies nützlich ist, wird später klarer, wenn wir uns die Kernel genauer ansehen.\n",
    "\n",
    "Klicken Sie in der Menüleiste auf \"Insert\" und wählen Sie \"Insert Cell Below\", um eine neue Codezelle unterhalb Ihrer ersten zu erstellen und probieren Sie den folgenden Code aus, um zu sehen, was passiert. Fällt Ihnen ein Unterschied auf?"
   ]
  },
  {
   "cell_type": "code",
   "execution_count": null,
   "metadata": {},
   "outputs": [],
   "source": [
    "import time\n",
    "time.sleep(3)"
   ]
  },
  {
   "cell_type": "markdown",
   "metadata": {},
   "source": [
    "Diese Zelle erzeugt keine Ausgabe, aber sie benötigt drei Sekunden zur Ausführung. Beachten Sie, wie Jupyter signalisiert, wann die Zelle gerade ausgeführt wird, indem es ihre Beschriftung in In [*] ändert.\n",
    "\n",
    "Im Allgemeinen besteht die Ausgabe einer Zelle aus allen Textdaten, die speziell während der Ausführung der Zelle ausgegeben werden sowie aus dem Wert der letzten Zeile in der Zelle. Das kann z.B. eine einzelne Variable, ein Funktionsaufruf oder etwas anderes sein.\n",
    "\n",
    "Sie werden das fast ständig in Ihren eigenen Projekten verwenden und wir werden später noch mehr davon sehen."
   ]
  },
  {
   "cell_type": "code",
   "execution_count": null,
   "metadata": {},
   "outputs": [],
   "source": [
    "def say_hello(recipient):\n",
    "    return f'Hello, {recipient}!'\n",
    "\n",
    "say_hello('Max')"
   ]
  },
  {
   "cell_type": "markdown",
   "metadata": {},
   "source": [
    "## Tastaturkürzel\n",
    "\n",
    "Sie haben vielleicht beim Ausführen der Zellen beobachtet, dass ihr Rand blau wird, während er beim Bearbeiten grün war. In einem Jupyter-Notizbuch gibt es immer eine \"aktive\" Zelle, die mit einem Rahmen hervorgehoben ist, dessen Farbe ihren aktuellen Modus bezeichnet:\n",
    "\n",
    "* Grüne Umrandung - Zelle ist im \"Bearbeitungsmodus\"\n",
    "* Blaue Umrandung - Zelle befindet sich im \"Befehlsmodus\".\n",
    "\n",
    "Was können wir also mit einer Zelle machen, wenn sie sich im Befehlsmodus befindet? Bisher haben wir gesehen, wie man eine Zelle mit Strg + Enter ausführt, aber es gibt noch eine Menge anderer Befehle, die wir verwenden können. Der beste Weg, sie zu verwenden, sind Tastaturkürzel.\n",
    "\n",
    "Tastaturkürzel sind ein sehr beliebter Aspekt der Jupyter-Umgebung, weil sie einen schnellen zellbasierten Arbeitsablauf ermöglichen. Viele davon sind Aktionen, die Sie auf der aktiven Zelle ausführen können, wenn diese sich im Befehlsmodus befindet.\n",
    "\n",
    "Im Folgenden finden Sie eine Liste mit einigen der Jupyter-Tastaturkürzel. Sie müssen sie nicht alle sofort auswendig lernen, aber diese Liste sollte Ihnen eine gute Vorstellung davon geben, was möglich ist.\n",
    "\n",
    "* Wechseln Sie mit Esc bzw. Enter zwischen Bearbeitungs- und Befehlsmodus.\n",
    "* Sobald Sie sich im Befehlsmodus befinden:\n",
    "    * Blättern Sie mit den Hoch- und Runter-Tasten in den Zellen.\n",
    "    * Drücken Sie A oder B, um eine neue Zelle über oder unter der aktiven Zelle einzufügen.\n",
    "    * M wandelt die aktive Zelle in eine Markdown-Zelle um.\n",
    "    * Y wandelt die aktive Zelle in eine Code-Zelle um.\n",
    "    * D + D (zweimal D) löscht die aktive Zelle.\n",
    "    * Z macht das Löschen der Zelle rückgängig.\n",
    "    * Halten Sie die Umschalttaste gedrückt und drücken Sie die Hoch- oder Runter-Taste, um mehrere Zellen auf einmal auszuwählen. Wenn mehrere Zellen ausgewählt sind, können Sie mit Umschalt + M die Auswahl zu einer Zelle zusammenfügen.\n",
    "* Strg + Umschalt + - teilt im Bearbeitungsmodus die aktive Zelle am Cursor in zwei Zellen.\n",
    "* Sie können auch in den Rand links von Ihren Zellen mit Umschalt + Linksklick klicken, um sie auszuwählen und zu markieren.\n",
    "\n",
    "Probieren Sie diese in Ihrem eigenen Notebook aus. Sobald Sie bereit sind, erstellen Sie eine neue Markdown-Zelle und wir lernen, wie wir den Text in unseren Notebooks formatieren können."
   ]
  },
  {
   "cell_type": "markdown",
   "metadata": {},
   "source": [
    "## Markdown-Zellen\n",
    "\n",
    "Markdown ist eine schlanke, einfach zu erlernende Markup-Sprache zur Formatierung von einfachem Text. Ihre Syntax hat eine Eins-zu-Eins-Entsprechung mit HTML-Tags, so dass einige Vorkenntnisse hier hilfreich wären, aber definitiv keine Voraussetzung sind.\n",
    "\n",
    "Erinnern Sie sich daran, dass diese Veranstaltung in einem Jupyter-Notebook geschrieben wurde. Damit wurden alle Texte und Bilder, die Sie bis jetzt gesehen haben, in Markdown geschrieben. Lassen Sie uns die Grundlagen anhand eines kurzen Beispiels besprechen:"
   ]
  },
  {
   "cell_type": "markdown",
   "metadata": {},
   "source": [
    "# Überschrit 1\n",
    "\n",
    "## Überschrift 2\n",
    "\n",
    "Dieser Text erstelt einen Absatz. Wörrter und Texte können auch **fett** oder *kursiv* sein.\n",
    "\n",
    "Absätze müssen durch eine Leerzeile getrennt sein.\n",
    "\n",
    "* Sie können auch eine Liste erstellen\n",
    "* Mit dem __*__ erstellen sie Stichpunkte\n",
    "\n",
    "1. Sie können aber auch eine Aufzählung erstellen.\n",
    "2. Diese können mittels Zahlen erzuegt werden.\n",
    "\n",
    "[Link zu einer Webseite](https://www.example.com)\n",
    "\n",
    "Sie können auch Quelltext mit den Anführungszeichen (\\`) in den Text einbestten `foo()` oder einen Block mit drei Anführungszeichen erstellen:\n",
    "```python\n",
    "bar()\n",
    "```\n",
    "Alternative ist dies auch durch das ein Rücken mit vier Leerzeichen möglich\n",
    "\n",
    "    bar()\n",
    "\n",
    "    \n",
    "Zusätzlich können sie auch noch ein Bild einbinden: ![Alt Text](https://www.python.org/static/img/python-logo@2x.png)\n"
   ]
  },
  {
   "cell_type": "markdown",
   "metadata": {},
   "source": [
    "Wenn Sie Bilder anhängen, haben Sie drei Möglichkeiten:\n",
    "\n",
    "* Verwenden Sie eine URL zu einem Bild im Web.\n",
    "* Verwenden Sie eine lokale URL zu einem Bild, das Sie zusammen mit Ihrem Notebook aufbewahren werden, z. B. im gleichen Git-Repository.\n",
    "* Fügen Sie einen Anhang über \"Bearbeiten > Bild einfügen\" hinzu. Dies konvertiert das Bild in eine Zeichenkette und speichert es in der .ipynb-Datei Ihres Notebooks. Beachten Sie, dass dadurch Ihre .ipynb-Datei viel größer wird!\n",
    "\n",
    "Markdown kann noch viel mehr, vor allem in Bezug auf Hyperlinks, und es ist auch möglich, einfaches HTML einzufügen. Wenn Sie mit den obigen Grundlagen an Ihre Grenzen stoßen, können Sie den [offiziellen Guide](https://daringfireball.net/projects/markdown/syntax) des Erfinders von Markdown, John Gruber, auf seiner Website einsehen.\n",
    "\n",
    "**Machen Sie sich jetzt kurz mit Markdown-Zellen vertraut!**"
   ]
  },
  {
   "cell_type": "markdown",
   "metadata": {},
   "source": [
    "## Kernel\n",
    "\n",
    "Hinter jedem Notebook läuft ein Kernel. Wenn Sie eine Code-Zelle ausführen, wird dieser Code innerhalb des Kernels ausgeführt. Jede Ausgabe wird an die Zelle zurückgegeben, um angezeigt zu werden. Der Zustand des Kernels bleibt über die Zeit und zwischen den Zellen bestehen - er bezieht sich auf das Dokument als Ganzes und nicht auf einzelne Zellen.\n",
    "\n",
    "Wenn Sie z. B. Bibliotheken importieren oder Variablen in einer Zelle deklarieren, sind diese in einer anderen verfügbar. Lassen Sie uns das ausprobieren, um ein Gefühl dafür zu bekommen. Zuerst importieren wir ein Python-Paket und definieren eine Funktion:"
   ]
  },
  {
   "cell_type": "code",
   "execution_count": null,
   "metadata": {},
   "outputs": [],
   "source": [
    "from random import randint\n",
    "\n",
    "def square(x):\n",
    "    return x * x"
   ]
  },
  {
   "cell_type": "markdown",
   "metadata": {},
   "source": [
    "Sobald wir die Zelle oben ausgeführt haben, können wir *np* und *square* in jeder anderen Zelle referenzieren. "
   ]
  },
  {
   "cell_type": "code",
   "execution_count": null,
   "metadata": {},
   "outputs": [],
   "source": [
    "x = randint(1, 10)\n",
    "y = square(x)\n",
    "print(f'{x} squared is {y}')"
   ]
  },
  {
   "cell_type": "markdown",
   "metadata": {},
   "source": [
    "Dies funktioniert unabhängig von der Reihenfolge der Zellen in Ihrem Notebook. Solange eine Zelle ausgeführt wurde, sind alle Variablen, die Sie deklariert oder Bibliotheken, die Sie importiert haben, auch in anderen Zellen verfügbar.\n",
    "\n",
    "Sie können es selbst ausprobieren. Geben Sie Ihre Variablen erneut in einer neuen Zelle aus."
   ]
  },
  {
   "cell_type": "code",
   "execution_count": null,
   "metadata": {},
   "outputs": [],
   "source": [
    "print(f'Is {x} squared {y}?')"
   ]
  },
  {
   "cell_type": "markdown",
   "metadata": {},
   "source": [
    "Das ist keine Überraschung! Aber was passiert, wenn wir den Wert von y ändern?"
   ]
  },
  {
   "cell_type": "code",
   "execution_count": null,
   "metadata": {},
   "outputs": [],
   "source": [
    "y = 10\n",
    "print(f'Is {x} squared {y}?')"
   ]
  },
  {
   "cell_type": "markdown",
   "metadata": {},
   "source": [
    "Wir erhalten die folgende Ausgabe: *Is 4 10?* Das liegt daran, dass, sobald wir die Codezelle *y = 10* ausgeführt haben, *y* nicht mehr gleich dem Quadrat von *x* im Kernel ist. \n",
    "\n",
    "In den meisten Fällen, wenn Sie ein Notebook erstellen, wird der Ablauf von oben nach unten erfolgen. Aber es ist üblich, zurück zu gehen, um Änderungen vorzunehmen. Wenn wir Änderungen an einer früheren Zelle vornehmen müssen, kann uns die Ausführungsreihenfolge, die wir links von jeder Zelle sehen können (z. B. In [6]), helfen Probleme zu identifizieren.\n",
    "\n",
    "Und wenn wir etwas zurücksetzen wollen, gibt es mehrere äußerst nützliche Optionen im Kernel-Menü:\n",
    "\n",
    "* **Restart:** Startet den Kernel neu und löscht dabei alle definierten Variablen etc.\n",
    "* **Restart & Clear Output:** Wie oben, löscht aber auch die Ausgabe, die unter Ihren Code-Zellen angezeigt wird.\n",
    "* **Restart & Run All:** Wie oben, aber zusätzlich werden alle Zellen in der Reihenfolge von der ersten bis zur letzten Zelle ausgeführt.\n",
    "* **Interrupt:** Wenn Ihr Kernel einmal bei einer Berechnung feststeckt und Sie ihn anhalten möchten, können Sie die Option \"Interrupt\" wählen."
   ]
  },
  {
   "cell_type": "markdown",
   "metadata": {},
   "source": [
    "### Auswählen eines Kernels\n",
    "\n",
    "Sie haben vielleicht bemerkt, dass Jupyter Ihnen die Möglichkeit gibt, den Kernel zu wechseln. Tatsächlich gibt es viele verschiedene Optionen, aus denen Sie wählen können. Als Sie ein neues Notebook aus der Übersicht aus erstellt haben, indem Sie eine Python-Version ausgewählt haben, haben Sie in Wharheit den Kernel gewählt, den Sie verwenden wollen.\n",
    "\n",
    "Es gibt Kernel für verschiedene Versionen von Python, aber auch für über 100 andere Programmiersprachen (darunter u.a. auch Java und C). Für Data Scientisten sind vor allem die Kernel für Python, R und Julia und Matlab interessant. Um andere Kernel zu nutzen, müssen diese ebenfalls installiert werden. Dazu gibt es meistens separate Installationsanweisungen."
   ]
  },
  {
   "cell_type": "markdown",
   "metadata": {},
   "source": [
    "## Speichern und Checkpoints\n",
    "\n",
    "Beim Klick auf Save and Checkpoint wird eure ipynb-Datei gespeichert. Aber was hat es mit dem Checkpoint auf sich?\n",
    "\n",
    "Jedesmal, wenn Sie ein neues Notebook anlegt, wird auch eine Datei angelegt, die üblicherweise alle 120 Sekunden automatisch eure Änderungen speichert. Dieser Checkpoint findet sich üblicherweise in einem versteckten Verzeichnis namens *.ipynb_checkpoints/*. Diese Checkpoint-Datei ermöglicht Ihnen daher, eure nicht gespeicherten Daten im Falle eines unerwarteten Problems wiederherzustellen. Sie können in File ‣ Revert to Checkpoint zu einer der letzten Checkpoints zurückgehen.\n"
   ]
  },
  {
   "cell_type": "markdown",
   "metadata": {},
   "source": [
    "## Tipps & Tricks\n",
    "\n",
    "* Geben Sie dem Notebook einen Titel und ein aussagekräftiges Vorwort um den Inhalt und Zweck des Notebooks zu beschreiben.\n",
    "\n",
    "* Erstellen Sie Überschriften und Dokumentationen in Markdown-Zellen um Ihr Notebook zu strukturieren und Ihre Workflow-Schritte zu erläutern. Das ist besonders für Ihre Kollegen oder für Ihr zukünftiges selbst hilfreich.\n",
    "\n",
    "* Probieren Sie bei Bedarf [Notebook-Erweiterungen](https://jupyter-contrib-nbextensions.readthedocs.io/en/latest/) aus, um z.B. weitere, häufig benötigte Code-Blöcke wie typische Importanweisungen oder Inhaltsverzeichnisse bequem einfügen zu können."
   ]
  },
  {
   "cell_type": "markdown",
   "metadata": {},
   "source": [
    "Hier ist das Übungsblatt zu diesem Notebook: [**00 - Übungsaufgaben Jupyter Notebook Grundlagen**](00_uebungsaufgaben_jupyter_notebook_grundlagen.ipynb)"
   ]
  },
  {
   "cell_type": "markdown",
   "metadata": {},
   "source": [
    "---\n",
    "\n",
    "\n",
    "Wahlpflichtach Künstliche Intelligenz I: Rechercheauftrag [**>> 01 - Python Grundlagen**](01_python_grundlagen.ipynb)"
   ]
  }
 ],
 "metadata": {
  "kernelspec": {
   "display_name": "Python 3 (ipykernel)",
   "language": "python",
   "name": "python3"
  },
  "language_info": {
   "codemirror_mode": {
    "name": "ipython",
    "version": 3
   },
   "file_extension": ".py",
   "mimetype": "text/x-python",
   "name": "python",
   "nbconvert_exporter": "python",
   "pygments_lexer": "ipython3",
   "version": "3.11.3"
  },
  "vscode": {
   "interpreter": {
    "hash": "e7370f93d1d0cde622a1f8e1c04877d8463912d04d973331ad4851f04de6915a"
   }
  }
 },
 "nbformat": 4,
 "nbformat_minor": 4
}
