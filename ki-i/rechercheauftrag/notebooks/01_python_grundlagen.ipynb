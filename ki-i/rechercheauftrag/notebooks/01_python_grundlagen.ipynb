{
 "cells": [
  {
   "cell_type": "markdown",
   "metadata": {},
   "source": [
    "Wahlpflichtfach Künstliche Intelligenz I: Rechercheauftrag  [**<< 00 - Jupyter Notebook Grundlagen**](00_jupyter_notebook_grundlagen.ipynb)\n",
    "\n",
    "---"
   ]
  },
  {
   "cell_type": "markdown",
   "metadata": {},
   "source": [
    "# 01 - Python Grundlagen\n",
    "\n",
    "- [Installieren und Importieren von Paketen](#Installieren-und-Importieren-von-Paketen)\n",
    "- [Python](#Python)\n",
    "- [Variablen](#Variablen)\n",
    "- [Grundlegende Datentypen](#Grundlegende-Datentypen)\n",
    "- [Grundlegende Operatoren](#Grundlegende-Operatoren)\n",
    "- [Built-in Funktion: Print](#Built-in-Funktion:-Print)"
   ]
  },
  {
   "cell_type": "markdown",
   "metadata": {},
   "source": [
    "## Installieren und Importieren von Paketen\n",
    "\n",
    "Es ist üblich am Beginn eines Notebooks mit einer Code-Zelle zu beginnen, die speziell für den Import und die Einrichtung vorgesehen ist. Wenn Sie weitere Pakete hinzufügen oder ändern möchten, können sie die Zelle einfach bearbeiten und erneut ausführen ohne dass es zu Seiteneffekten kommt. \n",
    "\n",
    "Pakete werden grundsätzlich mit dem *import* statement importiert. Bevor Pakete importiert werden können müssen sie in der Regel erst installiert werden. Die Verwendung von genauen Modulen wird später noch besprochen."
   ]
  },
  {
   "cell_type": "code",
   "execution_count": null,
   "metadata": {},
   "outputs": [],
   "source": [
    "import numpy as np"
   ]
  },
  {
   "cell_type": "markdown",
   "metadata": {},
   "source": [
    "Das installieren von Paketen ist am gängingsten über das Terminal."
   ]
  },
  {
   "cell_type": "markdown",
   "metadata": {},
   "source": [
    "### PIP:\n",
    "\n",
    "Mit pip können Pakete einfach über *pip install [package name]* installiert werden. Hier ein Beispiel für das Paket *numpy*:\n",
    "\n",
    "```bash\n",
    "pip install numpy\n",
    "```"
   ]
  },
  {
   "cell_type": "markdown",
   "metadata": {},
   "source": [
    "### CONDA:\n",
    "\n",
    "Mit conda können Pakete entweder direkt im *base environment* oder in einem eigenen *environment* installiert werden. Die Methode, ein eigenes *environment* für Projekte zur verwenden und dort die entsprechenden Pakete zu installieren hat sich bewährt: Verwenden Sie mit Anaconda dementsprechend ein eigenes *environment*, anstatt Pakete in der *base environment* zu installieren.\n",
    "\n",
    "#### CONDA Environment erstellen:\n",
    "\n",
    "Ein conda *environment* zu erstellen geht schnell und einfach. Dazu geben sie im Terminal einfach den Befehl *conda create -n [environment name]*. Nachdem das *environment* erstellt wurde, können Sie es in dem Terminal über den Befehl *conda activate [environment name]*. Anschließend können Sie Ihre Pakete ihrem *environment* entweder über den bereits bekannten PIP-Befehl *pip install [package name]* oder den CONDA-Befehl *conda install [package name]* installieren.\n",
    "\n",
    "```bash\n",
    "conda install numpy\n",
    "```"
   ]
  },
  {
   "cell_type": "markdown",
   "metadata": {},
   "source": [
    "### Installation direkt im Jupyter Notebook (Google Colab):\n",
    "\n",
    "Wenn sie keine Terminal zur Verfügung haben (z.B. in Google Colab) können Sie direkt in einer Notebook Code-Zelle den Operator `!` verwenden, um ein beliebiges Paket zu installieren. Der Operator `!` teilt der Notebook Code-Zelle mit, dass diese Zeile kein Python-Code ist, sondern ein Kommandozeilen-Skript. Um also ein beliebiges Kommandozeilenskript direkt im Notebook auszuführen, fügen Sie einfach ein `!` vor die Zeile. \n",
    "\n",
    "Zum Beispiel: `!pip install numpy`. Dadurch wird diese Zeile als Terminalzeile und nicht als Python-Code behandelt. Wenn Sie dies jedoch tun, ohne das `!` vor die Zeile zu setzen, wird eine Fehlermeldung mit dem Hinweis _\"Invalid Syntax\"_ ausgegeben."
   ]
  },
  {
   "cell_type": "code",
   "execution_count": null,
   "metadata": {
    "scrolled": true
   },
   "outputs": [],
   "source": [
    "!pip install numpy"
   ]
  },
  {
   "cell_type": "markdown",
   "metadata": {},
   "source": [
    "## Python"
   ]
  },
  {
   "cell_type": "markdown",
   "metadata": {},
   "source": [
    "### The Zen of Python\n",
    "\n",
    "*The Zen of Python* ist eine Sammlung von 19 \"Leitsätzen\" für das Schreiben von Computerprogrammen, die das Design der Programmiersprache Python beeinflusst haben und weiterhin beeinflussen.Der Software Engineer Tim Peters schrieb diesen Grundsatzkatalog und ließ einen 20. Grundsatz *\"for Guido to fill in\"* offen, womit er sich auf Guido van Rossum, den ursprünglichen Autor der Sprache Python, bezieht. Bis jetzt wurde der 20. Grundsatz noch nicht formuliert.\n",
    "\n",
    "Im Mai 2020 schrieb Barry Warsaw ein [Lied](https://www.youtube.com/watch?v=i6G6dmVJy74), das ausschließlich den Text des *Zen of Python* beinhaltet. Weiterhin ist *The Zen of Python* als Easter Egg im Python-Interpreter enthalten, das durch Eingabe von `import this` angezeigt werden kann. "
   ]
  },
  {
   "cell_type": "code",
   "execution_count": null,
   "metadata": {},
   "outputs": [],
   "source": [
    "import this"
   ]
  },
  {
   "cell_type": "markdown",
   "metadata": {},
   "source": [
    "Python ist für sich genommen eine großartige, universelle Programmiersprache, aber mit Hilfe einiger populärer Bibliotheken (_Numpy_, _Matplotlib_, _Pandas_) wird sie zu einer mächtigen Umgebung für Data Science und Machine Learning.\n",
    "\n",
    "Python ist eine High-Level, dynamisch typisierte Multiparadigma-Programmiersprache. Von Python-Code wird oft gesagt, dass er fast wie Pseudocode aussieht, da sehr umfangreiche Ideen in sehr wenigen Codezeilen ausgedrückt werden können und dabei noch einfach lesbar sind."
   ]
  },
  {
   "cell_type": "markdown",
   "metadata": {},
   "source": [
    "### Python Versions\n",
    "\n",
    "Python ist eine Programmiersprache, die seit über 25 Jahren in der Entwicklung ist. Dementsprechen gibt es auch sehr viele [Python-Versionen](https://www.python.org/doc/versions/). Python 3.0 hat viele **abwärts-inkompatible** Änderungen an der Sprache eingeführt, sodass Code, der in Python 2.7 geschrieben wurde, möglicherweise nicht unter Python 3.7 funktioniert und umgekehrt. Dementsprechend wird für dieses Praktikum Python 3.7.0 oder höher verwendet.\n",
    "\n",
    "Sie können Ihre Python-Version im Terminal überprüfen, indem Sie `python --version` ausführen."
   ]
  },
  {
   "cell_type": "code",
   "execution_count": null,
   "metadata": {},
   "outputs": [],
   "source": [
    "!python --version"
   ]
  },
  {
   "cell_type": "markdown",
   "metadata": {},
   "source": [
    "## Variablen\n",
    "\n",
    "Ein Name, der verwendet wird, um etwas oder einen Wert zu bezeichnen, wird als Variable bezeichnet. In Python können Variablen wie folgt deklariert und ihnen Werte zugewiesen werden:"
   ]
  },
  {
   "cell_type": "code",
   "execution_count": null,
   "metadata": {},
   "outputs": [],
   "source": [
    "x = 5\n",
    "y = 10\n",
    "z = 'Hello'"
   ]
  },
  {
   "cell_type": "code",
   "execution_count": null,
   "metadata": {},
   "outputs": [],
   "source": [
    "print(x + y, z)"
   ]
  },
  {
   "cell_type": "markdown",
   "metadata": {},
   "source": [
    "Mehrere Variablen können gleichzeitig mit demselben Wert belegt werden:"
   ]
  },
  {
   "cell_type": "code",
   "execution_count": null,
   "metadata": {},
   "outputs": [],
   "source": [
    "x = y = 10"
   ]
  },
  {
   "cell_type": "code",
   "execution_count": null,
   "metadata": {},
   "outputs": [],
   "source": [
    "print(x,y)"
   ]
  },
  {
   "cell_type": "markdown",
   "metadata": {},
   "source": [
    "## Grundlegende Datentypen\n",
    "\n",
    "Wie die meisten Programmiersprachen verfügt auch Python über eine Reihe von Grundtypen, darunter Ganzzahlen, Fließkommazahlen, Boolesche Operatoren und Strings. Diese Datentypen verhalten sich auf eine Weise, die Sie bereits aus anderen Programmiersprachen kennen.\n",
    "\n",
    "**Zahlen:** Ganzzahlen und Fließkommazahlen verhalten sich so, wie Sie es von anderen Sprachen her gewohnt sind:"
   ]
  },
  {
   "cell_type": "code",
   "execution_count": null,
   "metadata": {},
   "outputs": [],
   "source": [
    "print(10)\n",
    "type(10)"
   ]
  },
  {
   "cell_type": "code",
   "execution_count": null,
   "metadata": {},
   "outputs": [],
   "source": [
    "print(10.5)\n",
    "type(10.5)"
   ]
  },
  {
   "cell_type": "markdown",
   "metadata": {},
   "source": [
    "**Booleans**: Python implementiert alle üblichen Operatoren für Boolesche Logik, es können aber auch englische Wörter statt Symbole verwendet werden (`&&`, `||`, etc.):"
   ]
  },
  {
   "cell_type": "code",
   "execution_count": null,
   "metadata": {},
   "outputs": [],
   "source": [
    "print(True)\n",
    "print(False)\n",
    "type(True)"
   ]
  },
  {
   "cell_type": "markdown",
   "metadata": {},
   "source": [
    "**Strings**: Strings sind geordnete textbasierte Daten, die durch Einschließen in einfache/doppelte/dreifache Anführungszeichen dargestellt werden. Python hat eine großartige Unterstützung für Strings."
   ]
  },
  {
   "cell_type": "code",
   "execution_count": null,
   "metadata": {},
   "outputs": [],
   "source": [
    "print('Hello')\n",
    "type('Hello')"
   ]
  },
  {
   "cell_type": "code",
   "execution_count": null,
   "metadata": {},
   "outputs": [],
   "source": [
    "s0 = 'Python is great!'\n",
    "s1 = \"Python is great!\"\n",
    "s2 = '''Python\n",
    "is\n",
    "great!'''\n",
    "\n",
    "print(s0 , type(s0))\n",
    "print(s1, type(s1))\n",
    "print(s2, type(s2))"
   ]
  },
  {
   "cell_type": "code",
   "execution_count": null,
   "metadata": {},
   "outputs": [],
   "source": [
    "len('Hello')"
   ]
  },
  {
   "cell_type": "markdown",
   "metadata": {},
   "source": [
    "In Python sind String Verkettungen möglich:"
   ]
  },
  {
   "cell_type": "code",
   "execution_count": null,
   "metadata": {},
   "outputs": [],
   "source": [
    "hw = 'Hello' + ' ' + 'World' + '!'\n",
    "print(hw)"
   ]
  },
  {
   "cell_type": "markdown",
   "metadata": {},
   "source": [
    "#### Format-strings: Version 1\n",
    "\n",
    "Standardmäßig werden Format-Strings im C-Stil verwendet. Der \"%\"-Operator formatiert eine Menge von Variablen zusammen mit einer speziellen Format-Zeichenkette. Diese Syntax ist noch aus Python 2 und sie gilt heute als \"veraltete\" Methode. Sie ist \"veraltet\", da sie keinen guten Python-Stil mehr darstellt. Dennoch ist es aktuell in Python möglich:"
   ]
  },
  {
   "cell_type": "code",
   "execution_count": null,
   "metadata": {},
   "outputs": [],
   "source": [
    "hw12 = '%s %s %d' % ('Hello','World', 12)\n",
    "print(hw12) "
   ]
  },
  {
   "cell_type": "code",
   "execution_count": null,
   "metadata": {},
   "outputs": [],
   "source": [
    "import math\n",
    "\n",
    "an_int = 15\n",
    "a_float = math.pi #3.141592653589793\n",
    "a_string = \"string!\"\n",
    "\n",
    "string = \"An int: %d, a rounded float: %.2f, a string: %s\" % (an_int, a_float, a_string)\n",
    "print(string)"
   ]
  },
  {
   "cell_type": "markdown",
   "metadata": {},
   "source": [
    "| Code | Bedeutung |\n",
    "|---------------|-----------------------------------------------------------------------|\n",
    "| %s | String (oder jedes Objekt mit einer String-Darstellung, wie Zahlen |\n",
    "| %d | Ganzzahlen |\n",
    "| %f | Fließkommazahlen |\n",
    "| %.NUMDIGITSf | Fließkommazahlen mit NUMDIGITS-Stellen rechts vom Punkt. |\n",
    "| %x/%X | Ganzzahlen in Hex-Darstellung (Klein-/Großbuchstaben) |"
   ]
  },
  {
   "cell_type": "markdown",
   "metadata": {},
   "source": [
    "#### Format-strings: Version 2\n",
    "\n",
    "Pythons native format()-Methode ist weitaus mächtiger als die obige c-Syntax. Eine vollständige Liste ihrer Argumente finden Sie unter https://docs.python.org/3.4/library/string.html#formatspec. Eine schöne kleine Übersicht finden Sie unter https://wiki.python.org/moin/FormatReference"
   ]
  },
  {
   "cell_type": "code",
   "execution_count": null,
   "metadata": {},
   "outputs": [],
   "source": [
    "# the {} are placeholders and are filled with the arguments of format()\n",
    "print(\"{} is {} years old!\".format('Chris', 20))"
   ]
  },
  {
   "cell_type": "markdown",
   "metadata": {},
   "source": [
    "Die `{}`-Platzhalter können mit Namen versehen werden, um die Reihenfolge irrelevant zu machen."
   ]
  },
  {
   "cell_type": "code",
   "execution_count": null,
   "metadata": {},
   "outputs": [],
   "source": [
    "print(\"{name} is {age} years old!\".format(age=20, name='Chris'))"
   ]
  },
  {
   "cell_type": "markdown",
   "metadata": {},
   "source": [
    "`format()` erlaubt viele, viele Formatierungsoptionen, wie z.B. Ausrichtung und Umwandlung in Dezimalstellen usw.:"
   ]
  },
  {
   "cell_type": "code",
   "execution_count": null,
   "metadata": {},
   "outputs": [],
   "source": [
    "# >     right justified\n",
    "# 10    10 characters long\n",
    "# .2    show 2 decimal places\n",
    "# f     display as floating point number\n",
    "print(\"{:>10.2f}\".format(1))\n",
    "print(\"{:>10.2f}\".format(10))\n",
    "print(\"{:>10.2f}\".format(100))\n",
    "print(\"{:>10.2f}\".format(1000))\n",
    "print(\"{:>10.2f}\".format(10000))"
   ]
  },
  {
   "cell_type": "markdown",
   "metadata": {},
   "source": [
    "#### Format-strings: Version 3\n",
    "\n",
    "Seit Python 3.6 gibt es eine schöne, super-einfache Möglichkeit, formatierte String-Literale zu erzeugen: `fstrings`! fstrings\" sind sehr gut lesbar und sollten die bevorzugte Art sein, Zeichenketten zu formatieren, es sei denn, Sie müssen etwas sehr Komplexes machen, das `str.format` erfordert."
   ]
  },
  {
   "cell_type": "code",
   "execution_count": null,
   "metadata": {},
   "outputs": [],
   "source": [
    "freds_name = \"Fred\"\n",
    "string = f\"He said his name is {freds_name}.\"\n",
    "string"
   ]
  },
  {
   "cell_type": "code",
   "execution_count": null,
   "metadata": {},
   "outputs": [],
   "source": [
    "f\"12 + 16 = {12 + 16}\""
   ]
  },
  {
   "cell_type": "code",
   "execution_count": null,
   "metadata": {},
   "outputs": [],
   "source": [
    "width = 10\n",
    "precision = 5\n",
    "value = 12.34567\n",
    "f\"result: {value:{width}.{precision}}\" "
   ]
  },
  {
   "cell_type": "markdown",
   "metadata": {},
   "source": [
    "String-Objekte haben eine Reihe von nützlichen **Built-in Funktionen**.\n",
    "\n",
    "Die Funktion `find()` gibt den Indexwert der angegebenen Daten zurück, der in der Zeichenkette zu finden ist. Wenn sie nicht gefunden wird, gibt sie **-1** zurück. Denken Sie daran, die zurückgegebene -1 nicht mit dem umgekehrten Indizierungswert zu verwechseln."
   ]
  },
  {
   "cell_type": "code",
   "execution_count": null,
   "metadata": {},
   "outputs": [],
   "source": [
    "s = \"Hello World!\"\n",
    "print(s.find('el'))\n",
    "print(s.find('r'))"
   ]
  },
  {
   "cell_type": "markdown",
   "metadata": {},
   "source": [
    "Der zurückgegebene Indexwert ist der Index des ersten Elements in den Eingangsdaten."
   ]
  },
  {
   "cell_type": "code",
   "execution_count": null,
   "metadata": {},
   "outputs": [],
   "source": [
    "print(s[7])"
   ]
  },
  {
   "cell_type": "markdown",
   "metadata": {},
   "source": [
    "Man kann auch die Funktion `find()` eingeben, zwischen welchen Indexwerten sie zu suchen hat."
   ]
  },
  {
   "cell_type": "code",
   "execution_count": null,
   "metadata": {},
   "outputs": [],
   "source": [
    "print(s.find('o',1))\n",
    "print(s.find('o',1,3))"
   ]
  },
  {
   "cell_type": "markdown",
   "metadata": {},
   "source": [
    "`capitalize()` wird verwendet, um das erste Element in der Zeichenkette groß zu schreiben."
   ]
  },
  {
   "cell_type": "code",
   "execution_count": null,
   "metadata": {},
   "outputs": [],
   "source": [
    "s1 = 'observe the first letter in this sentence.'\n",
    "print(s1.capitalize())"
   ]
  },
  {
   "cell_type": "markdown",
   "metadata": {},
   "source": [
    "`center()` wird verwendet, um die Zeichenkette durch Angabe der Feldbreite mittig auszurichten."
   ]
  },
  {
   "cell_type": "code",
   "execution_count": null,
   "metadata": {},
   "outputs": [],
   "source": [
    "s.center(70)"
   ]
  },
  {
   "cell_type": "markdown",
   "metadata": {},
   "source": [
    "Eine Zeichenkette rechtsbündig/Linksbündig ausrichten, mit Leerzeichen auffüllen"
   ]
  },
  {
   "cell_type": "code",
   "execution_count": null,
   "metadata": {},
   "outputs": [],
   "source": [
    "print(s.rjust(70))\n",
    "print(s.ljust(70))"
   ]
  },
  {
   "cell_type": "markdown",
   "metadata": {},
   "source": [
    "Man kann die ausgelassenen Stellen auch mit einem beliebigen anderen Zeichen füllen."
   ]
  },
  {
   "cell_type": "code",
   "execution_count": null,
   "metadata": {},
   "outputs": [],
   "source": [
    "print(s.center(70,'-'))\n",
    "print(s.rjust(70,'-'))\n",
    "print(s.ljust(70,'-'))"
   ]
  },
  {
   "cell_type": "markdown",
   "metadata": {},
   "source": [
    "`zfill()` wird für das Auffüllen von Nullen durch Angabe der Feldbreite verwendet."
   ]
  },
  {
   "cell_type": "code",
   "execution_count": null,
   "metadata": {},
   "outputs": [],
   "source": [
    "s.zfill(30)"
   ]
  },
  {
   "cell_type": "markdown",
   "metadata": {},
   "source": [
    "Mit `expandtabs()` können Sie den Abstand des Tabulatorzeichens ändern. '\\t', das standardmäßig auf 8 Leerzeichen eingestellt ist."
   ]
  },
  {
   "cell_type": "code",
   "execution_count": null,
   "metadata": {},
   "outputs": [],
   "source": [
    "s2 = 'h\\te\\tl\\tl\\to'\n",
    "print(s2)\n",
    "print(s2.expandtabs(1))\n",
    "print(s2.expandtabs(3))"
   ]
  },
  {
   "cell_type": "markdown",
   "metadata": {},
   "source": [
    "`index()` funktioniert genauso wie die Funktion `find()`, der einzige Unterschied ist, dass find '-1' zurückgibt, wenn das Eingabeelement nicht in der Zeichenkette gefunden wird, die Funktion `index()` jedoch einen ValueError auslöst."
   ]
  },
  {
   "cell_type": "code",
   "execution_count": null,
   "metadata": {},
   "outputs": [],
   "source": [
    "print(s.index('el'))\n",
    "print(s.index('o',0))\n",
    "print(s.index('r',1,5))"
   ]
  },
  {
   "cell_type": "markdown",
   "metadata": {},
   "source": [
    "Die Funktion `endswith()` wird verwendet, um zu prüfen, ob die angegebene Zeichenkette mit dem bestimmten Zeichen endet, das als Eingabe angegeben wird."
   ]
  },
  {
   "cell_type": "code",
   "execution_count": null,
   "metadata": {},
   "outputs": [],
   "source": [
    "print(s.endswith('!'))"
   ]
  },
  {
   "cell_type": "markdown",
   "metadata": {},
   "source": [
    "Die Start- und Stoppindexwerte können ebenfalls angegeben werden."
   ]
  },
  {
   "cell_type": "code",
   "execution_count": null,
   "metadata": {},
   "outputs": [],
   "source": [
    "print(s.endswith('!',0))\n",
    "print(s.endswith('!',0,5))"
   ]
  },
  {
   "cell_type": "markdown",
   "metadata": {},
   "source": [
    "Die Funktion `count()` zählt die Anzahl der Zeichen in der angegebenen Zeichenkette. Der Start- und der Stop-Index können ebenfalls angegeben werden oder leer bleiben (dies sind implizite Argumente, die in Funktionen behandelt werden)."
   ]
  },
  {
   "cell_type": "code",
   "execution_count": null,
   "metadata": {},
   "outputs": [],
   "source": [
    "print(s.count('l',0))\n",
    "print(s.count('l',5,10))"
   ]
  },
  {
   "cell_type": "markdown",
   "metadata": {},
   "source": [
    "`join()` Funktion wird verwendet, um ein Zeichen zwischen die Elemente der Eingangszeichenkette einzufügen."
   ]
  },
  {
   "cell_type": "code",
   "execution_count": null,
   "metadata": {},
   "outputs": [],
   "source": [
    "'a'.join('*_-')"
   ]
  },
  {
   "cell_type": "code",
   "execution_count": null,
   "metadata": {},
   "outputs": [],
   "source": [
    "\", \".join([\"1\", \"2\", \"3\", \"4\"])"
   ]
  },
  {
   "cell_type": "markdown",
   "metadata": {},
   "source": [
    "'*_-' ist die Eingangszeichenkette und das Zeichen 'a' wird zwischen den einzelnen Elementen eingefügt"
   ]
  },
  {
   "cell_type": "markdown",
   "metadata": {},
   "source": [
    "`lower()` wandelt jeden Großbuchstaben in einen Kleinbuchstaben um."
   ]
  },
  {
   "cell_type": "code",
   "execution_count": null,
   "metadata": {},
   "outputs": [],
   "source": [
    "print(s)\n",
    "print(s.lower())"
   ]
  },
  {
   "cell_type": "markdown",
   "metadata": {},
   "source": [
    "`upper()` wandelt jeden Kleinbuchstaben in einen Großbuchstaben um."
   ]
  },
  {
   "cell_type": "code",
   "execution_count": null,
   "metadata": {},
   "outputs": [],
   "source": [
    "s.upper()"
   ]
  },
  {
   "cell_type": "markdown",
   "metadata": {},
   "source": [
    "Die Funktion `replace()` ersetzt das Element durch ein anderes Element."
   ]
  },
  {
   "cell_type": "code",
   "execution_count": null,
   "metadata": {},
   "outputs": [],
   "source": [
    "print(s.replace('World','Philipp'))\n",
    "print(s.replace('l', '(ell)'))"
   ]
  },
  {
   "cell_type": "markdown",
   "metadata": {},
   "source": [
    "Die Funktion `strip()` wird verwendet, um nicht benötigte Elemente am rechten und linken Ende zu löschen. Wenn kein Zeichen angegeben wird, werden alle Leerzeichen gelöscht, die sich rechts und links von den Daten befinden."
   ]
  },
  {
   "cell_type": "code",
   "execution_count": null,
   "metadata": {},
   "outputs": [],
   "source": [
    "f = '    hello      '\n",
    "f.strip()"
   ]
  },
  {
   "cell_type": "markdown",
   "metadata": {},
   "source": [
    "`strip()` Funktion, wenn ein Zeichen angegeben wird, dann löscht sie dieses Zeichen, wenn es an den beiden Enden der angegebenen Zeichenfolge vorhanden ist."
   ]
  },
  {
   "cell_type": "code",
   "execution_count": null,
   "metadata": {},
   "outputs": [],
   "source": [
    "f = '   ***----hello---*******     '\n",
    "f.strip('*')"
   ]
  },
  {
   "cell_type": "markdown",
   "metadata": {},
   "source": [
    "Das Sternchen sollte gelöscht werden, wird aber nicht. Das liegt daran, dass sowohl auf der rechten als auch auf der linken Seite ein Leerzeichen vorhanden ist. Die Zeichen müssen in der spezifischen Reihenfolge, in der sie vorhanden sind, eingegeben werden."
   ]
  },
  {
   "cell_type": "code",
   "execution_count": null,
   "metadata": {},
   "outputs": [],
   "source": [
    "print(f.strip(' *'))\n",
    "print(f.strip(' *-'))"
   ]
  },
  {
   "cell_type": "markdown",
   "metadata": {},
   "source": [
    "Die Funktionen `lstrip()` und `rstrip()` haben die gleiche Funktionalität wie die Funktion strip, der einzige Unterschied ist, dass `lstrip()` nur nach links und `rstrip()` nach rechts löscht."
   ]
  },
  {
   "cell_type": "code",
   "execution_count": null,
   "metadata": {},
   "outputs": [],
   "source": [
    "print(f.lstrip(' *'))\n",
    "print(f.rstrip(' *'))"
   ]
  },
  {
   "cell_type": "markdown",
   "metadata": {},
   "source": [
    "Eine Liste aller String-Methoden finden Sie [in der Dokumentation](https://docs.python.org/3.7/library/stdtypes.html#string-methods)."
   ]
  },
  {
   "cell_type": "markdown",
   "metadata": {},
   "source": [
    "**Nehmen Sie sich einen Moment Zeit und wiederholen Sie das bis jetzt gehörte. Probieren Sie insbesondere verschiedene String-Methoden aus (auch welche, die wir hier nicht besprochen haben!).**"
   ]
  },
  {
   "cell_type": "markdown",
   "metadata": {},
   "source": [
    "#### Built-in Funktionen für Grundlegende Datentypen: Konvertierung von einem Zahlensystem in ein anderes\n",
    "Die Konvertierung von binär nach dezimal erfolgt durch Hinzufügen des Präfixes `0b` zum binären Wert oder umgekehrt mit der eingebauten Funktion `bin()`, hexadezimal nach dezimal durch Hinzufügen des Präfixes `0x` zum hexadezimalen Wert oder umgekehrt mit der eingebauten Funktion `hex()`, oktal nach dezimal durch Hinzufügen des Präfixes `0o` zum oktalen Wert oder umgekehrt mit der eingebauten Funktion `oct()`."
   ]
  },
  {
   "cell_type": "code",
   "execution_count": null,
   "metadata": {},
   "outputs": [],
   "source": [
    "0b10101010"
   ]
  },
  {
   "cell_type": "code",
   "execution_count": null,
   "metadata": {},
   "outputs": [],
   "source": [
    "bin(170)"
   ]
  },
  {
   "cell_type": "code",
   "execution_count": null,
   "metadata": {},
   "outputs": [],
   "source": [
    "0xAA"
   ]
  },
  {
   "cell_type": "code",
   "execution_count": null,
   "metadata": {},
   "outputs": [],
   "source": [
    "hex(170)"
   ]
  },
  {
   "cell_type": "code",
   "execution_count": null,
   "metadata": {},
   "outputs": [],
   "source": [
    "0o10"
   ]
  },
  {
   "cell_type": "code",
   "execution_count": null,
   "metadata": {},
   "outputs": [],
   "source": [
    "oct(8)"
   ]
  },
  {
   "cell_type": "markdown",
   "metadata": {},
   "source": [
    "`int()` akzeptiert bei der Konvertierung zwei Werte, zum einen den Wert in einem anderen Zahlensystem und zum anderen seine Basis. Beachten Sie, dass die Eingangszahl im anderen Zahlensystem vom Typ String sein sollte."
   ]
  },
  {
   "cell_type": "code",
   "execution_count": null,
   "metadata": {},
   "outputs": [],
   "source": [
    "print(int('0o10', 8))\n",
    "print(int('0xaa', 16))\n",
    "print(int('0b1010', 2))"
   ]
  },
  {
   "cell_type": "markdown",
   "metadata": {},
   "source": [
    "`int()` kann auch verwendet werden, um nur den Integer-Wert einer Float-Zahl zu erhalten oder um eine Zahl vom Typ String in das Integer-Format zu konvertieren. In ähnlicher Weise kann die Funktion `str()` verwendet werden, um die Ganzzahl wieder in das String-Format zu konvertieren."
   ]
  },
  {
   "cell_type": "code",
   "execution_count": null,
   "metadata": {},
   "outputs": [],
   "source": [
    "print(int(7.7))\n",
    "print(int('7'))"
   ]
  },
  {
   "cell_type": "markdown",
   "metadata": {},
   "source": [
    "Beachten Sie auch, dass die Funktion `float()` für Fließkomma-Werte verwendet wird. `chr()` wird für die Konvertierung von ASCII in sein Alphabet-Äquivalent verwendet, `ord()` für den umgekehrten Fall."
   ]
  },
  {
   "cell_type": "code",
   "execution_count": null,
   "metadata": {},
   "outputs": [],
   "source": [
    "float(98)"
   ]
  },
  {
   "cell_type": "code",
   "execution_count": null,
   "metadata": {},
   "outputs": [],
   "source": [
    "chr(98)"
   ]
  },
  {
   "cell_type": "code",
   "execution_count": null,
   "metadata": {},
   "outputs": [],
   "source": [
    "ord('b')"
   ]
  },
  {
   "cell_type": "markdown",
   "metadata": {},
   "source": [
    "## Grundlegende Operatoren\n",
    "\n",
    "#### Arithmetische Operatoren\n",
    "\n",
    "| Symbol | Bedeutung |\n",
    "|----|---|\n",
    "| +  | Addition |\n",
    "| -  | Subtraktion |\n",
    "| /  | Division |\n",
    "| %  | Modulo |\n",
    "| *  | Multiplication |\n",
    "| //  | Ganzzahl Division |\n",
    "| **  | Quadrat |"
   ]
  },
  {
   "cell_type": "code",
   "execution_count": null,
   "metadata": {},
   "outputs": [],
   "source": [
    "print(10 + 1)   # Addition\n",
    "print(10 - 1)   # Subtraktion\n",
    "print(10 / 3)   # Division\n",
    "print(10 % 3)   # Modulo\n",
    "print(10 * 2)   # Multiplikation\n",
    "print(10 // 3)  # Ganzzahl Division\n",
    "print(10 ** 2)  # Quadrat\n",
    "print(100 ** 0.5)"
   ]
  },
  {
   "cell_type": "code",
   "execution_count": null,
   "metadata": {},
   "outputs": [],
   "source": [
    "x = 10\n",
    "x += 1\n",
    "print(x)"
   ]
  },
  {
   "cell_type": "code",
   "execution_count": null,
   "metadata": {},
   "outputs": [],
   "source": [
    "x = 10\n",
    "x *= 2\n",
    "print(x)"
   ]
  },
  {
   "cell_type": "markdown",
   "metadata": {},
   "source": [
    "Beachten Sie, dass Python im Gegensatz zu vielen anderen Sprachen keine unären Inkrement- (`x++`) oder Dekrement-Operatoren (`x--`) hat. Python hat auch eingebaute Typen für komplexe Zahlen. Alle Details finden Sie in der [Dokumentation](https://docs.python.org/3.7/library/stdtypes.html#numeric-types-int-float-complex)."
   ]
  },
  {
   "cell_type": "markdown",
   "metadata": {},
   "source": [
    "### Relationale Operatoren\n",
    "\n",
    "| Symbol | Bedeutung |\n",
    "|----|---|\n",
    "| == | Wahr, wenn gleich |\n",
    "| !=  | Wahr, wenn ungleich |\n",
    "| < | Wahr, wenn kleiner |\n",
    "| > | Wahr, wenn größer |\n",
    "| <=  | Wahr, wenn kleiner gleich |\n",
    "| >=  | Wahr, wenn größer gleich |"
   ]
  },
  {
   "cell_type": "code",
   "execution_count": null,
   "metadata": {},
   "outputs": [],
   "source": [
    "print(1 == 1)   # Wahr, wenn gleich\n",
    "print(2 != 1)   # Wahr, wenn ungleich\n",
    "print(1 < 2)    # Wahr, wenn kleiner\n",
    "print(2 > 1)    # Wahr, wenn größer\n",
    "print(1 <= 1)   # Wahr, wenn kleiner gleich\n",
    "print(1 >= 1)   # Wahr, wenn größer gleich"
   ]
  },
  {
   "cell_type": "markdown",
   "metadata": {},
   "source": [
    "### Logische Operatoren\n",
    "\n",
    "| Symbol | Bedeutung |\n",
    "|----|---|\n",
    "| and  | Logisches UND (Konjunktion) |\n",
    "| or  | Logisches ODER (Disjunktion)|\n",
    "| not  | Logisches NICHT (Negation) |"
   ]
  },
  {
   "cell_type": "code",
   "execution_count": null,
   "metadata": {},
   "outputs": [],
   "source": [
    "print(True and True)  # Logisches UND (Konjunktion)\n",
    "print(True or False)  # Logisches ODER (Disjunktion)\n",
    "print(not False)      # Logisches NICHT (Negation)"
   ]
  },
  {
   "cell_type": "markdown",
   "metadata": {},
   "source": [
    "### Bitweise Operatoren\n",
    "\n",
    "| Symbol | Bedeutung |\n",
    "|----|---|\n",
    "| &  | Logisches UND |\n",
    "| l  | Logisches ODER |\n",
    "| ^  | Logisches ENTWEDER-ODER |\n",
    "| ~  | Negation|\n",
    "| >>  | Rechtsverschiebung |\n",
    "| <<  | Linkssverschiebung |"
   ]
  },
  {
   "cell_type": "code",
   "execution_count": null,
   "metadata": {},
   "outputs": [],
   "source": [
    "print(2 & 3)  # Logisches UND\n",
    "print(bin(2))\n",
    "print(bin(3))\n",
    "print(bin(2 & 3)) \n",
    "\n",
    "# 0010 \n",
    "# 0110\n",
    "# 0010"
   ]
  },
  {
   "cell_type": "code",
   "execution_count": null,
   "metadata": {},
   "outputs": [],
   "source": [
    "print(2 | 2)  # Logisches ODER\n",
    "print(bin(2))\n",
    "print(bin(2))\n",
    "print(bin(2 | 2)) \n",
    "\n",
    "# 0010 \n",
    "# 0110\n",
    "# 0110"
   ]
  },
  {
   "cell_type": "code",
   "execution_count": null,
   "metadata": {},
   "outputs": [],
   "source": [
    "print(3 ^ 2)  # Logisches ENTWEDER-ODER\n",
    "print(bin(2))\n",
    "print(bin(3))\n",
    "print(bin(3 ^ 2))\n",
    "\n",
    "# 0010 \n",
    "# 0110\n",
    "# 0100"
   ]
  },
  {
   "cell_type": "code",
   "execution_count": null,
   "metadata": {},
   "outputs": [],
   "source": [
    "print(~5)  # Negation\n",
    "print(bin(5))\n",
    "print(bin(~ 5))\n",
    "\n",
    "# 0010 \n",
    "# 1101"
   ]
  },
  {
   "cell_type": "markdown",
   "metadata": {},
   "source": [
    "Gibt das Komplement von x zurück - die Zahl, die Sie erhalten, wenn Sie jede 1 gegen eine 0 und jede 0 gegen eine 1 austauschen.\n",
    "\n",
    "Dies ist dasselbe wie **- x - 1**. Im obrigen Beispiel der 101 (dezimal 5):\n",
    "\n",
    "     101 (dezimal 5)\n",
    "    -101 (dezimal -5)\n",
    "    -110 (dezimal -6)\n"
   ]
  },
  {
   "cell_type": "code",
   "execution_count": null,
   "metadata": {},
   "outputs": [],
   "source": [
    "print(5 >> 1)  # Rechtsverschiebung\n",
    "print(bin(5))\n",
    "print(bin(5 >> 1))\n",
    "\n",
    "# 0011 \n",
    "# 0001"
   ]
  },
  {
   "cell_type": "markdown",
   "metadata": {},
   "source": [
    "0000 0101 -> 5 \n",
    "\n",
    "Verschieben der Ziffern um 1 nach rechts mit Nullauffüllung\n",
    "\n",
    "0000 0010 -> 2"
   ]
  },
  {
   "cell_type": "code",
   "execution_count": null,
   "metadata": {},
   "outputs": [],
   "source": [
    "print(5 << 1)  # Linksverschiebung\n",
    "print(bin(5))\n",
    "print(bin(5 << 1))\n",
    "\n",
    "# 0010 \n",
    "# 0100"
   ]
  },
  {
   "cell_type": "markdown",
   "metadata": {},
   "source": [
    "0000 0101 -> 5 \n",
    "\n",
    "Verschiebung der Ziffern um 1 nach links mit Nullauffüllung\n",
    "\n",
    "0000 1010 -> 10"
   ]
  },
  {
   "cell_type": "markdown",
   "metadata": {},
   "source": [
    "#### Built-in Funktionen für Operatoren: Vereinfachung der arithmetischen Operationen\n",
    "\n",
    "Die Funktion `round()` rundet den Eingabewert auf eine bestimmte Anzahl von Stellen oder auf die nächste Ganzzahl. "
   ]
  },
  {
   "cell_type": "code",
   "execution_count": null,
   "metadata": {},
   "outputs": [],
   "source": [
    "print(round(5.6231))\n",
    "print(round(4.55892, 2))"
   ]
  },
  {
   "cell_type": "markdown",
   "metadata": {},
   "source": [
    "Mit `complex()` wird eine komplexe Zahl definiert und `abs()` gibt den Absolutwert derselben aus."
   ]
  },
  {
   "cell_type": "code",
   "execution_count": null,
   "metadata": {},
   "outputs": [],
   "source": [
    "c = complex('5+2j')\n",
    "print(abs(c))\n",
    "\n",
    "c = 5 + 2j\n",
    "print(abs(c))"
   ]
  },
  {
   "cell_type": "markdown",
   "metadata": {},
   "source": [
    "`divmod(x,y)` gibt den Quotienten und den Rest in einem Tupel (was ein Tupel ist werden Sie in den weiteren Kapiteln kennenlernen) im Format _(Quotient, Rest)_ aus. "
   ]
  },
  {
   "cell_type": "code",
   "execution_count": null,
   "metadata": {},
   "outputs": [],
   "source": [
    "divmod(9, 2)"
   ]
  },
  {
   "cell_type": "markdown",
   "metadata": {},
   "source": [
    "`isinstance()` gibt `True` zurück, wenn das erste Argument eine Instanz dieser Klasse ist. Es können auch mehrere Klassen auf einmal geprüft werden."
   ]
  },
  {
   "cell_type": "code",
   "execution_count": null,
   "metadata": {},
   "outputs": [],
   "source": [
    "print(isinstance(1, int))\n",
    "print(isinstance(1.0, int))\n",
    "print(isinstance(1.0, (int, float)))"
   ]
  },
  {
   "cell_type": "markdown",
   "metadata": {},
   "source": [
    "Mit `pow(x,y,z)` kann die Potenz $x^y$ gefunden werden, ebenso kann der Modulo des resultierenden Wertes mit der dritten angegebenen Zahl gefunden werden, d.h. : ($x^y$ % z)."
   ]
  },
  {
   "cell_type": "code",
   "execution_count": null,
   "metadata": {},
   "outputs": [],
   "source": [
    "print(pow(3, 3))\n",
    "print(3 ** 3)\n",
    "\n",
    "print(pow(3, 3, 5))\n",
    "print(3 ** 3 % 5)"
   ]
  },
  {
   "cell_type": "markdown",
   "metadata": {},
   "source": [
    "Die Funktion `range()` gibt die ganzen Zahlen des angegebenen Bereichs aus. Sie kann auch verwendet werden, um eine Reihe zu erzeugen, indem die Differenz zwischen zwei Zahlen innerhalb eines bestimmten Bereichs angegeben wird. Die Elemente werden in einer Liste zurückgegeben (wird später im Detail besprochen)."
   ]
  },
  {
   "cell_type": "code",
   "execution_count": null,
   "metadata": {},
   "outputs": [],
   "source": [
    "print(range(3))\n",
    "print(list(range(3)))"
   ]
  },
  {
   "cell_type": "code",
   "execution_count": null,
   "metadata": {},
   "outputs": [],
   "source": [
    "print(range(2, 9))\n",
    "print(list(range(2, 9)))"
   ]
  },
  {
   "cell_type": "code",
   "execution_count": null,
   "metadata": {},
   "outputs": [],
   "source": [
    "print(range(2, 27, 8))\n",
    "print(list(range(2, 27, 8)))"
   ]
  },
  {
   "cell_type": "code",
   "execution_count": null,
   "metadata": {},
   "outputs": [],
   "source": [
    "print(list(range(10, 0, -1)))"
   ]
  },
  {
   "cell_type": "markdown",
   "metadata": {},
   "source": [
    "**Jetzt haben Sie wieder einen Moment, um die verschiedenen Operatoren detailiert auszuprobieren! Testen Sie verschiedene Eingaben und schauen Sie, ob Sie die Aussgaben vorhersagen können!**\n",
    "\n",
    "Bearbeiten Sie inbesondere die folgende **Übung** und schreiben Sie die Antwort am Ende der Bearbeitungszeit in den Chat: Verwenden Sie Operatoren, um die folgende Frage zu beantworten:\n",
    "\n",
    "$$(4.63 + 6.49)^ 3 > \\frac{10057~\\mathrm{mod}~7054}{3} ?$$"
   ]
  },
  {
   "cell_type": "markdown",
   "metadata": {},
   "source": [
    "## Built-in Funktion: Print\n",
    "\n",
    "Die **print**-Anweisung kann auf die folgenden verschiedenen Arten verwendet werden:\n",
    "\n",
    "* `print(\"Hello World\")`\n",
    "* `print(\"Hello\", <Variable, die die Zeichenkette enthält>)`\n",
    "* `print(\"Hello\" + <Variable, die die Zeichenkette enthält>)`\n",
    "* `print(\"Hello %s\" % <Variable, die die Zeichenkette enthält>)`"
   ]
  },
  {
   "cell_type": "code",
   "execution_count": null,
   "metadata": {},
   "outputs": [],
   "source": [
    "print(\"Hello World\")"
   ]
  },
  {
   "cell_type": "markdown",
   "metadata": {},
   "source": [
    "In Python werden einfache, doppelte und dreifache Anführungszeichen verwendet, um eine Zeichenfolge zu bezeichnen. Die meisten verwenden einfache Anführungszeichen, wenn sie ein einzelnes Zeichen deklarieren. Doppelte Anführungszeichen bei der Deklaration einer Zeile und dreifache Anführungszeichen bei der Deklaration eines Absatzes/mehrerer Zeilen."
   ]
  },
  {
   "cell_type": "code",
   "execution_count": null,
   "metadata": {},
   "outputs": [],
   "source": [
    "print('Hey')"
   ]
  },
  {
   "cell_type": "code",
   "execution_count": null,
   "metadata": {},
   "outputs": [],
   "source": [
    "print(\"\"\"My name is Philipp\n",
    "\n",
    "I love Python.\"\"\")"
   ]
  },
  {
   "cell_type": "markdown",
   "metadata": {},
   "source": [
    "Einfache oder doppelte Anführungszeichen spielen keine Rolle. Wenn die Zeichenfolge eines enthalten soll, verwenden Sie das andere. "
   ]
  },
  {
   "cell_type": "code",
   "execution_count": null,
   "metadata": {},
   "outputs": [],
   "source": [
    "\"this string contains 'quotation marks'\""
   ]
  },
  {
   "cell_type": "markdown",
   "metadata": {},
   "source": [
    "Wenn Ihre Zeichenkette beides enthalten oder `\\newlines` enthalten soll, verwenden Sie dreifache Anführungszeichen."
   ]
  },
  {
   "cell_type": "code",
   "execution_count": null,
   "metadata": {},
   "outputs": [],
   "source": [
    "\"\"\"This string contains 'these' \n",
    "and \"these\" quotation marks\n",
    "and newlines.\"\"\""
   ]
  },
  {
   "cell_type": "markdown",
   "metadata": {},
   "source": [
    "Strings können Variablen zugewiesen werden, z. B. `string1` und `string2`, die bei Verwendung der Print-Anweisung aufgerufen werden können."
   ]
  },
  {
   "cell_type": "code",
   "execution_count": null,
   "metadata": {},
   "outputs": [],
   "source": [
    "string1 = 'World'\n",
    "print('Hello', string1)\n",
    "\n",
    "string2 = '!'\n",
    "print('Hello', string1, string2)"
   ]
  },
  {
   "cell_type": "markdown",
   "metadata": {},
   "source": [
    "Die String-Verkettung ist die \"Addition\" von zwei Strings. Beachten Sie, dass bei der Verkettung kein Leerzeichen zwischen den Strings steht."
   ]
  },
  {
   "cell_type": "code",
   "execution_count": null,
   "metadata": {},
   "outputs": [],
   "source": [
    "print('Hello' + string1 + string2)"
   ]
  },
  {
   "cell_type": "markdown",
   "metadata": {},
   "source": [
    "`f\"{}\"` wird verwendet, um auf eine Variable zu verweisen, die eine Zeichenkette enthält."
   ]
  },
  {
   "cell_type": "code",
   "execution_count": null,
   "metadata": {},
   "outputs": [],
   "source": [
    "print(f\"Hello {string1}\")"
   ]
  },
  {
   "cell_type": "markdown",
   "metadata": {},
   "source": [
    "Ähnlich verhält es sich bei der Verwendung anderer Datentypen:\n",
    "\n",
    "* `%s -> string`\n",
    "* `%d -> Integer`\n",
    "* `%f -> Float`\n",
    "* `%o -> Octal`\n",
    "* `%x -> Hexadecimal`\n",
    "* `%e -> exponential`\n",
    "    \n",
    "Dies kann für Konvertierungen innerhalb der Print-Anweisung selbst verwendet werden."
   ]
  },
  {
   "cell_type": "code",
   "execution_count": null,
   "metadata": {},
   "outputs": [],
   "source": [
    "print(\"Actual Number = %d\" %18)\n",
    "print(\"Float of the number = %f\" %18)\n",
    "print(\"Octal equivalent of the number = %o\" %18)\n",
    "print(\"Hexadecimal equivalent of the number = %x\" %18)\n",
    "print(\"Exponential equivalent of the number = %e\" %18)"
   ]
  },
  {
   "cell_type": "markdown",
   "metadata": {},
   "source": [
    "Wenn Sie sich auf mehrere Variablen beziehen, wird eine Klammer verwendet."
   ]
  },
  {
   "cell_type": "code",
   "execution_count": null,
   "metadata": {},
   "outputs": [],
   "source": [
    "print(\"Hello %s%s\" % (string1,string2))"
   ]
  },
  {
   "cell_type": "markdown",
   "metadata": {},
   "source": [
    "Nachfolgend sind weitere verschiedene Möglichkeiten aufgeführt, wie die Print-Anweisung verwendet werden kann."
   ]
  },
  {
   "cell_type": "code",
   "execution_count": null,
   "metadata": {},
   "outputs": [],
   "source": [
    "print(\"I want %%d to be printed %s\" % 'here')"
   ]
  },
  {
   "cell_type": "code",
   "execution_count": null,
   "metadata": {},
   "outputs": [],
   "source": [
    "print('_A'*10)"
   ]
  },
  {
   "cell_type": "code",
   "execution_count": null,
   "metadata": {},
   "outputs": [],
   "source": [
    "print(\"Jan\\nFeb\\nMar\\nApr\\nMay\\nJun\\nJul\\nAug\")"
   ]
  },
  {
   "cell_type": "code",
   "execution_count": null,
   "metadata": {},
   "outputs": [],
   "source": [
    "print(\"I want \\\\n to be printed.\")"
   ]
  },
  {
   "cell_type": "code",
   "execution_count": null,
   "metadata": {},
   "outputs": [],
   "source": [
    "print(\"\"\"\n",
    "Routine:\n",
    "\\t- Eat\n",
    "\\t- Sleep\\n\n",
    "\\t- Repeat\n",
    "\"\"\")"
   ]
  },
  {
   "cell_type": "markdown",
   "metadata": {},
   "source": [
    "Die Feldbreite ist die Breite der gesamten Zahl und die Präzision ist die Anzahl an Nachkommastellen. Man kann diese Breiten je nach den Anforderungen ändern. Die Standard-Präzisionsbreite ist auf 6 eingestellt."
   ]
  },
  {
   "cell_type": "code",
   "execution_count": null,
   "metadata": {},
   "outputs": [],
   "source": [
    "f\"{3.121312312312:f}\""
   ]
  },
  {
   "cell_type": "markdown",
   "metadata": {},
   "source": [
    "Beachten Sie, dass bis zu 6 Dezimalpunkte zurückgegeben werden. Um die Anzahl der Dezimalpunkte anzugeben, wird `:(fieldwidth).(precisionwidth)f` verwendet."
   ]
  },
  {
   "cell_type": "code",
   "execution_count": null,
   "metadata": {},
   "outputs": [],
   "source": [
    "f\"{3.121312312312:.5f}\""
   ]
  },
  {
   "cell_type": "markdown",
   "metadata": {},
   "source": [
    "Wenn die Feldbreite mehr als die notwendige eingestellt wird, dann richten sich die Daten rechts aus, um sich an die angegebenen Werte anzupassen."
   ]
  },
  {
   "cell_type": "code",
   "execution_count": null,
   "metadata": {},
   "outputs": [],
   "source": [
    "f\"{3.121312312312:9.5f}\""
   ]
  },
  {
   "cell_type": "markdown",
   "metadata": {},
   "source": [
    "Das Auffüllen mit Nullen erfolgt durch Hinzufügen einer 0 am Anfang der Feldbreite."
   ]
  },
  {
   "cell_type": "code",
   "execution_count": null,
   "metadata": {},
   "outputs": [],
   "source": [
    "f\"{3.121312312312:020.5f}\""
   ]
  },
  {
   "cell_type": "markdown",
   "metadata": {},
   "source": [
    "Zur korrekten Ausrichtung kann in der Feldbreite ein Leerzeichen gelassen werden, so dass bei Verwendung einer negativen Zahl die korrekte Ausrichtung beibehalten wird."
   ]
  },
  {
   "cell_type": "code",
   "execution_count": null,
   "metadata": {},
   "outputs": [],
   "source": [
    "print(f\"{3.121312312312:9f}\")\n",
    "print(f\"{-3.121312312312:9f}\")"
   ]
  },
  {
   "cell_type": "markdown",
   "metadata": {},
   "source": [
    "Ein '+'-Zeichen kann am Anfang einer positiven Zahl zurückgegeben werden, indem ein +-Zeichen am Anfang der Feldbreite hinzugefügt wird."
   ]
  },
  {
   "cell_type": "code",
   "execution_count": null,
   "metadata": {},
   "outputs": [],
   "source": [
    "print(f\"{3.121312312312:+9f}\")\n",
    "print(f\"{-3.121312312312:9f}\")"
   ]
  },
  {
   "cell_type": "markdown",
   "metadata": {},
   "source": [
    "Wie oben erwähnt, richten sich die Daten rechts aus, wenn die angegebene Feldbreite größer ist als die tatsächliche Feldbreite. Eine Linksausrichtung kann jedoch durch die Angabe eines '-'-Zeichen in der Feldbreite erfolgen."
   ]
  },
  {
   "cell_type": "code",
   "execution_count": null,
   "metadata": {},
   "outputs": [],
   "source": [
    "f\"{3.121312312312:>9.3f}\""
   ]
  },
  {
   "cell_type": "markdown",
   "metadata": {},
   "source": [
    "Hier ist das Übungsblatt zu diesem Notebook: [**01 - Python Grundlagen Übungsaufgaben**](01_uebungsaufgaben_python_grundlagen.ipynb)"
   ]
  },
  {
   "cell_type": "markdown",
   "metadata": {},
   "source": [
    "---\n",
    "\n",
    "\n",
    "Wahlpflichtfach Künstliche Intelligenz I: Rechercheauftrag | [**>> 02 - Grundlegende Datenstrukturen**](02_grundlegende_datenstrukturen.ipynb)"
   ]
  }
 ],
 "metadata": {
  "kernelspec": {
   "display_name": "Python 3 (ipykernel)",
   "language": "python",
   "name": "python3"
  },
  "language_info": {
   "codemirror_mode": {
    "name": "ipython",
    "version": 3
   },
   "file_extension": ".py",
   "mimetype": "text/x-python",
   "name": "python",
   "nbconvert_exporter": "python",
   "pygments_lexer": "ipython3",
   "version": "3.11.3"
  }
 },
 "nbformat": 4,
 "nbformat_minor": 4
}
