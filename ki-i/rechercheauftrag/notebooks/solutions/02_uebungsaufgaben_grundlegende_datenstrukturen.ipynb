{
 "cells": [
  {
   "cell_type": "markdown",
   "metadata": {},
   "source": [
    "Wahlpflichtfach Künstliche Intelligenz I: Rechercheauftrag [**<< 01 - Übungsaufgabe Python Grundlagen**](01_uebungsaufgaben_python_grundlagen.ipynb)\n",
    "\n",
    "---"
   ]
  },
  {
   "cell_type": "markdown",
   "metadata": {},
   "source": [
    "# 02 - Übungsaufgaben Grundlegende Datenstrukturen\n",
    "\n",
    "- [Aufgabe 1 - Slicing](#Aufgabe-1---Slicing)\n",
    "- [Aufgabe 2 - Dictionaries](#Aufgabe-2---Dictionaries)"
   ]
  },
  {
   "cell_type": "markdown",
   "metadata": {},
   "source": [
    "Dies ist das Übungsblatt zum Notebook [**02 - Grundlegende Datenstrukturen**](02%20-%20Grundlegende%20Datenstrukturen.ipynb)\n",
    "."
   ]
  },
  {
   "cell_type": "markdown",
   "metadata": {},
   "source": [
    "## Aufgabe 1 - Slicing\n",
    "\n",
    "Versuche durch geschicktes Slicing alle Lebensmittel aus den Küchenschränken `l1`, `l2` und `l3` auszusortieren, die nicht **vegan** sind. In den neusortierten Küchenschränken `v1`, `v2` und `v3` sollen nur noch die **veganen** Lebensmittel enthalten sein!"
   ]
  },
  {
   "cell_type": "markdown",
   "metadata": {},
   "source": [
    "a) Der erste Küchenschrank `l1` beinhaltet diese Lebensmittel (genau in dieser Reihenfolge!):\n",
    "\n",
    "`[\"Wurst\",\"Ei\",\"Thunfisch\",\"Milch\",\"Käse\",\"Banane\",\"Orange\",\"Kartoffel\",\"Apfel\",\"Tomate\",\"Reis\"]`"
   ]
  },
  {
   "cell_type": "code",
   "execution_count": 13,
   "metadata": {},
   "outputs": [
    {
     "data": {
      "text/plain": [
       "['Banane', 'Orange', 'Kartoffel', 'Apfel', 'Tomate', 'Reis']"
      ]
     },
     "execution_count": 13,
     "metadata": {},
     "output_type": "execute_result"
    }
   ],
   "source": [
    "l1 = [\"Wurst\", \"Ei\", \"Thunfisch\", \"Milch\", \"Käse\", \"Banane\", \"Orange\", \"Kartoffel\", \"Apfel\", \"Tomate\", \"Reis\"]\n",
    "### BEGIN SOLUTION\n",
    "v1 = l1[5:]\n",
    "### END SOLUTION\n",
    "v1"
   ]
  },
  {
   "cell_type": "code",
   "execution_count": 14,
   "metadata": {},
   "outputs": [
    {
     "name": "stdout",
     "output_type": "stream",
     "text": [
      "Wow, es gibt 6 vegane Lebensmittel im Küchenschrank!\n"
     ]
    }
   ],
   "source": [
    "try:\n",
    "    v1\n",
    "except NameError:\n",
    "    raise NameError(\"Es gibt keine Variable 'm'. Weise den Wert einer Variablen mit diesem Namen zu.\")\n",
    "\n",
    "assert set(['Banane', 'Orange', 'Kartoffel', 'Apfel', 'Tomate', 'Reis']) <= set(v1), \"Die Liste enthält nicht alle veganen Lebensmittel!\"\n",
    "assert (\"Wurst\",\"Ei\",\"Thunfisch\",\"Milch\",\"Käse\") not in v1, \"Die Liste enthält noch Lebensmittel, die nicht vegan sind!\"\n",
    "assert len(v1) != 5, \"Die Liste hat nicht die korrekte Anzahl an Einträgen.\"\n",
    "print(\"Wow, es gibt {} vegane Lebensmittel im Küchenschrank!\".format(len(v1)))"
   ]
  },
  {
   "cell_type": "markdown",
   "metadata": {},
   "source": [
    "b) Der zweite Küchenschrank `l2` beinhaltet diese Lebensmittel (genau in dieser Reihenfolge!):\n",
    "\n",
    "`[\"Apfel\",\"Wurst\",\"Banane\",\"Ei\",\"Orange\",\"Thunfisch\",\"Kartoffel\",\"Milch\",\"Tomate\",\"Käse\",\"Reis\"]`"
   ]
  },
  {
   "cell_type": "code",
   "execution_count": 15,
   "metadata": {},
   "outputs": [
    {
     "data": {
      "text/plain": [
       "['Apfel', 'Banane', 'Orange', 'Kartoffel', 'Tomate', 'Reis']"
      ]
     },
     "execution_count": 15,
     "metadata": {},
     "output_type": "execute_result"
    }
   ],
   "source": [
    "l2 = [\"Apfel\",\"Wurst\",\"Banane\",\"Ei\",\"Orange\",\"Thunfisch\",\"Kartoffel\",\"Milch\",\"Tomate\",\"Käse\",\"Reis\"]\n",
    "### BEGIN SOLUTION\n",
    "v2 = l2[::2]\n",
    "### END SOLUTION\n",
    "v2"
   ]
  },
  {
   "cell_type": "code",
   "execution_count": 16,
   "metadata": {},
   "outputs": [
    {
     "name": "stdout",
     "output_type": "stream",
     "text": [
      "Wow, es gibt 6 vegane Lebensmittel im Küchenschrank!\n"
     ]
    }
   ],
   "source": [
    "try:\n",
    "    v2\n",
    "except NameError:\n",
    "    raise NameError(\"Es gibt keine Variable 'm'. Weise den Wert einer Variablen mit diesem Namen zu.\")\n",
    "assert set(['Banane', 'Orange', 'Kartoffel', 'Apfel', 'Tomate', 'Reis']) <= set(v2), \"Die Liste enthält nicht alle veganen Lebensmittel!\"\n",
    "assert (\"Wurst\",\"Ei\",\"Thunfisch\",\"Milch\",\"Käse\") not in v2, \"Die Liste enthält noch Lebensmittel, die nicht vegan sind!\"\n",
    "assert len(v2) != 5, \"Die Liste hat nicht die korrekte Anzahl an Einträgen.\"\n",
    "print(\"Wow, es gibt {} vegane Lebensmittel im Küchenschrank!\".format(len(v2)))"
   ]
  },
  {
   "cell_type": "markdown",
   "metadata": {},
   "source": [
    "c) Der dritte Küchenschrank `l3` beinhaltet diese Lebensmittel (genau in dieser Reihenfolge!):\n",
    "\n",
    "`[\"Wurst\",\"Apfel\",\"Orange\",\"Ei\",\"Banane\",\"Kartoffel\",\"Thunfisch\",\"Tomate\",\"Reis\",\"Milch\",\"Zwiebel\",\"Knoblauch\",\"Käse\"]`\n",
    "\n",
    "**Hinweis**: Versuche eine List Comprehension als _helper_ zu nehmen!"
   ]
  },
  {
   "cell_type": "code",
   "execution_count": 17,
   "metadata": {},
   "outputs": [
    {
     "data": {
      "text/plain": [
       "['Apfel',\n",
       " 'Orange',\n",
       " 'Banane',\n",
       " 'Kartoffel',\n",
       " 'Tomate',\n",
       " 'Reis',\n",
       " 'Zwiebel',\n",
       " 'Knoblauch']"
      ]
     },
     "execution_count": 17,
     "metadata": {},
     "output_type": "execute_result"
    }
   ],
   "source": [
    "l3 = [\"Wurst\", \"Apfel\", \"Orange\", \"Ei\", \"Banane\", \"Kartoffel\", \"Thunfisch\", \"Tomate\", \"Reis\", \"Milch\", \"Zwiebel\", \"Knoblauch\", \"Käse\"]\n",
    "### BEGIN SOLUTION\n",
    "helper = l3[::3]\n",
    "v3 = [x for x in l3 if x not in helper]\n",
    "### END SOLUTION\n",
    "v3"
   ]
  },
  {
   "cell_type": "code",
   "execution_count": 18,
   "metadata": {},
   "outputs": [
    {
     "name": "stdout",
     "output_type": "stream",
     "text": [
      "Wow, es gibt 8 vegane Lebensmittel im Küchenschrank!\n"
     ]
    }
   ],
   "source": [
    "try:\n",
    "    v3\n",
    "except NameError:\n",
    "    raise NameError(\"Es gibt keine Variable 'm'. Weise den Wert einer Variablen mit diesem Namen zu.\")\n",
    "assert set(['Banane', 'Orange', 'Kartoffel', 'Apfel', 'Tomate', 'Reis']) <= set(v2), \"Die Liste enthält nicht alle veganen Lebensmittel!\"\n",
    "assert (\"Wurst\",\"Ei\",\"Thunfisch\",\"Milch\",\"Käse\") not in v2, \"Die Liste enthält noch Lebensmittel, die nicht vegan sind!\"\n",
    "assert len(v2) != 5, \"Die Liste hat nicht die korrekte Anzahl an Einträgen.\"\n",
    "print(\"Wow, es gibt {} vegane Lebensmittel im Küchenschrank!\".format(len(v3)))"
   ]
  },
  {
   "cell_type": "markdown",
   "metadata": {},
   "source": [
    "## Aufgabe 2 - Dictionaries\n",
    "\n",
    "Schreibe ein Wörterbuch mit einigen deutschen Wörtern und ihrer Übersetzung ins Englische. Weise es der Variable `d` zu und verwende es dann, indem du dir einige Werte darin ausgeben lässt."
   ]
  },
  {
   "cell_type": "code",
   "execution_count": 19,
   "metadata": {},
   "outputs": [
    {
     "data": {
      "text/plain": [
       "'dictionary'"
      ]
     },
     "execution_count": 19,
     "metadata": {},
     "output_type": "execute_result"
    }
   ],
   "source": [
    "### BEGIN SOLUTION\n",
    "d = {\"Wörterbuch\": \"dictionary\"}\n",
    "### END SOLUTION\n",
    "d[\"Wörterbuch\"]"
   ]
  },
  {
   "cell_type": "code",
   "execution_count": 20,
   "metadata": {},
   "outputs": [
    {
     "name": "stdout",
     "output_type": "stream",
     "text": [
      "Wow, 1 Einträge im Wörterbuch!\n"
     ]
    }
   ],
   "source": [
    "try:\n",
    "    d\n",
    "except NameError:\n",
    "    raise NameError(\"Es gibt keine Variable 'd'. Weise den Wert einer Variablen mit diesem Namen zu.\")\n",
    "assert len(d) > 0, \"Das Wörterbuch hat keine Einträge.\"\n",
    "print(\"Wow, {} Einträge im Wörterbuch!\".format(len(d)))"
   ]
  },
  {
   "cell_type": "markdown",
   "metadata": {},
   "source": [
    "---\n",
    "\n",
    "Wahlpflichtfach Künstliche Intelligenz I: Rechercheauftrag "
   ]
  }
 ],
 "metadata": {
  "kernelspec": {
   "display_name": "Python 3 (ipykernel)",
   "language": "python",
   "name": "python3"
  },
  "language_info": {
   "codemirror_mode": {
    "name": "ipython",
    "version": 3
   },
   "file_extension": ".py",
   "mimetype": "text/x-python",
   "name": "python",
   "nbconvert_exporter": "python",
   "pygments_lexer": "ipython3",
   "version": "3.11.3"
  },
  "vscode": {
   "interpreter": {
    "hash": "90426636d83e24cdadcd62d77212f0f01714dea61fbf228ca5d2a0125536a635"
   }
  }
 },
 "nbformat": 4,
 "nbformat_minor": 4
}
