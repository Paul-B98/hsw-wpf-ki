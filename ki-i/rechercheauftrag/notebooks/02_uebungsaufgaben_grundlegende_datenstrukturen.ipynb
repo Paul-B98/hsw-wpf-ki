{
 "cells": [
  {
   "cell_type": "markdown",
   "metadata": {},
   "source": [
    "Wahlpflichtfach Künstliche Intelligenz I: Rechercheauftrag [**<< 01 - Übungsaufgabe Python Grundlagen**](01_uebungsaufgaben_python_grundlagen.ipynb)\n",
    "\n",
    "---"
   ]
  },
  {
   "cell_type": "markdown",
   "metadata": {},
   "source": [
    "# 02 - Übungsaufgaben Grundlegende Datenstrukturen\n",
    "\n",
    "- [Aufgabe 1 - Slicing](#Aufgabe-1---Slicing)\n",
    "- [Aufgabe 2 - Dictionaries](#Aufgabe-2---Dictionaries)"
   ]
  },
  {
   "cell_type": "markdown",
   "metadata": {},
   "source": [
    "Dies ist das Übungsblatt zum Notebook [**02 - Grundlegende Datenstrukturen**](02%20-%20Grundlegende%20Datenstrukturen.ipynb)\n",
    "."
   ]
  },
  {
   "cell_type": "markdown",
   "metadata": {},
   "source": [
    "## Aufgabe 1 - Slicing\n",
    "\n",
    "Versuche durch geschicktes Slicing alle Lebensmittel aus den Küchenschränken `l1`, `l2` und `l3` auszusortieren, die nicht **vegan** sind. In den neusortierten Küchenschränken `v1`, `v2` und `v3` sollen nur noch die **veganen** Lebensmittel enthalten sein!"
   ]
  },
  {
   "cell_type": "markdown",
   "metadata": {},
   "source": [
    "a) Der erste Küchenschrank `l1` beinhaltet diese Lebensmittel (genau in dieser Reihenfolge!):\n",
    "\n",
    "`[\"Wurst\",\"Ei\",\"Thunfisch\",\"Milch\",\"Käse\",\"Banane\",\"Orange\",\"Kartoffel\",\"Apfel\",\"Tomate\",\"Reis\"]`"
   ]
  },
  {
   "cell_type": "code",
   "execution_count": null,
   "metadata": {},
   "outputs": [],
   "source": [
    "l1 = [\"Wurst\", \"Ei\", \"Thunfisch\", \"Milch\", \"Käse\", \"Banane\", \"Orange\", \"Kartoffel\", \"Apfel\", \"Tomate\", \"Reis\"]\n",
    "### BEGIN SOLUTION\n",
    "# IHRE LÖSUNG HIER\n",
    "### END SOLUTION\n",
    "v1"
   ]
  },
  {
   "cell_type": "code",
   "execution_count": null,
   "metadata": {},
   "outputs": [],
   "source": [
    "try:\n",
    "    v1\n",
    "except NameError:\n",
    "    raise NameError(\"Es gibt keine Variable 'm'. Weise den Wert einer Variablen mit diesem Namen zu.\")\n",
    "\n",
    "assert set(['Banane', 'Orange', 'Kartoffel', 'Apfel', 'Tomate', 'Reis']) <= set(v1), \"Die Liste enthält nicht alle veganen Lebensmittel!\"\n",
    "assert (\"Wurst\",\"Ei\",\"Thunfisch\",\"Milch\",\"Käse\") not in v1, \"Die Liste enthält noch Lebensmittel, die nicht vegan sind!\"\n",
    "assert len(v1) != 5, \"Die Liste hat nicht die korrekte Anzahl an Einträgen.\"\n",
    "print(\"Wow, es gibt {} vegane Lebensmittel im Küchenschrank!\".format(len(v1)))"
   ]
  },
  {
   "cell_type": "markdown",
   "metadata": {},
   "source": [
    "b) Der zweite Küchenschrank `l2` beinhaltet diese Lebensmittel (genau in dieser Reihenfolge!):\n",
    "\n",
    "`[\"Apfel\",\"Wurst\",\"Banane\",\"Ei\",\"Orange\",\"Thunfisch\",\"Kartoffel\",\"Milch\",\"Tomate\",\"Käse\",\"Reis\"]`"
   ]
  },
  {
   "cell_type": "code",
   "execution_count": null,
   "metadata": {},
   "outputs": [],
   "source": [
    "l2 = [\"Apfel\",\"Wurst\",\"Banane\",\"Ei\",\"Orange\",\"Thunfisch\",\"Kartoffel\",\"Milch\",\"Tomate\",\"Käse\",\"Reis\"]\n",
    "### BEGIN SOLUTION\n",
    "# IHRE LÖSUNG HIER\n",
    "### END SOLUTION\n",
    "v2"
   ]
  },
  {
   "cell_type": "code",
   "execution_count": null,
   "metadata": {},
   "outputs": [],
   "source": [
    "try:\n",
    "    v2\n",
    "except NameError:\n",
    "    raise NameError(\"Es gibt keine Variable 'm'. Weise den Wert einer Variablen mit diesem Namen zu.\")\n",
    "assert set(['Banane', 'Orange', 'Kartoffel', 'Apfel', 'Tomate', 'Reis']) <= set(v2), \"Die Liste enthält nicht alle veganen Lebensmittel!\"\n",
    "assert (\"Wurst\",\"Ei\",\"Thunfisch\",\"Milch\",\"Käse\") not in v2, \"Die Liste enthält noch Lebensmittel, die nicht vegan sind!\"\n",
    "assert len(v2) != 5, \"Die Liste hat nicht die korrekte Anzahl an Einträgen.\"\n",
    "print(\"Wow, es gibt {} vegane Lebensmittel im Küchenschrank!\".format(len(v2)))"
   ]
  },
  {
   "cell_type": "markdown",
   "metadata": {},
   "source": [
    "c) Der dritte Küchenschrank `l3` beinhaltet diese Lebensmittel (genau in dieser Reihenfolge!):\n",
    "\n",
    "`[\"Wurst\",\"Apfel\",\"Orange\",\"Ei\",\"Banane\",\"Kartoffel\",\"Thunfisch\",\"Tomate\",\"Reis\",\"Milch\",\"Zwiebel\",\"Knoblauch\",\"Käse\"]`\n",
    "\n",
    "**Hinweis**: Versuche eine List Comprehension als _helper_ zu nehmen!"
   ]
  },
  {
   "cell_type": "code",
   "execution_count": null,
   "metadata": {},
   "outputs": [],
   "source": [
    "l3 = [\"Wurst\", \"Apfel\", \"Orange\", \"Ei\", \"Banane\", \"Kartoffel\", \"Thunfisch\", \"Tomate\", \"Reis\", \"Milch\", \"Zwiebel\", \"Knoblauch\", \"Käse\"]\n",
    "### BEGIN SOLUTION\n",
    "# IHRE LÖSUNG HIER\n",
    "### END SOLUTION\n",
    "v3"
   ]
  },
  {
   "cell_type": "code",
   "execution_count": null,
   "metadata": {},
   "outputs": [],
   "source": [
    "try:\n",
    "    v3\n",
    "except NameError:\n",
    "    raise NameError(\"Es gibt keine Variable 'm'. Weise den Wert einer Variablen mit diesem Namen zu.\")\n",
    "assert set(['Banane', 'Orange', 'Kartoffel', 'Apfel', 'Tomate', 'Reis']) <= set(v2), \"Die Liste enthält nicht alle veganen Lebensmittel!\"\n",
    "assert (\"Wurst\",\"Ei\",\"Thunfisch\",\"Milch\",\"Käse\") not in v2, \"Die Liste enthält noch Lebensmittel, die nicht vegan sind!\"\n",
    "assert len(v2) != 5, \"Die Liste hat nicht die korrekte Anzahl an Einträgen.\"\n",
    "print(\"Wow, es gibt {} vegane Lebensmittel im Küchenschrank!\".format(len(v3)))"
   ]
  },
  {
   "cell_type": "markdown",
   "metadata": {},
   "source": [
    "## Aufgabe 2 - Dictionaries\n",
    "\n",
    "Schreibe ein Wörterbuch mit einigen deutschen Wörtern und ihrer Übersetzung ins Englische. Weise es der Variable `d` zu und verwende es dann, indem du dir einige Werte darin ausgeben lässt."
   ]
  },
  {
   "cell_type": "code",
   "execution_count": null,
   "metadata": {},
   "outputs": [],
   "source": [
    "### BEGIN SOLUTION\n",
    "# IHRE LÖSUNG HIER\n",
    "### END SOLUTION\n",
    "d[\"Wörterbuch\"]"
   ]
  },
  {
   "cell_type": "code",
   "execution_count": null,
   "metadata": {},
   "outputs": [],
   "source": [
    "try:\n",
    "    d\n",
    "except NameError:\n",
    "    raise NameError(\"Es gibt keine Variable 'd'. Weise den Wert einer Variablen mit diesem Namen zu.\")\n",
    "assert len(d) > 0, \"Das Wörterbuch hat keine Einträge.\"\n",
    "print(\"Wow, {} Einträge im Wörterbuch!\".format(len(d)))"
   ]
  },
  {
   "cell_type": "markdown",
   "metadata": {},
   "source": [
    "---\n",
    "\n",
    "Wahlpflichtfach Künstliche Intelligenz I: Rechercheauftrag "
   ]
  }
 ],
 "metadata": {
  "kernelspec": {
   "display_name": "Python 3 (ipykernel)",
   "language": "python",
   "name": "python3"
  },
  "language_info": {
   "codemirror_mode": {
    "name": "ipython",
    "version": 3
   },
   "file_extension": ".py",
   "mimetype": "text/x-python",
   "name": "python",
   "nbconvert_exporter": "python",
   "pygments_lexer": "ipython3",
   "version": "3.11.3"
  },
  "vscode": {
   "interpreter": {
    "hash": "90426636d83e24cdadcd62d77212f0f01714dea61fbf228ca5d2a0125536a635"
   }
  }
 },
 "nbformat": 4,
 "nbformat_minor": 4
}
