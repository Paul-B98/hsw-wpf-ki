{
 "cells": [
  {
   "cell_type": "markdown",
   "metadata": {},
   "source": [
    "Wahlpflichtfach Künstliche Intelligenz I: Rechercheauftrag [**<< 01 - Python Grundlagen**](01_python_grundlagen.ipynb)\n",
    "\n",
    "---"
   ]
  },
  {
   "cell_type": "markdown",
   "metadata": {},
   "source": [
    "# 02 - Grundlegende Datenstrukturen und Kontrollfluss\n",
    "\n",
    "- [Listen](#Listen)\n",
    "- [Tuples](#Tuples)\n",
    "- [Sets](#Sets)\n",
    "- [Dictionaries](#Dictionaries)\n",
    "- [if-Abfragen](#if-Abfragen)\n",
    "- [for-Schleifen](#for-Schleifen)\n",
    "- [while-Schleifen](#while-Schleifen)"
   ]
  },
  {
   "cell_type": "markdown",
   "metadata": {},
   "source": [
    "## Datenstrukturen und Container\n",
    "Python enthält mehrere eingebaute Container-Typen: Listen, Dictionaries, Sets und Tuples. Einfach ausgedrückt, sind Datenstrukturen bzw. Container eine Sammlung oder Gruppe von Daten in einer bestimmten Struktur."
   ]
  },
  {
   "cell_type": "markdown",
   "metadata": {},
   "source": [
    "## Listen\n",
    "Eine Liste ist das Python-Äquivalent zu einem Array, ist aber in der Größe veränderbar (dazu später mehr)."
   ]
  },
  {
   "cell_type": "code",
   "execution_count": null,
   "metadata": {},
   "outputs": [],
   "source": [
    "xs = [3, 1, 2]    \n",
    "xs"
   ]
  },
  {
   "cell_type": "markdown",
   "metadata": {},
   "source": [
    "Listen können Elemente verschiedener Datentypen enthalten."
   ]
  },
  {
   "cell_type": "code",
   "execution_count": null,
   "metadata": {},
   "outputs": [],
   "source": [
    "xs[2] = 'foo' \n",
    "print(xs)         "
   ]
  },
  {
   "cell_type": "markdown",
   "metadata": {},
   "source": [
    "#### Indizierung\n",
    "\n",
    "In Python beginnt die Indizierung bei 0. Somit hat nun die Liste x, die zwei Elemente hat, `'apple'` bei Index 0 und `'orange'` bei Index 1."
   ]
  },
  {
   "cell_type": "code",
   "execution_count": null,
   "metadata": {},
   "outputs": [],
   "source": [
    "x = ['apple', 'orange']\n",
    "x[0]"
   ]
  },
  {
   "cell_type": "markdown",
   "metadata": {},
   "source": [
    "Die Indizierung kann auch in umgekehrter Reihenfolge erfolgen. Das heißt, auf das letzte Element kann zuerst zugegriffen werden. Hier beginnt die Indizierung bei -1. Somit ist Indexwert -1 die `'orange` und Index -2 der `'apple'`."
   ]
  },
  {
   "cell_type": "code",
   "execution_count": null,
   "metadata": {},
   "outputs": [],
   "source": [
    "x[-2]"
   ]
  },
  {
   "cell_type": "markdown",
   "metadata": {},
   "source": [
    "Wie Sie vielleicht schon erraten haben, ist bei dieser Liste `x[0]` = `x[-2]` und `x[1]` = `x[-1]`. Dieses Konzept kann auf Listen mit mehr Elementen erweitert werden.\n",
    "\n",
    "Hier haben wir zwei Listen `x` und `y` deklariert, die jeweils ihre eigenen Daten enthalten. Nun können diese beiden Listen wiederum in eine andere Liste `z` eingefügt werden, die ihre Daten als zwei Listen enthält. Diese Liste innerhalb einer Liste wird als verschachtelte Liste bezeichnet und entspricht der Deklaration eines Arrays, das wir später sehen werden."
   ]
  },
  {
   "cell_type": "code",
   "execution_count": null,
   "metadata": {},
   "outputs": [],
   "source": [
    "y = ['carrot', 'potato']\n",
    "z  = [x, y]\n",
    "print(z)"
   ]
  },
  {
   "cell_type": "markdown",
   "metadata": {},
   "source": [
    "Die Indizierung in verschachtelten Listen kann ziemlich verwirrend sein, wenn Sie nicht verstehen, wie die Indizierung in Python funktioniert. Lassen Sie es uns also aufschlüsseln und dann zu einer Schlussfolgerung kommen.\n",
    "\n",
    "Greifen wir auf die Daten `'apple'` in der obigen verschachtelten Liste zu. Zunächst gibt es bei Index 0 eine Liste `['apple','orange']` und bei Index 1 eine weitere Liste `['carrot','potato']`. Daher sollte `z[0]` uns die erste Liste liefern, die `'apple'` enthält."
   ]
  },
  {
   "cell_type": "code",
   "execution_count": null,
   "metadata": {},
   "outputs": [],
   "source": [
    "z1 = z[0]\n",
    "print(z1)"
   ]
  },
  {
   "cell_type": "markdown",
   "metadata": {},
   "source": [
    "Beachten Sie nun, dass `z1` keine verschachtelte Liste ist. Um also auf `'apple'` zuzugreifen, sollte `z1` bei 0 indiziert werden."
   ]
  },
  {
   "cell_type": "code",
   "execution_count": null,
   "metadata": {},
   "outputs": [],
   "source": [
    "z1[0]"
   ]
  },
  {
   "cell_type": "markdown",
   "metadata": {},
   "source": [
    "Anstatt das oben beschriebene zu tun, können Sie in Python auf `'apple'` zugreifen, indem Sie einfach die Indexwerte jeweils nebeneinander schreiben."
   ]
  },
  {
   "cell_type": "code",
   "execution_count": null,
   "metadata": {},
   "outputs": [],
   "source": [
    "z[0][0]"
   ]
  },
  {
   "cell_type": "markdown",
   "metadata": {},
   "source": [
    "Wenn sich eine Liste innerhalb einer Liste innerhalb einer Liste befindet, können Sie auf den innersten Wert zugreifen, indem Sie `z[][][]` ausführen."
   ]
  },
  {
   "cell_type": "markdown",
   "metadata": {},
   "source": [
    "#### Slicing\n",
    "\n",
    "Zusätzlich zum Zugriff auf einzelne Listenelemente bietet Python eine prägnante Syntax für den Zugriff auf Unterlisten; dies wird als Slicing bezeichnet. Die Indizierung war nur auf den Zugriff auf ein einzelnes Element beschränkt, Slicing hingegen ist der Zugriff auf eine Folge von Daten innerhalb der Liste.\n",
    "\n",
    "Beim Slicing werden die Indexwerte des ersten Elements und des letzten Elements aus der übergeordneten Liste definiert, die in der \"ausgeschnittenen\" Liste benötigt werden. Es wird als `parentlist[start:stop]` geschrieben, wobei `start` und `stop` die Indexwerte aus der übergeordneten Liste sind."
   ]
  },
  {
   "cell_type": "code",
   "execution_count": null,
   "metadata": {},
   "outputs": [],
   "source": [
    "nums = [0, 1, 2, 3, 4]\n",
    "nums = list(range(5))\n",
    "nums = [*range(5)]\n",
    "nums               "
   ]
  },
  {
   "cell_type": "markdown",
   "metadata": {},
   "source": [
    "Die folgende Zeile gibt ein Slice von Index 2 bis 4 (exklusiv) zurück:"
   ]
  },
  {
   "cell_type": "code",
   "execution_count": null,
   "metadata": {},
   "outputs": [],
   "source": [
    "nums[2:4]"
   ]
  },
  {
   "cell_type": "markdown",
   "metadata": {},
   "source": [
    "Die folgende Zeile gibt ein Slice von Index 2 bis zum Ende zurück:"
   ]
  },
  {
   "cell_type": "code",
   "execution_count": null,
   "metadata": {},
   "outputs": [],
   "source": [
    "nums[2:]"
   ]
  },
  {
   "cell_type": "markdown",
   "metadata": {},
   "source": [
    "Die folgende Zeile gibt ein Slice vom Anfang bis zum Index 2 (exklusiv) zurück:"
   ]
  },
  {
   "cell_type": "code",
   "execution_count": null,
   "metadata": {},
   "outputs": [],
   "source": [
    "nums[:2]"
   ]
  },
  {
   "cell_type": "markdown",
   "metadata": {},
   "source": [
    "Die folgende Zeile gibt ein Slice aus der gesamten Liste zurück:"
   ]
  },
  {
   "cell_type": "code",
   "execution_count": null,
   "metadata": {},
   "outputs": [],
   "source": [
    "nums[:]"
   ]
  },
  {
   "cell_type": "markdown",
   "metadata": {},
   "source": [
    "Slice-Indizes können analog wie zuvor erklärt auch negativ sein:"
   ]
  },
  {
   "cell_type": "code",
   "execution_count": null,
   "metadata": {},
   "outputs": [],
   "source": [
    "nums[:-1]"
   ]
  },
  {
   "cell_type": "markdown",
   "metadata": {},
   "source": [
    "Einem Slice kann eine neue Unterliste zugewiesen werden:"
   ]
  },
  {
   "cell_type": "code",
   "execution_count": null,
   "metadata": {},
   "outputs": [],
   "source": [
    "nums[2:4] = [8, 9, 10]  \n",
    "print(nums)               "
   ]
  },
  {
   "cell_type": "markdown",
   "metadata": {},
   "source": [
    "Eigentlich lautet die Syntax des Slicings nicht nur `parentlist[start:stop]`, sondern auch `parentlist[start:stop:step]`. Beachten Sie außerdem, dass in Python die Indizierung nullbasiert ist, wobei der erste Index inklusiv ist, während der letzte exklusiv ist. Das bedeutet, dass `start:stop` $start \\le i \\lt stop$ auswählt.\n",
    "\n",
    "Hier wird jedes zweite Element aus der Liste entnommen:"
   ]
  },
  {
   "cell_type": "code",
   "execution_count": null,
   "metadata": {},
   "outputs": [],
   "source": [
    "b = [0, 1, 2, 3, 4, 5, 6, 7, 8, 9]\n",
    "b"
   ]
  },
  {
   "cell_type": "code",
   "execution_count": null,
   "metadata": {},
   "outputs": [],
   "source": [
    "b[0:9:2]"
   ]
  },
  {
   "cell_type": "code",
   "execution_count": null,
   "metadata": {},
   "outputs": [],
   "source": [
    "b[::2]"
   ]
  },
  {
   "cell_type": "code",
   "execution_count": null,
   "metadata": {},
   "outputs": [],
   "source": [
    "b[:-1:2]"
   ]
  },
  {
   "cell_type": "code",
   "execution_count": null,
   "metadata": {},
   "outputs": [],
   "source": [
    "z = [['apple', 'orange'], ['carrot', 'potato'], ['carrotx', 'potatox']]"
   ]
  },
  {
   "cell_type": "code",
   "execution_count": null,
   "metadata": {},
   "outputs": [],
   "source": [
    "z[::1][1]"
   ]
  },
  {
   "cell_type": "markdown",
   "metadata": {},
   "source": [
    "Wir werden das Slicing noch einmal im Zusammenhang mit Numpy-Arrays sehen."
   ]
  },
  {
   "cell_type": "markdown",
   "metadata": {},
   "source": [
    "**Wiederholen Sie jetzt für sich das Konzept der Listen in Python. Probieren Sie vor allem das Anlegen, die Indizierung, das Slicen(!!!) aus. Probieren Sie auch fortgeschrittenes Slicing aus, um sich damit vertraut zu machen: `[::]`.**\n",
    "\n",
    "Bearbeiten Sie inbesondere die folgende **Übung** und schreiben Sie die Antwort am Ende der Bearbeitungszeit in den Chat: \n",
    "\n",
    "**Geben Sie alle durch 3 teilbaren Zahlen aus der Liste `b` durch geschicktes Slicing zurück.**"
   ]
  },
  {
   "cell_type": "markdown",
   "metadata": {},
   "source": [
    "#### Schleifen\n",
    "\n",
    "So können Sie eine Schleife über die Elemente einer Liste ziehen:"
   ]
  },
  {
   "cell_type": "code",
   "execution_count": null,
   "metadata": {},
   "outputs": [],
   "source": [
    "animals = ['cat', 'dog', 'monkey']\n",
    "for animal in animals:\n",
    "    print(animal)\n",
    "    \n",
    "# for (String animal : animals) {}"
   ]
  },
  {
   "cell_type": "markdown",
   "metadata": {},
   "source": [
    "Wenn Sie auf den Index jedes Elements innerhalb des Körpers einer Schleife zugreifen möchten, verwenden Sie die eingebaute Funktion `enumerate()`:"
   ]
  },
  {
   "cell_type": "code",
   "execution_count": null,
   "metadata": {},
   "outputs": [],
   "source": [
    "animals = ['cat', 'dog', 'monkey']\n",
    "for idx, animal in enumerate(animals):\n",
    "    print(f'#{idx + 1}: {animal}')\n",
    "    \n",
    "# Prints \"#1: cat\", \"#2: dog\", \"#3: monkey\", each on its own line"
   ]
  },
  {
   "cell_type": "markdown",
   "metadata": {},
   "source": [
    "#### List Comprehensions\n",
    "\n",
    "Beim Programmieren wollen wir häufig einen Datentyp in einen anderen umwandeln. Als einfaches Beispiel betrachten Sie den folgenden Code, der Quadratzahlen berechnet:"
   ]
  },
  {
   "cell_type": "code",
   "execution_count": null,
   "metadata": {},
   "outputs": [],
   "source": [
    "nums = [0, 1, 2, 3, 4]\n",
    "squares = []\n",
    "\n",
    "for x in nums:\n",
    "    squares.append(x ** 2)\n",
    "    \n",
    "print(squares)"
   ]
  },
  {
   "cell_type": "markdown",
   "metadata": {},
   "source": [
    "Sie können diesen Code vereinfachen, indem Sie eine List Comprehension verwenden. Die allgemeine Syntax für ein Verständnis ist `[`Ausdruck `for` Element `in` Liste `if` Filterbedingung `]` `]`. "
   ]
  },
  {
   "cell_type": "code",
   "execution_count": null,
   "metadata": {},
   "outputs": [],
   "source": [
    "nums = [0, 1, 2, 3, 4]\n",
    "squares = [x ** 2 for x in nums]\n",
    "\n",
    "print(squares)"
   ]
  },
  {
   "cell_type": "markdown",
   "metadata": {},
   "source": [
    "List Comprehensions können auch Bedingungen enthalten:"
   ]
  },
  {
   "cell_type": "code",
   "execution_count": null,
   "metadata": {},
   "outputs": [],
   "source": [
    "nums = [0, 1, 2, 3, 4]\n",
    "even_squares = [\n",
    "    x ** 2 \n",
    "    for x in nums \n",
    "    if x % 2 == 0\n",
    "]\n",
    "\n",
    "print(even_squares)"
   ]
  },
  {
   "cell_type": "code",
   "execution_count": null,
   "metadata": {},
   "outputs": [],
   "source": [
    "[\n",
    "    [i*j for i in range(10)] \n",
    "    for j in range(10)\n",
    "]"
   ]
  },
  {
   "cell_type": "markdown",
   "metadata": {},
   "source": [
    "Schleifen werden wir detaillierter noch im nächsten Notebook behandeln."
   ]
  },
  {
   "cell_type": "markdown",
   "metadata": {},
   "source": [
    "#### Built-in List Funktionen\n",
    "\n",
    "Es gibt auch eine Reihe von Built-inf Funktionen in Python.\n",
    "\n",
    "Um die Länge der Liste oder die Anzahl der Elemente in einer Liste zu ermitteln, wird `len()` verwendet."
   ]
  },
  {
   "cell_type": "code",
   "execution_count": null,
   "metadata": {},
   "outputs": [],
   "source": [
    "len(nums)"
   ]
  },
  {
   "cell_type": "markdown",
   "metadata": {},
   "source": [
    "Wenn die Liste aus allen ganzzahligen Elementen besteht, gibt `min()` und `max()` den minimalen und maximalen Wert in der Liste an."
   ]
  },
  {
   "cell_type": "code",
   "execution_count": null,
   "metadata": {},
   "outputs": [],
   "source": [
    "print(min(nums))\n",
    "print(max(nums))"
   ]
  },
  {
   "cell_type": "markdown",
   "metadata": {},
   "source": [
    "Listen können durch Hinzufügen von `+` aneinandergehängt werden. Die resultierende Liste enthält alle Elemente der hinzugefügten Listen. Die resultierende Liste ist keine verschachtelte Liste."
   ]
  },
  {
   "cell_type": "code",
   "execution_count": null,
   "metadata": {},
   "outputs": [],
   "source": [
    "[1,2,3] + [5,4,7]"
   ]
  },
  {
   "cell_type": "markdown",
   "metadata": {},
   "source": [
    "Es könnte eine Anforderung entstehen, bei der Sie prüfen müssen, ob ein bestimmtes Element in einer vordefinierten Liste vorhanden ist. Betrachten Sie die folgende Liste."
   ]
  },
  {
   "cell_type": "code",
   "execution_count": null,
   "metadata": {},
   "outputs": [],
   "source": [
    "names = ['Earth', 'Air', 'Fire', 'Water']"
   ]
  },
  {
   "cell_type": "markdown",
   "metadata": {},
   "source": [
    "Es soll geprüft werden, ob `'Fire'` und `'Philipp'` in den Listennamen vorhanden ist. Ein konventioneller Ansatz wäre, eine `for`-Schleife zu verwenden und über die Liste zu iterieren und die `if`-Bedingung zu verwenden. Aber in Python können Sie das Konzept `a in b` verwenden, das `True` zurückgibt, wenn `a` in `b` vorhanden ist und `False`, wenn nicht."
   ]
  },
  {
   "cell_type": "code",
   "execution_count": null,
   "metadata": {},
   "outputs": [],
   "source": [
    "print('Fire' in names)\n",
    "print('Rajath' in names)"
   ]
  },
  {
   "cell_type": "markdown",
   "metadata": {},
   "source": [
    "In einer Liste mit Elementen als String ist `max()` und `min()` anwendbar. `max()` würde ein String-Element zurückgeben, dessen ASCII-Wert der höchste ist, und der niedrigste, wenn `min()` verwendet wird. Beachten Sie, dass jeweils nur der erste Index jedes Elements berücksichtigt wird, und wenn dieser den gleichen Wert hat, wird der zweite Index berücksichtigt usw."
   ]
  },
  {
   "cell_type": "code",
   "execution_count": null,
   "metadata": {},
   "outputs": [],
   "source": [
    "mlist = ['bzaa', 'ds', 'nc', 'az', 'z', 'klm']\n",
    "print(max(mlist))\n",
    "print(min(mlist))"
   ]
  },
  {
   "cell_type": "markdown",
   "metadata": {},
   "source": [
    "Hier wird der erste Index jedes Elements berücksichtigt und somit hat `z` den höchsten ASCII-Wert und wird daher zurückgegeben und der minimale ASCII-Wert ist `a`. Was aber, wenn Zahlen als Zeichenketten deklariert werden?"
   ]
  },
  {
   "cell_type": "code",
   "execution_count": null,
   "metadata": {},
   "outputs": [],
   "source": [
    "nlist = ['1', '94', '93', '1000']\n",
    "print(max(nlist))\n",
    "print(min(nlist))"
   ]
  },
  {
   "cell_type": "markdown",
   "metadata": {},
   "source": [
    "Auch wenn die Zahlen in einer Zeichenkette deklariert sind, wird der erste Index jedes Elements berücksichtigt und die Maximal- und Minimalwerte werden entsprechend zurückgegeben.\n",
    "\n",
    "Wenn Sie aber das `max()` Zeichenkettenelement anhand der Länge der Zeichenkette finden wollen, dann wird ein weiterer Parameter `key=len` innerhalb der `max()` und `min()` Funktion deklariert."
   ]
  },
  {
   "cell_type": "code",
   "execution_count": null,
   "metadata": {},
   "outputs": [],
   "source": [
    "print(max(names, key=len))\n",
    "print(min(names, key=len))"
   ]
  },
  {
   "cell_type": "code",
   "execution_count": null,
   "metadata": {},
   "outputs": [],
   "source": [
    "max(nlist, key=int)"
   ]
  },
  {
   "cell_type": "code",
   "execution_count": null,
   "metadata": {},
   "outputs": [],
   "source": [
    "min(nlist, key=int)"
   ]
  },
  {
   "cell_type": "markdown",
   "metadata": {},
   "source": [
    "Aber auch `'Wasser'` hat die Länge 5. Die Funktion `max()` oder `min()` gibt das erste Element zurück, wenn es zwei oder mehr Elemente mit der gleichen Länge gibt.\n",
    "\n",
    "Anstelle von `len()` kann jede andere eingebaute Funktion verwendet werden oder eine Lambda-Funktion (wird später besprochen)."
   ]
  },
  {
   "cell_type": "markdown",
   "metadata": {},
   "source": [
    "`append()` wird verwendet, um ein Element am Ende der Liste hinzuzufügen."
   ]
  },
  {
   "cell_type": "code",
   "execution_count": null,
   "metadata": {},
   "outputs": [],
   "source": [
    "lst = [1, 1, 4, 8, 7]\n",
    "lst.append(1)\n",
    "print(lst)"
   ]
  },
  {
   "cell_type": "markdown",
   "metadata": {},
   "source": [
    "`count()` wird verwendet, um die Anzahl eines bestimmten Elements zu zählen, das in der Liste vorhanden ist. "
   ]
  },
  {
   "cell_type": "code",
   "execution_count": null,
   "metadata": {},
   "outputs": [],
   "source": [
    "lst.count(1)"
   ]
  },
  {
   "cell_type": "markdown",
   "metadata": {},
   "source": [
    "Die Funktion `append()` kann auch verwendet werden, um eine ganze Liste am Ende anzuhängen. Beachten Sie, dass die resultierende Liste eine verschachtelte Liste wird."
   ]
  },
  {
   "cell_type": "code",
   "execution_count": null,
   "metadata": {},
   "outputs": [],
   "source": [
    "lst1 = [5, 4, 2, 8]\n",
    "lst.append(lst1)\n",
    "print(lst)"
   ]
  },
  {
   "cell_type": "markdown",
   "metadata": {},
   "source": [
    "Wenn jedoch eine verschachtelte Liste nicht erwünscht ist, kann die Funktion `extend()` verwendet werden."
   ]
  },
  {
   "cell_type": "code",
   "execution_count": null,
   "metadata": {},
   "outputs": [],
   "source": [
    "lst.extend(lst1)\n",
    "print(lst)"
   ]
  },
  {
   "cell_type": "markdown",
   "metadata": {},
   "source": [
    "`index()` wird verwendet, um den Indexwert eines bestimmten Elements zu finden. Beachten Sie, dass, wenn es mehrere Elemente mit demselben Wert gibt, der erste Indexwert dieses Elements zurückgegeben wird."
   ]
  },
  {
   "cell_type": "code",
   "execution_count": null,
   "metadata": {},
   "outputs": [],
   "source": [
    "lst.index(1)"
   ]
  },
  {
   "cell_type": "markdown",
   "metadata": {},
   "source": [
    "`insert(x,y)` wird verwendet, um ein Element y an einem angegebenen Indexwert x einzufügen. Mit der Funktion `append()` ist es nur möglich, am Ende einzufügen. "
   ]
  },
  {
   "cell_type": "code",
   "execution_count": null,
   "metadata": {},
   "outputs": [],
   "source": [
    "lst.insert(5, 'name')\n",
    "print(lst)"
   ]
  },
  {
   "cell_type": "markdown",
   "metadata": {},
   "source": [
    "`insert(x,y)` fügt ein Element ein, ersetzt es aber nicht. Wenn Sie das Element durch ein anderes Element ersetzen möchten, weisen Sie den Wert einfach dem entsprechenden Index zu."
   ]
  },
  {
   "cell_type": "code",
   "execution_count": null,
   "metadata": {},
   "outputs": [],
   "source": [
    "lst[5] = 'Python'\n",
    "print(lst)"
   ]
  },
  {
   "cell_type": "markdown",
   "metadata": {},
   "source": [
    "Die Funktion `pop()` gibt das letzte Element in der Liste zurück. Dies ähnelt der Funktionsweise eines Stacks. Daherkönnte man Listen auch als klassischen Stack verwenden."
   ]
  },
  {
   "cell_type": "code",
   "execution_count": null,
   "metadata": {},
   "outputs": [],
   "source": [
    "print(lst.pop())\n",
    "print(lst)"
   ]
  },
  {
   "cell_type": "markdown",
   "metadata": {},
   "source": [
    "Der Indexwert kann angegeben werden, um ein bestimmtes Element, das diesem Indexwert entspricht, zu \"poppen\":"
   ]
  },
  {
   "cell_type": "code",
   "execution_count": null,
   "metadata": {},
   "outputs": [],
   "source": [
    "print(lst.pop(0))\n",
    "print(lst)"
   ]
  },
  {
   "cell_type": "markdown",
   "metadata": {},
   "source": [
    "`pop()` wird verwendet, um ein Element anhand seines Indexwerts zu entfernen, der einer Variablen zugewiesen werden kann. Man kann ein Element auch entfernen, indem man das Element selbst mit der Funktion `remove()` angibt."
   ]
  },
  {
   "cell_type": "code",
   "execution_count": null,
   "metadata": {},
   "outputs": [],
   "source": [
    "print(lst.remove('Python'))\n",
    "print(lst)"
   ]
  },
  {
   "cell_type": "markdown",
   "metadata": {},
   "source": [
    "Alternative zur Funktion `remove()`, aber mit Verwendung des Indexwertes ist `del`:"
   ]
  },
  {
   "cell_type": "code",
   "execution_count": null,
   "metadata": {},
   "outputs": [],
   "source": [
    "del lst[1]\n",
    "print(lst)"
   ]
  },
  {
   "cell_type": "markdown",
   "metadata": {},
   "source": [
    "Die gesamten in der Liste vorhandenen Elemente können mit der Funktion `reverse()` umgedreht werden."
   ]
  },
  {
   "cell_type": "code",
   "execution_count": null,
   "metadata": {},
   "outputs": [],
   "source": [
    "lst.reverse()\n",
    "print(lst)"
   ]
  },
  {
   "cell_type": "code",
   "execution_count": null,
   "metadata": {},
   "outputs": [],
   "source": [
    "list(reversed(lst))"
   ]
  },
  {
   "cell_type": "code",
   "execution_count": null,
   "metadata": {},
   "outputs": [],
   "source": [
    "lst[::-1]"
   ]
  },
  {
   "cell_type": "markdown",
   "metadata": {},
   "source": [
    "Beachten Sie, dass die verschachtelte Liste `[5,4,2,8]` wie ein einzelnes Element der übergeordneten Liste `lst` behandelt wird. Die Elemente innerhalb der verschachtelten Liste werden also nicht umgekehrt.\n",
    "\n",
    "Python bietet eine eingebaute Operation `sortieren()`, um die Elemente in aufsteigender Reihenfolge anzuordnen."
   ]
  },
  {
   "cell_type": "code",
   "execution_count": null,
   "metadata": {},
   "outputs": [],
   "source": [
    "lst = [1, 1, 4, 8, 7]\n",
    "lst.sort()\n",
    "print(lst)"
   ]
  },
  {
   "cell_type": "markdown",
   "metadata": {},
   "source": [
    "Bei absteigender Reihenfolge ist die Umkehrbedingung standardmäßig `False` für `reverse`. Wenn Sie sie auf `True` ändern, werden die Elemente in absteigender Reihenfolge angeordnet:"
   ]
  },
  {
   "cell_type": "code",
   "execution_count": null,
   "metadata": {},
   "outputs": [],
   "source": [
    "sorted(lst)"
   ]
  },
  {
   "cell_type": "code",
   "execution_count": null,
   "metadata": {},
   "outputs": [],
   "source": [
    "lst.sort(reverse=True)\n",
    "print(lst)"
   ]
  },
  {
   "cell_type": "markdown",
   "metadata": {},
   "source": [
    "In ähnlicher Weise würde `sort()` bei Listen, die Zeichenkettenelemente enthalten, die Elemente basierend auf ihrem ASCII-Wert aufsteigend und durch Angabe von reverse=True absteigend sortieren."
   ]
  },
  {
   "cell_type": "code",
   "execution_count": null,
   "metadata": {},
   "outputs": [],
   "source": [
    "names.sort()\n",
    "print(names)\n",
    "names.sort(reverse=True)\n",
    "print(names)"
   ]
  },
  {
   "cell_type": "markdown",
   "metadata": {},
   "source": [
    "Um nach der Länge zu sortieren, sollte `key=len` wie gezeigt angegeben werden."
   ]
  },
  {
   "cell_type": "code",
   "execution_count": null,
   "metadata": {},
   "outputs": [],
   "source": [
    "names.sort(key=len)\n",
    "print(names)\n",
    "names.sort(key=len,reverse=True)\n",
    "print(names)"
   ]
  },
  {
   "cell_type": "markdown",
   "metadata": {},
   "source": [
    "#### Kopieren einer Liste\n",
    "\n",
    "Die meisten neuen Python-Programmierer begehen den folgenden Fehler (inklusive mir damals)."
   ]
  },
  {
   "cell_type": "code",
   "execution_count": null,
   "metadata": {},
   "outputs": [],
   "source": [
    "lista = [2, 1, 4, 3]\n",
    "listb = lista\n",
    "print(listb)"
   ]
  },
  {
   "cell_type": "markdown",
   "metadata": {},
   "source": [
    "Hier haben wir eine Liste deklariert: `lista = [2,1,4,3]`. Diese Liste wird nach `listb` kopiert, indem wir sie entsprechend zuweisen. Nun führen wir einige zufällige Operationen auf `lista` aus:"
   ]
  },
  {
   "cell_type": "code",
   "execution_count": null,
   "metadata": {},
   "outputs": [],
   "source": [
    "lista.pop()\n",
    "print(lista)\n",
    "lista.append(9)\n",
    "print(lista)"
   ]
  },
  {
   "cell_type": "markdown",
   "metadata": {},
   "source": [
    "Was passiert jetzt, wenn wir `listb` anschauen?"
   ]
  },
  {
   "cell_type": "code",
   "execution_count": null,
   "metadata": {},
   "outputs": [],
   "source": [
    "print(listb)"
   ]
  },
  {
   "cell_type": "markdown",
   "metadata": {},
   "source": [
    "`listb` hat sich ebenfalls geändert, obwohl keine Operation an ihr durchgeführt wurde. Das liegt daran, dass wir `listb` den gleichen Speicherplatz wie `lista` zugewiesen haben. Wie lässt sich dies also beheben?\n",
    "\n",
    "Wenn Sie sich erinnern, hatten wir beim Slicing gesehen, dass `parentlist[a:b]` eine Liste aus der übergeordneten Liste mit dem Startindex `a` und dem Endindex `b` zurückgibt, und wenn `a` und `b` nicht erwähnt werden, wird standardmäßig das erste und letzte Element berücksichtigt. Wir verwenden hier das gleiche Konzept. Dabei weisen wir die Daten von `lista` der Variablen `listb` zu."
   ]
  },
  {
   "cell_type": "code",
   "execution_count": null,
   "metadata": {},
   "outputs": [],
   "source": [
    "lista = [2, 1, 4, 3]\n",
    "listb = lista[:]  # .copy()\n",
    "print(listb)"
   ]
  },
  {
   "cell_type": "code",
   "execution_count": null,
   "metadata": {},
   "outputs": [],
   "source": [
    "lista.pop()\n",
    "print(lista)\n",
    "lista.append(9)\n",
    "print(lista)"
   ]
  },
  {
   "cell_type": "markdown",
   "metadata": {},
   "source": [
    "Wenn wir jetzt `listb` anschauen:"
   ]
  },
  {
   "cell_type": "code",
   "execution_count": null,
   "metadata": {},
   "outputs": [],
   "source": [
    "print(listb)"
   ]
  },
  {
   "cell_type": "markdown",
   "metadata": {},
   "source": [
    "Sie können auch den Befehl `copy()` nutzen, um eine Liste entsprechend zu kopieren:"
   ]
  },
  {
   "cell_type": "code",
   "execution_count": null,
   "metadata": {},
   "outputs": [],
   "source": [
    "lista = [2, 1, 4, 3]\n",
    "listb = lista.copy()\n",
    "print(listb)"
   ]
  },
  {
   "cell_type": "code",
   "execution_count": null,
   "metadata": {},
   "outputs": [],
   "source": [
    "lista.pop()\n",
    "print(lista)\n",
    "lista.append(9)\n",
    "print(lista)"
   ]
  },
  {
   "cell_type": "code",
   "execution_count": null,
   "metadata": {},
   "outputs": [],
   "source": [
    "print(listb)"
   ]
  },
  {
   "cell_type": "markdown",
   "metadata": {},
   "source": [
    "#### Strings als Listen (und umgekehrt)\n",
    "\n",
    "Die String-Indizierung und das Slicing sind ähnlich wie die Listen, die bereits ausführlich erklärt wurden."
   ]
  },
  {
   "cell_type": "code",
   "execution_count": null,
   "metadata": {},
   "outputs": [],
   "source": [
    "s = \"Python is great!\"\n",
    "print(s[4])\n",
    "print(s[4:])"
   ]
  },
  {
   "cell_type": "markdown",
   "metadata": {},
   "source": [
    "Die Funktion `join()` kann verwendet werden, um eine Liste in eine Zeichenkette zu konvertieren."
   ]
  },
  {
   "cell_type": "code",
   "execution_count": null,
   "metadata": {},
   "outputs": [],
   "source": [
    "a = list(s)\n",
    "print(a)\n",
    "b = ''.join(a)\n",
    "print(b)"
   ]
  },
  {
   "cell_type": "markdown",
   "metadata": {},
   "source": [
    "Vor der Umwandlung in einen String kann mit der Funktion `join()` ein beliebiges Zeichen zwischen den Listenelementen eingefügt werden."
   ]
  },
  {
   "cell_type": "code",
   "execution_count": null,
   "metadata": {},
   "outputs": [],
   "source": [
    "c = '/'.join(a)[20:]\n",
    "print(c)"
   ]
  },
  {
   "cell_type": "markdown",
   "metadata": {},
   "source": [
    "Die `split()`-Funktion wird verwendet, um einen String wieder in eine Liste zu konvertieren. Stellen Sie sich diese Funktion als das Gegenteil der `join()`-Funktion vor."
   ]
  },
  {
   "cell_type": "code",
   "execution_count": null,
   "metadata": {},
   "outputs": [],
   "source": [
    "d = c.split('/')\n",
    "print(d)"
   ]
  },
  {
   "cell_type": "markdown",
   "metadata": {},
   "source": [
    "In der Funktion `split()` kann auch angegeben werden, wie oft der String geteilt werden soll oder wie viele Elemente die neue zurückgegebene Liste enthalten soll. Die Anzahl der Elemente ist immer um eins höher als die angegebene Anzahl, da sie so oft geteilt wird, wie angegeben."
   ]
  },
  {
   "cell_type": "code",
   "execution_count": null,
   "metadata": {},
   "outputs": [],
   "source": [
    "e = c.split('/', 3)\n",
    "print(e)\n",
    "print(len(e))"
   ]
  },
  {
   "cell_type": "markdown",
   "metadata": {},
   "source": [
    "Wie üblich finden Sie alle ausführlichen Informationen über Listen [in der Dokumentation](https://docs.python.org/3.11/tutorial/datastructures.html#more-on-lists)."
   ]
  },
  {
   "cell_type": "markdown",
   "metadata": {},
   "source": [
    "**Probieren Sie den fortgeschrittenen Umgang mit Listen aus! Benutzen Sie vor allem List Comprehensions und Built-In Funkionen und machen Sie sich mit dem Kopieren von Listen vertraut (um spätere Fehler zu vermeiden und sich so vielleicht einiges an Zeit zu sparen!).**\n",
    "\n",
    "Bearbeiten Sie inbesondere die folgende **Übung** und schreiben Sie die Antwort am Ende der Bearbeitungszeit in den Chat: Was gibt folgender Code-Abschnitt zurück (veruschen Sie zu Antworten, bevor Sie den Code ausführen)?\n",
    "\n",
    "```python\n",
    "some_guy = 'Fred'\n",
    "\n",
    "first_names = []\n",
    "first_names.append(some_guy)\n",
    "\n",
    "another_list_of_names = first_names\n",
    "another_list_of_names.append('George')\n",
    "some_guy = 'Bill'\n",
    "print(some_guy, first_names, another_list_of_names)\n",
    "```"
   ]
  },
  {
   "cell_type": "markdown",
   "metadata": {},
   "source": [
    "## Tuples\n",
    "Ein Tupel ist eine (unveränderliche) geordnete Liste von Werten. Ein Tupel ist in vielerlei Hinsicht einer Liste ähnlich; einer der wichtigsten Unterschiede ist, dass Tupel als Schlüssel in Wörterbüchern und als Elemente von Mengen verwendet werden können, während Listen dies nicht können. Um ein Tupel zu definieren, wird eine Variable in Klammern `()` geschrieben:"
   ]
  },
  {
   "cell_type": "code",
   "execution_count": null,
   "metadata": {},
   "outputs": [],
   "source": [
    "t = (1, 2)\n",
    "print(t)\n",
    "print(type(t))\n",
    "print(t[0])"
   ]
  },
  {
   "cell_type": "markdown",
   "metadata": {},
   "source": [
    "Tupel sind ähnlich wie Listen, aber der einzige große Unterschied ist, dass die Elemente in einer Liste geändert werden können, aber in Tupel können sie nicht geändert werden. Stellen Sie sich Tupel als etwas vor, das für ein bestimmtes Etwas wahr sein muss und für keine anderen Werte wahr sein kann. Zum besseren Verständnis rufen wir die Funktion `divmod()` auf."
   ]
  },
  {
   "cell_type": "code",
   "execution_count": null,
   "metadata": {},
   "outputs": [],
   "source": [
    "xyz = divmod(10, 3)\n",
    "print(xyz)\n",
    "print(type(xyz))"
   ]
  },
  {
   "cell_type": "markdown",
   "metadata": {},
   "source": [
    "Hier muss der Quotient 3 und der Rest 1 sein. Diese Werte können bei der Division von 10 durch 3 in keiner Weise verändert werden. `divmod()` gibt daher diese Werte in einem Tupel zurück.\n",
    "\n",
    "Wenn Sie ein Tupel direkt deklarieren möchten, können Sie dies mit einem `,` am Ende der Daten tun."
   ]
  },
  {
   "cell_type": "code",
   "execution_count": null,
   "metadata": {},
   "outputs": [],
   "source": [
    "27,"
   ]
  },
  {
   "cell_type": "markdown",
   "metadata": {},
   "source": [
    "27 multipliziert mit 2 ergibt 54, aber bei der Multiplikation mit einem Tupel werden die Daten zweimal wiederholt."
   ]
  },
  {
   "cell_type": "code",
   "execution_count": null,
   "metadata": {},
   "outputs": [],
   "source": [
    "2 * (27, )"
   ]
  },
  {
   "cell_type": "markdown",
   "metadata": {},
   "source": [
    "Bei der Deklaration eines Tupels können Werte zugewiesen werden. Es nimmt eine Liste als Eingabe und konvertiert sie in ein Tupel oder es nimmt einen String und konvertiert ihn in ein Tupel."
   ]
  },
  {
   "cell_type": "code",
   "execution_count": null,
   "metadata": {},
   "outputs": [],
   "source": [
    "tup3 = tuple([1, 2, 3])\n",
    "print(tup3)\n",
    "tup4 = tuple('Hello')\n",
    "print(tup4)"
   ]
  },
  {
   "cell_type": "markdown",
   "metadata": {},
   "source": [
    "Es folgt der gleichen Indizierung und Aufteilung wie bei Lists."
   ]
  },
  {
   "cell_type": "code",
   "execution_count": null,
   "metadata": {},
   "outputs": [],
   "source": [
    "print(tup3[1])\n",
    "tup5 = tup4[:3]\n",
    "print(tup5)"
   ]
  },
  {
   "cell_type": "markdown",
   "metadata": {},
   "source": [
    "Ein Tupel kan auf ein anderes gemappt werden:"
   ]
  },
  {
   "cell_type": "code",
   "execution_count": null,
   "metadata": {},
   "outputs": [],
   "source": [
    "a, b, c = ('alpha', 'beta', 'gamma')\n",
    "print(a, b, c)\n",
    "\n",
    "a, b, (c, d) = ('alpha', 'beta', ('gamma', 'delta'))\n",
    "print(a, b, c, d)"
   ]
  },
  {
   "cell_type": "code",
   "execution_count": null,
   "metadata": {},
   "outputs": [],
   "source": [
    "d = tuple('Philipp')\n",
    "print(d)"
   ]
  },
  {
   "cell_type": "markdown",
   "metadata": {},
   "source": [
    "**Built-in Tupel Funktionen:**\n",
    "\n",
    "Die Funktion `count()` zählt die Anzahl der angegebenen Elemente, die in dem Tupel vorhanden sind."
   ]
  },
  {
   "cell_type": "code",
   "execution_count": null,
   "metadata": {},
   "outputs": [],
   "source": [
    "d.count('p')"
   ]
  },
  {
   "cell_type": "markdown",
   "metadata": {},
   "source": [
    "Die Funktion `index()` gibt den Index des angegebenen Elements zurück. Wenn die Elemente mehr als eins sind, wird der Index des ersten Elements des angegebenen Elements zurückgegeben."
   ]
  },
  {
   "cell_type": "code",
   "execution_count": null,
   "metadata": {},
   "outputs": [],
   "source": [
    "d.index('h')"
   ]
  },
  {
   "cell_type": "markdown",
   "metadata": {},
   "source": [
    "## Sets\n",
    "Eine Set ist eine ungeordnete Sammlung von eindeutigen Elementen. Sets werden hauptsächlich verwendet, um wiederholte Zahlen in einer Sequenz/Liste zu eliminieren. Sie werden auch verwendet, um einige Standardmengenoperationen durchzuführen.\n",
    "\n",
    "Sets werden als `set()` deklariert, wodurch eine leeres Set initialisiert wird:"
   ]
  },
  {
   "cell_type": "code",
   "execution_count": null,
   "metadata": {},
   "outputs": [],
   "source": [
    "set1 = set()\n",
    "print(type(set1))"
   ]
  },
  {
   "cell_type": "markdown",
   "metadata": {},
   "source": [
    "Sets können auch mit `{,}` deklariert werden (allerdings nicht leer):"
   ]
  },
  {
   "cell_type": "code",
   "execution_count": null,
   "metadata": {},
   "outputs": [],
   "source": [
    "set2 = {1, 2, 3}\n",
    "print(type(set2))"
   ]
  },
  {
   "cell_type": "markdown",
   "metadata": {},
   "source": [
    " Auch `set([sequence])` kann ausgeführt werden, um ein Set mit Elementen zu deklarieren:"
   ]
  },
  {
   "cell_type": "code",
   "execution_count": null,
   "metadata": {},
   "outputs": [],
   "source": [
    "set0 = set([1, 2, 2, 3, 3, 4])\n",
    "print(set0)"
   ]
  },
  {
   "cell_type": "markdown",
   "metadata": {},
   "source": [
    "Elemente 2 und 3, die sich zweimal wiederholen, kommen im Set nur einmal vor. In einem Set ist also jedes Element eindeutig. "
   ]
  },
  {
   "cell_type": "markdown",
   "metadata": {},
   "source": [
    "#### Schleifen\n",
    "\n",
    "Das Iterieren über eine Menge hat die gleiche Syntax wie das Iterieren über eine Liste; da Mengen jedoch ungeordnet sind, können Sie keine Annahmen über die Reihenfolge machen, in der Sie die Elemente der Menge besuchen:"
   ]
  },
  {
   "cell_type": "code",
   "execution_count": null,
   "metadata": {},
   "outputs": [],
   "source": [
    "animals = {'cat', 'dog', 'fish', 'otter'}\n",
    "for idx, animal in enumerate(animals):\n",
    "    print(f'#{idx +1}: {animal}')"
   ]
  },
  {
   "cell_type": "markdown",
   "metadata": {},
   "source": [
    "#### Set Comprehension\n",
    "\n",
    "Wie bei Listen und Dictionaries können wir mit Set Comprehensions auf einfache Weise Sets konstruieren:"
   ]
  },
  {
   "cell_type": "code",
   "execution_count": null,
   "metadata": {},
   "outputs": [],
   "source": [
    "nums = {x for x in range(10)}\n",
    "print(nums)"
   ]
  },
  {
   "cell_type": "markdown",
   "metadata": {},
   "source": [
    "#### Built-in Set Funktionen\n",
    "\n",
    "Das Vorkommen eines Elements in einems Set kann man wie gewohnt mit `in` überprüfen:"
   ]
  },
  {
   "cell_type": "code",
   "execution_count": null,
   "metadata": {},
   "outputs": [],
   "source": [
    "animals = {'cat', 'dog'}\n",
    "print('cat' in animals)  \n",
    "print('fish' in animals) "
   ]
  },
  {
   "cell_type": "markdown",
   "metadata": {},
   "source": [
    "Die Funktion `union()` gibt ein Set zurück, die alle Elemente der beiden Sets ohne Wiederholung enthält:"
   ]
  },
  {
   "cell_type": "code",
   "execution_count": null,
   "metadata": {},
   "outputs": [],
   "source": [
    "set1 = set([1, 2, 3])\n",
    "set2 = set([2, 3, 4, 5])\n",
    "\n",
    "set1.union(set2)"
   ]
  },
  {
   "cell_type": "markdown",
   "metadata": {},
   "source": [
    "`add()` fügt ein bestimmtes Element in das Set ein. Beachten Sie, dass der Index des neu hinzugefügten Elements beliebig ist und an beliebiger Stelle platziert werden kann, nicht notwendigerweise am Ende."
   ]
  },
  {
   "cell_type": "code",
   "execution_count": null,
   "metadata": {},
   "outputs": [],
   "source": [
    "set1.add(0)\n",
    "set1"
   ]
  },
  {
   "cell_type": "markdown",
   "metadata": {},
   "source": [
    "Die Funktion `intersection()` gibt ein Set aus, das alle Elemente enthält, die in beiden Sets enthalten sind."
   ]
  },
  {
   "cell_type": "code",
   "execution_count": null,
   "metadata": {},
   "outputs": [],
   "source": [
    "set1.intersection(set2)"
   ]
  },
  {
   "cell_type": "markdown",
   "metadata": {},
   "source": [
    "Die Funktion `difference()` gibt ein Set aus, das Elemente enthält, die in `set1` und nicht in `set2` sind."
   ]
  },
  {
   "cell_type": "code",
   "execution_count": null,
   "metadata": {},
   "outputs": [],
   "source": [
    "set1.difference(set2)"
   ]
  },
  {
   "cell_type": "markdown",
   "metadata": {},
   "source": [
    "Die Funktion `symmetric_difference()` gibt eine Funktion aus, die Elemente enthält, die in einer der Sets sind."
   ]
  },
  {
   "cell_type": "code",
   "execution_count": null,
   "metadata": {},
   "outputs": [],
   "source": [
    "set2.symmetric_difference(set1)"
   ]
  },
  {
   "cell_type": "markdown",
   "metadata": {},
   "source": [
    "`issubset()`, `isdisjoint()`, `issuperset()` wird verwendet, um zu prüfen, ob `set1`/`set2` ein Subset, Disjunkt oder Superset von `set2`/`set1` ist."
   ]
  },
  {
   "cell_type": "code",
   "execution_count": null,
   "metadata": {},
   "outputs": [],
   "source": [
    "print(set1)\n",
    "print(set2)\n",
    "print(set1.issubset(set2))\n",
    "print(set2.isdisjoint(set1))\n",
    "print(set2.issuperset(set1))"
   ]
  },
  {
   "cell_type": "markdown",
   "metadata": {},
   "source": [
    "`pop()` wird verwendet, um ein beliebiges Element aus dem Set zu entfernen:"
   ]
  },
  {
   "cell_type": "code",
   "execution_count": null,
   "metadata": {},
   "outputs": [],
   "source": [
    "set1.pop()\n",
    "print(set1)"
   ]
  },
  {
   "cell_type": "markdown",
   "metadata": {},
   "source": [
    "Die Funktion `remove()` löscht das angegebene Element aus dem Set."
   ]
  },
  {
   "cell_type": "code",
   "execution_count": null,
   "metadata": {},
   "outputs": [],
   "source": [
    "set1.remove(2)\n",
    "set1"
   ]
  },
  {
   "cell_type": "markdown",
   "metadata": {},
   "source": [
    "`clear()` wird verwendet, um alle Elemente zu löschen und das Set zu einem leeren Set zu machen."
   ]
  },
  {
   "cell_type": "code",
   "execution_count": null,
   "metadata": {},
   "outputs": [],
   "source": [
    "set1.clear()\n",
    "set1"
   ]
  },
  {
   "cell_type": "markdown",
   "metadata": {},
   "source": [
    "Sie können diesen Code vereinfachen, indem Sie eine Set Comprehension verwenden. Die allgemeine Syntax für ein Verständnis ist `{` Ausdruck `for` Element `in` Liste `if` Filterbedingung`}`. "
   ]
  },
  {
   "cell_type": "code",
   "execution_count": null,
   "metadata": {
    "tags": []
   },
   "outputs": [],
   "source": [
    "nums = [0, 1, 2, 3, 4]\n",
    "squares = {\n",
    "    x ** 2 \n",
    "    for x in nums\n",
    "    if x % 2 == 0\n",
    "}\n",
    "\n",
    "print(squares)"
   ]
  },
  {
   "cell_type": "markdown",
   "metadata": {},
   "source": [
    "Wie üblich finden Sie alles, was Sie über Sets wissen wollen, [in der Dokumentation](https://docs.python.org/3.11/library/stdtypes.html#set)."
   ]
  },
  {
   "cell_type": "markdown",
   "metadata": {},
   "source": [
    "**Jetzt wird es Zeit für Sie sich mit Tupeln und Sets vertraut zu machen. Testen Sie verschiedene Funktionen aus und versuchen Sie für sich selber Listen, Tuple und Sets von ihrer Funktionsweise und ihrem Zweck klar abzugrenzen.**\n",
    "\n",
    "\n",
    "Bearbeiten Sie inbesondere die folgende **Übung** und schreiben Sie die Antwort am Ende der Bearbeitungszeit in den Chat: Machen Sie die Elemente der folgenden Liste `unique`. Beachten Sie, dass das Ergebnis eine Liste sein soll!\n",
    "\n",
    "```python\n",
    "cakes = [\"cheesecake\", \"raspberry pi\", \"cheesecake\", \"strawberry pie\"]\n",
    "```"
   ]
  },
  {
   "cell_type": "markdown",
   "metadata": {},
   "source": [
    "## Dictionaries\n",
    "Ein Dictionary speichert (key, value) Paare, ähnlich wie eine `Map` in Java oder ein Objekt in Javascript. Um ein Wörterbuch zu definieren, setzen Sie eine Variable mit `{}` oder `dict()` gleich."
   ]
  },
  {
   "cell_type": "code",
   "execution_count": null,
   "metadata": {},
   "outputs": [],
   "source": [
    "d0 = {}\n",
    "d1 = dict()\n",
    "print(type(d0), type(d1))"
   ]
  },
  {
   "cell_type": "markdown",
   "metadata": {},
   "source": [
    "Ein Dictionary funktioniert ähnlich wie eine Liste, aber mit der zusätzlichen Möglichkeit, einen eigenen Indexstil zuzuweisen."
   ]
  },
  {
   "cell_type": "code",
   "execution_count": null,
   "metadata": {},
   "outputs": [],
   "source": [
    "d0['One'] = 1\n",
    "d0['OneTwo'] = 12 \n",
    "print(d0)\n",
    "print(d0['One'])"
   ]
  },
  {
   "cell_type": "markdown",
   "metadata": {},
   "source": [
    "Auf die vorhandenen Werte im Dictionary kann enstpechend mit dem individuellen Index zugegriffen werden:"
   ]
  },
  {
   "cell_type": "code",
   "execution_count": null,
   "metadata": {},
   "outputs": [],
   "source": [
    "d = {'cat': 'cute', 'dog': 'furry'}\n",
    "print(d['cat'])"
   ]
  },
  {
   "cell_type": "markdown",
   "metadata": {},
   "source": [
    "Neue Elemente eines Dictionary können wie folgt hinzugefügt werden:"
   ]
  },
  {
   "cell_type": "code",
   "execution_count": null,
   "metadata": {},
   "outputs": [],
   "source": [
    "d['fish'] = 'wet'\n",
    "print(d['fish'])\n",
    "# print(d['monkey'])  # KeyError: 'monkey'"
   ]
  },
  {
   "cell_type": "markdown",
   "metadata": {},
   "source": [
    "#### Schleifen\n",
    "\n",
    "Es ist einfach, über die Schlüssel in einem Wörterbuch zu iterieren:"
   ]
  },
  {
   "cell_type": "code",
   "execution_count": null,
   "metadata": {},
   "outputs": [],
   "source": [
    "d = {'person': 2, 'cat': 4, 'spider': 8}\n",
    "for animal, legs in d.items():\n",
    "    print(f'A {animal} has {legs} legs')"
   ]
  },
  {
   "cell_type": "markdown",
   "metadata": {},
   "source": [
    "#### Dictionary Comprehensions\n",
    "\n",
    "Dictionary Comprehensions sind ähnlich wie List Comprehensions, ermöglichen aber den einfachen Aufbau von Dictionarys."
   ]
  },
  {
   "cell_type": "code",
   "execution_count": null,
   "metadata": {},
   "outputs": [],
   "source": [
    "nums = [0, 1, 2, 3, 4]\n",
    "even_num_to_square = {x: x ** 2 for x in nums if x % 2 == 0}\n",
    "print(even_num_to_square)"
   ]
  },
  {
   "cell_type": "code",
   "execution_count": null,
   "metadata": {},
   "outputs": [],
   "source": [
    "another_dict = {x: x ** 3 for x in even_num_to_square}\n",
    "print(another_dict)"
   ]
  },
  {
   "cell_type": "markdown",
   "metadata": {},
   "source": [
    "#### Built-in Dictionary Funktionen\n",
    "\n",
    "Sie haben sich bereits mit vielen der Operatoren und eingebauten Funktionen vertraut gemacht, die mit Strings, Listen und Tupeln verwendet werden können. Einige von ihnen funktionieren auch mit Dictionaries."
   ]
  },
  {
   "cell_type": "markdown",
   "metadata": {},
   "source": [
    "Zwei Listen, die miteinander in Beziehung stehen, können zu einem Wörterbuch zusammengeführt werden. Die Funktion `zip()` wird verwendet, um zwei Listen zu kombinieren:"
   ]
  },
  {
   "cell_type": "code",
   "execution_count": null,
   "metadata": {},
   "outputs": [],
   "source": [
    "names = ['One', 'Two', 'Three', 'Four', 'Five']\n",
    "numbers = [1, 2, 3, 4, 5, 6]\n",
    "\n",
    "d2 = zip(names, numbers)\n",
    "print(*d2)\n",
    "\n",
    "from itertools import zip_longest\n",
    "print(*zip_longest(names, numbers))"
   ]
  },
  {
   "cell_type": "markdown",
   "metadata": {},
   "source": [
    "Die beiden Listen werden zu einer einzigen Liste zusammengefasst und die einzelnen Elemente mit den entsprechenden Elementen aus der anderen Liste in einem Tupel vereinigt. Tupel deshalb, weil das das ist, was zugewiesen wird und sich der Wert nicht ändern soll.\n",
    "\n",
    "Um die obige Liste in ein Wörterbuch umzuwandeln kann die `dict( )` Funktion verwendet werden."
   ]
  },
  {
   "cell_type": "code",
   "execution_count": null,
   "metadata": {},
   "outputs": [],
   "source": [
    "a1 = dict(d2)\n",
    "print(a1)"
   ]
  },
  {
   "cell_type": "markdown",
   "metadata": {},
   "source": [
    "Die Operatoren `in` und `not in` geben `True` oder `False` zurück, je nachdem, ob der angegebene Operand als Key im Dictionary vorkommt oder nicht:"
   ]
  },
  {
   "cell_type": "code",
   "execution_count": null,
   "metadata": {},
   "outputs": [],
   "source": [
    "MLB_team = dict([\n",
    "    ('Colorado', 'Rockies'),\n",
    "    ('Boston', 'Red Sox'),\n",
    "    ('Minnesota', 'Twins'),\n",
    "    ('Milwaukee', 'Brewers'),\n",
    "    ('Seattle', 'Mariners')\n",
    "])\n",
    "\n",
    "print('Milwaukee' in MLB_team)\n",
    "print('Toronto' in MLB_team)\n",
    "print('Toronto' not in MLB_team)"
   ]
  },
  {
   "cell_type": "markdown",
   "metadata": {},
   "source": [
    "Sie können den `in`-Operator zusammen mit der Kurzschlussauswertung verwenden, um einen Fehler zu vermeiden, wenn Sie versuchen auf einen Key zuzugreifen, der nicht im Wörterbuch enthalten ist:"
   ]
  },
  {
   "cell_type": "code",
   "execution_count": null,
   "metadata": {},
   "outputs": [],
   "source": [
    "MLB_team['Toronto']"
   ]
  },
  {
   "cell_type": "code",
   "execution_count": null,
   "metadata": {},
   "outputs": [],
   "source": [
    "'Toronto' in MLB_team and MLB_team['Toronto']"
   ]
  },
  {
   "cell_type": "markdown",
   "metadata": {},
   "source": [
    "Im zweiten Fall wird aufgrund der Kurzschlussauswertung der Ausdruck `MLB_team['Toronto']` nicht ausgewertet, sodass die KeyError-Ausnahme nicht auftritt.\n",
    "\n",
    "Die Funktion `len()` gibt die Anzahl der Key-Value-Paare in einem Dictionary zurück:"
   ]
  },
  {
   "cell_type": "code",
   "execution_count": null,
   "metadata": {},
   "outputs": [],
   "source": [
    "len(MLB_team)"
   ]
  },
  {
   "cell_type": "markdown",
   "metadata": {},
   "source": [
    "`clear()` leert das Dictionary von allen Key-Value-Paaren:"
   ]
  },
  {
   "cell_type": "code",
   "execution_count": null,
   "metadata": {},
   "outputs": [],
   "source": [
    "d = {'a': 10, 'b': 20, 'c': 30}\n",
    "d.clear()\n",
    "d"
   ]
  },
  {
   "cell_type": "markdown",
   "metadata": {},
   "source": [
    "Die Funktion `get()` bietet eine bequeme Möglichkeit, den Value eines Keys aus einem Dictionary abzurufen ohne vorher zu prüfen, ob der Key existiert und ohne einen Fehler zu verursachen.\n",
    "\n",
    "`get(<Key>)` durchsucht das Dictionary nach dem `<Key>` und gibt den zugehörigen Value zurück, wenn er gefunden wird. Wenn der `<Key>` nicht gefunden wird, wird `None` zurückgegeben:"
   ]
  },
  {
   "cell_type": "code",
   "execution_count": null,
   "metadata": {},
   "outputs": [],
   "source": [
    "d = {'a': 10, 'b': 20, 'c': 30}\n",
    "\n",
    "print(d.get('b'))\n",
    "print(d.get('z'))"
   ]
  },
  {
   "cell_type": "markdown",
   "metadata": {},
   "source": [
    "Anstatt `None` kann auch ein Default Wert angegeben werden, der anstelle von None zurückgegeben, wenn Key nicht gefunden wird:"
   ]
  },
  {
   "cell_type": "code",
   "execution_count": null,
   "metadata": {},
   "outputs": [],
   "source": [
    "print(d.get('b', -1))\n",
    "print(d.get('z', -1))"
   ]
  },
  {
   "cell_type": "markdown",
   "metadata": {},
   "source": [
    "Ein Key-Value Paar kann u.a. mit `del` gelöscht werden:"
   ]
  },
  {
   "cell_type": "code",
   "execution_count": null,
   "metadata": {},
   "outputs": [],
   "source": [
    "del d['c']\n",
    "print(d.get('c', 'N/A'))"
   ]
  },
  {
   "cell_type": "markdown",
   "metadata": {},
   "source": [
    "`items()` gibt eine Liste von Tupeln zurück, die die Key-Value-Paare im Dictionary enthalten. Das erste Element in jedem Tupel ist der Key und das zweite Element ist der Values des Keys:"
   ]
  },
  {
   "cell_type": "code",
   "execution_count": null,
   "metadata": {},
   "outputs": [],
   "source": [
    "print(d.items())\n",
    "print(list(d.items()))\n",
    "print(list(d.items())[1][0])\n",
    "print(list(d.items())[1][1])"
   ]
  },
  {
   "cell_type": "markdown",
   "metadata": {},
   "source": [
    "`keys()` gibt eine Liste aller Keys im Dictionary zurück:"
   ]
  },
  {
   "cell_type": "code",
   "execution_count": null,
   "metadata": {},
   "outputs": [],
   "source": [
    "print(d.keys())\n",
    "print(list(d.keys()))"
   ]
  },
  {
   "cell_type": "markdown",
   "metadata": {},
   "source": [
    "`values()` gibt eine Liste aller Values im Dictionary zurück:"
   ]
  },
  {
   "cell_type": "code",
   "execution_count": null,
   "metadata": {},
   "outputs": [],
   "source": [
    "print(d.values())\n",
    "print(list(d.values()))"
   ]
  },
  {
   "cell_type": "markdown",
   "metadata": {},
   "source": [
    "Alle doppelten Values im Dictionary werden so oft zurückgegeben, wie sie vorkommen:"
   ]
  },
  {
   "cell_type": "code",
   "execution_count": null,
   "metadata": {},
   "outputs": [],
   "source": [
    "d2 = {'a': 10, 'b': 10, 'c': 10}\n",
    "\n",
    "d2.values()"
   ]
  },
  {
   "cell_type": "markdown",
   "metadata": {},
   "source": [
    "Wenn <Key> im Dictionary vorhanden ist, entfernt `pop(<Key>)` den <Key> und gibt den zugehörigen Wert zurück:"
   ]
  },
  {
   "cell_type": "code",
   "execution_count": null,
   "metadata": {},
   "outputs": [],
   "source": [
    "print(d.pop('b'))\n",
    "print(d)"
   ]
  },
  {
   "cell_type": "markdown",
   "metadata": {},
   "source": [
    "`pop(Key)` löst eine KeyError-Exception aus, wenn Key nicht im Dictionary enthalten ist. Wenn Key nicht im Dictionary enthalten ist und das optionale Argument Default angegeben ist, wird dieser Value zurückgegeben und keine Exception ausgelöst:"
   ]
  },
  {
   "cell_type": "code",
   "execution_count": null,
   "metadata": {},
   "outputs": [],
   "source": [
    "d.pop('z', -1)"
   ]
  },
  {
   "cell_type": "markdown",
   "metadata": {},
   "source": [
    "`popitem()` entfernt das zuletzt hinzugefügte Key-Value-Paar aus dem Dictionary und gibt es als Tupel zurück:"
   ]
  },
  {
   "cell_type": "code",
   "execution_count": null,
   "metadata": {},
   "outputs": [],
   "source": [
    "d = {'a': 10, 'b': 20, 'c': 30}\n",
    "print(d.popitem())\n",
    "print(d)"
   ]
  },
  {
   "cell_type": "markdown",
   "metadata": {},
   "source": [
    "Wenn `<obj>` ein Dictionary ist, fügt `update(<obj>)` die Einträge aus `<obj>` in das Dictionary ein. Für jeden Key im `<obj>` gilt:\n",
    "\n",
    "* Wenn der Key nicht im Dictionary vorhanden ist, wird das Key-Value-Paar aus obj zum Dictionary hinzugefügt.\n",
    "* Wenn der Key bereits im Dictionary vorhanden ist, wird der entsprechende Value im Dictionary für diesen Key auf den Value aus obj aktualisiert.\n",
    "    \n",
    "Hier ist ein Beispiel, das zwei Dictionaries zusammenführt:"
   ]
  },
  {
   "cell_type": "code",
   "execution_count": null,
   "metadata": {},
   "outputs": [],
   "source": [
    "d1 = {'a': 10, 'b': 20, 'c': 30}\n",
    "d2 = {'b': 200, 'd': 400}\n",
    "\n",
    "d1.update(d2)\n",
    "d1"
   ]
  },
  {
   "cell_type": "code",
   "execution_count": null,
   "metadata": {},
   "outputs": [],
   "source": [
    "d1 | d2"
   ]
  },
  {
   "cell_type": "markdown",
   "metadata": {},
   "source": [
    "In diesem Beispiel ist der Key `b` bereits in `d1` vorhanden, also wird sein Value auf `200` aktualisiert, den Value für diesen Key aus `d2`. Es gibt jedoch keinen Key `d` in `d1`, also wird dieses Key-Value-Paar aus `d2` hinzugefügt.\n",
    "\n",
    "`<obj>` kann auch eine Folge von Key-Value-Paaren sein, ähnlich wie bei der Verwendung der Funktion `dict()` zur Definition eines Dictionarys. Zum Beispiel kann `<obj>` als eine Liste von Tupeln angegeben werden:"
   ]
  },
  {
   "cell_type": "code",
   "execution_count": null,
   "metadata": {},
   "outputs": [],
   "source": [
    "d1 = {'a': 10, 'b': 20, 'c': 30}\n",
    "d1.update([('b', 200), ('d', 400)])\n",
    "d1"
   ]
  },
  {
   "cell_type": "markdown",
   "metadata": {},
   "source": [
    "Oder die zusammenzuführenden Values können als Liste von Key-Argumenten angegeben werden:"
   ]
  },
  {
   "cell_type": "code",
   "execution_count": null,
   "metadata": {},
   "outputs": [],
   "source": [
    "d1 = {'a': 10, 'b': 20, 'c': 30}\n",
    "d1.update(b=200, d=400)\n",
    "d1"
   ]
  },
  {
   "cell_type": "markdown",
   "metadata": {},
   "source": [
    "Sie können diesen Code vereinfachen, indem Sie eine Dict Comprehension verwenden. Die allgemeine Syntax für ein Verständnis ist `{`Schlüssel`:`Wert `for` Element `in` Liste `if` Filterbedingung`}`. "
   ]
  },
  {
   "cell_type": "code",
   "execution_count": null,
   "metadata": {
    "tags": []
   },
   "outputs": [],
   "source": [
    "nums = [0, 1, 2, 3, 4]\n",
    "squares = {\n",
    "    x:x ** 2 \n",
    "    for x in nums\n",
    "    if x % 2 == 0\n",
    "}\n",
    "\n",
    "print(squares)"
   ]
  },
  {
   "cell_type": "markdown",
   "metadata": {},
   "source": [
    "Alles, was Sie über Dictionarys wissen müssen, finden Sie [in der Dokumentation](https://docs.python.org/3.11/library/stdtypes.html#dict)."
   ]
  },
  {
   "cell_type": "markdown",
   "metadata": {},
   "source": [
    "## Kontrollfluss\n",
    "\n",
    "Der Kontrollfluss oder Programmablauf bezeichnet in der Informatik die zeitliche Abfolge der einzelnen Befehle eines Computerprogramms. Der Kontrollfluss eines Programms ist gewöhnlich durch die Reihenfolge der Befehle innerhalb des Programms vorgegeben, jedoch erlauben Kontrollstrukturen von der sequenziellen Abarbeitung des Programms abzuweichen.\n",
    "\n",
    "Wir können Variablen nun Werte verschiedener Typen zuweisen:"
   ]
  },
  {
   "cell_type": "code",
   "execution_count": null,
   "metadata": {},
   "outputs": [],
   "source": [
    "a = 1\n",
    "b = 3.14\n",
    "c = 'hello'\n",
    "d = [a, b, c]"
   ]
  },
  {
   "cell_type": "markdown",
   "metadata": {},
   "source": [
    "Doch um ein sinnvolles Programm zu schreiben benötigen wir sog. _Control Flow_ Anweisungen, die steuern, wie sich das Programm je nach Situation zu verhalten hat. Dazu gehören vor allem `if`-Abfragen und `for`- und `while`-Schleifen."
   ]
  },
  {
   "cell_type": "markdown",
   "metadata": {},
   "source": [
    "### `if`-Abfragen\n",
    "\n",
    "Die einfachste Form von _control flow_ ist die `if`-Abfrage. Ein Codeblock wird nur dann ausgeführt, wenn eine Bedingung den `bool`-Wert `True` ergibt. Ein optionaler `else`-Codeblock kann ausgeführt werden, wenn die Bedingung _nicht_ `True` ergibt. Die Syntax für `if`-Abfragen lautet wie folgt:\n",
    "```python\n",
    "if condition:\n",
    "    # do something\n",
    "elif condition:\n",
    "    # do something else\n",
    "else:\n",
    "    # do yet something else\n",
    "```\n",
    "Beachtet, dass die Codeblöcke nicht durch Steuerzeichen begrenzt werden. Stattdessen endet die Bedingung lediglich mit einem Doppelpunkt (`:`) und der zugehörige der Codeblock ist **eingerückt**.\n",
    "\n",
    "> **Hinweis:** In Python werden Codeblöcke durch Doppelpunkte und Einrückungen begrenzt. Per Konvention werden dazu jeweils vier Leerzeichen pro Einrückungslevel verwendet."
   ]
  },
  {
   "cell_type": "code",
   "execution_count": null,
   "metadata": {},
   "outputs": [],
   "source": [
    "a = 1\n",
    "if a < 5:\n",
    "    print(\"a ist zu klein, setze auf 5\")\n",
    "    a = 5\n",
    "else:\n",
    "    print(\"a ist groß genug.\")\n",
    "print(f\"a ist nun {a}\")"
   ]
  },
  {
   "cell_type": "markdown",
   "metadata": {},
   "source": [
    "Der erste Aufruf der `print`-Funktion und die Änderung des Werts von `a` wird nur ausgeführt, wenn der Wert von `a` kleiner als `5` ist. Ansonsten wird der `else`-Block ausgeführt. Der letzte Aufruf der `print`-Funktion wird jedoch immer ausgeführt."
   ]
  },
  {
   "cell_type": "code",
   "execution_count": null,
   "metadata": {},
   "outputs": [],
   "source": [
    "a = 1\n",
    "a = 5 if a < 5 else a\n",
    "print(a)\n",
    "\n",
    "# int a = a < 5 ? 5 : a"
   ]
  },
  {
   "cell_type": "markdown",
   "metadata": {},
   "source": [
    "### `for`-Schleifen\n",
    "\n",
    "Mit Schleifen kann ein Codeblock mehrmals ausgeführt werden. Die meistverwendete Schleife ist die `for`-Schleife mit folgender Syntax:\n",
    "\n",
    "```python\n",
    "for value in iterable:\n",
    "    # do things\n",
    "```\n",
    "\n",
    "`iterable` kann dabei eine beliebige _Reihe_ sein, also bspw. eine Liste, ein Tupel oder auch ein String:"
   ]
  },
  {
   "cell_type": "code",
   "execution_count": null,
   "metadata": {},
   "outputs": [],
   "source": [
    "for x in [3, 1.2, 'a']:\n",
    "    print(x)"
   ]
  },
  {
   "cell_type": "code",
   "execution_count": null,
   "metadata": {},
   "outputs": [],
   "source": [
    "for letter in 'hello':\n",
    "    print(letter)"
   ]
  },
  {
   "cell_type": "markdown",
   "metadata": {},
   "source": [
    "#### Einen Codeblock `n`-mal ausführen\n",
    "\n",
    "Manchmal soll ein Codeblock eine bestimmte Zahl von Iterationen ausgeführt werden. Dazu können wir die `range` Funktion verwenden:"
   ]
  },
  {
   "cell_type": "code",
   "execution_count": null,
   "metadata": {},
   "outputs": [],
   "source": [
    "for i in range(5):\n",
    "    print(i)"
   ]
  },
  {
   "cell_type": "markdown",
   "metadata": {},
   "source": [
    "Du kannst nachschauen, wie die `range` Funktion definiert ist und welche Optionen sie bietet, indem du die `?`-Dokumentation aufrufst."
   ]
  },
  {
   "cell_type": "code",
   "execution_count": null,
   "metadata": {},
   "outputs": [],
   "source": [
    "range?"
   ]
  },
  {
   "cell_type": "markdown",
   "metadata": {},
   "source": [
    "Wir können die Funktion also auch mit den Argumenten `start`, `stop` und (optional) `step` (ähnlich wie in Java) aufrufen:"
   ]
  },
  {
   "cell_type": "code",
   "execution_count": null,
   "metadata": {},
   "outputs": [],
   "source": [
    "for i in range(2, 10, 2):\n",
    "    print(i)"
   ]
  },
  {
   "cell_type": "markdown",
   "metadata": {},
   "source": [
    "#### Eine Schleife abbrechen oder Schritte überspringen\n",
    "\n",
    "- Mit dem Befehl `break` kann eine Schleife abgebrochen werden:"
   ]
  },
  {
   "cell_type": "code",
   "execution_count": null,
   "metadata": {},
   "outputs": [],
   "source": [
    "for i in range(100):\n",
    "    if i > 3:\n",
    "        break\n",
    "    print(i)"
   ]
  },
  {
   "cell_type": "markdown",
   "metadata": {},
   "source": [
    "- Mit dem Befehl `continue` wird lediglich der aktuelle Schritt der Schleife abgebrochen:"
   ]
  },
  {
   "cell_type": "code",
   "execution_count": null,
   "metadata": {},
   "outputs": [],
   "source": [
    "for i in range(3):\n",
    "    if i == 1:\n",
    "        continue\n",
    "    print(i)"
   ]
  },
  {
   "cell_type": "code",
   "execution_count": null,
   "metadata": {},
   "outputs": [],
   "source": [
    "i = None\n",
    "for i in range(3):\n",
    "    pass\n",
    "else:\n",
    "    print(i)"
   ]
  },
  {
   "cell_type": "markdown",
   "metadata": {},
   "source": [
    "#### Listen mit `for`-Schleifen erstellen\n",
    "\n",
    "Ein sehr praktisches Konzept um in Python mit Listen zu arbeiten nennt sich _list comprehension_. Mit folgender Syntax wird eine Operation auf jedes Element der gegebenen Reihe angewendet. Zurückgegeben wird dann eine Liste mit den so berechneten Elementen:\n",
    "\n",
    "```python\n",
    "new_elements = [operation(element) for element in iterable]\n",
    "```\n",
    "\n",
    "Hier wird bspw. die Operation $x^2$ auf alle $x \\in [0,10]$ angewendet:"
   ]
  },
  {
   "cell_type": "code",
   "execution_count": null,
   "metadata": {},
   "outputs": [],
   "source": [
    "[x ** 2 for x in range(11)]"
   ]
  },
  {
   "cell_type": "markdown",
   "metadata": {},
   "source": [
    "### `while`-Schleifen\n",
    "\n",
    "Eine `while`-Schleife führt einen Codeblock so oft aus, bis eine Bedingung `False` ergibt und ist durch folgende Syntax definiert:\n",
    "\n",
    "```python\n",
    "while condition:\n",
    "    # do something\n",
    "```"
   ]
  },
  {
   "cell_type": "code",
   "execution_count": null,
   "metadata": {},
   "outputs": [],
   "source": [
    "a = 1\n",
    "while a < 10:\n",
    "    print(f\"a ist kleiner als 10 ({a}), multipliziere mit 1.5.\")\n",
    "    a = a * 1.5\n",
    "print(f\"Schleife beendet, a ist nun {a}.\")"
   ]
  },
  {
   "cell_type": "markdown",
   "metadata": {},
   "source": [
    "**Nehmen Sie sich jetzt einen Moment Zeit um die wichtigsten Möglichkeiten, den Kontrollfluss mit der Programmiersprache Python zu ändern, zu verinnerlichen. Beachten Sie dabei insbesondere die Unterschiede zu anderen Programmierpsrachen (wie z.B. Java), die Sie bereits kennen!**"
   ]
  },
  {
   "cell_type": "markdown",
   "metadata": {},
   "source": [
    "**Wiederholen Sie für sich selber noch einmal den Zweck und die wichtigsten Funktionen von Dictionaries, bevor Sie in das Übungsblatt einsteigen!**\n",
    "\n",
    "Hier ist das Übungsblatt zu diesem Notebook: [**02 - Übungsaufgabe Grundlegende Datenstrukturen**](02_uebungsaufgaben_grundlegende_datenstrukturen.ipynb)"
   ]
  },
  {
   "cell_type": "markdown",
   "metadata": {},
   "source": [
    "---\n",
    "\n",
    "\n",
    "Wahlpflichtfach Künstliche Intelligenz I: Rechercheauftrag"
   ]
  }
 ],
 "metadata": {
  "kernelspec": {
   "display_name": "Python 3 (ipykernel)",
   "language": "python",
   "name": "python3"
  },
  "language_info": {
   "codemirror_mode": {
    "name": "ipython",
    "version": 3
   },
   "file_extension": ".py",
   "mimetype": "text/x-python",
   "name": "python",
   "nbconvert_exporter": "python",
   "pygments_lexer": "ipython3",
   "version": "3.11.3"
  }
 },
 "nbformat": 4,
 "nbformat_minor": 4
}
